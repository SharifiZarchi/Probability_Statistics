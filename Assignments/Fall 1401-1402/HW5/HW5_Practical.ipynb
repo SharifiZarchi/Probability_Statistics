{
 "cells": [
  {
   "cell_type": "markdown",
   "id": "f8277bfb",
   "metadata": {},
   "source": [
    "<div style=\"direction:;line-height:300%;\">\n",
    "\t<font size=6>\n",
    "\t\t<div align=center>\n",
    "\t\t\t\t<p></p>\n",
    "\t\t\t\t<p></p>\n",
    "            <font size=7>\n",
    "                    In the Name of God\n",
    "\t\t\t\t<p></p>\n",
    "\t\t\t</font>\n",
    "            <br/>\n",
    "            <br/>\n",
    "\t\t\t<font color=#FF7500>\n",
    "                Sharif University of Technology\n",
    "            <p></p>\n",
    "            Department of Computer Engineering\n",
    "            </font>\n",
    "\t\t\t<p></p>\n",
    "\t\t\t<font color=blue size=5>\n",
    "                Engineering Probabilistics\n",
    "            </font>\n",
    "\t\t\t<br />\n",
    "\t\t\t<br />\n",
    "            <font size=5>\n",
    "                Winter 1401\n",
    "            </font>\n",
    "            </div>\n",
    "\t\t<hr/>\n",
    "        <div align=center>\n",
    "            <font color=red size=6>\n",
    "                EDA (Exploratory Data Analysis)\n",
    "            </font>\n",
    "        </div>\n",
    "\t\t<br />\n",
    "\t\t<div align=center>\n",
    "            <font size=5>\n",
    "                Ali Mehrabani, Sina Imani\n",
    "            </font>\n",
    "        </div>\n",
    "\t</font>\n",
    "    <br/>\n",
    "    <br/>\n",
    "</div>"
   ]
  },
  {
   "cell_type": "markdown",
   "id": "5fb89c39",
   "metadata": {},
   "source": [
    "***“You see, but you do not observe. The distinction is clear.” - Sherlock Holmes***\n",
    "\n",
    "<div style=\"text-align: right\">\n",
    "    <br> <br>\n",
    "    Sir Arthur Conan Doyle 1859-1930\n",
    "    <br>\n",
    "    from <i>The Scandal of Bohemia</i>\n",
    "</div>\n",
    "\n",
    "\n",
    "# Introduction\n",
    "\n",
    "Imagine that you have gone to the doctor's because you feel ill.\n",
    "The doctor is equipped with lots of theoretical knowledge about different kinds of illness. She/He also has access to a wide variety of powerful medical tools invented to help ill people, like chemical solutions and tablets. But before using these tools, it is necessary to perform a **diagnosis** step first. \n",
    "\n",
    "Similar statements are true when talking about statistical inference. Over the years, many powerful probabilistic techniques have been developed to help gain useful information from data. For example:\n",
    "\n",
    "**Hypothesis testing** provides a systematic process in which one can check if there is a 'meaningful' distinction between two groups of observations, each having a certain property. You can, for example, test if male employees are paid higher amounts on average than female employees in a country, using a relatively small sample of male and female employees.\n",
    "\n",
    "**Linear Regression** methods are designed to find linear relations between *variables*, which are properties of collected datapoints. Using these methods, you can build a *model* that takes the collected data and estimates the desired property of a new data point. Estimating the price of a car given its technical features could be one usual application of such methods.\n",
    "\n",
    "The list continues even more. But the important point to keep in mind here is that none of these *automated* techniques can give you a deep and complete understanding of the data on their own. In fact, some prior insight into data is *required* to be able to use such systematic procedures appropriately. As the doctor needs diagnosis to select the appropriate medical care - say, a drug - and select the appropriate way of using it - say, its dose - we need to examine our data before using *automated* techniques.\n",
    "\n",
    "This is when 'Exploratory Data Analysis' comes in. Loosely speaking, EDA is the process of 'diagnosing' the dataset. You first try to gain some insight into data before further analyses. This can be useful in many ways. \n",
    "- Unexpected discoveries about data, which can lead to further studies\n",
    "- Suggesting appropriate hypotheses to test\n",
    "- Support the selection of appropriate statistical tools and techniques\n",
    "- Being more familiar with data and so getting able to analyze it both intuitively and systematically\n",
    "\n",
    "## So, How to Perform EDA?\n",
    "As mentioned before, EDA is the process of 'diagnosing' and getting insight into data. So it is more than anything, a state of mind and does not have any strict 'set of rules'. Although there are guidelines about which EDA techniques are useful in what circumstances, there is an important degree of looseness and art to EDA. Competence and confidence come with practice, experience, and close observation of others. Also, EDA need not be restricted to techniques you have seen before; **sometimes you need to invent a new way of looking at your data**.\n",
    "\n",
    "Having this said, there are some 'conventions' in EDA:\n",
    "- Take visualization seriously! People are not very good at looking at a column of numbers or a whole spreadsheet and then determining important characteristics of the data. They find looking at numbers to be tedious, boring, and/or overwhelming. Exploratory data analysis techniques have been devised as an aid in this situation. \n",
    "- Be eagle-eyed! Pay attention to what you are seeing. Does the data meet your expectations? Are there any anomalies? What are the most common values of variables, and why? During EDA you should be careful and ask intelligent questions about data.  You:\n",
    "\t1. Generate questions about your data.\n",
    "\t2. Search for answers by visualizing, transforming, and modeling your data.\n",
    "\t3. Use what you learn to refine your questions and/or generate new questions\n",
    "- Tip: EDA usually starts with considering the distribution of variables, and correlations between them. Paying attention to the form of distributions is important. \n",
    "\n",
    "Remember, no technology can replace that precise, rational thinking of humans that reveals the hidden aspects of mysterious problems! To be a data scientist is similar to being a detective. They both pay attention to the smallest details, put the clues in order, and try to see the underlying reasons for each property. \n",
    "\n",
    "\n",
    "## An Example\n",
    "Findings from EDA are orthogonal to the primary analysis task. To illustrate, consider an example from Cook et al. where the analysis task is to find the variables which best predict the tip that a dining party will give to the waiter. [Here is the original source of this example.](https://en.wikipedia.org/wiki/Exploratory_data_analysis#cite_note-12) The variables available in the data collected for this task are: the tip amount, total bill, payer gender, smoking/non-smoking section, time of day, day of the week, and size of the party. The primary analysis task is approached by fitting a regression model where the tip rate is the response variable. The fitted model is\n",
    "\n",
    "(tip rate) = 0.18 - 0.01 × (party size)\n",
    "which says that as the size of the dining party increases by one person (leading to a higher bill), the tip rate will decrease by 1%, on average.\n",
    "\n",
    "However, exploring the data reveals other interesting features not described by this model.\n",
    "\n",
    "\n",
    "<center>\n",
    "    <img src=\"pics/hist1.png\" width=\"500\">\n",
    "</center>\n",
    "\n",
    "Histogram of tip amounts where the bins cover $1 increments. The distribution of values is skewed right and uni-modal (= having one mode), as is common in distributions of small, non-negative quantities.\n",
    "\n",
    "<center>\n",
    "    <br/>\n",
    "    <br/>\n",
    "    <br/>\n",
    "    <br/>\n",
    "    <br/>\n",
    "    <img src=\"pics/hist2.png\" width=\"500\">\n",
    "</center>\n",
    "\n",
    "Histogram of tip amounts where the bins cover $0.10 increments. An interesting phenomenon is visible: peaks occur at the whole-dollar and half-dollar amounts, which is caused by customers picking round numbers as tips. This behavior is common to other types of purchases too, like gasoline.\n",
    "\n",
    "\n",
    "<center>\n",
    "    <br/>\n",
    "    <br/>\n",
    "    <br/>\n",
    "    <br/>\n",
    "    <br/>\n",
    "    <img src=\"pics/scat1.png\" width=\"500\">\n",
    "</center>\n",
    "\n",
    "Scatterplot of tips vs. bill. Points below the line correspond to tips that are lower than expected (for that bill amount), and points above the line are higher than expected. We might expect to see a tight, positive linear association, but instead, see a variation that increases with tip amount. In particular, there are more points far away from the line in the lower right than in the upper left, indicating that more customers are very cheap than very generous.\n",
    "\n",
    "<center>\n",
    "    <br/>\n",
    "    <br/>\n",
    "    <br/>\n",
    "    <br/>\n",
    "    <br/>\n",
    "    <img src=\"pics/scat2.png\" width=\"500\">\n",
    "</center>\n",
    "\n",
    "Scatterplot of tips vs. bill separated by payer gender and smoking section status. Smoking parties have a lot more variability in the tips that they give. Males tend to pay the (few) higher bills, and the female non-smokers tend to be very consistent tippers (with three conspicuous exceptions shown in the sample).\n",
    "\n",
    "**What is learned from the plots is different from what is illustrated by the regression model, even though the experiment was not designed to investigate any of these other trends. The patterns found by exploring the data suggest hypotheses about tipping that may not have been anticipated in advance, and which could lead to interesting follow-up experiments where the hypotheses are formally stated and tested by collecting new data.**\n",
    "\n",
    "## Let's Start!\n",
    "\n",
    "Now that you have been introduced to the concept of EDA, it's time for trying it in practice. In this assignment, two questions have been designed. In the first one, we want to practice the skills needed for a good EDA. For doing so, we complete an EDA process step by step. This is like performing pre-defined tasks instead of doing free research - which is less appealing but is more beneficial at the start. We use the 'penguins.csv' dataset in this question, which is a very appropriate one for practicing EDA. This dataset contains information about more than 300 penguins that live in the Palmer Archipelago, located northeast of Antarctica. This information is real and potentially contains lots of knowledge about these penguins. \n",
    "\n",
    "In the second question, you pick a favorite dataset and do EDA on it, without limitations!\n",
    "\n",
    "When doing this exercise, you may find some questions a bit ambiguous or vague. You may not also be confident about the correctness of your answers. Don't panic! There is no 'right answer' in this exercise. The important thing to us is your analyzing abilities and your advancements in *diagnosing* the data. For example, when we require you to predict the correlation between two random variables, we are **, not** interested to check if your prediction was correct or not. Rather, we are really interested to check if you've performed meaningful reasoning and analysis after seeing that your prediction was correct - or incorrect.\n",
    "\n",
    "It is highly recommended to use some appropriate environment - like RStudio - to write your code and consider your plots, rather than the browser you're reading this text on. \n",
    "\n",
    "## Copyright Notice\n",
    "\n",
    "**Palmer Archipelago (Antarctica) penguin data Citation:**\n",
    "\n",
    "Gorman KB, Williams TD, Fraser WR (2014) Ecological Sexual Dimorphism and Environmental Variability within a Community of Antarctic Penguins (Genus Pygoscelis). PLoS ONE 9(3): e90081. doi:10.1371/journal.pone.0090081\n",
    "\n",
    "## References and Further Reading\n",
    "These contents have been used in order to write this article:\n",
    "\n",
    "- https://en.wikipedia.org/wiki/Exploratory_data_analysis (mainly for the example EDA). The example is originally introduced in Cook, D. and Swayne, D.F. (with A. Buja, D. Temple Lang, H. Hofmann, H. Wickham, M. Lawrence) (2007) ″Interactive and Dynamic Graphics for Data Analysis: With R and GGobi″ Springer, 978-0387717616\n",
    "- Experimental Design and Analysis - By Prof. Howard J. Seltman, Carnegie Mellon University (mainly for describing EDA). The whole book is available at https://www.stat.cmu.edu/~hseltman/309/Book/Book.pdf. Chapter 4 is related to EDA: https://www.stat.cmu.edu/~hseltman/309/Book/chapter4.pdf\n",
    "- https://www.bbc.com/future/article/20160107-what-sherlock-holmes-tells-us-about-the-mind (mainly for emphasizing on the importance of paying attention to clues)\n",
    "- https://r4ds.had.co.nz/exploratory-data-analysis.html#exploratory-data-analysis (mainly for describing EDA). It is an excellent source for further reading."
   ]
  },
  {
   "cell_type": "markdown",
   "id": "e68260a3",
   "metadata": {},
   "source": [
    "<font color=#FF7500 size=5>\n",
    "    Question 1 - Palmer Penguins\n",
    "</font>\n",
    "\n",
    "In this question we have access to the following information of more than 300 penguins: specie, island, bill length, bill depth, flipper length, body mass and sex. Bill length and depth are measured as below.\n",
    "\n",
    "<center>\n",
    "    <img src=\"pics/bill_size_clarification.png\" width=\"500\">\n",
    "</center>"
   ]
  },
  {
   "cell_type": "markdown",
   "id": "5e055b28",
   "metadata": {},
   "source": [
    "# Getting Familiar with Data / Non-graphical EDA\n",
    "\n",
    "For start, we load the attached .csv file as a dataframe:"
   ]
  },
  {
   "cell_type": "code",
   "execution_count": 1,
   "id": "a0f50b10",
   "metadata": {},
   "outputs": [],
   "source": [
    "df <- read.csv(\"penguins.csv\")"
   ]
  },
  {
   "cell_type": "markdown",
   "id": "1653ba57",
   "metadata": {},
   "source": [
    "Call the 'summary' function on df and pay attention to its result. As you see, some columns contain numerical data and some contain characters. Try to gain some sense of the distribution of numerical columns, given their min, max, and quartiles."
   ]
  },
  {
   "cell_type": "code",
   "execution_count": null,
   "id": "6cc00a88",
   "metadata": {},
   "outputs": [],
   "source": []
  },
  {
   "cell_type": "markdown",
   "id": "e3e6d77e",
   "metadata": {},
   "source": [
    "*Suppose that in some distribution, the mean is greater than the median. What does this say about the distribution? What if the mean is less than, or equal to the median?*"
   ]
  },
  {
   "cell_type": "markdown",
   "id": "8bb91f32",
   "metadata": {},
   "source": [
    "The 'table' function takes an array as input and outputs its frequency table. Which columns of df are better to call this function on? Do the call for them."
   ]
  },
  {
   "cell_type": "code",
   "execution_count": null,
   "id": "58039b1f",
   "metadata": {},
   "outputs": [],
   "source": []
  },
  {
   "cell_type": "markdown",
   "id": "4000015b",
   "metadata": {},
   "source": [
    "For initial exposure to data, one can use more advanced functions rather than built-in R functions. The function 'skim' in the library 'skimr' is one such powerful function. Call this function on df and consider the result carefully. If you have not installed 'skimr', first do so by issuing the command below:\n",
    "\n",
    "install.packages(\"skimr\")."
   ]
  },
  {
   "cell_type": "code",
   "execution_count": null,
   "id": "8990c4b8",
   "metadata": {},
   "outputs": [],
   "source": []
  },
  {
   "cell_type": "markdown",
   "id": "7d200721",
   "metadata": {},
   "source": [
    "As you can see, some rows of data contain values that are NA. NA stands for Not Available. When encountering such rows, we can follow different strategies. One is to replace them with specific values, like mean or median. In this case, due to the relatively small number of NAs, we can simply remove them from our dataframe.\n",
    "So write a code to remove all rows in df that contain NA values."
   ]
  },
  {
   "cell_type": "code",
   "execution_count": null,
   "id": "86ed4052",
   "metadata": {},
   "outputs": [],
   "source": []
  },
  {
   "cell_type": "markdown",
   "id": "5ee1ea92",
   "metadata": {},
   "source": [
    "# Graphical EDA"
   ]
  },
  {
   "cell_type": "markdown",
   "id": "6705d723",
   "metadata": {},
   "source": [
    "As mentioned before, performing EDA is mainly done by different means of visualization. In this section, we are going to practice some of these techniques. We also practice the 'cyclic' process of EDA: Examining data, Generating questions, Examining the data again to find answers, Refining the questions or generating new questions, and so on!\n",
    "\n",
    "We start by considering the distribution of single variables. Write a code to draw a plot, showing the distribution of the 'bill_length' variable."
   ]
  },
  {
   "cell_type": "markdown",
   "id": "bd39d001",
   "metadata": {},
   "source": [
    "*What distribution do you think the 'bill_length' variable has? Write your opinion here, before running the code.*"
   ]
  },
  {
   "cell_type": "markdown",
   "id": "6f0b0624",
   "metadata": {},
   "source": [
    "Your Prediction of Distribution: "
   ]
  },
  {
   "cell_type": "code",
   "execution_count": 2,
   "id": "674d61ed",
   "metadata": {},
   "outputs": [],
   "source": []
  },
  {
   "cell_type": "markdown",
   "id": "64b9f591",
   "metadata": {},
   "source": [
    "Let's repeat the same thing for the 'bill_depth' variable. Write a code to visualize the distribution of that variable."
   ]
  },
  {
   "cell_type": "code",
   "execution_count": null,
   "id": "5b707748",
   "metadata": {},
   "outputs": [],
   "source": []
  },
  {
   "cell_type": "markdown",
   "id": "503ccde9",
   "metadata": {},
   "source": [
    "At the next step, let's consider the co-variation of some pairs of variables. 'flipper_length_mm' and 'body_mass_g' seems an interesting pair for such consideration. Write a code to visualize their joint distribution, using the 'geom_point' function or similar approaches."
   ]
  },
  {
   "cell_type": "markdown",
   "id": "139262ca",
   "metadata": {},
   "source": [
    "*How do you think 'flipper_length_mm' and 'body_mass_g' correlate with each other? Is this correlation strongly positive, positive, not eye-catching, negative, or strongly negative? Write your opinion here, before running the code.*"
   ]
  },
  {
   "cell_type": "markdown",
   "id": "0139261a",
   "metadata": {},
   "source": [
    "Your Prediction of Correlation: "
   ]
  },
  {
   "cell_type": "code",
   "execution_count": null,
   "id": "0b4eca4f",
   "metadata": {},
   "outputs": [],
   "source": []
  },
  {
   "cell_type": "markdown",
   "id": "e05ceabb",
   "metadata": {},
   "source": [
    "For considering another joint distribution, it is good to pick variables 'bill_length' and 'bill_depth'. Write a code for visualizing their joint distribution."
   ]
  },
  {
   "cell_type": "markdown",
   "id": "f440565a",
   "metadata": {},
   "source": [
    "*How do you think 'bill_length' and 'bill_depth' correlate with each other? Is this correlation strongly positive, positive, not eye-catching, negative, or strongly negative? Write your opinion here, before running the code.*"
   ]
  },
  {
   "cell_type": "markdown",
   "id": "76df2f80",
   "metadata": {},
   "source": [
    "Your Prediction of Correlation:"
   ]
  },
  {
   "cell_type": "code",
   "execution_count": null,
   "id": "d4a7f564",
   "metadata": {},
   "outputs": [],
   "source": []
  },
  {
   "cell_type": "markdown",
   "id": "289a8a97",
   "metadata": {},
   "source": [
    "## GGally: A Total Cheat!\n",
    "There are even more advanced and specialized functions available in R, for helping statisticians study the distribution and co-distribution of variables more easily. So far, we have picked pairs of variables to consider based on our intuition or desires. The function 'ggpairs' in library 'GGally' draws a plot showing the distribution of every single variable, in addition to the co-distribution of every pair of variables. Use the function to draw such a plot over all numerical variables of df."
   ]
  },
  {
   "cell_type": "code",
   "execution_count": null,
   "id": "79908d8a",
   "metadata": {},
   "outputs": [],
   "source": []
  },
  {
   "cell_type": "markdown",
   "id": "db3880a2",
   "metadata": {},
   "source": [
    "Can you find any new interesting facts about data? Do you see a phenomenon that meets your expectations? Are there any anomalies seen in the plot? Explain your opinion."
   ]
  },
  {
   "cell_type": "markdown",
   "id": "8a30147e",
   "metadata": {},
   "source": [
    "*Your Explanation*"
   ]
  },
  {
   "cell_type": "markdown",
   "id": "e264c9a7",
   "metadata": {},
   "source": [
    "## Feedback Station\n",
    "Now and after initial exposure to data, it is good to summarize our observations and get 'feedback' from data.\n",
    "\n",
    "Some properties of the data were as we expected, while others clearly violated our expectations. In particular, the non-normal distribution of 'bill_length' and 'bill_depth' cannot be ignored easily. We should consider this as an unusual phenomenon and try to continue our investigations about it. \n",
    "\n",
    "The same is true about the correlation between bill length and depth. The usual expectation is a relatively strong positive correlation between these two, but the actual result showed little correlation between them! \n",
    "\n",
    "However, the correlation between flipper length and body mass was as one usually expects. They showed a strong positive correlation. Can you find a proper biological-evolutional explanation for that?"
   ]
  },
  {
   "cell_type": "markdown",
   "id": "a68f31f3",
   "metadata": {},
   "source": [
    "*Your Opinion*"
   ]
  },
  {
   "cell_type": "markdown",
   "id": "d87abf8e",
   "metadata": {},
   "source": [
    "We continue our considerations. How can we explain the abnormal result about the correlation between bill length and depth? We normally think that if the bill length of penguin B is, say, 1.5 times the bill length of penguin A, its bill depth should also be about 1.5 times the bill depth of penguin A. This intuition implicitly includes the assumption that the 'shape' of the penguin is preserved. But this is not true, as we have different species with different 'shapes'! So what if we reconsider the correlation between bill length and depth for each specie separately? It can be a good option for further studies."
   ]
  },
  {
   "cell_type": "markdown",
   "id": "7fb10ef6",
   "metadata": {},
   "source": [
    "## Continuing the Investigation\n",
    "Write a code to draw a plot that visualizes the distribution of bill length for each specie, using the 'geom_density' function.  Hint: It is good to make each 'distribution' semi-transparent for a better result."
   ]
  },
  {
   "cell_type": "code",
   "execution_count": null,
   "id": "542d96e5",
   "metadata": {},
   "outputs": [],
   "source": []
  },
  {
   "cell_type": "markdown",
   "id": "57376288",
   "metadata": {},
   "source": [
    "As we can see, the resulting distributions are relatively similar to the normal distribution. However, there are still discrepancies. We may want to end our investigation and assume these differences are caused by the error of sampling or recording data or similar reasons. But remember that this is totally in contrast with the scientific methodology. A scientist should always try to understand the truth as it really is, and **NOT** try to show that the truth is what they want it to be!\n",
    "\n",
    "Having this said, let's find out why this difference from normal distribution still exists. To do so, write a code that selects all data points belonging to the Chinstrap specie. Then split these data points into two groups, based on which 'summit' their bill length lies. Hint: you can do the split job by comparing the bill length of each penguin with an appropriate value lying between the two 'summits'. A value of approximately 48 works fine."
   ]
  },
  {
   "cell_type": "code",
   "execution_count": null,
   "id": "93954a4e",
   "metadata": {},
   "outputs": [],
   "source": []
  },
  {
   "cell_type": "markdown",
   "id": "65ae74a2",
   "metadata": {},
   "source": [
    "Now it is a good idea to draw a 'universal' plot to compare the two groups. Draw a plot over Chinstrap penguins that uses the following aesthetic mapping:\n",
    "\n",
    "- Color: The group in which the penguin lies (based on its bill length)\n",
    "- Shape: Sex\n",
    "- x-coordinate: Bill length\n",
    "- y-coordinate: Bill depth\n",
    "- Size: Flipper length\n",
    "- Transparency: Body mass"
   ]
  },
  {
   "cell_type": "code",
   "execution_count": null,
   "id": "5910005f",
   "metadata": {},
   "outputs": [],
   "source": []
  },
  {
   "cell_type": "markdown",
   "id": "3a27ab78",
   "metadata": {},
   "source": [
    "Now we can find a specific property in the above list that separates the two groups. If you did not find it, take a deeper look at the plot. After some careful observation, it will emerge. You can run the cell below to confirm your guess. We call this property Q."
   ]
  },
  {
   "cell_type": "code",
   "execution_count": null,
   "id": "12fc9b1e",
   "metadata": {},
   "outputs": [],
   "source": [
    "print(sapply(lapply(strsplit(\"selamef fo stsisnoc rehto eht dna selam fo stsisnoc ylniam spuorg eht fo eno .xes ni reffid yllareneg spuorg owt eht\", NULL), rev), paste, collapse=\"\"))"
   ]
  },
  {
   "cell_type": "markdown",
   "id": "562351e5",
   "metadata": {},
   "source": [
    "Now draw a plot for chinstrap penguins, split by Q, that shows the distribution of bill length of each group. Hint: You can simply add (color = Q) in the aesthetic mapping."
   ]
  },
  {
   "cell_type": "code",
   "execution_count": null,
   "id": "532969be",
   "metadata": {},
   "outputs": [],
   "source": [
    "     "
   ]
  },
  {
   "cell_type": "markdown",
   "id": "0e8cecc0",
   "metadata": {},
   "source": [
    "You can see that this time the distributions are really closer to normal distribution. But there are still some discrepancies! Here, we terminate our investigation in this part to avoid lengthening the exercise. We have, however, gained some good understanding of the relation between bill length, bill depth, specie, and sex of penguins."
   ]
  },
  {
   "cell_type": "markdown",
   "id": "56362406",
   "metadata": {},
   "source": [
    "## Back to the Main Course\n",
    "\n",
    "Now that we have investigated the effect of the sex parameter on the distribution of other variables for one specie, we can apply our method to the rest of the data. Using the recent plots that you have drawn, write a code to visualize all of the data in a single graph. You can use the comprehensive plot that you drew for a single specie in the previous part. One possible aesthetic mapping is like this:\n",
    "- Color: Specie\n",
    "- Shape: Sex\n",
    "- x-Coordination: Bill length\n",
    "- y-Coordination: Bill depth\n",
    "- Size: Flipper length\n",
    "- Transparency: Body mass"
   ]
  },
  {
   "cell_type": "code",
   "execution_count": null,
   "id": "606dd041",
   "metadata": {},
   "outputs": [],
   "source": []
  },
  {
   "cell_type": "markdown",
   "id": "447abfd4",
   "metadata": {},
   "source": [
    "Using this new plot, we can compare the three species and observe the differences between them for every variable, and extract new patterns. Analyze the plot and describe what you observed."
   ]
  },
  {
   "cell_type": "markdown",
   "id": "65a0b805",
   "metadata": {},
   "source": []
  },
  {
   "cell_type": "markdown",
   "id": "d0caf19c",
   "metadata": {},
   "source": [
    "So far, we have drawn many plots in order to extract new information and hidden facts from the dataset. But we did not consider the island variable in our exploration. Now we want to add it to our consideration. Write a code to draw a bar plot that shows the population of the three species on every island."
   ]
  },
  {
   "cell_type": "code",
   "execution_count": null,
   "id": "d0c68639",
   "metadata": {},
   "outputs": [],
   "source": []
  },
  {
   "cell_type": "markdown",
   "id": "40b43813",
   "metadata": {},
   "source": [
    "How is the distribution of penguins on islands? Does it make sense? Can you find a rational explanation for species having different populations on islands?"
   ]
  },
  {
   "cell_type": "markdown",
   "id": "ba495c37",
   "metadata": {},
   "source": []
  },
  {
   "cell_type": "markdown",
   "id": "7efc4ab3",
   "metadata": {},
   "source": [
    "## Feedback Station, Again!\n",
    "We found that the non-normal distribution of bill length and depth could be partially explained as an impact of sex and specie. We drew a plot based on all data points of df to compare the basic properties of different species. In addition, we tried to explain why the population of penguins is different from island to island, although this remains a guess and further studies are needed. \n",
    "\n",
    "Now it is possible to claim that we have obtained initial knowledge and 'insight' about the data. If this exercise was real statistical research, we were ready to start our main job. Here, to evaluate your understanding of data, make it a bit fun, and extract some 'application' from this gained knowledge, we have added a surprising section to this question:  Regression Analysis!"
   ]
  },
  {
   "cell_type": "markdown",
   "id": "4cc0837e",
   "metadata": {},
   "source": [
    "## Surprising Section: Regression Analysis!\n",
    "\n",
    "In this part, your task is to reload df from the .csv file, put its rows containing NA values in another data frame, say df_na_rows, and try to fill those NA values based on what you understand from the whole data frame. For example, if a datapoint has the 'sex' parameter missed, you can try to retrieve that piece of information by considering the bill length, bill depth, and specie of that penguin."
   ]
  },
  {
   "cell_type": "markdown",
   "id": "79af8629",
   "metadata": {},
   "source": [
    "<font color=#FF7500 size=5>\n",
    "    Question 2 - Exploring on Your Own\n",
    "</font>\n",
    "\n",
    "In this question, we have some interesting real-world datasets. You are to pick one of these datasets and perform an EDA using what you have learned from the previous question."
   ]
  },
  {
   "cell_type": "markdown",
   "id": "d396ab83",
   "metadata": {},
   "source": [
    "## Datasets\n",
    "\n",
    "### Dataset 1: Forbes Highest Paid Athletes 1990-2020\n",
    "\n",
    "Link to the dataset: https://www.kaggle.com/datasets/parulpandey/forbes-highest-paid-athletes-19902019\n",
    "\n",
    "*The data has been extracted from topendsports.com website\n",
    "\n",
    "### Dataset 2: IT Salary Survey for EU region(2018-2020)\n",
    "\n",
    "Link to the dataset: https://www.kaggle.com/datasets/parulpandey/2020-it-salary-survey-for-eu-region\n",
    "\n",
    "### Dataset 3: Nutrition facts for Starbucks Menu\n",
    "\n",
    "Link to the dataset: https://www.kaggle.com/datasets/starbucks/starbucks-menu\n",
    "\n",
    "*Food composition data is in the public domain, but product names marked with ® or ™ remain the registered trademarks of Starbucks.\n",
    "\n",
    "### Dataset 4: Harry Potter Dataset\n",
    "\n",
    "Link to the dataset: https://www.kaggle.com/datasets/gulsahdemiryurek/harry-potter-dataset?select=Characters.csv\n",
    "\n",
    "*The other data were collected from pottermore.com and https://harrypotter.fandom.com/wiki/Main_Page\n",
    "\n",
    "### Dataset 5: Netflix Movies and TV Shows\n",
    "\n",
    "Link to the dataset: https://www.kaggle.com/datasets/shivamb/netflix-shows\n",
    "\n",
    "### Dataset 6: Students Performance in Exams\n",
    "\n",
    "Link to the dataset: https://www.kaggle.com/datasets/spscientist/students-performance-in-exams\n",
    "\n",
    "### Dataset 7: Medical Cost Personal Datasets\n",
    "\n",
    "Link to the dataset: https://www.kaggle.com/datasets/mirichoi0218/insurance\n",
    "\n",
    "*The dataset is available on GitHub https://github.com/stedy/Machine-Learning-with-R-datasets"
   ]
  }
 ],
 "metadata": {
  "kernelspec": {
   "display_name": "R",
   "language": "R",
   "name": "ir"
  },
  "language_info": {
   "codemirror_mode": "r",
   "file_extension": ".r",
   "mimetype": "text/x-r-source",
   "name": "R",
   "pygments_lexer": "r",
   "version": "4.1.0"
  }
 },
 "nbformat": 4,
 "nbformat_minor": 5
}
