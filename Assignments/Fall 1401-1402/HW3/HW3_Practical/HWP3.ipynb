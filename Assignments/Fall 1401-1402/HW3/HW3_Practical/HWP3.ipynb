{
 "cells": [
  {
   "cell_type": "markdown",
   "id": "940cca65",
   "metadata": {},
   "source": [
    "<div style=\"direction:rtl;line-height:300%;\">\n",
    "\t<font face=\"XB Zar\" size=5>\n",
    "\t\t<div align=center>\n",
    "\t\t\t<font face=\"IranNastaliq\" size=30>\n",
    "\t\t\t\t<p></p>\n",
    "\t\t\t\t<p></p>\n",
    "به نام خدا\n",
    "\t\t\t\t<p></p>\n",
    "\t\t\t</font>\n",
    "\t\t\t<font color=#FF7500>\n",
    "دانشگاه صنعتی شریف - دانشکده مهندسی کامپیوتر\n",
    "            </font>\n",
    "\t\t\t<p></p>\n",
    "\t\t\t<font color=blue>\n",
    "آمار و احتمال مهندسی\n",
    "            </font>\n",
    "\t\t\t<br />\n",
    "\t\t\t<br />\n",
    "پاییز ۱۴۰۱\n",
    "\t\t</div>\n",
    "\t\t<hr/>\n",
    "\t\t<div align=center>\n",
    "\t\t    <font color=red size=6>\n",
    "\t\t\t    <br />\n",
    "تمرین عملی سری سوم\n",
    "            \t<br/>\n",
    "\t\t\t</font>\n",
    "            نام و نام خانوادگی:\n",
    "            <br/>\n",
    "            شماره دانشجویی:\n",
    "            <br/><br/>\n",
    "            طراحان: آیناز رفیعی، علیرضا حبیب‌زاده\n",
    "\t\t\t<br/>\n",
    "موعد تحویل: ۱۴ آذر \n",
    "                <br/>\n",
    "                همفکری در تمامی تمرین‌های درس توصیه می‌شود. در عین حال از شما انتظار می‌رود تمام پیاده‌سازی را به تنهایی و بدون مشاهده کد دیگران انجام دهید.\n",
    "                <br/><br/>\n",
    "                <font color=red>\n",
    "                لطفا در فایل ارسالی تمام بلوک‌های کد اجرا شده و شامل نمودار‌ها و خروجی‌های لازم باشند.\n",
    "     </font>\n",
    "                <br/>\n",
    "        </style>\n",
    "\t</font>\n",
    "</div>"
   ]
  },
  {
   "cell_type": "markdown",
   "id": "27a9159c",
   "metadata": {},
   "source": [
    "<div dir = \"rtl\" style=\"direction:rtl;line-height:300%;\">\n",
    "\t<font face=\"XB Zar\" size=5>\n",
    "\t\t<font color=#FF7500 size=6>\n",
    "          سوال اول\n",
    "        </font>\n",
    "        <div dir = \"rtl\" style=\"direction:rtl;line-height:300%;\">\n",
    "\t<font face=\"XB Zar\" size=5>\n",
    "                <hr/> \n",
    "       تابعی از یک نمونه از یک متغیر تصادفی uniform بین 0 و 1 به نمونه ای از متغیر تصادفی نمایی بیابید. \n",
    "   </font>\n",
    "</div>\n",
    "    </font>\n",
    "</div>"
   ]
  },
  {
   "cell_type": "markdown",
   "id": "c471491c",
   "metadata": {},
   "source": [
    "<div dir = \"rtl\" style=\"direction:rtl;line-height:300%;\">\n",
    "\t<font face=\"XB Zar\" size=5>\n",
    "پاسخ:\n",
    "\n",
    "</div>"
   ]
  },
  {
   "cell_type": "markdown",
   "id": "0e08358c",
   "metadata": {},
   "source": [
    "<div dir = \"rtl\" style=\"direction:rtl;line-height:300%;\">\n",
    "\t<font face=\"XB Zar\" size=5>\n",
    "                <hr/> \n",
    "       50000 نمونه از متغیر تصادفی uniform بین 0 و 1 تولید کرده و تابع بالا را روی آن اعمال کنید. پارامتر توزیع نمایی را دلخواه در نظر بگیرید ولی آن را ذکر کنید. نتیجه را بر روی نمودار نمایش دهید. \n",
    "   </font>\n",
    "</div>\n",
    "    </font>\n",
    "</div>"
   ]
  },
  {
   "cell_type": "code",
   "execution_count": null,
   "id": "787a27b8",
   "metadata": {},
   "outputs": [],
   "source": []
  },
  {
   "cell_type": "markdown",
   "id": "3254a295",
   "metadata": {},
   "source": [
    "<div dir = \"rtl\" style=\"direction:rtl;line-height:300%;\">\n",
    "\t<font face=\"XB Zar\" size=5>\n",
    "        <hr/>\n",
    "10000 نمونه از متغیر تصادفی binomial با استفاده از متغیرهای تصادفی از توزیع نمایی که در مرحله‌ی قبل به دست آورده‌اید تولید کرده و بر روی نمودار نمایش دهید.<br/>\n",
    "        پارامترهای توزیع را دلخواه انتخاب کنید ولی آن‌ها را ذکر کنید.\n",
    "    </font>\n",
    "</div>"
   ]
  },
  {
   "cell_type": "code",
   "execution_count": null,
   "id": "f4553d42",
   "metadata": {},
   "outputs": [],
   "source": []
  },
  {
   "cell_type": "markdown",
   "id": "c76c355c",
   "metadata": {},
   "source": [
    "<br>\n",
    "<div dir = \"rtl\" style=\"direction:rtl;line-height:300%;\">\n",
    "\t<font face=\"XB Zar\" size=5>\n",
    "\t\t<font color=#FF7500 size=6>\n",
    "            سوال دوم\n",
    "        </font>\n",
    "        <hr/> \n",
    "        <div dir = \"rtl\" style=\"direction:rtl;line-height:200%;\">\n",
    "            در اتاقی یک بلندگو (فرستنده) قرار دارد که سیگنالی ارسال می‌کند\n",
    "        و همچنین سه میکروفون (گیرنده) در فواصل و جاهای مختلف قرار داده شده‌اند که این سیگنال را دریافت می‌کنند.\n",
    "            اطلاعات سیگنال ارسال شده و دریافتی بر حسب زمان در دیتاست \n",
    "data.csv\n",
    "به شما داده شده است. <br>\n",
    "داده‌ها را در یک دیتافریم لود کنید.\n",
    "</div>\n",
    "    </font>\n",
    "</div>"
   ]
  },
  {
   "cell_type": "code",
   "execution_count": null,
   "id": "9f655c0d",
   "metadata": {},
   "outputs": [],
   "source": []
  },
  {
   "cell_type": "markdown",
   "id": "c9ae1e3c",
   "metadata": {},
   "source": [
    "<div dir = \"rtl\" style=\"direction:rtl;line-height:300%;\">\n",
    "\t<font face=\"XB Zar\" size=5>\n",
    "نمودار اطلاعات فرستنده و سه گیرنده بر حسب زمان را در یک نمودار بکشید.\n",
    "    </font>\n",
    "<div>"
   ]
  },
  {
   "cell_type": "code",
   "execution_count": null,
   "id": "139e7886",
   "metadata": {
    "scrolled": true
   },
   "outputs": [],
   "source": []
  },
  {
   "cell_type": "markdown",
   "id": "1f6d01c7",
   "metadata": {},
   "source": [
    "<div dir = \"rtl\" style=\"direction:rtl;line-height:250%;\">\n",
    "\t<font face=\"XB Zar\" size=5>\n",
    "                <hr/>\n",
    "داده‌های اندازه‌گیری شده به دلیل تفاوت و فاصله‌ی گیرنده‌ها و عوامل محیطی ممکن است دچار تغییراتی شده باشند.\n",
    "به همین منظور لازم است تا داده‌ها را نرمالایز کنیم.\n",
    "یعنی تبدیل خطی‌ای روی آن‌ها اعمال کنیم که توزیع نهایی دارای امید ریاضی صفر و انحراف معیار واحد باشد.\n",
    "$$x' = \\frac{x - \\bar{x}}{\\sigma_x}$$\n",
    "داده‌های نرمالایز شده‌ی فرستنده و سه گیرنده را به دیتافریم اضافه کنید.\n",
    "از این به بعد تنها با داده‌های نرمالایز شده کار خواهیم کرد.\n",
    "    </font>\n",
    "</div>"
   ]
  },
  {
   "cell_type": "code",
   "execution_count": 120,
   "id": "ad205a0f",
   "metadata": {},
   "outputs": [],
   "source": []
  },
  {
   "cell_type": "markdown",
   "id": "43c8427e",
   "metadata": {},
   "source": [
    "<div dir = \"rtl\" style=\"direction:rtl;line-height:250%;\">\n",
    "\t<font face=\"XB Zar\" size=5>\n",
    "برای اطمینان میانگین و واریانس داده‌های نرمالایز شده را حساب کنید.\n",
    "<br>\n",
    "آیا نتیجه با آنچه انتظار دارید یکسان است؟\n",
    "    </font>\n",
    "</div>"
   ]
  },
  {
   "cell_type": "code",
   "execution_count": null,
   "id": "bd3dae06",
   "metadata": {},
   "outputs": [],
   "source": []
  },
  {
   "cell_type": "raw",
   "id": "cc0d514c",
   "metadata": {},
   "source": [
    "توضیح"
   ]
  },
  {
   "cell_type": "markdown",
   "id": "50b3ee5d",
   "metadata": {},
   "source": [
    "<div dir = \"rtl\" style=\"direction:rtl;line-height:250%;\">\n",
    "\t<font face=\"XB Zar\" size=5>\n",
    "داده‌های نرمالایز شده‌ی گیرنده‌ها و فرستنده بر حسب زمان را در یک نمودار نشان دهید.\n",
    "</font>\n",
    "</div>"
   ]
  },
  {
   "cell_type": "code",
   "execution_count": null,
   "id": "594fd90c",
   "metadata": {},
   "outputs": [],
   "source": []
  },
  {
   "cell_type": "markdown",
   "id": "61e9e4a9",
   "metadata": {},
   "source": [
    "<div dir = \"rtl\" style=\"direction:rtl;line-height:250%;\">\n",
    "\t<font face=\"XB Zar\" size=5>\n",
    "توزیع توام داده‌های نرمالایز شده‌ی سه گیرنده با فرستنده را در نمودار یا نمودارهای مناسبی نمایش دهید.\n",
    "<br>\n",
    "<font size=3>\n",
    "(راهنمایی: جواب‌ها همگی نوعی بیضی هستند)\n",
    "</font>\n",
    "<br>\n",
    "توزیع حاشیه‌ای هر کدام از متغیرهای نرمالایز شده‌ی\n",
    "send, \n",
    "receive1, \n",
    "receive2, \n",
    "receive3\n",
    "را به صورت جداگانه یا روی همان توزیع توام نمایش دهید.\n",
    "<br>\n",
    "برای این کار می‌توانید از \n",
    "ggMarginal\n",
    "از کتابخانه‌ی\n",
    "ggExtra\n",
    "استفاده کنید. (یا نکنید)\n",
    "    </font>\n",
    "</div>"
   ]
  },
  {
   "cell_type": "code",
   "execution_count": null,
   "id": "1f0d92ff",
   "metadata": {},
   "outputs": [],
   "source": []
  },
  {
   "cell_type": "markdown",
   "id": "b470140b",
   "metadata": {},
   "source": [
    "<div dir = \"rtl\" style=\"direction:rtl;line-height:250%;\">\n",
    "\t<font face=\"XB Zar\" size=5>\n",
    "        کوواریانس اطلاعات نرمالایز شده‌ی گیرنده‌ها با فرستنده را حساب کنید. (سه مقدار) \n",
    "<br>\n",
    "        مقادیر به دست‌آمده را با توزیع‌های توام که در قسمت قبل کشیدید مقایسه کنید.\n",
    "        <br>\n",
    "        (به کوواریانس بین توزیع‌های نرمالایز شده کوریلیشن نیز می‌گویند که مقداری بین منفی یک و یک است.)\n",
    "</font>\n",
    "</div>"
   ]
  },
  {
   "cell_type": "code",
   "execution_count": null,
   "id": "8f1b2fc8",
   "metadata": {
    "scrolled": true
   },
   "outputs": [],
   "source": []
  },
  {
   "cell_type": "markdown",
   "id": "be349f2f",
   "metadata": {},
   "source": [
    "<div dir = \"rtl\" style=\"direction:rtl;line-height:250%;\">\n",
    "\t<font face=\"XB Zar\" size=5>\n",
    "        <font size=6>\n",
    "    امتیازی\n",
    "</font>\n",
    "<br>\n",
    "همان‌طور که احتمالا حدس زدید گیرنده‌ها علاوه بر آن که اطلاعات را با مقداری نویز و تضعیف شده دریافت می‌کنند آن را با تاخیر هم می‌بینند.\n",
    "یعنی نمودار داده‌های گیرنده‌ها در مقایسه با داده‌های فرستنده شیفت خورده است.\n",
    "به دلیل نویزی که در اطلاعات وجود دارد هیچوقت نقاط با شیفت دادن دقیقا روی هم قرار نمی‌گیرند.\n",
    "یک روش خوب برای پیدا کردن تاخیر بین این دو موج شیفت دادن یک موج و محاسبه‌ی کوواریانس بین این دو است تا جایی که این کوواریانس بیشینه شود.\n",
    "<br>\n",
    "(اگر نویزی وجود نداشت این مقدار برای داده‌های نرمالایز شده‌ی یک می‌بود چرا که کوواریانس یک متغیر نرمالایز شده با خودش یک است )\n",
    "<br><br>\n",
    "داده‌های گیرنده‌ی اول را به ازای جابه‌جایی‌های مضرب 50 از صفر تا 1000 میکروثانیه (نصف کل بازه‌ی زمانی) به سمت چپ شیفت دهید. سپس داده‌های 1000 میکروثانیه ابتدایی از فرستنده و گیرنده باقی می‌ماند را جدا کنید و کوواریانس این دو را محاسبه کنید.\n",
    "حال نمودار کوواریانس بر حسب شیفت را رسم کنید.\n",
    "<br><br>\n",
    "(راهنمایی:\n",
    "همیشه باید 200\n",
    "داده از میان ستون receive1 نرمالایز شده بردارید\n",
    "و کوواریانس آن را با 200 داده‌ی ابتدایی\n",
    "send نرمالایز شده حساب کنید.)\n",
    "</font>\n",
    "</div>\n",
    "\n",
    "<img src=\"pic1.png\" width=500/>"
   ]
  },
  {
   "cell_type": "code",
   "execution_count": null,
   "id": "f5c13c7b",
   "metadata": {},
   "outputs": [],
   "source": []
  },
  {
   "cell_type": "markdown",
   "id": "b18c7696",
   "metadata": {},
   "source": [
    "<div dir = \"rtl\" style=\"direction:rtl;line-height:250%;\">\n",
    "\t<font face=\"XB Zar\" size=5>\n",
    "شیفتی که در آن بیشترین کوواریانس بین داد‌های گیرنده‌ی شیفت خورده و فرستنده ایجاد می‌شود و کوواریانس بیشینه را پیدا کنید.\n",
    "    </font>\n",
    "</div>"
   ]
  },
  {
   "cell_type": "code",
   "execution_count": null,
   "id": "279cb967",
   "metadata": {},
   "outputs": [],
   "source": []
  },
  {
   "cell_type": "markdown",
   "id": "d3aed86a",
   "metadata": {},
   "source": [
    "<div dir = \"rtl\" style=\"direction:rtl;line-height:250%;\">\n",
    "\t<font face=\"XB Zar\" size=5>\n",
    "توزیع توام 1000 میکروثانیه اول گیرنده‌ی شیفت خورده با فرستنده را رسم کنید.\n",
    "</font>\n",
    "</div>"
   ]
  },
  {
   "cell_type": "code",
   "execution_count": null,
   "id": "dbab1888",
   "metadata": {},
   "outputs": [],
   "source": []
  }
 ],
 "metadata": {
  "kernelspec": {
   "display_name": "R",
   "language": "R",
   "name": "ir"
  },
  "language_info": {
   "codemirror_mode": "r",
   "file_extension": ".r",
   "mimetype": "text/x-r-source",
   "name": "R",
   "pygments_lexer": "r",
   "version": "4.1.2"
  }
 },
 "nbformat": 4,
 "nbformat_minor": 5
}
