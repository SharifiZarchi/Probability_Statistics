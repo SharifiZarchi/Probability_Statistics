{
 "cells": [
  {
   "cell_type": "markdown",
   "id": "f0189a37",
   "metadata": {},
   "source": [
    "<div style=\"direction:rtl;line-height:300%;\">\n",
    "\t<font face=\"XB Zar\" size=5>\n",
    "\t\t<div align=center>\n",
    "\t\t\t<font face=\"IranNastaliq\" size=30>\n",
    "\t\t\t\t<p></p>\n",
    "\t\t\t\t<p></p>\n",
    "به نام خدا\n",
    "\t\t\t\t<p></p>\n",
    "\t\t\t</font>\n",
    "\t\t\t<font color=#FF7500>\n",
    "دانشگاه صنعتی شریف - دانشکده مهندسی کامپیوتر\n",
    "            </font>\n",
    "\t\t\t<p></p>\n",
    "\t\t\t<font color=blue>\n",
    "آمار و احتمال مهندسی\n",
    "            </font>\n",
    "\t\t\t<br />\n",
    "\t\t\t<br />\n",
    "پاییز 1401\n",
    "\t\t</div>\n",
    "\t\t<hr/>\n",
    "\t\t<div align=center>\n",
    "\t\t    <font color=red size=6>\n",
    "\t\t\t    <br />\n",
    "تمرین عملی بخش دوم\n",
    "            \t<br/>\n",
    "\t\t\t</font>\n",
    "طراحان: محمدجواد ماهرالنقش، محمد‌مهدی ابوترابی \n",
    "\t\t\t<br/><br/> \n",
    "موعد تحویل: 14 آبان \n",
    "                <br/>\n",
    "                همفکری در تمامی تمرین‌های درس توصیه می‌شود. در عین حال از شما خواسته می‌شود تا تمام پیاده‌سازی را به تنهایی و بدون مشاهده کد دیگران انجام دهید.\n",
    "                <br/><br/>\n",
    "                <font color=red>\n",
    "                لطفا در فایل ارسالی تمام بلوک‌های کد اجرا شده و شامل نمودار‌ها و خروجی‌های لازم باشند.\n",
    "     </font>\n",
    "                <br/>\n",
    "        </style>\n",
    "\t</font>\n",
    "</div>"
   ]
  },
  {
   "cell_type": "markdown",
   "id": "f0826060",
   "metadata": {},
   "source": [
    "<div style=\"direction:rtl\">\n",
    " نام و نام خانوادگی:\n",
    "</div>"
   ]
  },
  {
   "cell_type": "markdown",
   "id": "5d3c0171",
   "metadata": {},
   "source": [
    "<div style=\"direction:rtl\">\n",
    "    شماره دانشجویی:\n",
    "</div>"
   ]
  },
  {
   "cell_type": "markdown",
   "id": "091248d7",
   "metadata": {},
   "source": [
    "<div dir = \"rtl\" style=\"direction:rtl;line-height:250%;\">\n",
    "\t<font face=\"XB Zar\" size=5>\n",
    "\t\t<font color=#FF7500 size=6>\n",
    "             سوال اول\n",
    "        </font>\n",
    "        <hr/>\n",
    "        <div dir = \"rtl\" style=\"direction:rtl;line-height:200%;\">\n",
    "\t<font face=\"XB Zar\" size=5>\n",
    "    دیتافریم airquality یکی از دیتا فریم‌های biult-in است که اطلاعاتی در مورد وضعیت آب‌و‌هوای نیویورک در یک بازه‌ی زمانی می‌دهد.\n",
    "            </font>\n",
    "</div>\n",
    "    </font>\n",
    "</div>"
   ]
  },
  {
   "cell_type": "code",
   "execution_count": 1,
   "id": "b166e8a5",
   "metadata": {
    "scrolled": true,
    "vscode": {
     "languageId": "r"
    }
   },
   "outputs": [
    {
     "data": {
      "text/html": [
       "<table class=\"dataframe\">\n",
       "<caption>A data.frame: 6 × 6</caption>\n",
       "<thead>\n",
       "\t<tr><th></th><th scope=col>Ozone</th><th scope=col>Solar.R</th><th scope=col>Wind</th><th scope=col>Temp</th><th scope=col>Month</th><th scope=col>Day</th></tr>\n",
       "\t<tr><th></th><th scope=col>&lt;int&gt;</th><th scope=col>&lt;int&gt;</th><th scope=col>&lt;dbl&gt;</th><th scope=col>&lt;int&gt;</th><th scope=col>&lt;int&gt;</th><th scope=col>&lt;int&gt;</th></tr>\n",
       "</thead>\n",
       "<tbody>\n",
       "\t<tr><th scope=row>1</th><td>41</td><td>190</td><td> 7.4</td><td>67</td><td>5</td><td>1</td></tr>\n",
       "\t<tr><th scope=row>2</th><td>36</td><td>118</td><td> 8.0</td><td>72</td><td>5</td><td>2</td></tr>\n",
       "\t<tr><th scope=row>3</th><td>12</td><td>149</td><td>12.6</td><td>74</td><td>5</td><td>3</td></tr>\n",
       "\t<tr><th scope=row>4</th><td>18</td><td>313</td><td>11.5</td><td>62</td><td>5</td><td>4</td></tr>\n",
       "\t<tr><th scope=row>5</th><td>NA</td><td> NA</td><td>14.3</td><td>56</td><td>5</td><td>5</td></tr>\n",
       "\t<tr><th scope=row>6</th><td>28</td><td> NA</td><td>14.9</td><td>66</td><td>5</td><td>6</td></tr>\n",
       "</tbody>\n",
       "</table>\n"
      ],
      "text/latex": [
       "A data.frame: 6 × 6\n",
       "\\begin{tabular}{r|llllll}\n",
       "  & Ozone & Solar.R & Wind & Temp & Month & Day\\\\\n",
       "  & <int> & <int> & <dbl> & <int> & <int> & <int>\\\\\n",
       "\\hline\n",
       "\t1 & 41 & 190 &  7.4 & 67 & 5 & 1\\\\\n",
       "\t2 & 36 & 118 &  8.0 & 72 & 5 & 2\\\\\n",
       "\t3 & 12 & 149 & 12.6 & 74 & 5 & 3\\\\\n",
       "\t4 & 18 & 313 & 11.5 & 62 & 5 & 4\\\\\n",
       "\t5 & NA &  NA & 14.3 & 56 & 5 & 5\\\\\n",
       "\t6 & 28 &  NA & 14.9 & 66 & 5 & 6\\\\\n",
       "\\end{tabular}\n"
      ],
      "text/markdown": [
       "\n",
       "A data.frame: 6 × 6\n",
       "\n",
       "| <!--/--> | Ozone &lt;int&gt; | Solar.R &lt;int&gt; | Wind &lt;dbl&gt; | Temp &lt;int&gt; | Month &lt;int&gt; | Day &lt;int&gt; |\n",
       "|---|---|---|---|---|---|---|\n",
       "| 1 | 41 | 190 |  7.4 | 67 | 5 | 1 |\n",
       "| 2 | 36 | 118 |  8.0 | 72 | 5 | 2 |\n",
       "| 3 | 12 | 149 | 12.6 | 74 | 5 | 3 |\n",
       "| 4 | 18 | 313 | 11.5 | 62 | 5 | 4 |\n",
       "| 5 | NA |  NA | 14.3 | 56 | 5 | 5 |\n",
       "| 6 | 28 |  NA | 14.9 | 66 | 5 | 6 |\n",
       "\n"
      ],
      "text/plain": [
       "  Ozone Solar.R Wind Temp Month Day\n",
       "1 41    190      7.4 67   5     1  \n",
       "2 36    118      8.0 72   5     2  \n",
       "3 12    149     12.6 74   5     3  \n",
       "4 18    313     11.5 62   5     4  \n",
       "5 NA     NA     14.3 56   5     5  \n",
       "6 28     NA     14.9 66   5     6  "
      ]
     },
     "metadata": {},
     "output_type": "display_data"
    }
   ],
   "source": [
    "head(airquality)"
   ]
  },
  {
   "cell_type": "markdown",
   "id": "10f31607",
   "metadata": {},
   "source": [
    "<div dir = \"rtl\" style=\"direction:rtl;line-height:250%;\">\n",
    "\t<font face=\"XB Zar\" size=5>\n",
    "        الف)\n",
    "به کمک boxplot‌ها یک نمودار مناسب ارائه دهید که وضعیت دما (temp) را بر حسب ماه‌های مختلف نشان دهد.\n",
    "     </font>\n",
    "</div>"
   ]
  },
  {
   "cell_type": "code",
   "execution_count": null,
   "id": "6264d0c1",
   "metadata": {
    "vscode": {
     "languageId": "r"
    }
   },
   "outputs": [],
   "source": []
  },
  {
   "cell_type": "markdown",
   "id": "b28c466b",
   "metadata": {},
   "source": [
    "<div dir = \"rtl\" style=\"direction:rtl;line-height:250%;\">\n",
    "\t<font face=\"XB Zar\" size=5>\n",
    "ب) بخش الف را برای میانگین باد و میانگین غلظت اوزون و میانگین تابش خورشید بر حسب ماه‌های مختلف تکرار کنید و نتایج خود را از این 4 نمودار شرح دهید.\n",
    "     </font>\n",
    "</div>"
   ]
  },
  {
   "cell_type": "code",
   "execution_count": null,
   "id": "bbafc107",
   "metadata": {
    "vscode": {
     "languageId": "r"
    }
   },
   "outputs": [],
   "source": []
  },
  {
   "cell_type": "markdown",
   "id": "ab286b9b",
   "metadata": {},
   "source": [
    "<div dir = \"rtl\" style=\"direction:rtl;line-height:250%;\">\n",
    "\t<font face=\"XB Zar\" size=5>\n",
    "ج) به کمک boxplot‌ها رنج اعداد مختلف در پارامتر‌های متفاوت را در این دیتاست را بررسی کنید.\n",
    "     </font>\n",
    "</div>"
   ]
  },
  {
   "cell_type": "code",
   "execution_count": null,
   "id": "f08cbd0d",
   "metadata": {
    "vscode": {
     "languageId": "r"
    }
   },
   "outputs": [],
   "source": []
  },
  {
   "cell_type": "markdown",
   "id": "12f533ae",
   "metadata": {},
   "source": [
    "<div dir = \"rtl\" style=\"direction:rtl;line-height:250%;\">\n",
    "\t<font face=\"XB Zar\" size=5>\n",
    "د) به کمک نمودار scatter نمودار میانگین غلظت اوزون بر حسب دما را رسم کنید و آن را تحلیل کنید.\n",
    "     </font>\n",
    "</div>"
   ]
  },
  {
   "cell_type": "code",
   "execution_count": null,
   "id": "adc017cf",
   "metadata": {
    "vscode": {
     "languageId": "r"
    }
   },
   "outputs": [],
   "source": []
  },
  {
   "cell_type": "markdown",
   "id": "02925e5c",
   "metadata": {},
   "source": [
    "<div dir = \"rtl\" style=\"direction:rtl;line-height:250%;\">\n",
    "\t<font face=\"XB Zar\" size=5>\n",
    "ه) نمودار نقطه‌ای (scatter) را براساس ویژگی‌های جذر میانگین غلظت اوزون و ماه و باد رسم کنید. سعی کنید نمودار رسم شده اطلاعات را به خوبی نشان دهد. نتایج خود را بیان کنید. (به وابستگی میان متغیر‌ها توجه کنید.)\n",
    "     </font>\n",
    "</div>"
   ]
  },
  {
   "cell_type": "code",
   "execution_count": null,
   "id": "e8c56199",
   "metadata": {
    "vscode": {
     "languageId": "r"
    }
   },
   "outputs": [],
   "source": []
  },
  {
   "cell_type": "markdown",
   "id": "0688627c",
   "metadata": {},
   "source": [
    "<div dir = \"rtl\" style=\"direction:rtl;line-height:250%;\">\n",
    "\t<font face=\"XB Zar\" size=5>\n",
    "و) نمودار هیستوگرام برای باد و  تابش خورشید رسم کنید، این دو نمودار را با هم و با نمودار توزیع نرمال مقایسه کنید و نتیجه‌ی خود را آن بیان کنید.\n",
    "     </font>\n",
    "</div>"
   ]
  },
  {
   "cell_type": "code",
   "execution_count": null,
   "id": "b0d1bb19",
   "metadata": {
    "vscode": {
     "languageId": "r"
    }
   },
   "outputs": [],
   "source": []
  },
  {
   "cell_type": "markdown",
   "id": "740136a9",
   "metadata": {},
   "source": [
    "<div dir = \"rtl\" style=\"direction:rtl;line-height:250%;\">\n",
    "\t<font face=\"XB Zar\" size=5>\n",
    "\t\t<font color=#FF7500 size=6>\n",
    "             سوال دوم \n",
    "        </font>\n",
    "        <hr/>\n",
    "        <div dir = \"rtl\" style=\"direction:rtl;line-height:200%;\">\n",
    "\t<font face=\"XB Zar\" size=5>\n",
    "        در یک فرایند پواسون زمان بین دو اتفاق از یک توزیع نمایی پیروی می‌کند. اگر بخواهیم زمان اتفاق n‌ام را پیش‌بینی کنیم از توزیع گاما استفاده می‌کنیم.\n",
    "        $$T_n=\\sum_{i=1}^n{X_i},\\  X_i  s\\ are\\ i.i.d\\ and\\ X_i\\sim Exp(\\lambda)$$\n",
    "        $$T_n\\sim Gamma(n, \\lambda)$$\n",
    "حال فرض کنید فاصله بین ورود مشتریان به یک رستوران از توزیع نمایی پیروی می‌کند به طوری که در هر دقیقه پنج مشتری وارد می‌شوند.\n",
    "        <br>\n",
    "        الف)\n",
    " 2000  نمونه تصادفی برای زمان بین ورود مشتریان تولید کنید و نمودارهای هیستوگرام داده‌های تولیدشده و چگالی توزیع آن را در یک نمودار رسم کنید. نمودار هیستوگرام شما باید چگالی احتمال را برای هر نمونه را نشان دهد.\n",
    "            </font>\n",
    "</div>\n",
    "    </font>\n",
    "</div>"
   ]
  },
  {
   "cell_type": "code",
   "execution_count": 10,
   "id": "8f088873",
   "metadata": {
    "vscode": {
     "languageId": "r"
    }
   },
   "outputs": [],
   "source": []
  },
  {
   "cell_type": "markdown",
   "id": "27976053",
   "metadata": {},
   "source": [
    "<div dir = \"rtl\" style=\"direction:rtl;line-height:250%;\">\n",
    "\t<font face=\"XB Zar\" size=5>\n",
    "        ب)\n",
    "        بی‌حافظگی توزیع نمایی را با داده‌های تولید شده در قسمت قبل را با استفاده از داده‌های تولید شده در قسمت قبل و رسم نمودار به همان شکل نشان دهید.\n",
    "     </font>\n",
    "</div>"
   ]
  },
  {
   "cell_type": "code",
   "execution_count": null,
   "id": "8293fda5",
   "metadata": {
    "scrolled": false,
    "vscode": {
     "languageId": "r"
    }
   },
   "outputs": [],
   "source": []
  },
  {
   "cell_type": "markdown",
   "id": "5ba75648",
   "metadata": {},
   "source": [
    "<div dir = \"rtl\" style=\"direction:rtl;line-height:250%;\">\n",
    "\t<font face=\"XB Zar\" size=5>\n",
    "        ج)\n",
    "       با تولید n=10 متغیرتصادفی نمایی، ویژگی گفته شده در صورت سوال را بررسی کنید. برای این‌کار می‌توانید برای شبیه‌سازی هر متغیرتصادفی مانند قسمت الف عمل کنید. \n",
    "     </font>\n",
    "</div>"
   ]
  },
  {
   "cell_type": "code",
   "execution_count": null,
   "id": "effda756",
   "metadata": {
    "vscode": {
     "languageId": "r"
    }
   },
   "outputs": [],
   "source": []
  },
  {
   "cell_type": "markdown",
   "id": "297ff287",
   "metadata": {},
   "source": [
    "<div dir = \"rtl\" style=\"direction:rtl;line-height:250%;\">\n",
    "\t<font face=\"XB Zar\" size=5>\n",
    "\t\t<font color=#FF7500 size=6>\n",
    "             سوال سوم\n",
    "        </font>\n",
    "        <hr/>\n",
    "        <div dir = \"rtl\" style=\"direction:rtl;line-height:200%;\">\n",
    "\t<font face=\"XB Zar\" size=5>\n",
    "    دیتاست مربوط به درآمد در پیوست موجود است. <br>\n",
    "    الف) به وسیلۀ دستور read.csv اطلاعات دیتاست را بخوانید. (دیتاست adult.csv)\n",
    "            </font>\n",
    "</div>\n",
    "    </font>\n",
    "</div>"
   ]
  },
  {
   "cell_type": "code",
   "execution_count": null,
   "id": "b0f10fd6",
   "metadata": {
    "vscode": {
     "languageId": "r"
    }
   },
   "outputs": [],
   "source": []
  },
  {
   "cell_type": "markdown",
   "id": "179ec660",
   "metadata": {},
   "source": [
    "<div dir = \"rtl\" style=\"direction:rtl;line-height:250%;\">\n",
    "\t<font face=\"XB Zar\" size=5>\n",
    "        نمودار مربوط به درآمد را برحسب سن/جنسیت به کمک نمودارهای زیر بکشید.\n",
    "     </font>\n",
    "</div>\n"
   ]
  },
  {
   "cell_type": "markdown",
   "id": "3040f629",
   "metadata": {},
   "source": [
    "<div dir = \"rtl\" style=\"direction:rtl;line-height:250%;\">\n",
    "\t<font face=\"XB Zar\" size=5>\n",
    "         ب) نمودار Bar Plot (درآمد برحسب جنسیت و سن)\n",
    "     </font>\n",
    "</div>"
   ]
  },
  {
   "cell_type": "code",
   "execution_count": null,
   "id": "71795aa9",
   "metadata": {
    "vscode": {
     "languageId": "r"
    }
   },
   "outputs": [],
   "source": []
  },
  {
   "cell_type": "markdown",
   "id": "624ac1ff",
   "metadata": {},
   "source": [
    "<div dir = \"rtl\" style=\"direction:rtl;line-height:250%;\">\n",
    "\t<font face=\"XB Zar\" size=5>\n",
    "        ج) نمودار Scatter Plot\n",
    "     </font>\n",
    "</div>"
   ]
  },
  {
   "cell_type": "code",
   "execution_count": null,
   "id": "13dd21e5",
   "metadata": {
    "vscode": {
     "languageId": "r"
    }
   },
   "outputs": [],
   "source": []
  },
  {
   "cell_type": "markdown",
   "id": "e11aa958",
   "metadata": {},
   "source": [
    "<div dir = \"rtl\" style=\"direction:rtl;line-height:250%;\">\n",
    "\t<font face=\"XB Zar\" size=5>\n",
    "        د) نمودار Histogram (مربوط به سن که اطلاعات زن و مرد در یک نمودار به طور تلفیقی باشد)\n",
    "     </font>\n",
    "</div>"
   ]
  },
  {
   "cell_type": "code",
   "execution_count": null,
   "id": "5ff525e3",
   "metadata": {
    "vscode": {
     "languageId": "r"
    }
   },
   "outputs": [],
   "source": []
  },
  {
   "cell_type": "markdown",
   "id": "b13afa82",
   "metadata": {},
   "source": [
    "<div dir = \"rtl\" style=\"direction:rtl;line-height:250%;\">\n",
    "\t<font face=\"XB Zar\" size=5>\n",
    "       ه) نمودار Density Plot (مربوط به سن که اطلاعات زن و مرد در یک نمودار به طور تلفیقی باشد)\n",
    "     </font>\n",
    "</div>"
   ]
  },
  {
   "cell_type": "code",
   "execution_count": null,
   "id": "6329dd8c",
   "metadata": {
    "vscode": {
     "languageId": "r"
    }
   },
   "outputs": [],
   "source": []
  },
  {
   "cell_type": "markdown",
   "id": "ef22474e",
   "metadata": {},
   "source": [
    "<div dir = \"rtl\" style=\"direction:rtl;line-height:250%;\">\n",
    "\t<font face=\"XB Zar\" size=5>\n",
    "         و) نمودار Trend Plot\n",
    "     </font>\n",
    "</div>"
   ]
  },
  {
   "cell_type": "code",
   "execution_count": null,
   "id": "d33491af",
   "metadata": {
    "vscode": {
     "languageId": "r"
    }
   },
   "outputs": [],
   "source": []
  },
  {
   "cell_type": "markdown",
   "id": "385d0446",
   "metadata": {},
   "source": [
    "<div dir = \"rtl\" style=\"direction:rtl;line-height:250%;\">\n",
    "\t<font face=\"XB Zar\" size=5>\n",
    "\t\t<font color=#FF7500 size=6>\n",
    "             سوال چهارم\n",
    "        </font>\n",
    "        <hr/>\n",
    "        <div dir = \"rtl\" style=\"direction:rtl;line-height:200%;\">\n",
    "\t<font face=\"XB Zar\" size=5>\n",
    "    نمودار توزیع های احتمالی زیر را با توجه به به پارامترهای داده شده رسم کنید. <br> الف) نمودار توزیع پوآسون (در بازۀ 0 تا 50 با پارامتر 10)\n",
    "            </font>\n",
    "</div>\n",
    "    </font>\n",
    "</div>"
   ]
  },
  {
   "cell_type": "code",
   "execution_count": null,
   "id": "5ec61c80",
   "metadata": {
    "vscode": {
     "languageId": "r"
    }
   },
   "outputs": [],
   "source": []
  },
  {
   "cell_type": "markdown",
   "id": "f4311f92",
   "metadata": {},
   "source": [
    "<div dir = \"rtl\" style=\"direction:rtl;line-height:250%;\">\n",
    "\t<font face=\"XB Zar\" size=5>\n",
    "ب) نمودار توزیع برنولی (در بازۀ 0 تا 5 با پارامتر 0.6)\n",
    "     </font>\n",
    "</div>"
   ]
  },
  {
   "cell_type": "code",
   "execution_count": null,
   "id": "648fad04",
   "metadata": {
    "vscode": {
     "languageId": "r"
    }
   },
   "outputs": [],
   "source": []
  },
  {
   "cell_type": "markdown",
   "id": "efa7b53f",
   "metadata": {},
   "source": [
    "<div dir = \"rtl\" style=\"direction:rtl;line-height:250%;\">\n",
    "\t<font face=\"XB Zar\" size=5>\n",
    "    ج) نمودار توزیع دو جمله ای (در بازۀ 0 تا 20 با پارامتر 0.2)\n",
    "    </font>\n",
    "</div>"
   ]
  },
  {
   "cell_type": "code",
   "execution_count": null,
   "id": "f53a7eb9",
   "metadata": {
    "vscode": {
     "languageId": "r"
    }
   },
   "outputs": [],
   "source": []
  },
  {
   "cell_type": "markdown",
   "id": "e1aa24f7",
   "metadata": {},
   "source": [
    "<div dir = \"rtl\" style=\"direction:rtl;line-height:250%;\">\n",
    "\t<font face=\"XB Zar\" size=5>\n",
    "    د) نمودار توزیع هندسی (در بازۀ 0 تا 10 با پارامترهای p = 0.2 و n = 3)\n",
    "    </font>\n",
    "</div>"
   ]
  },
  {
   "cell_type": "code",
   "execution_count": null,
   "id": "eaa0ab3e",
   "metadata": {
    "vscode": {
     "languageId": "r"
    }
   },
   "outputs": [],
   "source": []
  },
  {
   "cell_type": "markdown",
   "id": "8f0e10e4",
   "metadata": {},
   "source": [
    "<div dir = \"rtl\" style=\"direction:rtl;line-height:250%;\">\n",
    "\t<font face=\"XB Zar\" size=5>\n",
    "    ه) نمودار توزیع نرمال (در بازۀ 4- تا 4)\n",
    "     </font>\n",
    "</div>"
   ]
  },
  {
   "cell_type": "code",
   "execution_count": null,
   "id": "4ead9535",
   "metadata": {
    "vscode": {
     "languageId": "r"
    }
   },
   "outputs": [],
   "source": []
  },
  {
   "cell_type": "markdown",
   "id": "7ac1348b",
   "metadata": {},
   "source": [
    "<div dir = \"rtl\" style=\"direction:rtl;line-height:250%;\">\n",
    "\t<font face=\"XB Zar\" size=5>\n",
    "    و) نمودار توزیع نمایی (در بازۀ 0 تا 10 با پارامتر 1.5)\n",
    "     </font>\n",
    "</div>"
   ]
  },
  {
   "cell_type": "code",
   "execution_count": null,
   "id": "186e9471",
   "metadata": {
    "vscode": {
     "languageId": "r"
    }
   },
   "outputs": [],
   "source": []
  },
  {
   "cell_type": "markdown",
   "id": "4b1090fa",
   "metadata": {},
   "source": [
    "<div dir = \"rtl\" style=\"direction:rtl;line-height:250%;\">\n",
    "\t<font face=\"XB Zar\" size=5>\n",
    "     ز) نمودار توزیع یکنواخت (در بازۀ 4- تا 4)\n",
    "     </font>\n",
    "</div>"
   ]
  },
  {
   "cell_type": "code",
   "execution_count": null,
   "id": "e0d322bd",
   "metadata": {
    "vscode": {
     "languageId": "r"
    }
   },
   "outputs": [],
   "source": []
  }
 ],
 "metadata": {
  "kernelspec": {
   "display_name": "R",
   "language": "R",
   "name": "ir"
  },
  "language_info": {
   "codemirror_mode": "r",
   "file_extension": ".r",
   "mimetype": "text/x-r-source",
   "name": "R",
   "pygments_lexer": "r",
   "version": "4.1.0"
  }
 },
 "nbformat": 4,
 "nbformat_minor": 5
}
