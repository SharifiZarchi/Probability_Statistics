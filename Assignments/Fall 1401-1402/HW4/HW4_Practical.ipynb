{
 "cells": [
  {
   "cell_type": "markdown",
   "id": "9b7a71cb",
   "metadata": {},
   "source": [
    "<div style=\"direction:rtl;line-height:300%;\">\n",
    "\t<font face=\"XB Zar\" size=5>\n",
    "\t\t<div align=center>\n",
    "\t\t\t<font face=\"IranNastaliq\" size=30>\n",
    "\t\t\t\t<p></p>\n",
    "به نام خدا\n",
    "\t\t\t\t<p></p>\n",
    "\t\t\t</font>\n",
    "\t\t\t<font color=#FF7500>\n",
    "دانشگاه صنعتی شریف - دانشکده مهندسی کامپیوتر\n",
    "            </font>\n",
    "\t\t\t<p></p>\n",
    "\t\t\t<font color=blue>\n",
    "آمار و احتمال مهندسی\n",
    "            </font>\n",
    "\t\t\t<br />\n",
    "\t\t\t<br />\n",
    "پاییز  1401\n",
    "\t\t</div>\n",
    "\t\t<hr/>\n",
    "\t\t<div align=center>\n",
    "\t\t    <font color=red size=6>\n",
    "\t\t\t    <br />\n",
    "تمرین چهارم عملی\n",
    "            \t<br/>\n",
    "\t\t\t</font>\n",
    "طراح:  محمدرضا شاپوری - هیربد بهنام \n",
    "\t\t\t<br/><br/> \n",
    "موعد تحویل: 5 دی \n",
    "                <br/>\n",
    "                همفکری در تمامی تمرین‌های درس توصیه می‌شود. در عین حال از شما خواسته می‌شود تا تمام پیاده‌سازی را به تنهایی و بدون مشاهده کد دیگران انجام دهید.\n",
    "                <br/><br/>\n",
    "                <font color=red>\n",
    "                لطفا در فایل ارسالی تمام بلوک‌های کد اجرا شده و شامل نمودار‌ها و خروجی‌های لازم باشند.\n",
    "     </font>\n",
    "                <br/>\n",
    "        </style>\n",
    "\t</font>\n",
    "</div>"
   ]
  },
  {
   "cell_type": "markdown",
   "id": "ba6e6932",
   "metadata": {},
   "source": [
    "<div dir = \"rtl\" style=\"direction:rtl;line-height:250%;\">\n",
    "\t<font face=\"XB Zar\" size=5>\n",
    "\t\t<font color=#FF7500 size=6>\n",
    "             سوال اول\n",
    "        </font>\n",
    "        <hr/>\n",
    "        <div dir = \"rtl\" style=\"direction:rtl;line-height:200%;\">\n",
    "\t<font face=\"XB Zar\" size=5>\n",
    "       در این تمرین قصد داریم \n",
    "       ، قضیه حد مرکزی را بر روی مجموعه داده داده شده در R گام به گام شبیه‌سازی کنیم. \n",
    "</div>"
   ]
  },
  {
   "cell_type": "markdown",
   "id": "5ec5a0b4",
   "metadata": {},
   "source": [
    "<div dir = \"rtl\" style=\"direction:rtl;line-height:250%;\">\n",
    "\t<font face=\"XB Zar\" size=5>\n",
    "        <div dir = \"rtl\" style=\"direction:rtl;line-height:200%;\">\n",
    "\t<font face=\"XB Zar\" size=5>\n",
    "        ابتدا فایل CSV را در R وارد کنید\n",
    "</div>"
   ]
  },
  {
   "cell_type": "code",
   "execution_count": null,
   "id": "e1c71c39",
   "metadata": {},
   "outputs": [],
   "source": [
    "#Step 1 - Importing Data\n",
    "#_______________________________________________________\n",
    "\n",
    "#Importing the csv data \n",
    "data<-read.csv(file.choose())\n",
    "\n",
    "#Step 2 - Validate data for correctness\n",
    "#______________________________________________________\n",
    "\n",
    "#Count of Rows and columns\n",
    "dim(data)\n",
    "\n",
    "#View top 10 rows of the dataset\n",
    "head(data,10)"
   ]
  },
  {
   "cell_type": "markdown",
   "id": "c9ed129e",
   "metadata": {},
   "source": [
    "<div dir = \"rtl\" style=\"direction:rtl;line-height:250%;\">\n",
    "\t<font face=\"XB Zar\" size=5>\n",
    "        <div dir = \"rtl\" style=\"direction:rtl;line-height:200%;\">\n",
    "\t<font face=\"XB Zar\" size=5>\n",
    "    حال میانگین جمعیت را محاسبه کنید و داده ها را در نمودار رسم کنید:\n",
    "</div>"
   ]
  },
  {
   "cell_type": "code",
   "execution_count": null,
   "id": "d2a2ab0f",
   "metadata": {},
   "outputs": [],
   "source": [
    "\n",
    "#Calculate the population mean\n",
    "\n",
    "#Plot all the observations in the data\n"
   ]
  },
  {
   "cell_type": "markdown",
   "id": "7760e41f",
   "metadata": {},
   "source": [
    "<div dir = \"rtl\" style=\"direction:rtl;line-height:250%;\">\n",
    "\t<font face=\"XB Zar\" size=5>\n",
    "        <div dir = \"rtl\" style=\"direction:rtl;line-height:200%;\">\n",
    "\t<font face=\"XB Zar\" size=5>\n",
    "        حال  سمپل هایی (حداقل ۳ عدد) با سايز بزرگ تر (حداقل ۳۰) گرفته و  میانگین آن را  برای تعداد دفعات بالا(n=9000) محاسبه کنید و شکل نمودار را با نمودار اولیه مقایسه کنید\n",
    "</div>"
   ]
  },
  {
   "cell_type": "code",
   "execution_count": null,
   "id": "47d93120",
   "metadata": {},
   "outputs": [],
   "source": []
  },
  {
   "cell_type": "markdown",
   "id": "960afb94",
   "metadata": {},
   "source": [
    "<div dir = \"rtl\" style=\"direction:rtl;line-height:250%;\">\n",
    "\t<font face=\"XB Zar\" size=5>\n",
    "\t\t<font color=#FF7500 size=6>\n",
    "             سوال دوم\n",
    "        </font>\n",
    "        <hr/>\n",
    "    </font>\n",
    "</div>\n",
    "<div dir = \"rtl\" style=\"direction:rtl;line-height:300%;\">\n",
    "\t<font face=\"XB Zar\" size=5>\n",
    "        در این سوال می‌خواهیم که تنها به کمک یک عدد رندوم ساز یکنوا(uniform) صحیح، اعداد رندومی که از یک توزیع ریاضی پیروی می‌کنند را بسازیم.\n",
    "        یک عدد رندوم ساز یکنوا صحیح، تابعی است که خروجی آن یک عدد صحیح در بازه‌ی\n",
    "        $[0, n)$\n",
    "        است که احتمال انتخاب شدن هر عدد در آن برابر است.\n",
    "    <br/>\n",
    "        <span style=\"color:red\">\n",
    "        دقت کنید که در این سوال حق استفاده از توابعی همچون qnorm/rexp/runif و غیره را ندارید!\n",
    "        </span>\n",
    "    <br/>\n",
    "        برای شروع، این موضوع را در نظر داشته باشید که الگوریتم‌های تولید اعداد تصادفی \n",
    "        <a href=\"https://en.wikipedia.org/wiki/Pseudorandom_number_generator\">(PRNG)</a>\n",
    "        که در زبان‌های برنامه نویسی استفاده می‌شوند\n",
    "        صرفا بیت‌های رندوم تولید می‌کنند.\n",
    "        این بدین معنا است که به عنوان مثال الگورتمی به عنوان خروجی 32بیت به ما می‌دهد که هر بیت به احتمال نیم برابر 1 است و به احتمال نیم برابر 0 است.\n",
    "        حال دقت کنید که می‌توان این 32 بیت را به عنوان یک عدد صحیح در بازه‌ی\n",
    "        $[0,2^{32})$\n",
    "        در نظر گرفت.\n",
    "        این موضوع نشان می‌دهد که پایه‌ای ترین ابزاری که برای ساخت اعداد تصادفی داریم عملا یک int می‌سازد که بین\n",
    "        $0$ و\n",
    "        $2^{32}$\n",
    "        است و احتمال آمدن هر عدد برابر است (پس توزیع آن uniform است).\n",
    "        به عنوان مثال Python و R\n",
    "        از الگوریتم\n",
    "        <a href=\"https://en.wikipedia.org/wiki/Mersenne_Twister\">Mersenne Twister</a>\n",
    "        برای ساخت اعداد تصادفی \n",
    "        int\n",
    "        استفاده می‌کند.\n",
    "     <br/>\n",
    "        می‌دانیم که برای استفاده از\n",
    "        inverse transform sampling\n",
    "        - که در ساختن اعداد تصادفی با توزیع‌های خاص کاربرد دارد -\n",
    "        باید در ابتدا متغیر تصادفی داشته باشیم که از توزیع یونیفرم بین 0 تا 1 پیروی کند.\n",
    "        به عبارتی دیگر باید تابعی داشته باشیم که یک عدد رندوم با توزیع یکنوا بین 0 و 1 بسازد.\n",
    "        روشی که امروزه برای ساخت اعداد اعشاری بین 0 و 1 با توزیع یکنوا استفاده می‌شود بدین صورت است که اگر به عنوان مثال تابعی داشته باشیم که یک عدد رندوم صحیح با توزیع یکنوا\n",
    "        $[0,n)$\n",
    "        به ما بدهد، کافی است که آنرا صدا بزنیم و خروجی آنرا تقسیم بر\n",
    "        $n$\n",
    "        کنیم. بدین صورت یک عدد تصادفی اعشاری در بازه‌ی\n",
    "        $[0,1)$\n",
    "        داریم. \n",
    "    <br/>\n",
    "        برای شروع این سوال، به کمک تابع sample در r،\n",
    "        تابعی بنویسید که یک عدد تصادفی با توزیع یونیفرم در بازه‌ی\n",
    "        $[0,1)$\n",
    "        بدهد. پیشنهاد می‌کنم که بازه‌ی خروجی اعداد sample را\n",
    "        $[0,2^{23})$\n",
    "        قرار دهید.\n",
    "        (چرایی این عدد را در درس ساختار و زبان کامپیوتر پیدا کنید!)\n",
    "    </font>\n",
    "</div>"
   ]
  },
  {
   "cell_type": "code",
   "execution_count": null,
   "id": "992b18bd",
   "metadata": {},
   "outputs": [],
   "source": []
  },
  {
   "cell_type": "markdown",
   "id": "d3902407",
   "metadata": {},
   "source": [
    "<div dir = \"rtl\" style=\"direction:rtl;line-height:300%;\">\n",
    "\t<font face=\"XB Zar\" size=5>\n",
    "        تابعی که نوشتید را به تعداد زیادی صدا بزنید و histogram اعداد برگردانده شده را رسم کنید و نشان دهید که اعداد برگردانده شده، از توزیع یونیفرم بین ۰ و ۱ پیروی می‌کنند.\n",
    "    </font>\n",
    "</div>"
   ]
  },
  {
   "cell_type": "code",
   "execution_count": null,
   "id": "b47d9f72",
   "metadata": {},
   "outputs": [],
   "source": []
  },
  {
   "cell_type": "markdown",
   "id": "a828c19e",
   "metadata": {},
   "source": [
    "<div dir = \"rtl\" style=\"direction:rtl;line-height:300%;\">\n",
    "\t<font face=\"XB Zar\" size=5>\n",
    "        حال می‌خواهیم که تابعی پیاده سازی کنیم که یک عدد تصادفی با توزیع نمایی را تولید کند. این کار را به کمک inverse transform sampling انجام دهید.\n",
    "    <br/>\n",
    "        سپس با رسم نمودار به ازای لاندا‌های مختلف و دلخواه، عملکرد تابع خودتان را با تابع\n",
    "        rexp\n",
    "        مقایسه کنید.\n",
    "    <br/>\n",
    "        <b>پیشنهاد:</b>\n",
    "        می‌توانید از \n",
    "        geom_density\n",
    "        استفاده کنید.\n",
    "    </font>\n",
    "</div>"
   ]
  },
  {
   "cell_type": "code",
   "execution_count": null,
   "id": "5284d89c",
   "metadata": {
    "scrolled": false
   },
   "outputs": [],
   "source": []
  },
  {
   "cell_type": "markdown",
   "id": "ed44216d",
   "metadata": {},
   "source": [
    "<div dir = \"rtl\" style=\"direction:rtl;line-height:300%;\">\n",
    "\t<font face=\"XB Zar\" size=5>\n",
    "        در قسمت بعدی سوال می‌خواهیم تابعی بنویسیم که اعداد تصادفی با توزیع نرمال را تولید کنید. در ابتدا CDF توزیع نرمال را پیدا می‌کنیم:\n",
    "        $$\n",
    "        \\frac{1}{2}\\left[1 + \\operatorname{erf}\\left( \\frac{x-\\mu}{\\sigma\\sqrt{2}}\\right)\\right]\n",
    "        $$\n",
    "        که در اینجا\n",
    "        erf\n",
    "        به صورت زیر تعریف شده است:\n",
    "        $$\n",
    "        \\operatorname{erf} z = \\frac{2}{\\sqrt\\pi}\\int_0^z e^{-t^2}\\,dt\n",
    "        $$\n",
    "        حساب کردن این تابع کار راحتی نیست چه برسد به حساب کردن معکوس آن! اما تقریب‌هایی برای آن وجود دارند که می‌توان به کمک آنها\n",
    "        $\\operatorname{erf}^{-1}$\n",
    "        را با دقت نسبتا خوبی حساب کرد. یکی از این توابع در بلاک زیر آمده است.\n",
    "        <a href=\"https://people.maths.ox.ac.uk/gilesm/codes/erfinv/gems.pdf\">[منبع]</a>\n",
    "    <br/>\n",
    "        به کمک این تابع داده شده، تابعی بنویسید که بتوان به کمک آن اعداد تصادفی تولید کرد که از توزیع نرمال با انحراف معیار سیگما و میانگین مو پیروی می‌کند.\n",
    "    </font>\n",
    "</div>"
   ]
  },
  {
   "cell_type": "code",
   "execution_count": null,
   "id": "d1c6f2ef",
   "metadata": {},
   "outputs": [],
   "source": [
    "erfinv <- function(x) {\n",
    "    w <- -log((1 - x) * (1 + x))\n",
    "    if (w < 5.000000) {\n",
    "        w <- w - 2.500000\n",
    "        p <- 2.81022636e-08\n",
    "        p <- 3.43273939e-07 + p * w\n",
    "        p <- -3.5233877e-06 + p * w\n",
    "        p <- -4.39150654e-06 + p * w\n",
    "        p <- 0.00021858087 + p * w\n",
    "        p <- -0.00125372503 + p * w\n",
    "        p <- -0.00417768164 + p * w\n",
    "        p <- 0.246640727 + p * w\n",
    "        p <- 1.50140941 + p * w\n",
    "    } else {\n",
    "        w <- sqrt(w) - 3.000000\n",
    "        p <- -0.000200214257\n",
    "        p <- 0.000100950558 + p * w\n",
    "        p <- 0.00134934322 + p * w\n",
    "        p <- -0.00367342844 + p * w\n",
    "        p <- 0.00573950773 + p * w\n",
    "        p <- -0.0076224613 + p * w\n",
    "        p <- 0.00943887047 + p * w\n",
    "        p <- 1.00167406 + p * w\n",
    "        p <- 2.83297682 + p * w\n",
    "    }\n",
    "    return(p * x)\n",
    "}"
   ]
  },
  {
   "cell_type": "code",
   "execution_count": null,
   "id": "b2b9021e",
   "metadata": {},
   "outputs": [],
   "source": []
  },
  {
   "cell_type": "markdown",
   "id": "1435e56c",
   "metadata": {},
   "source": [
    "<div dir = \"rtl\" style=\"direction:rtl;line-height:300%;\">\n",
    "\t<font face=\"XB Zar\" size=5>\n",
    "        به کمک نمودار و مقایسه با\n",
    "        rnorm\n",
    "        به ازای ورودی‌های مختلف نشان دهید که تابع شما درست کار می‌کند.\n",
    "    </font>\n",
    "</div>"
   ]
  },
  {
   "cell_type": "code",
   "execution_count": null,
   "id": "4c19c28e",
   "metadata": {},
   "outputs": [],
   "source": []
  },
  {
   "cell_type": "markdown",
   "id": "99f017d1",
   "metadata": {},
   "source": [
    "<div dir = \"rtl\" style=\"direction:rtl;line-height:300%;\">\n",
    "\t<font face=\"XB Zar\" size=5>\n",
    "        در قسمت آخر این سوال می‌خواهیم همین کار‌ها را بر روی یک توزیع دیگر انجام دهیم.\n",
    "        PDF\n",
    "        این توزیع به صورت زیر است:\n",
    "        $$\n",
    "        \\frac{1}{2\\sqrt{x}} \\operatorname{exp}(-\\sqrt{x})\n",
    "        $$\n",
    "        در ابتدا\n",
    "        CDF\n",
    "        این تابع را بدست آورید و سپس تابعی بنویسد که اعداد تصادفی با این توزیع تولید کند. در نهایت، نمودار\n",
    "        PDF\n",
    "        این تابع را رسم کنید.\n",
    "        نمودار PDFی\n",
    "        که در صورت سوال به شما داده شده است را با نموداری که رسم کرده‌اید مقایسه کنید.\n",
    "    </font>\n",
    "</div>"
   ]
  },
  {
   "cell_type": "code",
   "execution_count": null,
   "id": "5aee1f1c",
   "metadata": {},
   "outputs": [],
   "source": []
  }
 ],
 "metadata": {
  "kernelspec": {
   "display_name": "R",
   "language": "R",
   "name": "ir"
  },
  "language_info": {
   "codemirror_mode": "r",
   "file_extension": ".r",
   "mimetype": "text/x-r-source",
   "name": "R",
   "pygments_lexer": "r",
   "version": "4.2.0"
  }
 },
 "nbformat": 4,
 "nbformat_minor": 5
}
