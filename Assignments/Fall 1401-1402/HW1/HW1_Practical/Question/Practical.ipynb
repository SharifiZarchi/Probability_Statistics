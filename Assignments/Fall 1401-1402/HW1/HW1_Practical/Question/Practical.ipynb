{
 "cells": [
  {
   "cell_type": "markdown",
   "id": "9b7a71cb",
   "metadata": {},
   "source": [
    "<div style=\"direction:rtl;line-height:300%;\">\n",
    "\t<font face=\"XB Zar\" size=5>\n",
    "\t\t<div align=center style=\"margin-top: 100px;\">\n",
    "\t\t\t<font face=\"XB zar\" size=30>\n",
    "\t\t\t\t<p></p>\n",
    "به نام خدا\n",
    "\t\t\t\t<p></p>\n",
    "\t\t\t</font>\n",
    "<font color=blue>\n",
    "آمار و احتمال مهندسی\n",
    "            </font>\n",
    "            <br />\n",
    "\t\t\t<font color=#818181>\n",
    "دانشگاه صنعتی شریف - دانشکده مهندسی کامپیوتر\n",
    "            </font>\n",
    "\t\t\t<p></p>\n",
    "بهار 1401\n",
    "\t\t</div>\n",
    "\t\t<hr/>\n",
    "\t\t<div align=center>\n",
    "\t\t    <font color=red size=6>\n",
    "\t\t\t    <br />\n",
    "تمرین عملی اول\n",
    "            \t<br/>\n",
    "\t\t\t</font>\n",
    "طراح: سجاد سلطانیان \n",
    "\t\t\t<br/> \n",
    "موعد تحویل: 3 اردیبهشت \n",
    "                <br/><br/>\n",
    "                همفکری در تمامی تمرین‌های درس توصیه می‌شود. در عین حال از شما خواسته می‌شود تا تمام پیاده‌سازی را به تنهایی و بدون مشاهده کد دیگران انجام دهید.\n",
    "                <br/><br/>\n",
    "                <font color=red>\n",
    "                لطفا در فایل ارسالی تمام بلوک‌های کد اجرا شده و شامل نمودار‌ها و خروجی‌های لازم باشند.\n",
    "     </font>\n",
    "                <br/>\n",
    "        </style>\n",
    "\t</font>\n",
    "</div>"
   ]
  },
  {
   "cell_type": "markdown",
   "id": "ba6e6932",
   "metadata": {},
   "source": [
    "<div dir = \"rtl\" style=\"direction:rtl;line-height:200%;\">\n",
    "\t<font face=\"XB Zar\" size=5>\n",
    "\t\t<font color=#FF7500 size=6>\n",
    "             مقدمه\n",
    "        </font>\n",
    "        <hr/>\n",
    "        <div dir = \"rtl\" style=\"direction:rtl;line-height:200%;\">\n",
    "\t<font face=\"XB Zar\" size=5>\n",
    "          هدف از این تمرین، آشنایی با مقدمات زبان برنامه‌نویسی R در قالب کاربردی است. در هر بخش با بیان دقیق خواسته  مسئله سعی شده است تا از هرگونه ابهام پیشگیری شود. با این حال، چنانچه در فهم خواسته سوال ابهامی وجود داشت در بستر کوئرا بیان کنید تا پاسخ داده شود.\n",
    "        </br>\n",
    "<div style=\"margin: 10px 0; border-radius: 8px;padding: 15px; background-color: #fff2b2; color: #7c620c; font-family: 'XB zar';\">\n",
    "        توجه: ممکن است برای رسیدن به پاسخ، راه‌های متعددی وجود داشته باشد. پاسخ شما تا زمانی که خواسته مسئله را برآورده کند کاملا قابل قبول خواهد بود.\n",
    "    </div>\n",
    "</div>"
   ]
  },
  {
   "cell_type": "markdown",
   "id": "5ec5a0b4",
   "metadata": {},
   "source": [
    "<div dir = \"rtl\" style=\"direction:rtl;line-height:250%;\">\n",
    "\t<font face=\"XB Zar\" size=5>\n",
    "\t\t<font color=#FF7500 size=6>\n",
    "            سوال اول\n",
    "        </font>\n",
    "        <hr/>\n",
    "        \n",
    "<img src=\"files/goodread_logo.png\">\n",
    "        <br>\n",
    "        <div dir = \"rtl\" style=\"direction:rtl;line-height:200%;\">\n",
    "\t<font face=\"XB Zar\" size=5>\n",
    "      در این سوال قصد داریم عملیات‌های آماری مختلفی را روی یک مجموعه واقعی از داده‌ها که از طرف سایت goodreads منتشر شده است انجام دهیم.\n",
    "        \n",
    "</div>"
   ]
  },
  {
   "cell_type": "markdown",
   "id": "b6d6d58d",
   "metadata": {},
   "source": [
    "<div dir = \"rtl\" style=\"direction:rtl;line-height:250%;\">\n",
    "\t<font face=\"XB Zar\" size=5>\n",
    "\t\t<font color=#FF7500 size=6>\n",
    "         خواندن داده از فایل (۱۰ نمره)\n",
    "        </font>\n",
    "        <hr/>\n",
    "        <div dir = \"rtl\" style=\"direction:rtl;line-height:200%;\">\n",
    "\t<font face=\"XB Zar\" size=5>\n",
    "        فایل books.csv را از پوشه resources بخوانید و آن را در متغیری به نام all-books ذخیره کنید. <span style=\"background-color: #eeeeee; font-size: 2rem; padding: 5px 10px; border-radius: 20px;\">۵ نمره</span><br>\n",
    "        جهت اطمینان از بارگذاری صحیح داده‌ه، ۵ سطر ابتدایی آن را پرینت کنید.\n",
    "        <span style=\"background-color: #eeeeee; font-size: 2rem; padding: 5px 10px; border-radius: 20px;\">۵ نمره</span>\n",
    "\n",
    "<div style=\"margin: 10px 0; border-radius: 8px;padding: 15px; background-color: #caf0f8; color: #03045e; font-family: 'XB zar';\">\n",
    "    راهنمایی: از دوتابع head و tail به ترتیب جهت دریافت چند سطر ابتدایی و انتهایی جدول‌ها استفاده می‌شود.\n",
    "        </div>\n",
    "        \n",
    "        \n",
    "        \n",
    "        \n",
    "        \n",
    "</div>"
   ]
  },
  {
   "cell_type": "code",
   "execution_count": 1,
   "id": "c183ad58",
   "metadata": {},
   "outputs": [],
   "source": [
    "# 1- load books.csv\n",
    "# 2- printing the first 5 rows"
   ]
  },
  {
   "cell_type": "markdown",
   "id": "c9ed129e",
   "metadata": {},
   "source": [
    "<div dir = \"rtl\" style=\"direction:rtl;line-height:250%;\">\n",
    "\t<font face=\"XB Zar\" size=5>\n",
    "\t\t<font color=#FF7500 size=6>\n",
    "            محبوب‌ترین کتاب‌ها از نگاه کاربران\n",
    "        </font>\n",
    "        <hr/>\n",
    "        <font color=#FF7500 size=۴>\n",
    "        قسمت اول: تعریف شاخص محبوبیت (۳۵ نمره) \n",
    "        </font>\n",
    "        <div dir = \"rtl\" style=\"direction:rtl;line-height:200%;\">\n",
    "\t<font face=\"XB Zar\" size=5>\n",
    "می‌خواهیم ۱۰ کتاب برتر را در میان تمامی کتاب‌های موجود پیدا کنیم. معیار ما در اندازه‌گیری میزان محبوبیت یک کتاب، شاخص popularity خواهد بود که خود از دو شاخص rating (نظرسنجی کاربران از ۰ تا ۵)، و از likedPercent (درصد محبوبیت کتاب) بدست خواهد آمد.   \n",
    "        برای این منظور لازم است گام‌های زیر را طی کنیم: \n",
    "        </br>\n",
    "        <ul>\n",
    "            <li> ابتدا کتاب‌هایی را که دارای تعداد نظرات (numRating) کمتر از ۱۰ هزار هستند را از مجموعه دادگان کنار می‌گذاریم و داده‌های باقی‌مانده را در متغیری به نام filtered-books ذخیره می‌کنیم. (در مراحل بعدی نیز از همین متغیر استفاده خواهیم کرد)\n",
    "            <span style=\"background-color: #eeeeee; font-size: 2rem; padding: 5px 10px; border-radius: 20px;\">۱۰ نمره</span></li>   \n",
    "        </ul>\n",
    "</div>"
   ]
  },
  {
   "cell_type": "code",
   "execution_count": 2,
   "id": "812fac44",
   "metadata": {},
   "outputs": [],
   "source": [
    "# 3- filter the books having less than 10,000 number of ratings"
   ]
  },
  {
   "cell_type": "markdown",
   "id": "7760e41f",
   "metadata": {},
   "source": [
    "<div dir = \"rtl\" style=\"direction:rtl;line-height:250%;\">\n",
    "    <font face=\"XB Zar\" size=5>\n",
    "<ul>\n",
    "<li style=\"line-height:200%\">حال، پیش از محاسبه شاخص محبوبیت لازم است تا دو ستون rating و likedPercent را هم‌وزن کنیم. به این معنا که مقیاس ستون rating را از ۰-۵ به ۰ الی ۱۰۰ (مشابه likedPercent) تغییر دهیم که این کار با ۲۰ برابر کردن ستون rating قابل انجام است\n",
    "    <span style=\"background-color: #eeeeee; font-size: 2rem; padding: 5px 10px; border-radius: 20px;\">۱۰ نمره</span></li>\n",
    "</ul>\n",
    "                    <div style=\"margin: 10px 0; border-radius: 8px;padding: 15px; background-color: #caf0f8; color: #03045e; font-family: 'XB zar';\">\n",
    "            راهنمایی: برای این کار می‌توانید از تابع sapply استفاده کنید</div>\n"
   ]
  },
  {
   "cell_type": "code",
   "execution_count": 3,
   "id": "5c57522e",
   "metadata": {},
   "outputs": [],
   "source": [
    "# 4- scale 'rating' column"
   ]
  },
  {
   "cell_type": "markdown",
   "id": "98817b11",
   "metadata": {},
   "source": [
    "<div dir = \"rtl\" style=\"direction:rtl;line-height:200%;\">\n",
    "\t<font face=\"XB Zar\" size=5>\n",
    "        <ul>\n",
    "            <li style=\"line-height:200%\">شاخص popularity را با میانگین‌گیری وزن‌دار از دو ستون rating و likedPercent، به ترتیب با ضریب۵ و ۲ محاسبه می‌کنیم و نتیجه را در برداری با همین نام ذخیره می‌کنیم.\n",
    "                <span style=\"background-color: #eeeeee; font-size: 2rem; padding: 5px 10px; border-radius: 20px;\">۱۰ نمره</span></li> \n",
    "        </ul>"
   ]
  },
  {
   "cell_type": "code",
   "execution_count": 5,
   "id": "f92e7194",
   "metadata": {},
   "outputs": [],
   "source": [
    "# 5- calculate popularity vector from 'rating' and 'likedPercent'"
   ]
  },
  {
   "cell_type": "markdown",
   "id": "7b055dcc",
   "metadata": {},
   "source": [
    "<div dir = \"rtl\" style=\"direction:rtl;line-height:250%;\">\n",
    "\t<font face=\"XB Zar\" size=5>\n",
    "        <div dir = \"rtl\" style=\"direction:rtl;line-height:200%;\">\n",
    "\t<font face=\"XB Zar\" size=5>\n",
    "       \n",
    "</div>"
   ]
  },
  {
   "cell_type": "markdown",
   "id": "306b2f39",
   "metadata": {},
   "source": [
    "<div dir = \"rtl\" style=\"direction:rtl;line-height:200%;\">\n",
    "\t<font face=\"XB Zar\" size=5>\n",
    "        <ul>\n",
    "<li>نهایتا نیز ستون popularity را با همین نام به دیتافریم خود (filtered-books) اضافه می‌کنیم.\n",
    "                <span style=\"background-color: #eeeeee; font-size: 2rem; padding: 5px 10px; border-radius: 20px;\">۵ نمره</span></li>\n",
    "</ul>\n",
    "<div style=\"margin: 10px 0; border-radius: 8px;padding: 15px; background-color: #fff2b2; color: #7c620c; font-family: 'XB zar'; line-height: 200%\">         \n",
    "توجه: میتوانید از کتاب‌خانه‌ها نیز استفاده کنید اما تا این مرحله، تمام کار‌ها با استفاده از همان توابع پیشفرض موجود در زبان نیز قابل انجام بوده است.\n",
    "    </div>"
   ]
  },
  {
   "cell_type": "code",
   "execution_count": 6,
   "id": "2a6e08bc",
   "metadata": {},
   "outputs": [],
   "source": [
    "# 6- add popularity vector to the 'filtered-books' dataframe as a column"
   ]
  },
  {
   "cell_type": "markdown",
   "id": "5b5a0079",
   "metadata": {},
   "source": [
    "<div dir = \"rtl\" style=\"direction:rtl;line-height:250%;\">\n",
    "\t<font face=\"XB Zar\" size=5>\n",
    "        <hr/>\n",
    "        <font color=#FF7500 size=۴>\n",
    "             قسمت دوم: مرتب‌سازی و یافتن بهترین‌ها\n",
    "            (۲۵ نمره)\n",
    "        </font>\n",
    "        <div dir = \"rtl\" style=\"direction:rtl;line-height:200%;\">\n",
    "\t<font face=\"XB Zar\" size=5>\n",
    "        اکنون معیار مناسب برای قضاوت میان کتاب‌ها را داریم. حال کافیست داده‌ها را مرتب کنیم و محبوب‌ترین‌ها را استخراج کنیم. برای این منظور گام‌های زیر را طی می‌کنیم:\n",
    "        </br>\n",
    "        <ul>\n",
    "            <li>کتاب‌ها را ابتدا بر اساس ستون popularity و سپس بر اساس سال انتشار و در نهایت نام نویسنده آن، به صورت نزولی مرتب کنید.\n",
    "             <span style=\"background-color: #eeeeee; font-size: 2rem; padding: 5px 10px; border-radius: 20px;\">۱۰ نمره</span></li>   \n",
    "        </ul>\n",
    "</div>"
   ]
  },
  {
   "cell_type": "code",
   "execution_count": 7,
   "id": "3010f7c7",
   "metadata": {},
   "outputs": [],
   "source": [
    "# 7- sort books based on popularity, publish year and author name in decreasing order"
   ]
  },
  {
   "cell_type": "markdown",
   "id": "3e56bde2",
   "metadata": {},
   "source": [
    "<div dir = \"rtl\" style=\"direction:rtl;line-height:200%;\">\n",
    "\t<font face=\"XB Zar\" size=5>\n",
    "        <ul>\n",
    "            <li style=\"line-height: 200%\">\n",
    "            تابعی بنویسید که یک دیتافریم را دریافت کند و n  سطر ابتدایی آن را بازگرداند. سپس با کمک این تابع، ۱۰ کتاب برتر را در متغیر top_10 ذخیره کنید.\n",
    "             <span style=\"background-color: #eeeeee; font-size: 2rem; padding: 5px 10px; border-radius: 20px;\">۱۰ نمره</span></li> \n",
    "        </ul>            "
   ]
  },
  {
   "cell_type": "code",
   "execution_count": 8,
   "id": "bb19fc33",
   "metadata": {},
   "outputs": [],
   "source": [
    "# 8- write function to take the first n rows of dataframe and get the first 10 best books with it"
   ]
  },
  {
   "cell_type": "markdown",
   "id": "c88102b3",
   "metadata": {},
   "source": [
    "<div dir = \"rtl\" style=\"direction:rtl;line-height:200%;\">\n",
    "\t<font face=\"XB Zar\" size=5>\n",
    "        <ul>\n",
    "            <li>\n",
    "            در نهایت، عنوان، نویسنده، سال انتشار و ناشر ۱۰ کتاب برتر را پرینت کنید.\n",
    "             <span style=\"background-color: #eeeeee; font-size: 2rem; padding: 5px 10px; border-radius: 20px;\">۵ نمره</span></li> \n",
    "        </ul>            "
   ]
  },
  {
   "cell_type": "code",
   "execution_count": 36,
   "id": "3e3dca99",
   "metadata": {},
   "outputs": [
    {
     "name": "stdout",
     "output_type": "stream",
     "text": [
      "                                                                 title\n",
      "254                                     The Complete Calvin and Hobbes\n",
      "5191                                              It's a Magical World\n",
      "2565                                          Mark of the Lion Trilogy\n",
      "2619                                                   ESV Study Bible\n",
      "6505            Harry Potter Boxed Set, Books 1-5 (Harry Potter, #1-5)\n",
      "1504 The Authoritative Calvin and Hobbes: A Calvin and Hobbes Treasury\n",
      "3381                               The Indispensable Calvin and Hobbes\n",
      "626                                                  Words of Radiance\n",
      "9435                                  Scientific Progress Goes \"Boink\"\n",
      "6513           Attack of the Deranged Mutant Killer Monster Snow Goons\n",
      "                                                        author publish.year\n",
      "254                                             Bill Watterson         2005\n",
      "5191                                            Bill Watterson         1996\n",
      "2565                        Francine Rivers (Goodreads Author)         1998\n",
      "2619 Anonymous, Lane T. Dennis (Editor), Wayne Grudem (Editor)         2008\n",
      "6505                 J.K. Rowling, Mary GrandPré (Illustrator)         2004\n",
      "1504                                            Bill Watterson         1990\n",
      "3381                                            Bill Watterson         1905\n",
      "626                       Brandon Sanderson (Goodreads Author)         2014\n",
      "9435                                            Bill Watterson         1905\n",
      "6513                                            Bill Watterson         1992\n",
      "                         publisher\n",
      "254      Andrews McMeel Publishing\n",
      "5191     Andrews McMeel Publishing\n",
      "2565                 Tyndale House\n",
      "2619                      Crossway\n",
      "6505                    Scholastic\n",
      "1504                        Sphere\n",
      "3381                  Warner Books\n",
      "626                      Tor Books\n",
      "9435 Andrews and McMeel Publishing\n",
      "6513              Turtleback Books\n"
     ]
    }
   ],
   "source": [
    "# 9- print 'title', 'author', 'publish year' and 'publisher' of the top_10 books\n",
    "print(top_10[, c('title', 'author', 'publish.year', 'publisher')])"
   ]
  },
  {
   "cell_type": "markdown",
   "id": "58fac95e",
   "metadata": {},
   "source": [
    "<div dir = \"rtl\" style=\"direction:rtl;line-height:250%;\">\n",
    "\t<font face=\"XB Zar\" size=5>\n",
    "\t\t<font color=#FF7500 size=6>\n",
    "           وقتی قلم اوج می‌گیرد! (۳۰ نمره)\n",
    "        </font>\n",
    "        <hr/>\n",
    "<div dir = \"rtl\" style=\"direction:rtl;line-height:200%;\">\n",
    "<font face=\"XB Zar\" size=5>\n",
    "        در آخرین بخش این تمرین، میخواهیم به دو تا از مهم‌ترین عملیات‌ها در زمینه مهندسی داده بپردازیم. در دو بخش گذشته، توانستیم محبوب‌ترین کتاب‌ها را بیابیم. حال اما تصور کنید با استفاده از همان اطلاعات کتاب‌ها بخواهیم روند چاپ \n",
    "    و نگارش کتاب را در طول تاریخ بررسی کنیم. چه باید کرد؟ \n",
    "          </br>\n",
    "    این مسئله ما را به موضوع grouping در علم داده سوق می‌دهد. بدین معنا که داده‌ها را بر اساس یک معیار (در اینجا سال انتشار کتاب) دسته‌بندی می‌کنیم و در نتیجه، لیستی از سال‌ها را خواهیم داشت که به هر کدام چندین کتاب متصل شده است. در ادامه لازم است که عملیاتی روی کتاب‌های هر سال انجام دهیم. به طور مثال، میانگین قیمت آن‌ها را محاسبه کنیم تا در نهایت، یک تک مقدار برای کل آن سال داشته باشیم. به مجموعه این فرایند که به نوعی همان خلاصه‌سازی داده‌ها است، aggregation می‌گویند که با همین نام هم می‌توانید آن را در زبان R بیابید.\n",
    "    </br>\n",
    "    </br>\n",
    "<ul>\n",
    "<li>\n",
    "    حال می‌خواهیم  تعداد کتاب‌های منتشر شده در هر سال را بدست بیاوریم. برای این منظور، ابتدا کتاب‌ها را بر اساس سال انتشار آن‌ها دسته‌بندی خواهیم کرد و عملیات length را روی عنوان کتاب‌ها اجرا می‌کنیم و نتیجه را در متغیر A ذخیره می‌کنیم.\n",
    "      <span style=\"background-color: #eeeeee; font-size: 2rem; padding: 5px 10px; border-radius: 20px;\">۱۰ نمره</span></li>\n",
    "</ul>\n",
    "<div style=\"margin: 10px 0; border-radius: 8px;padding: 15px; background-color: #caf0f8; color: #03045e; font-family: 'XB zar';\">\n",
    "    برای حل سوال بالا از تابع aggregate استفاده کنید. برای مطالعه بیشتر <a href=\"https://www.geeksforgeeks.org/how-to-use-aggregate-function-in-r/\">این لینک</a> را مطالعه کنید.\n",
    "</div>\n",
    "</div>"
   ]
  },
  {
   "cell_type": "code",
   "execution_count": 9,
   "id": "ff789462",
   "metadata": {},
   "outputs": [],
   "source": [
    "# 10- aggregate books based on publish year and count number of books for each year"
   ]
  },
  {
   "cell_type": "markdown",
   "id": "cfc8e099",
   "metadata": {},
   "source": [
    "<div dir = \"rtl\" style=\"direction:rtl;line-height:200%;\">\n",
    "\t<font face=\"XB Zar\" size=5>\n",
    "        <ul>\n",
    "            <li style=\"line-height: 200%\">مجددا بر اساس سال انتشار دسته‌بندی انجام می‌دهیم اما این بار به جای شمارش تعداد کتاب‌ها، ماکسیسمم تعداد صفحات آن‌ها را محاسبه می‌کنیم و نتیجه را در متغیر B ذخیره می‌کنیم. \n",
    "              <span style=\"background-color: #eeeeee; font-size: 2rem; padding: 5px 10px; border-radius: 20px;\">۵ نمره</span></li> \n",
    "        </ul>   "
   ]
  },
  {
   "cell_type": "code",
   "execution_count": 10,
   "id": "9b025b60",
   "metadata": {},
   "outputs": [],
   "source": [
    "# 11- aggregate books based on publish year and calculate the maximum number of pages"
   ]
  },
  {
   "cell_type": "markdown",
   "id": "379ce072",
   "metadata": {},
   "source": [
    "<div dir = \"rtl\" style=\"direction:rtl;line-height:200%;\">\n",
    "\t<font face=\"XB Zar\" size=5>\n",
    "<div dir = \"rtl\" style=\"direction:rtl;line-height:200%;\">\n",
    "        حال نگاهی به جدول A و B بیندازید. ستون سال انتشار در هر دو جدول یکسان است و تفاوتشان در ستون دوم است. فرض کنید که بخواهیم تعداد کتاب‌های هر سال و تعداد صفحات طولانی‌ترین کتاب هر سال‌ را بررسی کنیم. لازم است مدام بین دو جدول A و B جابجا شویم! آیا می‌توانیم اطلاعات دو جدول را با هم ترکیب کنیم و همه این اطلاعات را فقط در یک جدول نگهداری کنیم؟\n",
    "        <br>\n",
    "        مفهوم join یا merge در پاسخ به نیاز فوق ایجاد شده‌اند. همانطور که از نامشان پیداست ما می‌توانیم چند جدول را بر اساس ستون‌های متناظر ترکیب کنیم و داده‌های هر دو جدول را در یک جدول نگه‌داری کنیم. البته این موضوع کاربرد‌های بسیار دیگری نیز دارد که در این مقال نمی‌گنجد :)\n",
    "        <br>\n",
    "        بعدها در درس پایگاه داده نیز با چنین مفهومی مواجه خواهید شد.\n",
    "        <ul>\n",
    "            <li>\n",
    "                دو جدول A  و B را ترکیب کرده و در متغیر C ذخیره کنید. طبیعتا تناظر بین این دو جدول نیز بر اساس همان سال انتشار  خواهد بود.\n",
    "                  <span style=\"background-color: #eeeeee; font-size: 2rem; padding: 5px 10px; border-radius: 20px;\">۱۰ نمره</span></li> \n",
    "            <li>\n",
    "            با استفاده از تابعی که پیشتر برای دریافت top_10 نوشته‌اید، ۱۵ سطر ابتدایی جدول C را چاپ کنید.       \n",
    "                  <span style=\"background-color: #eeeeee; font-size: 2rem; padding: 5px 10px; border-radius: 20px;\">۵ نمره</span></li> \n",
    "        </ul>\n",
    "    <div style=\"margin: 10px 0; border-radius: 8px;padding: 15px; background-color: #caf0f8; color: #03045e; font-family: 'XB zar';\">\n",
    "        راهنمایی: در مورد تابع merge در زبان R مطالعه کنید\n",
    "</div>\n",
    "        </div>"
   ]
  },
  {
   "cell_type": "code",
   "execution_count": 11,
   "id": "570eea7f",
   "metadata": {},
   "outputs": [],
   "source": [
    "# 12- merge tables 'A' and 'B' and print the 15 first rows of resulted table"
   ]
  },
  {
   "cell_type": "markdown",
   "id": "7e30b511",
   "metadata": {},
   "source": [
    "<div dir = \"rtl\" style=\"direction:rtl;line-height:200%;\">\n",
    "\t<font face=\"XB Zar\" size=5>\n",
    "<div dir = \"rtl\" style=\"direction:rtl;line-height:200%;\">\n",
    "    حال با استفاده از اطلاعات بالا می‌توانید روند رونق چاپ کتاب را در طول سال‌های تاریخ بررسی کنید و متوجه نکات جالبی شوید.\n",
    "    <br>\n",
    "<div dir = \"rtl\" style=\"direction:rtl;line-height:200%;\">\n",
    "\t<font face=\"XB Zar\" size=5>\n",
    "\t\t<font color=#FF7500 size=6>سخن پایانی\n",
    "        </font>\n",
    "\n",
    "\n",
    "<div style=\"margin: 10px 0; border-radius: 8px;padding: 15px; background-color: #98f5e1; color: #236c5b; font-family: 'XB zar';\">تمرین ما به پایان رسید، اما داستان علم داده نه ... <br>\n",
    "ما در ابتدای مسیر هستیم و شاید آنچنان که باید، اهمیت اطلاعات را در دنیای امروز درک نکنیم. برای آشنایی با جذابیت‌های این علم و آنچه که داده‌ها می‌توانند بگویند توصیه می‌کنیم خلاصه کتاب everybody lies را از <a href=\"http://www.namlik.me/article/%D8%A7%D9%BE%DB%8C%D8%B2%D9%88%D8%AF%20%D8%B3%D9%87%20:%20Everybody%20Lies\">اینجا</a> بشنوید.\n",
    "    <br>\n",
    "    موفق و پیروز باشید :)\n",
    "</div>"
   ]
  }
 ],
 "metadata": {
  "kernelspec": {
   "display_name": "R",
   "language": "R",
   "name": "ir"
  },
  "language_info": {
   "codemirror_mode": "r",
   "file_extension": ".r",
   "mimetype": "text/x-r-source",
   "name": "R",
   "pygments_lexer": "r",
   "version": "3.6.3"
  }
 },
 "nbformat": 4,
 "nbformat_minor": 5
}
