{
 "cells": [
  {
   "cell_type": "markdown",
   "id": "ecb29c6e",
   "metadata": {},
   "source": [
    "<div style=\"direction:rtl;line-height:300%;\">\n",
    "\t<font face=\"XB Zar\" size=5>\n",
    "\t\t<div align=center>\n",
    "\t\t\t<font face=\"IranNastaliq\" size=30>\n",
    "\t\t\t\t<p></p>\n",
    "\t\t\t\t<p></p>\n",
    "به نام خدا\n",
    "\t\t\t\t<p></p>\n",
    "\t\t\t</font>\n",
    "\t\t\t<font color=#FF7500>\n",
    "دانشگاه صنعتی شریف - دانشکده مهندسی کامپیوتر\n",
    "            </font>\n",
    "\t\t\t<p></p>\n",
    "\t\t\t<font color=blue>\n",
    "آمار و احتمال مهندسی\n",
    "            </font>\n",
    "\t\t\t<br />\n",
    "\t\t\t<br />\n",
    "بهار 1401\n",
    "\t\t</div>\n",
    "\t\t<hr/>\n",
    "\t\t<div align=center>\n",
    "\t\t    <font color=red size=6>\n",
    "\t\t\t    <br />\n",
    "تمرین عملی سوم\n",
    "            \t<br/>\n",
    "\t\t\t</font>\n",
    "طراحان: علی انصاری، سید علیرضا غضنفری، علیرضا نوروزی\n",
    "\t\t\t<br/><br/>\n",
    "موعد تحویل: 24 اردیبهشت  \n",
    "                <br/>\n",
    "                همفکری در تمامی تمرین‌های درس توصیه می‌شود. در عین حال از شما خواسته می‌شود تا تمام پیاده‌سازی را به تنهایی و بدون مشاهده کد دیگران انجام دهید.\n",
    "                <br/><br/>\n",
    "                <font color=red>\n",
    "                لطفا در فایل ارسالی تمام بلوک‌های کد اجرا شده و شامل نمودار‌ها و خروجی‌های لازم باشند.\n",
    "     </font>\n",
    "                <br/>\n",
    "        </style>\n",
    "\t</font>\n",
    "</div>"
   ]
  },
  {
   "cell_type": "markdown",
   "id": "6ec45f53",
   "metadata": {},
   "source": [
    "<div style=\"direction:rtl;line-height:300%;\">\n",
    "\t<font face=\"XB Zar\" size=5>\n",
    "\t\t<div align=center>\n",
    "\t\t\t\t<p></p>\n",
    "\t\t\t\t<p></p>\n",
    "                نام: \n",
    "\t\t\t\t<br/>\n",
    "                شماره دانشجویی: \n",
    "\t\t<br/>\n",
    "         لطفا در این قسمت نام تمامی افرادی که با آن‌ها همفکری کرده‌اید را ذکر نمایید:\n",
    "        </div>\n",
    "\t\t<br />\n",
    "\t\t<hr />\n",
    "\t\t<style type=\"text/css\" scoped>\n",
    "        p{\n",
    "        border: 1px solid #a2a9b1;background-color: #f8f9fa;display: inline-block;\n",
    "        };\n",
    "        </style>\n",
    "\t</font>\n",
    "</div>"
   ]
  },
  {
   "cell_type": "markdown",
   "id": "bff3fed0",
   "metadata": {},
   "source": [
    "<div dir = \"rtl\" style=\"direction:rtl;line-height:300%;\">\n",
    "\t<font face=\"XB Zar\" size=5>\n",
    "\t\t<font color=#FF7500 size=6>\n",
    "            توضیحات درباره تمرینات عملی\n",
    "        </font>\n",
    "        <div dir = \"rtl\" style=\"direction:rtl;line-height:300%;\">\n",
    "            <font face=\"XB Zar\" size=5>\n",
    "                توجه کنید هدف از تمرینات عملی تان استفاده از قابلیت های R برای \n",
    "                پیاده سازی دانش آمار احتمال تان است لذا خیلی در بند حل سوالات در چارچوب خاصی نباشید\n",
    "                و از هر گونه خلاقیتی در رسم نمودار و نوشتن تابع ها استقبال کنید.\n",
    "                و در آخر هم هر جوابی که پاسخ مسئله را به خوبی نمایش دهد نمره کامل را دریافت میکند.\n",
    "                لذا نگران نمره هم نباشید.\n",
    "\n",
    " با احترام\n"
   ]
  },
  {
   "cell_type": "markdown",
   "id": "c4f735cb",
   "metadata": {},
   "source": [
    "<div dir = \"rtl\" style=\"direction:rtl;line-height:300%;\">\n",
    "\t<font face=\"XB Zar\" size=5>\n",
    "\t\t<font color=#FF7500 size=6>\n",
    "            سوال اول\n",
    "        </font>\n",
    "        <div dir = \"rtl\" style=\"direction:rtl;line-height:300%;\">\n",
    "        <font face=\"XB Zar\" size=5>\n",
    "            اطلاعات آب‌وهوایی مربوط به روز های مختلف یک کشور در دیتاست data.csv\n",
    "            آورده شده‌است. می‌خواهیم توزیع توام متغیر های تصادفی زیر را بدست آوریم:\n",
    "        </font>\n",
    "        </div>\n",
    "        <div dir=\"ltr\">\n",
    "                    $$\n",
    "                X_1 =\n",
    "                \\left\\{\n",
    "                    \\begin{array}{ll}\n",
    "                        1  & \\mbox{if } record\\_max\\_temp \\geq 100 \\\\\n",
    "                        0 & \\mbox{if } o.w.\n",
    "                    \\end{array}\n",
    "                \\right.\n",
    "                X_2 =\n",
    "                \\left\\{\n",
    "                    \\begin{array}{ll}\n",
    "                        1  & \\mbox{if }  70 \\lt record\\_max\\_temp \\lt 100 \\\\\n",
    "                        0 & \\mbox{if } o.w.\n",
    "                    \\end{array}\n",
    "                \\right.\n",
    "                $$\n",
    "            $$\n",
    "            X_3 =\n",
    "                \\left\\{\n",
    "                    \\begin{array}{ll}\n",
    "                        1  & \\mbox{if }  record\\_max\\_temp \\leq 70 \\\\\n",
    "                        0 & \\mbox{if } o.w.\n",
    "                    \\end{array}\n",
    "                \\right.\n",
    "                $$\n",
    "            <hr>\n",
    "                $$\n",
    "                Y_1 =\n",
    "                \\left\\{\n",
    "                    \\begin{array}{ll}\n",
    "                        1  & \\mbox{if } record\\_min\\_temp \\geq 40 \\\\\n",
    "                        0 & \\mbox{if } o.w.\n",
    "                    \\end{array}\n",
    "                \\right.\n",
    "                Y_2 =\n",
    "                \\left\\{\n",
    "                    \\begin{array}{ll}\n",
    "                        1  & \\mbox{if }  20 \\lt record\\_min\\_temp \\lt 40 \\\\\n",
    "                        0 & \\mbox{if } o.w.\n",
    "                    \\end{array}\n",
    "                \\right.\n",
    "                $$\n",
    "            $$\n",
    "            Y_3 =\n",
    "                \\left\\{\n",
    "                    \\begin{array}{ll}\n",
    "                        1  & \\mbox{if }  record\\_min\\_temp \\leq 20 \\\\\n",
    "                        0 & \\mbox{if } o.w.\n",
    "                    \\end{array}\n",
    "                \\right.\n",
    "                $$\n",
    "        </div>\n",
    "        <div dir = \"rtl\" style=\"direction:rtl;line-height:300%;\">\n",
    "        <font face=\"XB Zar\" size=5>\n",
    "            برای این‌کار، یک ماتریس 3 در 3 بسازید که ستون‌ها مربوط به متغیر های $Y_i$\n",
    "            باشند و سطر ها مربوط به متغیرهای $X_i$\n",
    "            و در هر خانه از جدول احتمال توام مربوط به متغیرهای آن خانه را قرار دهید و ماتریس را چاپ کنید.\n",
    "        </font>\n",
    "        </div>\n",
    "    </font>\n",
    "</div>"
   ]
  },
  {
   "cell_type": "code",
   "execution_count": 20,
   "id": "13563717",
   "metadata": {},
   "outputs": [
    {
     "name": "stderr",
     "output_type": "stream",
     "text": [
      "Installing package into 'C:/Users/noroo/OneDrive/Documents/R/win-library/4.1'\n",
      "(as 'lib' is unspecified)\n",
      "\n",
      "also installing the dependencies 'Rcpp', 'sass', 'httpuv', 'xtable', 'fontawesome', 'htmltools', 'sourcetools', 'bslib', 'colourpicker', 'miniUI', 'shiny', 'shinyjs'\n",
      "\n",
      "\n"
     ]
    },
    {
     "name": "stdout",
     "output_type": "stream",
     "text": [
      "package 'Rcpp' successfully unpacked and MD5 sums checked\n",
      "package 'sass' successfully unpacked and MD5 sums checked\n",
      "package 'httpuv' successfully unpacked and MD5 sums checked\n",
      "package 'xtable' successfully unpacked and MD5 sums checked\n",
      "package 'fontawesome' successfully unpacked and MD5 sums checked\n",
      "package 'htmltools' successfully unpacked and MD5 sums checked\n"
     ]
    },
    {
     "name": "stderr",
     "output_type": "stream",
     "text": [
      "Warning message:\n",
      "\"cannot remove prior installation of package 'htmltools'\"\n",
      "Warning message in file.copy(savedcopy, lib, recursive = TRUE):\n",
      "\"problem copying C:\\Users\\noroo\\OneDrive\\Documents\\R\\win-library\\4.1\\00LOCK\\htmltools\\libs\\x64\\htmltools.dll to C:\\Users\\noroo\\OneDrive\\Documents\\R\\win-library\\4.1\\htmltools\\libs\\x64\\htmltools.dll: Permission denied\"\n",
      "Warning message:\n",
      "\"restored 'htmltools'\"\n"
     ]
    },
    {
     "name": "stdout",
     "output_type": "stream",
     "text": [
      "package 'sourcetools' successfully unpacked and MD5 sums checked\n",
      "package 'bslib' successfully unpacked and MD5 sums checked\n",
      "package 'colourpicker' successfully unpacked and MD5 sums checked\n",
      "package 'miniUI' successfully unpacked and MD5 sums checked\n",
      "package 'shiny' successfully unpacked and MD5 sums checked\n",
      "package 'shinyjs' successfully unpacked and MD5 sums checked\n",
      "package 'ggExtra' successfully unpacked and MD5 sums checked\n",
      "\n",
      "The downloaded binary packages are in\n",
      "\tC:\\Users\\noroo\\AppData\\Local\\Temp\\RtmpYtTVyj\\downloaded_packages\n"
     ]
    }
   ],
   "source": [
    "install.packages(\"ggExtra\")"
   ]
  },
  {
   "cell_type": "markdown",
   "id": "6289e20c",
   "metadata": {},
   "source": [
    "<div dir = \"rtl\" style=\"direction:rtl;line-height:300%;\">\n",
    "\t<font face=\"XB Zar\" size=5>\n",
    "        <div dir = \"rtl\" style=\"direction:rtl;line-height:300%;\">\n",
    "        <font face=\"XB Zar\" size=5>\n",
    "            توزیع حاشیه‌ای را برای متغیر های $X_1$ و $Y_3$ بدست آورید.\n",
    "        </font>\n",
    "        </div>\n",
    "    </font>\n",
    "</div>"
   ]
  },
  {
   "cell_type": "code",
   "execution_count": 23,
   "id": "5ba6db61",
   "metadata": {},
   "outputs": [
    {
     "name": "stderr",
     "output_type": "stream",
     "text": [
      "Warning message:\n",
      "\"package 'ggExtra' was built under R version 4.1.3\"\n"
     ]
    },
    {
     "ename": "ERROR",
     "evalue": "Error: package or namespace load failed for 'ggExtra' in loadNamespace(i, c(lib.loc, .libPaths()), versionCheck = vI[[i]]):\n namespace 'htmltools' 0.5.1.1 is already loaded, but >= 0.5.2 is required\n",
     "output_type": "error",
     "traceback": [
      "Error: package or namespace load failed for 'ggExtra' in loadNamespace(i, c(lib.loc, .libPaths()), versionCheck = vI[[i]]):\n namespace 'htmltools' 0.5.1.1 is already loaded, but >= 0.5.2 is required\nTraceback:\n",
      "1. library(ggExtra)",
      "2. tryCatch({\n .     attr(package, \"LibPath\") <- which.lib.loc\n .     ns <- loadNamespace(package, lib.loc)\n .     env <- attachNamespace(ns, pos = pos, deps, exclude, include.only)\n . }, error = function(e) {\n .     P <- if (!is.null(cc <- conditionCall(e))) \n .         paste(\" in\", deparse(cc)[1L])\n .     else \"\"\n .     msg <- gettextf(\"package or namespace load failed for %s%s:\\n %s\", \n .         sQuote(package), P, conditionMessage(e))\n .     if (logical.return) \n .         message(paste(\"Error:\", msg), domain = NA)\n .     else stop(msg, call. = FALSE, domain = NA)\n . })",
      "3. tryCatchList(expr, classes, parentenv, handlers)",
      "4. tryCatchOne(expr, names, parentenv, handlers[[1L]])",
      "5. value[[3L]](cond)",
      "6. stop(msg, call. = FALSE, domain = NA)"
     ]
    }
   ],
   "source": [
    "library(ggplot2)\n",
    "# library(ggExtra)"
   ]
  },
  {
   "cell_type": "markdown",
   "id": "94bb2ce1",
   "metadata": {},
   "source": [
    "<div dir = \"rtl\" style=\"direction:rtl;line-height:300%;\">\n",
    "\t<font face=\"XB Zar\" size=5>\n",
    "        <div dir = \"rtl\" style=\"direction:rtl;line-height:300%;\">\n",
    "        <font face=\"XB Zar\" size=5>\n",
    "            مقادیر مربوط به ستون‌های $actual\\_min\\_temp$\n",
    "            و\n",
    "            $actual\\_max\\_temp$\n",
    "            را در 2 بردار (مثلا به ترتیب U و V) ذخیره کرده و نمودار های زیر را رسم کنید:\n",
    "            <ul>\n",
    "                <li>\n",
    "                    هیستوگرام بردار U\n",
    "                </li>\n",
    "                <li>\n",
    "                    هیستوگرام بردار V\n",
    "                </li>\n",
    "                <li>\n",
    "                    نموداری مناسب برای بیان توزیع توام مربوط به این 2 ستون\n",
    "                </li>\n",
    "            </ul>\n",
    "        </font>\n",
    "        </div>\n",
    "    </font>\n",
    "</div>"
   ]
  },
  {
   "cell_type": "code",
   "execution_count": 24,
   "id": "8abe7492",
   "metadata": {},
   "outputs": [
    {
     "ename": "ERROR",
     "evalue": "Error in ggMarginal(p, type = \"histogram\"): could not find function \"ggMarginal\"\n",
     "output_type": "error",
     "traceback": [
      "Error in ggMarginal(p, type = \"histogram\"): could not find function \"ggMarginal\"\nTraceback:\n"
     ]
    }
   ],
   "source": [
    "heights <- read.csv(\"data.csv\")\n",
    "heights <- heights[c(\"actual_max_temp\", \"actual_min_temp\")]\n",
    "\n",
    "# hist(heights$actual_max_temp)\n",
    "# marginal(heights, vars = NULL)\n",
    "\n",
    "# library\n",
    "\n",
    "\n",
    "# classic plot :\n",
    "p <- ggplot(heights, aes(x=actual_max_temp, y=actual_min_temp)) +\n",
    "      geom_point() +\n",
    "      theme(legend.position=\"none\")\n",
    "\n",
    " \n",
    "# with marginal histogram\n",
    "p1 <- ggMarginal(p, type=\"histogram\")\n",
    "# p1\n",
    " \n",
    "# marginal density\n",
    "p2 <- ggMarginal(p, type=\"density\")\n",
    "p2\n",
    " \n",
    "# # marginal boxplot\n",
    "# p3 <- ggMarginal(p, type=\"boxplot\")"
   ]
  },
  {
   "cell_type": "markdown",
   "id": "fcdc281b",
   "metadata": {},
   "source": [
    "<div dir = \"rtl\" style=\"direction:rtl;line-height:300%;\">\n",
    "\t<font face=\"XB Zar\" size=5>\n",
    "\t\t<font color=#FF7500 size=6>\n",
    "            سوال دوم\n",
    "        </font>\n",
    "        <div dir = \"rtl\" style=\"direction:rtl;line-height:300%;\">\n",
    "        <font face=\"XB Zar\" size=5>\n",
    "            ابتدا 10000 لیست 15 تایی(مرتب) از متغیرهای تصادفی iid با توزیع\n",
    "            Uniform(0,1)\n",
    "            تولید کنید. سپس عناصر اول مربوط به هر لیست را در یک بردار ذخیره کنید(مثلا a).\n",
    "            همینکار را برای عضو های 10ام و 15ام انجام دهید و در 2 بردار ذخیره کنید(مثلا b و c).\n",
    "            حال به ازای هر بردار، از توزیع بتای متناسب(با انتخاب پارامتر های مناسب) با آن به اندازه طول بردار نمونه گیری کنید و نمودار چگالی مربوط   \n",
    "            به بردار و نمونه ها را با هم رسم کنید.\n",
    "            سپس مقدار اکسپکتد تمام 15 مقدار را محاسبه کنید. و نتیجه را گزارش کنید.           \n",
    "            از سرچ کردن واژه orderstats در اینترنت هم غافل نشوید.\n",
    "        </font>\n",
    "        </div>\n",
    "    </font>\n",
    "</div>"
   ]
  },
  {
   "cell_type": "code",
   "execution_count": null,
   "id": "b5c18874",
   "metadata": {},
   "outputs": [],
   "source": []
  }
 ],
 "metadata": {
  "kernelspec": {
   "display_name": "R",
   "language": "R",
   "name": "ir"
  },
  "language_info": {
   "codemirror_mode": "r",
   "file_extension": ".r",
   "mimetype": "text/x-r-source",
   "name": "R",
   "pygments_lexer": "r",
   "version": "4.1.0"
  }
 },
 "nbformat": 4,
 "nbformat_minor": 5
}
