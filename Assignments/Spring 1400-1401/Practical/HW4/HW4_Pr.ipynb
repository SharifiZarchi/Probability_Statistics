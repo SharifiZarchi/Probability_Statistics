{
 "cells": [
  {
   "cell_type": "markdown",
   "metadata": {},
   "source": [
    "<div style=\"direction:rtl;line-height:300%;\">\n",
    "\t<font face=\"XB Zar\" size=5>\n",
    "\t\t<div align=center>\n",
    "\t\t\t<font face=\"IranNastaliq\" size=30>\n",
    "\t\t\t\t<p></p>\n",
    "\t\t\t\t<p></p>\n",
    "به نام خدا\n",
    "\t\t\t\t<p></p>\n",
    "\t\t\t</font>\n",
    "\t\t\t<font color=#FF7500>\n",
    "دانشگاه صنعتی شریف - دانشکده مهندسی کامپیوتر\n",
    "            </font>\n",
    "\t\t\t<p></p>\n",
    "\t\t\t<font color=blue>\n",
    "آمار و احتمال مهندسی\n",
    "            </font>\n",
    "\t\t\t<br />\n",
    "\t\t\t<br />\n",
    "بهار ۱۴۰۱\n",
    "\t\t</div>\n",
    "\t\t<hr/>\n",
    "\t\t<div align=center>\n",
    "\t\t    <font color=red size=6>\n",
    "\t\t\t    <br />\n",
    "تمرین عملی چهار\n",
    "            \t<br/>\n",
    "\t\t\t</font>\n",
    "طراحان: یاسمن زلفی موصلو و مهرانه نجفی \n",
    "\t\t\t<br/><br/> \n",
    "موعد تحویل: 24 خرداد \n",
    "                <br/>\n",
    "                همفکری در تمامی تمرین‌های درس توصیه می‌شود. در عین حال از شما انتظار می‌رود تمام پیاده‌سازی را به تنهایی و بدون مشاهده کد دیگران انجام دهید.\n",
    "                <br/><br/>\n",
    "                <font color=red>\n",
    "                لطفا در فایل ارسالی تمام بلوک‌های کد اجرا شده و شامل نمودار‌ها و خروجی‌های لازم باشند.\n",
    "     </font>\n",
    "                <br/>\n",
    "        </style>\n",
    "\t</font>\n",
    "</div>"
   ]
  },
  {
   "cell_type": "markdown",
   "metadata": {},
   "source": [
    "<div dir = \"rtl\" style=\"direction:rtl;line-height:300%;\">\n",
    "\t<font face=\"XB Zar\" size=5>\n",
    "\t\t<font color=#FF7500 size=6>\n",
    "            الگوریتم برتر\n",
    "        </font>\n",
    "        <hr>\n",
    "             شرکت آپارات یک الگوریتم جدید (الگوریتم B) برای سیستم توصیه‌گر (recommender system) ویدیو خود توسعه داده است. \n",
    "        مسئولان شرکت می‌خواهند بررسی کنند که کارایی الگوریتم جدید در مقایسه با الگوریتم قبلی (الگوریتم A) چگونه است و \n",
    "        آیا تفاوت قابل توجهی میان این دو وجود دارد یا خیر. <br/>\n",
    "        برای این منظور تصمیم گرفتند که برای مدت 15 روز نیمی از ترافیک از الگوریتم جدید و نیم دیگر آن از الگوریتم قبلی استفاده کند و میزان کلیک کاربران بر روی \n",
    "        فیلم‌های پیشنهاد شده توسط این دو الگوریتم با یکدیگر مقایسه شود.\n",
    "        نتایج این آزمون در فایل AB_test.csv آمده است.\n",
    "    </font>\n",
    "</div>"
   ]
  },
  {
   "cell_type": "markdown",
   "metadata": {},
   "source": [
    "<div dir = \"rtl\" style=\"direction:rtl;line-height:300%;\">\n",
    "\t<font face=\"XB Zar\" size=5>\n",
    "             لود کردن داده:\n",
    "    </font>\n",
    "</div>"
   ]
  },
  {
   "cell_type": "code",
   "execution_count": 1,
   "metadata": {},
   "outputs": [],
   "source": [
    "AB_test_data <- read.csv(\"AB_test.csv\", header=TRUE)"
   ]
  },
  {
   "cell_type": "markdown",
   "metadata": {},
   "source": [
    "<div dir = \"rtl\" style=\"direction:rtl;line-height:300%;\">\n",
    "\t<font face=\"XB Zar\" size=5>\n",
    "             می‌خواهیم به کمک آزمون T تصمیم بگیریم که آیا الگوریتم B را جایگزین الگوریتم A کنیم یا خیر.<br/>\n",
    "        الف) فرض صفر و فرض یک را معرفی کنید.\n",
    "    </font>\n",
    "</div>"
   ]
  },
  {
   "cell_type": "code",
   "execution_count": null,
   "metadata": {},
   "outputs": [],
   "source": []
  },
  {
   "cell_type": "markdown",
   "metadata": {},
   "source": [
    "<div dir = \"rtl\" style=\"direction:rtl;line-height:300%;\">\n",
    "\t<font face=\"XB Zar\" size=5>\n",
    "             ب) آزمون T را انجام داده و p-value را به‌دست آورید. با $\\alpha = 0.05$ آیا می‌توان گفت الگوریتم B بهتر از A است؟\n",
    "    </font>\n",
    "</div>"
   ]
  },
  {
   "cell_type": "code",
   "execution_count": null,
   "metadata": {},
   "outputs": [],
   "source": []
  },
  {
   "cell_type": "markdown",
   "metadata": {},
   "source": [
    "<div dir = \"rtl\" style=\"direction:rtl;line-height:300%;\">\n",
    "\t<font face=\"XB Zar\" size=5>\n",
    "        حال آزمون جایگشت را به گونه‌ای پیاده‌سازی کنید که n مرحله، در هر مرحله یک جایگشت تصادفی از سطرها را در نظر بگیرد و اختلاف دو الگوریتم A و B را به\n",
    "        دست آورد. P-value را برای این آزمون محاسبه کرده و با حالت قبل مقایسه کنید.\n",
    "    </font>\n",
    "</div>"
   ]
  },
  {
   "cell_type": "code",
   "execution_count": 3,
   "metadata": {},
   "outputs": [],
   "source": [
    "n = 1000\n",
    "#permutation test implementation\n",
    "#####"
   ]
  },
  {
   "cell_type": "markdown",
   "metadata": {},
   "source": [
    "<div dir = \"rtl\" style=\"direction:rtl;line-height:300%;\">\n",
    "\t<font face=\"XB Zar\" size=5>\n",
    "\t\t<font color=#FF7500 size=6>\n",
    "            واکسیناسیون\n",
    "        </font>\n",
    "        <hr>\n",
    "             در فایل vaccination.csv اطلاعات مربوط به سن و نوع واکسن تزریق شده به افراد مختلف آمده است.\n",
    "        گروه سنی افراد را به صورت زیر تعریف می‌کنیم:<br/>\n",
    "        گروه سنی نوجوان : $12 \\leq age < 18$ <br/>\n",
    "        گروه سنی جوان : $18 \\leq age < 40$ <br/>\n",
    "        گروه سنی بزرگسال : $40 \\leq age < 70$ <br/>\n",
    "        گروه سنی سالمند : $70 \\leq age$ <br/>\n",
    "        نموداری رسم کنید که نشان دهد در هر گروه سنی چند نفر از هر نوع واکسن تزریق کرده‌اند. \n",
    "    </font>\n",
    "</div>"
   ]
  },
  {
   "cell_type": "code",
   "execution_count": 4,
   "metadata": {},
   "outputs": [],
   "source": [
    "vaccination_data <- read.csv(\"vaccination.csv\", header=TRUE)"
   ]
  },
  {
   "cell_type": "markdown",
   "metadata": {},
   "source": [
    "<div dir = \"rtl\" style=\"direction:rtl;line-height:300%;\">\n",
    "\t<font face=\"XB Zar\" size=5>\n",
    "        به کمک آزمون فرض مناسب بررسی کنید که آیا گروه سنی افراد از نوع واکسن تزریق شده به آنها مستقل است یا خیر.\n",
    "    </font>\n",
    "</div>"
   ]
  },
  {
   "cell_type": "code",
   "execution_count": null,
   "metadata": {},
   "outputs": [],
   "source": []
  },
  {
   "cell_type": "markdown",
   "metadata": {},
   "source": [
    "<div dir = \"rtl\" style=\"direction:rtl;line-height:300%;\">\n",
    "\t<font face=\"XB Zar\" size=5>\n",
    "\t\t<font color=#FF7500 size=6>\n",
    "            تخمین‌گرهای واریانس\n",
    "        </font>\n",
    "        <hr>\n",
    "             در این سوال به بررسی دو تخمین‌گر رایج واریانس می‌پردازیم. اولین تخمین‌گر مربوط به MLE است:\n",
    "    </font>\n",
    "</div>"
   ]
  },
  {
   "cell_type": "markdown",
   "metadata": {},
   "source": [
    "\n",
    "$$\\hat{\\sigma^2} = \\frac{1}{n}\\sum_{i=1}^{n}(x_i-\\bar{x})^2$$\n"
   ]
  },
  {
   "cell_type": "markdown",
   "metadata": {},
   "source": [
    "<div dir = \"rtl\" style=\"direction:rtl;line-height:300%;\">\n",
    "\t<font face=\"XB Zar\" size=5>\n",
    "        تخمین‌گر بعدی شامل تصحیح بسل(bessel's corrextion) می‌باشد:\n",
    "    </font>\n",
    "</div>"
   ]
  },
  {
   "cell_type": "markdown",
   "metadata": {},
   "source": [
    "$$\\hat{\\sigma^2} = \\frac{1}{n-1}\\sum_{i=1}^{n}(x_i-\\bar{x})^2$$"
   ]
  },
  {
   "cell_type": "markdown",
   "metadata": {},
   "source": [
    "<div dir = \"rtl\" style=\"direction:rtl;line-height:300%;\">\n",
    "\t<font face=\"XB Zar\" size=5>\n",
    "        <ul>\n",
    "            <li>\n",
    "                نمونه‌هایی از یک توزیع \n",
    "                Normal(2, 2)\n",
    "                با اندازه ۲ تا ۱۰۰۰ تولید کرده و برای هر  کدام  بایاس را محاسبه کنید.\n",
    "            </li>\n",
    "        </ul>\n",
    "\t</font>\n",
    "</div>"
   ]
  },
  {
   "cell_type": "code",
   "execution_count": null,
   "metadata": {},
   "outputs": [],
   "source": []
  },
  {
   "cell_type": "markdown",
   "metadata": {},
   "source": [
    "<div dir = \"rtl\" style=\"direction:rtl;line-height:300%;\">\n",
    "\t<font face=\"XB Zar\" size=5>\n",
    "        <ul>\n",
    "            <li>\n",
    "                 حال این مقادیر را در نمودار رسم کنید.\n",
    "            </li>\n",
    "            <li>\n",
    "با توجه به این نمودار ها آیا این دو تخمین‌گر سازگار هستند؟\n",
    "            </li>\n",
    "        </ul>\n",
    "\t</font>\n",
    "</div>"
   ]
  },
  {
   "cell_type": "code",
   "execution_count": null,
   "metadata": {},
   "outputs": [],
   "source": []
  },
  {
   "cell_type": "markdown",
   "metadata": {},
   "source": [
    "<div dir = \"rtl\" style=\"direction:rtl;line-height:300%;\">\n",
    "\t<font face=\"XB Zar\" size=5>\n",
    "\t\t<font color=#FF7500 size=6>\n",
    "        </font>\n",
    "        پاسخ:\n",
    "\t</font>\n",
    "</div>"
   ]
  },
  {
   "cell_type": "markdown",
   "metadata": {},
   "source": [
    "<div dir = \"rtl\" style=\"direction:rtl;line-height:300%;\">\n",
    "\t<font face=\"XB Zar\" size=5>\n",
    "        <ul>\n",
    "            <li>\n",
    "                 این بار صد هزار نمونه ده‌تایی از همان توزیع تولید کنید و میانگین بایاس را محاسبه کنید.\n",
    "            </li>\n",
    "            <li>\n",
    "                با توجه به این مقادیر آیا این دو تخمین‌گر unbiased هستند؟\n",
    "            </li>\n",
    "        </ul>\n",
    "\t</font>\n",
    "</div>"
   ]
  },
  {
   "cell_type": "code",
   "execution_count": null,
   "metadata": {},
   "outputs": [],
   "source": []
  },
  {
   "cell_type": "markdown",
   "metadata": {},
   "source": [
    "<div dir = \"rtl\" style=\"direction:rtl;line-height:300%;\">\n",
    "\t<font face=\"XB Zar\" size=5>\n",
    "\t\t<font color=#FF7500 size=6>\n",
    "        </font>\n",
    "        پاسخ:\n",
    "\t</font>\n",
    "</div>"
   ]
  }
 ],
 "metadata": {
  "kernelspec": {
   "display_name": "R",
   "language": "R",
   "name": "ir"
  },
  "language_info": {
   "codemirror_mode": "r",
   "file_extension": ".r",
   "mimetype": "text/x-r-source",
   "name": "R",
   "pygments_lexer": "r",
   "version": "4.1.0"
  }
 },
 "nbformat": 4,
 "nbformat_minor": 4
}
