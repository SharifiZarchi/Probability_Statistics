{
 "cells": [
  {
   "cell_type": "markdown",
   "id": "9b7a71cb",
   "metadata": {},
   "source": [
    "<div style=\"direction:rtl;line-height:300%;\">\n",
    "\t<font face=\"XB Zar\" size=5>\n",
    "\t\t<div align=center>\n",
    "\t\t\t<font face=\"IranNastaliq\" size=30>\n",
    "\t\t\t\t<p></p>\n",
    "به نام خدا\n",
    "\t\t\t\t<p></p>\n",
    "\t\t\t</font>\n",
    "\t\t\t<font color=#FF7500>\n",
    "دانشگاه صنعتی شریف - دانشکده مهندسی کامپیوتر\n",
    "            </font>\n",
    "\t\t\t<p></p>\n",
    "\t\t\t<font color=blue>\n",
    "آمار و احتمال مهندسی\n",
    "            </font>\n",
    "\t\t\t<br />\n",
    "\t\t\t<br />\n",
    "بهار 1401\n",
    "\t\t</div>\n",
    "\t\t<hr/>\n",
    "\t\t<div align=center>\n",
    "\t\t    <font color=red size=6>\n",
    "\t\t\t    <br />\n",
    "تمرین دوم عملی\n",
    "            \t<br/>\n",
    "\t\t\t</font>\n",
    "طراحان: علیرضا نوروزی، مهدی جعفری \n",
    "\t\t\t<br/><br/> \n",
    "موعد تحویل: 1 اردیبهشت \n",
    "                <br/>\n",
    "                همفکری در تمامی تمرین‌های درس توصیه می‌شود. در عین حال از شما خواسته می‌شود تا تمام پیاده‌سازی را به تنهایی و بدون مشاهده کد دیگران انجام دهید.\n",
    "                <br/><br/>\n",
    "                <font color=red>\n",
    "                لطفا در فایل ارسالی تمام بلوک‌های کد اجرا شده و شامل نمودار‌ها و خروجی‌های لازم باشند.\n",
    "     </font>\n",
    "                <br/>\n",
    "        </style>\n",
    "\t</font>\n",
    "</div>"
   ]
  },
  {
   "cell_type": "markdown",
   "id": "ba6e6932",
   "metadata": {},
   "source": [
    "<div dir = \"rtl\" style=\"direction:rtl;line-height:250%;\">\n",
    "\t<font face=\"XB Zar\" size=5>\n",
    "\t\t<font color=#FF7500 size=6>\n",
    "             سوال اول\n",
    "        </font>\n",
    "        <hr/>\n",
    "        <div dir = \"rtl\" style=\"direction:rtl;line-height:200%;\">\n",
    "\t<font face=\"XB Zar\" size=5>\n",
    "       در این تمرین قصد داریم مرحله پلی آف مسابقات NBA را شبیه سازی کنیم.\n",
    "     هر بازی در مرحله پلی آف به صورت 4از 7 برگزار میشود به این معنی که 2 تیم تا وقتی یکی از بین شان 4 پیروزی کسب کند\n",
    "        ادامه پیدا میکند.\n",
    "        حال شما برای شروع کافی است تابعی بنویسید که احتمال برد یک سری از بازی را محاسبه کند.\n",
    "        میتوانید این سری را 1000 بار تکرار کنید و تعداد باری که تیم با احتمال برد p برنده میشود را گزارش کنید.\n",
    "        فرض کنید تیم یک در هر بازی به احتمال p برنده میشود.\n",
    "        و بسکتبال تساوی هم ندارد.\n",
    "        \n",
    "</div>"
   ]
  },
  {
   "cell_type": "markdown",
   "id": "5ec5a0b4",
   "metadata": {},
   "source": [
    "<div dir = \"rtl\" style=\"direction:rtl;line-height:250%;\">\n",
    "\t<font face=\"XB Zar\" size=5>\n",
    "        <div dir = \"rtl\" style=\"direction:rtl;line-height:200%;\">\n",
    "\t<font face=\"XB Zar\" size=5>\n",
    "        حال برای p های بزرگتر از نیم احتمال برنده شدن سری را محاسبه کنید.\n",
    "        و نمودار مناسبی برای نمایش این اعداد رسم کنید.\n",
    "</div>"
   ]
  },
  {
   "cell_type": "markdown",
   "id": "c9ed129e",
   "metadata": {},
   "source": [
    "<div dir = \"rtl\" style=\"direction:rtl;line-height:250%;\">\n",
    "\t<font face=\"XB Zar\" size=5>\n",
    "        <div dir = \"rtl\" style=\"direction:rtl;line-height:200%;\">\n",
    "\t<font face=\"XB Zar\" size=5>\n",
    "       با رسم نمودار برای n و p های مختلف نشان دهید برای تیم های قوی تر\n",
    "        هر چه تعداد n بیشتر باشد\n",
    "        احتمال اینکه یک سری را ببازند کمتر میشود و این نسبت را ببینید، مثلا برای p = 0.6 مقادیر مختلف n را بررسی کنید.\n",
    "</div>"
   ]
  },
  {
   "cell_type": "markdown",
   "id": "7760e41f",
   "metadata": {},
   "source": [
    "<div dir = \"rtl\" style=\"direction:rtl;line-height:250%;\">\n",
    "\t<font face=\"XB Zar\" size=5>\n",
    "        <div dir = \"rtl\" style=\"direction:rtl;line-height:200%;\">\n",
    "\t<font face=\"XB Zar\" size=5>\n",
    "       میدانیم از این 7 سری بازی 4 بازی در زمین تیم 1 و 3 بازی در تیم 2 انجام میشود.\n",
    "            تابع قسمت قبل را به نحوی باز سازی کنید که هم احتمال برد در خانه و احتمال برد خارج از خانه و اینکه 4 بازی میکند یا 3 بازی را دریافت و مانند تابع قبلی احتمال برد\n",
    "       سری را حساب کند\n",
    "</div>"
   ]
  },
  {
   "cell_type": "markdown",
   "id": "98817b11",
   "metadata": {},
   "source": [
    "<div dir = \"rtl\" style=\"direction:rtl;line-height:250%;\">\n",
    "\t<font face=\"XB Zar\" size=5>\n",
    "        <div dir = \"rtl\" style=\"direction:rtl;line-height:200%;\">\n",
    "\t<font face=\"XB Zar\" size=5>\n",
    "       به ازای مقادیر مختلف احتمال برد در خانه، احتمال برد در خارج از خانه و تعداد بازی در خانه نمودار مناسبی برای احتمال برد سری رسم کنید.\n",
    "        برای رسم همه نمودار ها در یکجا درباره facet_wrap() مطالعه کنید.\n",
    "</div>"
   ]
  },
  {
   "cell_type": "markdown",
   "id": "7b055dcc",
   "metadata": {},
   "source": [
    "<div dir = \"rtl\" style=\"direction:rtl;line-height:250%;\">\n",
    "\t<font face=\"XB Zar\" size=5>\n",
    "        <div dir = \"rtl\" style=\"direction:rtl;line-height:200%;\">\n",
    "\t<font face=\"XB Zar\" size=5>\n",
    "       \n",
    "</div>"
   ]
  },
  {
   "cell_type": "markdown",
   "id": "306b2f39",
   "metadata": {},
   "source": [
    "<div dir = \"rtl\" style=\"direction:rtl;line-height:250%;\">\n",
    "\t<font face=\"XB Zar\" size=5>\n",
    "        <div dir = \"rtl\" style=\"direction:rtl;line-height:200%;\">\n",
    "\t<font face=\"XB Zar\" size=5>\n",
    "       با استفاده از geom_raster()\n",
    "        نموداری رسم کنید که تاثیر شروع        \n",
    "         بازی در خانه یا خارج از خانه را نشان دهد.\n",
    " \n",
    "</div>"
   ]
  },
  {
   "cell_type": "markdown",
   "id": "5b5a0079",
   "metadata": {},
   "source": [
    "<div dir = \"rtl\" style=\"direction:rtl;line-height:250%;\">\n",
    "\t<font face=\"XB Zar\" size=5>\n",
    "\t\t<font color=#FF7500 size=6>\n",
    "             سوال دوم \n",
    "        </font>\n",
    "        <hr/>\n",
    "        <div dir = \"rtl\" style=\"direction:rtl;line-height:200%;\">\n",
    "\t<font face=\"XB Zar\" size=5>\n",
    "        در یک فرایند پواسون زمان بین دو اتفاق از یک توزیع نمایی پیروی می‌کند. اگر بخواهیم زمان اتفاق n‌ام را پیش‌بینی کنیم از توزیع گاما استفاده می‌کنیم.\n",
    "        $$T_n=\\sum_{i=1}^n{X_i},\\  X_i  s\\ are\\ i.i.d\\ and\\ X_i\\sim Exp(\\lambda)$$\n",
    "        $$T_n\\sim Gamma(n, \\lambda)$$\n",
    "       حال فرض کنید فاصله زمانی ورود دانشجویان به کلاس درس حضوری از توزیع پوآسون پیروی میکند.\n",
    "        <br>\n",
    "        الف)\n",
    "        1000  نمونه تصادفی برای زمان بین ورود دانشجو ها تولید کنید و نمودارهای هیستوگرام داده‌های تولیدشده و چگالی توزیع آن را در یک نمودار رسم کنید.\n",
    "        نمودار هیستوگرام شما باید چگالی احتمال را برای هر نمونه را نشان دهد.\n",
    "            </font>\n",
    "</div>\n",
    "    </font>\n",
    "</div>"
   ]
  },
  {
   "cell_type": "markdown",
   "id": "3e56bde2",
   "metadata": {},
   "source": [
    "<div dir = \"rtl\" style=\"direction:rtl;line-height:250%;\">\n",
    "\t<font face=\"XB Zar\" size=5>\n",
    "        ب)\n",
    "        بی‌حافظگی توزیع نمایی را با داده‌های تولید شده در قسمت قبل و رسم نمودار به همان شکل نشان دهید.\n",
    "     </font>\n",
    "</div>"
   ]
  },
  {
   "cell_type": "markdown",
   "id": "c88102b3",
   "metadata": {},
   "source": [
    "<div dir = \"rtl\" style=\"direction:rtl;line-height:250%;\">\n",
    "\t<font face=\"XB Zar\" size=5>\n",
    "        ج)\n",
    "       با تولید n=10 متغیرتصادفی نمایی، ویژگی گفته شده در صورت سوال را بررسی کنید. برای این‌کار می‌توانید برای شبیه‌سازی هر متغیرتصادفی مانند قسمت الف عمل کنید. \n",
    "     </font>\n",
    "</div>"
   ]
  }
 ],
 "metadata": {
  "kernelspec": {
   "display_name": "R",
   "language": "R",
   "name": "ir"
  },
  "language_info": {
   "codemirror_mode": "r",
   "file_extension": ".r",
   "mimetype": "text/x-r-source",
   "name": "R",
   "pygments_lexer": "r",
   "version": "4.1.0"
  }
 },
 "nbformat": 4,
 "nbformat_minor": 5
}
