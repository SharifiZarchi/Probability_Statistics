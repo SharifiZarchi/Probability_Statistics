{
 "cells": [
  {
   "cell_type": "markdown",
   "metadata": {},
   "source": [
    "<div style=\"direction:rtl;line-height:300%;\">\n",
    "\t<font face=\"XB Zar\" size=5>\n",
    "\t\t<div align=center>\n",
    "\t\t\t<font face=\"IranNastaliq\" size=30>\n",
    "\t\t\t\t<p></p>\n",
    "\t\t\t\t<p></p>\n",
    "به نام خدا\n",
    "\t\t\t\t<p></p>\n",
    "\t\t\t</font>\n",
    "\t\t\t<font color=#FF7500>\n",
    "دانشگاه صنعتی شریف - دانشکده مهندسی کامپیوتر\n",
    "            </font>\n",
    "\t\t\t<p></p>\n",
    "\t\t\t<font color=blue>\n",
    "آمار و احتمال مهندسی\n",
    "            </font>\n",
    "\t\t\t<br />\n",
    "\t\t\t<br />\n",
    "پاییز ۱۳۹۸\n",
    "\t\t</div>\n",
    "\t\t<hr/>\n",
    "\t\t<div align=center>\n",
    "\t\t    <font color=red size=6>\n",
    "\t\t\t    <br />\n",
    "تمرین عملی بخش ششم\n",
    "            \t<br/>\n",
    "\t\t\t</font>\n",
    "طراح: ارشیا مقیمی \n",
    "\t\t\t<br/><br/> \n",
    "موعد تحویل: ؟؟؟ \n",
    "                <br/>\n",
    "                همفکری در تمامی تمرین‌های درس توصیه می‌شود. در عین حال از شما خواسته می‌شود تا تمام پیاده‌سازی را به تنهایی و بدون مشاهده کد دیگران انجام دهید.\n",
    "                <br/><br/>\n",
    "                <font color=red>\n",
    "                لطفا در فایل ارسالی تمام بلوک‌های کد اجرا شده و شامل نمودار‌ها و خروجی‌های لازم باشند.\n",
    "     </font>\n",
    "                <br/>\n",
    "        </style>\n",
    "\t</font>\n",
    "</div>"
   ]
  },
  {
   "cell_type": "raw",
   "metadata": {},
   "source": [
    "نام و نام خانوادگی"
   ]
  },
  {
   "cell_type": "raw",
   "metadata": {},
   "source": [
    "شماره دانشجویی "
   ]
  },
  {
   "cell_type": "raw",
   "metadata": {},
   "source": [
    "نام افرادی که با آنها مشورت کرده اید"
   ]
  },
  {
   "cell_type": "markdown",
   "metadata": {},
   "source": [
    "<div dir = \"rtl\" style=\"direction:rtl;line-height:300%;\">\n",
    "\t<font face=\"XB Zar\" size=5>\n",
    "\t\t<font color=#FF7500 size=6>\n",
    "            سوال اول (بازه‌ی بدیهی)\n",
    "        </font>\n",
    "        <hr/>\n",
    "        <div dir = \"rtl\" style=\"direction:rtl;line-height:300%;text-align:justify\">\n",
    "\t<font face=\"XB Zar\" size=5>\n",
    "یک نمونه‌ی ۱۰۰۰ تایی از توزیع $N(1,4)$ تولید کنید. سپس یک بازه‌ی اطمینان ۹۹٪ی برای $\\sigma^2$ به دست آورید.\n",
    "            </font>\n",
    "</div>\n",
    "    </font>\n",
    "</div>"
   ]
  },
  {
   "cell_type": "code",
   "execution_count": null,
   "metadata": {},
   "outputs": [],
   "source": []
  },
  {
   "cell_type": "markdown",
   "metadata": {},
   "source": [
    "<div dir = \"rtl\" style=\"direction:rtl;line-height:300%;\">\n",
    "\t<font face=\"XB Zar\" size=5>\n",
    "\t\t<font color=#FF7500 size=6>\n",
    "            سوال دوم (بایاس یا واریانس، مسئله این است)\n",
    "        </font>\n",
    "        <hr/>\n",
    "        <div dir = \"rtl\" style=\"direction:rtl;line-height:300%;text-align:justify\">\n",
    "\t<font face=\"XB Zar\" size=5>\n",
    "        الف. قطعه کد زیر را تحلیل کنید و نمودار $MSE$ و $bias^2$ و $variance$ را بر حسب $shrink$ رسم کنید.\n",
    "<br>\n",
    "        تحلیل:\n",
    "        \n",
    "</form>\n",
    "</font>\n",
    "</div>\n",
    "    </font>\n",
    "</div>"
   ]
  },
  {
   "cell_type": "code",
   "execution_count": 2,
   "metadata": {
    "scrolled": false
   },
   "outputs": [],
   "source": [
    "mean <- 2\n",
    "\n",
    "Z <- rnorm(10000, mean)\n",
    "\n",
    "MSE <- function(estimate, mu) {\n",
    "return(sum((estimate - mu)^2) / length(estimate))\n",
    "}\n",
    "\n",
    "n <- 1000\n",
    "shrink <- seq(0,0.5, length=n)\n",
    "mse <- numeric(n)\n",
    "bias <- numeric(n)\n",
    "variance <- numeric(n)\n",
    "\n",
    "for (i in 1:n) {\n",
    "mse[i] <- MSE((1 - shrink[i]) * Z, mean)\n",
    "bias[i] <- mean * shrink[i]\n",
    "variance[i] <- (1 - shrink[i])^2\n",
    "}"
   ]
  },
  {
   "cell_type": "code",
   "execution_count": null,
   "metadata": {},
   "outputs": [],
   "source": []
  },
  {
   "cell_type": "markdown",
   "metadata": {},
   "source": [
    "<div dir = \"rtl\" style=\"direction:rtl;line-height:300%;\">\n",
    "\t<font face=\"XB Zar\" size=5>\n",
    "        <hr/>\n",
    "        <div dir = \"rtl\" style=\"direction:rtl;line-height:300%;text-align:justify\">\n",
    "\t<font face=\"XB Zar\" size=5>\n",
    "ب. <a href=https://en.wikipedia.org/wiki/Bias%E2%80%93variance_tradeoff>این صفحه</a>  را مطالعه کنید. سپس نموداری که در قسمت الف رسم کردید را با استفاده از آن تحلیل کنید.\n",
    "<br>\n",
    "        پاسخ:\n",
    "        \n",
    "</form>\n",
    "</font>\n",
    "</div>\n",
    "    </font>\n",
    "</div>"
   ]
  },
  {
   "cell_type": "markdown",
   "metadata": {},
   "source": [
    "<div dir = \"rtl\" style=\"direction:rtl;\">\n",
    "\t<font face=\"XB Zar\" size=5>\n",
    "\t\t<font color=#FF7500 size=6>\n",
    "            سوال سوم (لیموشو بدم هلوشو بدم)\n",
    "        </font>\n",
    "        <hr/>\n",
    "        <div dir = \"rtl\" style=\"direction:rtl;line-height:300%;text-align:justify\">\n",
    "\t<font face=\"XB Zar\" size=5>\n",
    "        تیم بازاریابی یک شرکت تولید مشروبات غیرالکلی قصد دارد تا میزان تاثیر تبلیغاتی که در سطح جهان(!) انجام داده را بر میزان فروش محصول خود تحلیل کند. برای این‌کار آن‌ها آمار یک‌سال فروش خود را قبل از تبلیغات، و بعد از تبلیغات استخراج کرده ($3.csv$) و از آن‌جایی که کار با این داده‌ها را بلد نیستند، به آن‌ها کمک کنید تا ببینند آیا تبلیغات، در میزان فروش آن‌ها تاثیر داشته یا نه. پاسخ خود را تحلیل کنید. \n",
    "</font>\n",
    "</div>\n",
    "    </font>\n",
    "</div>"
   ]
  },
  {
   "cell_type": "code",
   "execution_count": null,
   "metadata": {
    "scrolled": false
   },
   "outputs": [],
   "source": []
  },
  {
   "cell_type": "markdown",
   "metadata": {},
   "source": [
    "<div dir = \"rtl\" style=\"direction:rtl;\">\n",
    "\t<font face=\"XB Zar\" size=5>\n",
    "        <hr/>\n",
    "        <div dir = \"rtl\" style=\"direction:rtl;line-height:300%;text-align:justify\">\n",
    "تحلیل:\n",
    "            \n",
    "</font>\n",
    "</div>\n",
    "</div>"
   ]
  }
 ],
 "metadata": {
  "kernelspec": {
   "display_name": "R",
   "language": "R",
   "name": "ir"
  },
  "language_info": {
   "codemirror_mode": "r",
   "file_extension": ".r",
   "mimetype": "text/x-r-source",
   "name": "R",
   "pygments_lexer": "r",
   "version": "3.6.1"
  }
 },
 "nbformat": 4,
 "nbformat_minor": 2
}
