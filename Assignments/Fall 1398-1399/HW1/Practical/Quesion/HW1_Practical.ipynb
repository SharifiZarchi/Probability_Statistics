{
 "cells": [
  {
   "cell_type": "markdown",
   "metadata": {},
   "source": [
    "<div style=\"direction:rtl;line-height:300%;\">\n",
    "\t<font face=\"XB Zar\" size=5>\n",
    "\t\t<div align=center>\n",
    "\t\t\t<font face=\"IranNastaliq\" size=30>\n",
    "\t\t\t\t<p></p>\n",
    "\t\t\t\t<p></p>\n",
    "به نام خدا\n",
    "\t\t\t\t<p></p>\n",
    "\t\t\t</font>\n",
    "\t\t\t<font color=#FF7500>\n",
    "دانشگاه صنعتی شریف - دانشکده مهندسی کامپیوتر\n",
    "            </font>\n",
    "\t\t\t<p></p>\n",
    "\t\t\t<font color=blue>\n",
    "آمار و احتمال مهندسی\n",
    "            </font>\n",
    "\t\t\t<br />\n",
    "\t\t\t<br />\n",
    "پاییز ۱۳۹۸\n",
    "\t\t</div>\n",
    "\t\t<hr/>\n",
    "\t\t<div align=center>\n",
    "\t\t    <font color=red size=6>\n",
    "\t\t\t    <br />\n",
    "تمرین عملی بخش اول\n",
    "            \t<br/>\n",
    "\t\t\t</font>\n",
    "طراح: سروش فرقدانی - علیرضا اکبری \n",
    "\t\t\t<br/><br/> \n",
    "موعد تحویل: ... \n",
    "                <br/>\n",
    "                همفکری در تمامی تمرین‌های درس توصیه می‌شود. در عین حال از شما خواسته می‌شود تا تمام پیاده‌سازی را به تنهایی و بدون مشاهده کد دیگران انجام دهید.\n",
    "                <br/><br/>\n",
    "                <font color=red>\n",
    "                لطفا در فایل ارسالی تمام بلوک‌های کد اجرا شده و شامل نمودار‌ها و خروجی‌های لازم باشند.\n",
    "     </font>\n",
    "                <br/>\n",
    "        </style>\n",
    "\t</font>\n",
    "</div>"
   ]
  },
  {
   "cell_type": "raw",
   "metadata": {},
   "source": [
    "نام و نام خانوادگی"
   ]
  },
  {
   "cell_type": "raw",
   "metadata": {},
   "source": [
    "شماره دانشجویی"
   ]
  },
  {
   "cell_type": "raw",
   "metadata": {},
   "source": [
    "نام افرادی که با آنها مشورت کرده اید"
   ]
  },
  {
   "cell_type": "markdown",
   "metadata": {},
   "source": [
    "<div dir = \"rtl\" style=\"direction:rtl;line-height:300%;\">\n",
    "\t<font face=\"XB Zar\" size=5>\n",
    "\t\t<font color=#FF7500 size=6>\n",
    "            سوال اول\n",
    "        </font>\n",
    "        <hr>\n",
    "        در این سوال قصد داریم مساله‌ی حیرت انگیر 'تولد مشترک' را به طور عملی بررسی کنیم!!\n",
    "        <br>\n",
    "                فرض کنید k نفر در یک جشن حضور بهم می‌رسانند. اگر دو نفر در میان این k  نفر در یک روز به دنیا آمده باشند, می‌توانند به طور مشترک تولد بگیرند و بدین ترتیب هزینه‌ها را بین دو نفر تقسیم کنند.(( توجه کنید که سال تولد مهم نیست . یعنی مثلا اگر یک نفر در ۶ آبان ۱۳۳۵ به دنیا آمده باشد , می‌تواند با یک فرد که در ۶ آبان ۱۳۶۱ به دنیا آمده به طور مشترک تولد بگیرد))\n",
    "        <ul>\n",
    "            <li>\n",
    "                عدد k حداقل باید چقدر باشد تا احتمال این که پدیده‌ی 'تولد مشترک' رخ دهد , بیشتر از 0.5 باشد؟\n",
    "            <br>\n",
    "                راهنمایی: شروع به حدس زدن k بکنید . برای هر حدس , ۱۰۰ بار جشنی با k  نفر را شبیه سازی کنید و در نهایت با توجه به شبیه‌سازی خود احتمال وجود ' تولد مشترک ' را برای آن k بدست آورید.\n",
    "            </li>\n",
    "        </ul>\n",
    "    </font>\n",
    "</div>"
   ]
  },
  {
   "cell_type": "markdown",
   "metadata": {},
   "source": [
    "<div dir = \"rtl\" style=\"direction:rtl;line-height:300%;\">\n",
    "\t<font face=\"XB Zar\" size=5>\n",
    "\t\t<font color=#FF7500 size=6>\n",
    "        </font>\n",
    "        پاسخ:\n",
    "\t</font>\n",
    "</div>"
   ]
  },
  {
   "cell_type": "code",
   "execution_count": null,
   "metadata": {},
   "outputs": [],
   "source": []
  },
  {
   "cell_type": "markdown",
   "metadata": {},
   "source": [
    "<div dir = \"rtl\" style=\"direction:rtl;line-height:300%;\">\n",
    "\t<font face=\"XB Zar\" size=5>\n",
    "\t\t<font color=#FF7500 size=6>\n",
    "            سوال دوم\n",
    "        </font>\n",
    "        <hr/>\n",
    "        داده spanish_league که در اختیار شما قرارگرفته است اطلاعاتی مانند زمان بازی‌های برگذار شده , نتایج آن‌ها و تیم‌های برگذارکننده‌ی بازی‌ها را در اختیار شما قرار میدهد. هر سطر از این داده، شامل اطلاعات یک بازی است. با استفاده از این داده موارد خواسته شده را بیابید:\n",
    "        <br/>\n",
    "        <ul>\n",
    "            <li>\n",
    "                بازی‌های با تعداد گل‌های زده شده بیشتر از ۷ و همچنین بازی‌های با تعداد گل‌های زده شده کمتر از ۲ را در یک دیتافریم جدید ذخیره کنید.\n",
    "            </li>\n",
    "        </ul>\n",
    "    </font>\n",
    "</div>"
   ]
  },
  {
   "cell_type": "markdown",
   "metadata": {},
   "source": [
    "<div dir = \"rtl\" style=\"direction:rtl;line-height:300%;\">\n",
    "\t<font face=\"XB Zar\" size=5>\n",
    "\t\t<font color=#FF7500 size=6>\n",
    "        </font>\n",
    "        پاسخ:\n",
    "\t</font>\n",
    "</div>"
   ]
  },
  {
   "cell_type": "code",
   "execution_count": null,
   "metadata": {},
   "outputs": [],
   "source": []
  },
  {
   "cell_type": "markdown",
   "metadata": {},
   "source": [
    "<div dir = \"rtl\" style=\"direction:rtl;line-height:300%;\">\n",
    "\t<font face=\"XB Zar\" size=5>\n",
    "        <ul>\n",
    "            <li>\n",
    "                اگر یک بازی را بطور تصادفی از دیتافریم بالا انتخاب کنیم , احتمال این که مربوط به فصل 83-1982 باشد , چقدر است؟ \n",
    "            </li>\n",
    "        </ul>\n",
    "\t</font>\n",
    "</div>"
   ]
  },
  {
   "cell_type": "markdown",
   "metadata": {},
   "source": [
    "<div dir = \"rtl\" style=\"direction:rtl;line-height:300%;\">\n",
    "\t<font face=\"XB Zar\" size=5>\n",
    "\t\t<font color=#FF7500 size=6>\n",
    "        </font>\n",
    "        پاسخ:\n",
    "\t</font>\n",
    "</div>"
   ]
  },
  {
   "cell_type": "code",
   "execution_count": null,
   "metadata": {},
   "outputs": [],
   "source": []
  },
  {
   "cell_type": "markdown",
   "metadata": {},
   "source": [
    "<div dir = \"rtl\" style=\"direction:rtl;line-height:300%;\">\n",
    "\t<font face=\"XB Zar\" size=5>\n",
    "        <ul>\n",
    "            <li>\n",
    "                بازی‌ها را برحسب تعداد گل‌های زده شده توسط میهمان مرتب کنید و ۳ بازی اول را چاپ کنید.\n",
    "            </li>\n",
    "        </ul>\n",
    "\t</font>\n",
    "</div>"
   ]
  },
  {
   "cell_type": "markdown",
   "metadata": {},
   "source": [
    "<div dir = \"rtl\" style=\"direction:rtl;line-height:300%;\">\n",
    "\t<font face=\"XB Zar\" size=5>\n",
    "\t\t<font color=#FF7500 size=6>\n",
    "        </font>\n",
    "        پاسخ:\n",
    "\t</font>\n",
    "</div>"
   ]
  },
  {
   "cell_type": "code",
   "execution_count": null,
   "metadata": {},
   "outputs": [],
   "source": []
  },
  {
   "cell_type": "markdown",
   "metadata": {},
   "source": [
    "<div dir = \"rtl\" style=\"direction:rtl;line-height:300%;\">\n",
    "\t<font face=\"XB Zar\" size=5>\n",
    "\t\t<font color=#FF7500 size=6>\n",
    "            سوال سوم\n",
    "        </font>\n",
    "        <hr>\n",
    "        داده spanish_league را مجدد بخوانید و با استفاده از این داده موارد خواسته شده را بیابید:\n",
    "        <ul>\n",
    "            <li>\n",
    "                نمودار مستطیلی تعداد گل‌های زده شده را رسم کنید.\n",
    "            </li>\n",
    "        </ul>\n",
    "    </font>\n",
    "</div>"
   ]
  },
  {
   "cell_type": "markdown",
   "metadata": {},
   "source": [
    "<div dir = \"rtl\" style=\"direction:rtl;line-height:300%;\">\n",
    "\t<font face=\"XB Zar\" size=5>\n",
    "\t\t<font color=#FF7500 size=6>\n",
    "        </font>\n",
    "        پاسخ:\n",
    "\t</font>\n",
    "</div>"
   ]
  },
  {
   "cell_type": "code",
   "execution_count": null,
   "metadata": {},
   "outputs": [],
   "source": []
  },
  {
   "cell_type": "markdown",
   "metadata": {},
   "source": [
    "<div dir = \"rtl\" style=\"direction:rtl;line-height:300%;\">\n",
    "\t<font face=\"XB Zar\" size=5>\n",
    "        <ul>\n",
    "            <li>\n",
    "                نموداری بکشید که ستون عمودی آن نشان‌دهندەی گل‌های زده شده توسط میزبان و ستون افقی\n",
    "نشان‌دهندەی گل‌های زده شده توسط میهمان باشد. سپس بازی‌ها را در این نمودار رسم کنید به نحوی که  بازی‌های برگزار شده در فصل 98-1997 قرمز باشند و بقیه آبی.\n",
    "            </li>\n",
    "        </ul>\n",
    "\t</font>\n",
    "</div>"
   ]
  },
  {
   "cell_type": "markdown",
   "metadata": {},
   "source": [
    "<div dir = \"rtl\" style=\"direction:rtl;line-height:300%;\">\n",
    "\t<font face=\"XB Zar\" size=5>\n",
    "\t\t<font color=#FF7500 size=6>\n",
    "        </font>\n",
    "        پاسخ:\n",
    "\t</font>\n",
    "</div>"
   ]
  },
  {
   "cell_type": "code",
   "execution_count": null,
   "metadata": {},
   "outputs": [],
   "source": []
  }
 ],
 "metadata": {
  "kernelspec": {
   "display_name": "R",
   "language": "R",
   "name": "ir"
  },
  "language_info": {
   "codemirror_mode": "r",
   "file_extension": ".r",
   "mimetype": "text/x-r-source",
   "name": "R",
   "pygments_lexer": "r",
   "version": "3.5.2"
  }
 },
 "nbformat": 4,
 "nbformat_minor": 2
}
