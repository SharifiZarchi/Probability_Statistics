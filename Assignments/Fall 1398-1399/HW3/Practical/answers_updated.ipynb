{
 "cells": [
  {
   "cell_type": "markdown",
   "metadata": {},
   "source": [
    "<div style=\"direction:rtl;line-height:300%;\">\n",
    "\t<font face=\"XB Zar\" size=5>\n",
    "\t\t<div align=center>\n",
    "\t\t\t<font face=\"IranNastaliq\" size=30>\n",
    "\t\t\t\t<p></p>\n",
    "\t\t\t\t<p></p>\n",
    "به نام خدا\n",
    "\t\t\t\t<p></p>\n",
    "\t\t\t</font>\n",
    "\t\t\t<font color=#FF7500>\n",
    "دانشگاه صنعتی شریف - دانشکده مهندسی کامپیوتر\n",
    "            </font>\n",
    "\t\t\t<p></p>\n",
    "\t\t\t<font color=blue>\n",
    "آمار و احتمال مهندسی\n",
    "            </font>\n",
    "\t\t\t<br />\n",
    "\t\t\t<br />\n",
    "پاییز ۱۳۹۸\n",
    "\t\t</div>\n",
    "\t\t<hr/>\n",
    "\t\t<div align=center>\n",
    "\t\t    <font color=red size=6>\n",
    "\t\t\t    <br />\n",
    "تمرین عملی سوم\n",
    "            \t<br/>\n",
    "\t\t\t</font>\n",
    "                طراحان:\n",
    "                آراد محمدی، مهدی غزنوی، رضا یاربخش، سینا تسلیمی\n",
    "                <br/><br/>\n",
    "                <font color=red>\n",
    "                لطفا در فایل ارسالی تمام بلوک‌های کد اجرا شده و شامل نمودار‌ها و خروجی‌های لازم باشند.\n",
    "     </font>\n",
    "                <br/>\n",
    "\t\t<br />\n",
    "\t\t<hr />\n",
    "\t\t<style type=\"text/css\" scoped>\n",
    "        p{\n",
    "        border: 1px solid #a2a9b1;background-color: #f8f9fa;display: inline-block;\n",
    "        };\n",
    "        </style>\n",
    "\t</font>\n",
    "</div>"
   ]
  },
  {
   "cell_type": "markdown",
   "metadata": {},
   "source": [
    "<div style=\"direction:rtl;line-height:300%;\">\n",
    "\t<font face=\"XB Zar\" size=5>\n",
    "\t\t<div align=center>\n",
    "\t\t\t\t<p></p>\n",
    "\t\t\t\t<p></p>\n",
    "                نام:\n",
    "\t\t\t\t<br/>\n",
    "                شماره دانشجویی:\n",
    "\t\t<br/>\n",
    "         لطفا در این قسمت نام تمامی افرادی که با آن‌ها همفکری کرده‌اید را ذکر نمایید:\n",
    "        </div>\n",
    "\t\t<br />\n",
    "\t\t<hr />\n",
    "\t\t<style type=\"text/css\" scoped>\n",
    "        p{\n",
    "        border: 1px solid #a2a9b1;background-color: #f8f9fa;display: inline-block;\n",
    "        };\n",
    "        </style>\n",
    "\t</font>\n",
    "</div>"
   ]
  },
  {
   "cell_type": "markdown",
   "metadata": {},
   "source": [
    "<div dir = \"rtl\" style=\"direction:rtl;line-height:300%;\">\n",
    "\t<font face=\"XB Zar\" size=5>\n",
    "\t\t<font color=#FF7500 size=6>\n",
    "            سوال اول\n",
    "        </font>\n",
    "        <hr/>\n",
    "        <div dir = \"rtl\" style=\"direction:rtl;line-height:300%;\">\n",
    "\t<font face=\"XB Zar\" size=5>\n",
    "        ۱۰۰۰۰ نمونه از متغیر تصادفی بتا با $\\alpha=1$ و $\\beta=n$ را به ازای $n$های زیر تولید کنید. سپس برای هر نمونه به صورت جداگانه نمودار $n\\times Beta(\\alpha, \\beta)$ را رسم کنید.<br/>\n",
    "            <ul>\n",
    "                <li>\n",
    "                    $n=1$\n",
    "                </li>\n",
    "                <li>\n",
    "                    $n=5$\n",
    "                </li>\n",
    "                <li>\n",
    "                    $n=25$\n",
    "                </li>\n",
    "                <li>\n",
    "                    $n=125$\n",
    "                </li>\n",
    "            </ul>\n",
    "            </font>\n",
    "</div>\n",
    "    </font>\n",
    "</div>"
   ]
  },
  {
   "cell_type": "code",
   "execution_count": 1,
   "metadata": {},
   "outputs": [
    {
     "data": {
      "image/png": "[encoded data removed]",
      "text/plain": [
       "Plot with title \"Histogram of X[[i]]\""
      ]
     },
     "metadata": {
      "image/png": {
       "height": 420,
       "width": 420
      },
      "text/plain": {
       "height": 420,
       "width": 420
      }
     },
     "output_type": "display_data"
    },
    {
     "data": {
      "image/png": "[encoded data removed]",
      "text/plain": [
       "Plot with title \"Histogram of X[[i]]\""
      ]
     },
     "metadata": {
      "image/png": {
       "height": 420,
       "width": 420
      },
      "text/plain": {
       "height": 420,
       "width": 420
      }
     },
     "output_type": "display_data"
    },
    {
     "data": {
      "image/png": "[encoded data removed]",
      "text/plain": [
       "Plot with title \"Histogram of X[[i]]\""
      ]
     },
     "metadata": {
      "image/png": {
       "height": 420,
       "width": 420
      },
      "text/plain": {
       "height": 420,
       "width": 420
      }
     },
     "output_type": "display_data"
    },
    {
     "data": {
      "text/plain": [
       "$a\n",
       "$breaks\n",
       " [1] 0.00 0.05 0.10 0.15 0.20 0.25 0.30 0.35 0.40 0.45 0.50 0.55 0.60 0.65 0.70\n",
       "[16] 0.75 0.80 0.85 0.90 0.95 1.00\n",
       "\n",
       "$counts\n",
       " [1] 542 504 471 477 500 512 501 468 480 527 513 503 497 470 507 513 523 493 508\n",
       "[20] 491\n",
       "\n",
       "$density\n",
       " [1] 1.084 1.008 0.942 0.954 1.000 1.024 1.002 0.936 0.960 1.054 1.026 1.006\n",
       "[13] 0.994 0.940 1.014 1.026 1.046 0.986 1.016 0.982\n",
       "\n",
       "$mids\n",
       " [1] 0.025 0.075 0.125 0.175 0.225 0.275 0.325 0.375 0.425 0.475 0.525 0.575\n",
       "[13] 0.625 0.675 0.725 0.775 0.825 0.875 0.925 0.975\n",
       "\n",
       "$xname\n",
       "[1] \"X[[i]]\"\n",
       "\n",
       "$equidist\n",
       "[1] TRUE\n",
       "\n",
       "attr(,\"class\")\n",
       "[1] \"histogram\"\n",
       "\n",
       "$b\n",
       "$breaks\n",
       " [1] 0.0 0.2 0.4 0.6 0.8 1.0 1.2 1.4 1.6 1.8 2.0 2.2 2.4 2.6 2.8 3.0 3.2 3.4 3.6\n",
       "[20] 3.8 4.0 4.2\n",
       "\n",
       "$counts\n",
       " [1] 1836 1510 1362 1085  918  801  615  457  354  286  222  179  124   78   67\n",
       "[16]   41   38   15    9    0    3\n",
       "\n",
       "$density\n",
       " [1] 0.9180 0.7550 0.6810 0.5425 0.4590 0.4005 0.3075 0.2285 0.1770 0.1430\n",
       "[11] 0.1110 0.0895 0.0620 0.0390 0.0335 0.0205 0.0190 0.0075 0.0045 0.0000\n",
       "[21] 0.0015\n",
       "\n",
       "$mids\n",
       " [1] 0.1 0.3 0.5 0.7 0.9 1.1 1.3 1.5 1.7 1.9 2.1 2.3 2.5 2.7 2.9 3.1 3.3 3.5 3.7\n",
       "[20] 3.9 4.1\n",
       "\n",
       "$xname\n",
       "[1] \"X[[i]]\"\n",
       "\n",
       "$equidist\n",
       "[1] TRUE\n",
       "\n",
       "attr(,\"class\")\n",
       "[1] \"histogram\"\n",
       "\n",
       "$c\n",
       "$breaks\n",
       " [1] 0.0 0.5 1.0 1.5 2.0 2.5 3.0 3.5 4.0 4.5 5.0 5.5 6.0 6.5 7.0 7.5 8.0\n",
       "\n",
       "$counts\n",
       " [1] 4032 2481 1432  856  520  287  171  105   58   32    9   10    3    1    1\n",
       "[16]    2\n",
       "\n",
       "$density\n",
       " [1] 0.8064 0.4962 0.2864 0.1712 0.1040 0.0574 0.0342 0.0210 0.0116 0.0064\n",
       "[11] 0.0018 0.0020 0.0006 0.0002 0.0002 0.0004\n",
       "\n",
       "$mids\n",
       " [1] 0.25 0.75 1.25 1.75 2.25 2.75 3.25 3.75 4.25 4.75 5.25 5.75 6.25 6.75 7.25\n",
       "[16] 7.75\n",
       "\n",
       "$xname\n",
       "[1] \"X[[i]]\"\n",
       "\n",
       "$equidist\n",
       "[1] TRUE\n",
       "\n",
       "attr(,\"class\")\n",
       "[1] \"histogram\"\n",
       "\n",
       "$d\n",
       "$breaks\n",
       " [1]  0.0  0.5  1.0  1.5  2.0  2.5  3.0  3.5  4.0  4.5  5.0  5.5  6.0  6.5  7.0\n",
       "[16]  7.5  8.0  8.5  9.0  9.5 10.0\n",
       "\n",
       "$counts\n",
       " [1] 3954 2345 1480  878  534  346  189  110   68   37   25   13   10    4    2\n",
       "[16]    3    0    0    1    1\n",
       "\n",
       "$density\n",
       " [1] 0.7908 0.4690 0.2960 0.1756 0.1068 0.0692 0.0378 0.0220 0.0136 0.0074\n",
       "[11] 0.0050 0.0026 0.0020 0.0008 0.0004 0.0006 0.0000 0.0000 0.0002 0.0002\n",
       "\n",
       "$mids\n",
       " [1] 0.25 0.75 1.25 1.75 2.25 2.75 3.25 3.75 4.25 4.75 5.25 5.75 6.25 6.75 7.25\n",
       "[16] 7.75 8.25 8.75 9.25 9.75\n",
       "\n",
       "$xname\n",
       "[1] \"X[[i]]\"\n",
       "\n",
       "$equidist\n",
       "[1] TRUE\n",
       "\n",
       "attr(,\"class\")\n",
       "[1] \"histogram\"\n"
      ]
     },
     "metadata": {},
     "output_type": "display_data"
    },
    {
     "data": {
      "image/png": "[encoded data removed]",
      "text/plain": [
       "Plot with title \"Histogram of X[[i]]\""
      ]
     },
     "metadata": {
      "image/png": {
       "height": 420,
       "width": 420
      },
      "text/plain": {
       "height": 420,
       "width": 420
      }
     },
     "output_type": "display_data"
    }
   ],
   "source": [
    "a <- c(a=1, b=5, c=25, d=125)\n",
    "g <- lapply(a, function(x) x*rbeta(10000,1, x))\n",
    "lapply(g, hist)"
   ]
  },
  {
   "cell_type": "markdown",
   "metadata": {},
   "source": [
    "<div dir = \"rtl\" style=\"direction:rtl;line-height:300%;\">\n",
    "\t<font face=\"XB Zar\" size=5>\n",
    "        <hr/>\n",
    "به نظر شما با افزایش $n$ نمودار حاصل به نمودار کدام توزیع احتمال نزدیک می شود؟ \n",
    "    </font>\n",
    "</div>"
   ]
  },
  {
   "cell_type": "markdown",
   "metadata": {},
   "source": [
    "<div dir = \"rtl\" style=\"direction:rtl;line-height:300%;\">\n",
    "\t<font face=\"XB Zar\" size=5>\n",
    "پاسخ:<br/>\n",
    "        <hr/>\n",
    "        به نظر تابع توزیع احتمال به توزیع نمایی ای با میانگین ۱ نزدیک می شود.\n",
    "    </font>\n",
    "</div>"
   ]
  },
  {
   "cell_type": "markdown",
   "metadata": {},
   "source": [
    "<div dir = \"rtl\" style=\"direction:rtl;line-height:300%;\">\n",
    "\t<font face=\"XB Zar\" size=5>\n",
    "        <hr/>\n",
    "این کار را به ازای $\\alpha=5$ و $\\alpha=25$ نیز انجام دهید. برای هر کدام از این دو یک نمودار رسم کنید که در هر نمودار ۴ خم به ازای ۴ مقدار بالا برای بتا موجود باشد. خم ها باید رنگ های متفاوت داشته باشند و مقدار متناظر هر رنگ نیز مشخص شده باشد.\n",
    "    </font>\n",
    "</div>"
   ]
  },
  {
   "cell_type": "code",
   "execution_count": 2,
   "metadata": {},
   "outputs": [
    {
     "data": {
      "image/png": "[encoded data removed]",
      "text/plain": [
       "plot without title"
      ]
     },
     "metadata": {
      "image/png": {
       "height": 420,
       "width": 420
      },
      "text/plain": {
       "height": 420,
       "width": 420
      }
     },
     "output_type": "display_data"
    },
    {
     "data": {
      "image/png": "[encoded data removed]",
      "text/plain": [
       "plot without title"
      ]
     },
     "metadata": {
      "image/png": {
       "height": 420,
       "width": 420
      },
      "text/plain": {
       "height": 420,
       "width": 420
      }
     },
     "output_type": "display_data"
    }
   ],
   "source": [
    "library(ggplot2)\n",
    "df1 <- data.frame(lapply(a, function(x) x*rbeta(10000, 5, x)))\n",
    "df2 <- data.frame(lapply(a, function(x) x*rbeta(10000, 25, x)))\n",
    "ggplot(data = df1) + geom_density(aes(x=df1$a, colour=\"1\"), alpha=0.1, fill=\"1\") + geom_density(aes(x=df1$b, colour=\"5\"), alpha=0.1, fill=\"5\") + geom_density(aes(x=df1$c, colour=\"25\"), alpha=0.1, fill=\"25\") + geom_density(aes(x=df1$d, colour=\"125\"), alpha=0.1, fill=\"125\")\n",
    "ggplot(data = df2) + geom_density(aes(x=df2$a, colour=\"1\"), alpha=0.1, fill=\"1\") + geom_density(aes(x=df2$b, colour=\"5\"), alpha=0.1, fill=\"5\") + geom_density(aes(x=df2$c, colour=\"25\"), alpha=0.1, fill=\"25\") + geom_density(aes(x=df2$d, colour=\"125\"), alpha=0.1, fill=\"125\")"
   ]
  },
  {
   "cell_type": "markdown",
   "metadata": {},
   "source": [
    "<div dir = \"rtl\" style=\"direction:rtl;line-height:300%;\">\n",
    "\t<font face=\"XB Zar\" size=5>\n",
    "        <hr/>\n",
    "به نظر شما در هرکدام از نمودارها با افزایش $n$ نمودار حاصل به نمودار کدام توزیع احتمال نزدیک می شود؟<br/>\n",
    "        راهنمایی: search:)\n",
    "    </font>\n",
    "</div>"
   ]
  },
  {
   "cell_type": "markdown",
   "metadata": {},
   "source": [
    "<div dir = \"rtl\" style=\"direction:rtl;line-height:300%;\">\n",
    "\t<font face=\"XB Zar\" size=5>\n",
    "پاسخ:<br/>\n",
    "        <hr/>\n",
    "        به نظر می رسد توزیع احتمال با افزایش $n$ به توزیع احتمال $Gamma(k,1)$ نزدیک می شود.\n",
    "    </font>\n",
    "</div>"
   ]
  },
  {
   "cell_type": "markdown",
   "metadata": {},
   "source": [
    "<div dir = \"rtl\" style=\"direction:rtl;line-height:300%;\">\n",
    "\t<font face=\"XB Zar\" size=5>\n",
    "\t\t<font color=#FF7500 size=6>\n",
    "            سوال دوم\n",
    "        </font>\n",
    "        <div dir = \"rtl\" style=\"direction:rtl;line-height:300%;\">\n",
    "\t<font face=\"XB Zar\" size=5>\n",
    "                <hr/> \n",
    "       تابعی از یک نمونه از یک متغیر تصادفی uniform بین ۰ و ۱ به نمونه ای از متغیر تصادفی نمایی بیابید. \n",
    "   </font>\n",
    "</div>\n",
    "    </font>\n",
    "</div>"
   ]
  },
  {
   "cell_type": "markdown",
   "metadata": {},
   "source": [
    "<div dir = \"rtl\" style=\"direction:rtl;line-height:300%;\">\n",
    "\t<font face=\"XB Zar\" size=5>\n",
    "پاسخ:<br/>\n",
    "        <hr/>\n",
    "        فرض کنید $U$ یک متغیر تصادفی uniform بر بازه ی ۰ تا  ۱ باشد.<br/> اگر $F_1(x)$ تابع توزیع تجمعی $U$ و $F_2(x)$ تابع توزیع تجمعی متغیر نمایی مطلوب ما ($X$) باشد، آنگاه:<br/>\n",
    "        $F_2(x)=P(X\\le x)=1-e^{-x}=u\\Rightarrow x=-ln(1-u)\\Rightarrow X=-ln(1-U)$\n",
    "    </font>\n",
    "</div>"
   ]
  },
  {
   "cell_type": "markdown",
   "metadata": {},
   "source": [
    "<div dir = \"rtl\" style=\"direction:rtl;line-height:300%;\">\n",
    "\t<font face=\"XB Zar\" size=5>\n",
    "                <hr/> \n",
    "       ۵۰۰۰۰ نمونه از متغیر تصادفی uniform بین ۰ و ۱ تولید کرده و تابع بالا را روی آن اعمال کنید. پارامتر توزیع نمایی را دلخواه در نظر بگیرید ولی آن را ذکر کنید. نتیجه را بر روی نمودار نمایش دهید. \n",
    "   </font>\n",
    "</div>\n",
    "    </font>\n",
    "</div>"
   ]
  },
  {
   "cell_type": "code",
   "execution_count": 3,
   "metadata": {},
   "outputs": [
    {
     "name": "stdout",
     "output_type": "stream",
     "text": [
      "[1] 18385\n"
     ]
    },
    {
     "data": {
      "image/png": "[encoded data removed]",
      "text/plain": [
       "Plot with title \"Histogram of e\""
      ]
     },
     "metadata": {
      "image/png": {
       "height": 420,
       "width": 420
      },
      "text/plain": {
       "height": 420,
       "width": 420
      }
     },
     "output_type": "display_data"
    }
   ],
   "source": [
    "#lambda = 1\n",
    "u <- runif(50000)\n",
    "e <- sapply(u, function(x) -log(1-x))\n",
    "print(length(e[e > 1]))\n",
    "hist(e)"
   ]
  },
  {
   "cell_type": "markdown",
   "metadata": {},
   "source": [
    "<div dir = \"rtl\" style=\"direction:rtl;line-height:300%;\">\n",
    "\t<font face=\"XB Zar\" size=5>\n",
    "        <hr/>\n",
    "۵۰۰۰۰ نمونه از متغیر تصادفی binomial با استفاده از متغیرهای تصادفی از توزیع نمایی که در مرحله ی قبل به دست آورده اید تولید کرده و بر روی نمودار نمایش دهید.<br/>\n",
    "        پارامترهای توزیع را دلخواه انتخاب کنید ولی آن ها را ذکر کنید.\n",
    "    </font>\n",
    "</div>"
   ]
  },
  {
   "cell_type": "code",
   "execution_count": 4,
   "metadata": {},
   "outputs": [
    {
     "data": {
      "image/png": "[encoded data removed]",
      "text/plain": [
       "Plot with title \"Histogram of d\""
      ]
     },
     "metadata": {
      "image/png": {
       "height": 420,
       "width": 420
      },
      "text/plain": {
       "height": 420,
       "width": 420
      }
     },
     "output_type": "display_data"
    }
   ],
   "source": [
    "# n = 10000, p = 0.1\n",
    "n = 10000\n",
    "p = 0.3\n",
    "d <- sapply(e, function(x) qbinom(pexp(x, rate=1), n, p))\n",
    "hist(d)"
   ]
  }
 ],
 "metadata": {
  "kernelspec": {
   "display_name": "R",
   "language": "R",
   "name": "ir"
  },
  "language_info": {
   "codemirror_mode": "r",
   "file_extension": ".r",
   "mimetype": "text/x-r-source",
   "name": "R",
   "pygments_lexer": "r",
   "version": "3.6.1"
  }
 },
 "nbformat": 4,
 "nbformat_minor": 2
}
