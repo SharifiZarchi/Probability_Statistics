{
 "cells": [
  {
   "cell_type": "markdown",
   "metadata": {},
   "source": [
    "<div style=\"direction:rtl;line-height:300%;\">\n",
    "\t<font face=\"XB Zar\" size=5>\n",
    "\t\t<div align=center>\n",
    "\t\t\t<font face=\"IranNastaliq\" size=30>\n",
    "\t\t\t\t<p></p>\n",
    "\t\t\t\t<p></p>\n",
    "به نام خدا\n",
    "\t\t\t\t<p></p>\n",
    "\t\t\t</font>\n",
    "\t\t\t<font color=#FF7500>\n",
    "دانشگاه صنعتی شریف - دانشکده مهندسی کامپیوتر\n",
    "            </font>\n",
    "\t\t\t<p></p>\n",
    "\t\t\t<font color=blue>\n",
    "آمار و احتمال مهندسی\n",
    "            </font>\n",
    "\t\t\t<br />\n",
    "\t\t\t<br />\n",
    "پاییز ۱۳۹۸\n",
    "\t\t</div>\n",
    "\t\t<hr/>\n",
    "\t\t<div align=center>\n",
    "\t\t    <font color=red size=6>\n",
    "\t\t\t    <br />\n",
    "تمرین عملی بخش هفتم\n",
    "            \t<br/>\n",
    "\t\t\t</font>\n",
    "طراح: متین خواجوی، آترین آریا\n",
    "\t\t\t<br/><br/>\n",
    "موعد تحویل:  ساعت ۲۳:۵۹  \n",
    "                <br/>\n",
    "                همفکری در تمامی تمرین‌های درس توصیه می‌شود. در عین حال از شما خواسته می‌شود تا تمام پیاده‌سازی را به تنهایی و بدون مشاهده کد دیگران انجام دهید.\n",
    "                <br/><br/>\n",
    "                <font color=red>\n",
    "                لطفا در فایل ارسالی تمام بلوک‌های کد اجرا شده و شامل نمودار‌ها و خروجی‌های لازم باشند.\n",
    "     </font>\n",
    "                <br/>\n",
    "        </style>\n",
    "\t</font>\n",
    "</div>"
   ]
  },
  {
   "cell_type": "markdown",
   "metadata": {},
   "source": [
    "نام و نام خانوادگی"
   ]
  },
  {
   "cell_type": "code",
   "execution_count": null,
   "metadata": {},
   "outputs": [],
   "source": [
    "شماره دانشجویی"
   ]
  },
  {
   "cell_type": "markdown",
   "metadata": {},
   "source": [
    "نام افرادی که با آنها مشورت کرده اید"
   ]
  },
  {
   "cell_type": "markdown",
   "metadata": {},
   "source": [
    "<div dir = \"rtl\" style=\"direction:rtl;line-height:300%;\">\n",
    "\t<font face=\"XB Zar\" size=5>\n",
    "\t\t<font color=#FF7500 size=6>\n",
    "            سوال اول\n",
    "        </font>\n",
    "        <hr/>\n",
    "        داده‌ی Weight-Height شامل قد (بر حسب inch)، وزن (بر حسب pound) و جنسیت ۱۰۰۰ نفر است. در این تمرین می‌خواهیم با استفاده از Chi-Square goodness of fit test بررسی کنیم که آیا قد این افراد از توزیع نرمال پیروی می‌کند یا خیر. آلفا را ۰.۰۵ در نظر بگیرید. \n",
    "        <br>\n",
    "                در این تمرین حق استفاده از حلقه را ندارید و باید با استفاده از ابزار‌های برداری خود R سوال را حل کنید. همچنین امکان استفاده از توابع آماده برای آزمون فرض مانند ()chisq.test را نیز ندارید.\n",
    "        <br>\n",
    "        ابتدا فرض صفر و فرض جایگزین را بیان کنید. سپس آماره‌ی $\\chi_0^2$ را محاسبه کنید.\n",
    "          برای این کار داده‌ها را به ۱۰ بازه تقسیم کنید و طول بازه‌ها را طوری تعیین کنید که احتمال همه‌ی بازه‌ها برابر شود.\n",
    "        <br>\n",
    "        راهنمایی: در بین توابع مربوط به توزیع های احتمالاتی،\n",
    "        خروجی آن دسته توابعی که نامشان\n",
    "        با\n",
    "        q\n",
    "        آغاز میشد، چه بود و چه کاری انجام میدادند؟\n",
    "    </font>\n",
    "</div>"
   ]
  },
  {
   "cell_type": "markdown",
   "metadata": {},
   "source": [
    "<div dir = \"rtl\" style=\"direction:rtl;line-height:300%;\">\n",
    "\t<font face=\"XB Zar\" size=5>\n",
    "           پاسخ:\n",
    "    </font>\n",
    "</div>"
   ]
  },
  {
   "cell_type": "code",
   "execution_count": null,
   "metadata": {},
   "outputs": [],
   "source": []
  },
  {
   "cell_type": "markdown",
   "metadata": {},
   "source": [
    "<div dir = \"rtl\" style=\"direction:rtl;line-height:300%;\">\n",
    "\t<font face=\"XB Zar\" size=5>\n",
    "        حال به اندازه‌ی کافی از توزیع chi-square مورد نظر نمونه بگیرید و نمودار آن را رسم کنید. در این نمودار ناحیه‌ای را که مربوط به نمونه‌های شدیدتر از آماره‌ی محاسبه شده است را مشخص کنید. سپس با استفاده از آماره‌ی محاسبه شده مقدار p-value را محاسبه کنید و با استفاده از آزمون فرض ذکر شده، فرض صفر خود را بسنجید.\n",
    "    </font>\n",
    "</div>"
   ]
  },
  {
   "cell_type": "markdown",
   "metadata": {},
   "source": [
    "<div dir = \"rtl\" style=\"direction:rtl;line-height:300%;\">\n",
    "\t<font face=\"XB Zar\" size=5>\n",
    "        پاسخ:\n",
    "    </font>\n",
    "</div>"
   ]
  },
  {
   "cell_type": "code",
   "execution_count": null,
   "metadata": {},
   "outputs": [],
   "source": []
  },
  {
   "cell_type": "markdown",
   "metadata": {},
   "source": [
    "<div dir = \"rtl\" style=\"direction:rtl;line-height:300%;\">\n",
    "\t<font face=\"XB Zar\" size=5>\n",
    "\t\t<font color=#FF7500 size=6>\n",
    "            سوال دوم\n",
    "        </font>\n",
    "        <hr/>\n",
    "        در این تمرین با رویکرد بیزی بیشتر آشنا می‌شویم.\n",
    "        <br>\n",
    "        در این تمرین حق استفاده از حلقه را ندارید و باید با استفاده از ابزار‌های برداری خود R سوال را حل کنید.\n",
    "        <br>\n",
    "        تنها قسمتی که در آن حق استفاده از لایبرری LearnBayes را دارید قسمت اول سوال است. امکان استفاده از لایبرری‌های آماده‌ی دیگر نیست.\n",
    "        <br>\n",
    "        می‌خواهیم ببینیم چند درصد از سفرهایی که در تهران انجام می‌شود زیر نیم ساعت طول می‌کشد. به این منظور از سه نفر خواسته‌ایم این مقدار را تخمین بزنند.\n",
    "        <br>\n",
    "        نفر اول و دوم از آن‌جایی که با توزیع بتا آشنایی دارند حدس خود را با استفاده از این توزیع بیان می‌کنند. حدس نفر اول این است که مقدار مورد نظر نزدیک ۰.۲ است و احتمال این که مقدار مورد نظر از ۰.۵ بیشتر شود برابر ۰.۲ است و احتمال این که مقدار مورد نظر از ۰.۱ کمتر شود برابر ۰.۰۵ است. حدس نفر دوم این است که مقدار مورد نظر حدود ۰.۹ است و احتمال این که این مقدار از ۰.۸ کمتر باشد برابر ۰.۰۱ است و احتمال این که این مقدار از ۰.۹۵ بیشتر شود ۰.۱ است. پارامترهای توزیع بتای مربوط به هر کدام از حدس‌ها را طوری بیابید که توزیع نهایی تا حد ممکن به باور افراد نزدیک باشد. می‌توانید از تابع ()beta.select در LearnBayes نیز استفاده کنید.\n",
    "        <br>\n",
    "        راهنمایی: سعی کنید تابعی تعریف کنید که آلفا و بتا را به عنوان ورودی بگیرد و عدد خروجی نشان‌دهنده‌ی میزان نزدیک بودن این توزیع به توزیع مورد نظر باشد. هدف مینیموم کردن این تابع است. \n",
    "    </font>\n",
    "</div>"
   ]
  },
  {
   "cell_type": "code",
   "execution_count": null,
   "metadata": {
    "scrolled": false
   },
   "outputs": [],
   "source": []
  },
  {
   "cell_type": "markdown",
   "metadata": {},
   "source": [
    "<div dir = \"rtl\" style=\"direction:rtl;line-height:300%;\">\n",
    "\t<font face=\"XB Zar\" size=5>\n",
    "        نفر سوم با توزیع بتا آشنایی ندارد. او حدس خود را به این صورت بیان می‌کند:\n",
    "        <br>\n",
    "        احتمال اینکه مقدار مورد نظر در بازه‌های \n",
    "        $(0, 0.1), (0.1, 0.2), ..., (0.9, 1)$ \n",
    "   باشد به ترتیب متناسب است با \n",
    "   $1, 1, 1, 1, 2, 3, 3, 5, 4, 2$. برای مدل کردن این توزیع ۱۰۰۰ نقطه در بازه‌ی ۰ تا ۱ در نظر بگیرید. سپس مقدار pdf متناظر با هر کدام از این نقاط را به دست آورید. این مقادیر را در متغیر prior نگه‌دارید.\n",
    "    </font>\n",
    "</div>"
   ]
  },
  {
   "cell_type": "code",
   "execution_count": null,
   "metadata": {
    "scrolled": false
   },
   "outputs": [],
   "source": []
  },
  {
   "cell_type": "markdown",
   "metadata": {},
   "source": [
    "<div dir = \"rtl\" style=\"direction:rtl;line-height:300%;\">\n",
    "\t<font face=\"XB Zar\" size=5>\n",
    "        توزیع‌های prior متناظر با این سه نفر را در یک نمودار رسم کنید. واریانس تخمینی این توزیع‌ها را نیز به دست آورید.\n",
    "    </font>\n",
    "</div>"
   ]
  },
  {
   "cell_type": "code",
   "execution_count": null,
   "metadata": {},
   "outputs": [],
   "source": []
  },
  {
   "cell_type": "markdown",
   "metadata": {},
   "source": [
    "<div dir = \"rtl\" style=\"direction:rtl;line-height:300%;\">\n",
    "\t<font face=\"XB Zar\" size=5>\n",
    "        حال داده‌های زمان مربوط به ۵۰ سفر در اختیارمان قرار داده شده است. زمان ۲۰ سفر از نیم ساعت کمتر بوده است. posterior مربوط به هر سه نفر را به دست آورید و از آن‌ها به اندازه‌ی کافی نمونه بگیرید. با استفاده از نمونه‌ها توزیع posterior مربوط به هر سه نفر را در یک نمودار رسم کنید. واریانس تخمینی این توزیع‌ها را نیز به دست آورید. سپس تخمین MAP هر سه نفر را از روی posterior به دست بیاورید. دلیل برخی تفاوت‌ها در این تخمین‌ها چیست؟ توضیح دهید.\n",
    "    </font>\n",
    "</div>"
   ]
  },
  {
   "cell_type": "markdown",
   "metadata": {},
   "source": [
    "<div dir = \"rtl\" style=\"direction:rtl;line-height:300%;\">\n",
    "\t<font face=\"XB Zar\" size=5>\n",
    "        پاسخ:\n",
    "    </font>\n",
    "</div>"
   ]
  },
  {
   "cell_type": "code",
   "execution_count": null,
   "metadata": {},
   "outputs": [],
   "source": []
  },
  {
   "cell_type": "markdown",
   "metadata": {},
   "source": [
    "<div dir = \"rtl\" style=\"direction:rtl;line-height:300%;\">\n",
    "\t<font face=\"XB Zar\" size=5>\n",
    "        حال ۱۲۵۰۰ داده‌ی دیگر در اختیارمان قرار می‌گیرد. ۴۵۰۰ سفر از ۱۲۵۰۰ سفر زیر نیم ساعت بوده‌اند. مانند قسمت قبل posterior را به دست آورده، از آن نمونه بگیرید و واریانس تخمینی هر سه توزیع را به دست آورید. با دیدن داده واریانس چه تغییری می‌کند؟ حال تخمین MAP هر سه نفر را به دست آورید. در آخر این تخمین‌ها را با تخمین ML داده‌ها مقایسه کنید و نتایج مشاهدات خود را شرح دهید.\n",
    "    </font>\n",
    "</div>"
   ]
  },
  {
   "cell_type": "markdown",
   "metadata": {},
   "source": [
    "<div dir = \"rtl\" style=\"direction:rtl;line-height:300%;\">\n",
    "\t<font face=\"XB Zar\" size=5>\n",
    "       پاسخ:\n",
    "    </font>\n",
    "</div>"
   ]
  },
  {
   "cell_type": "code",
   "execution_count": null,
   "metadata": {},
   "outputs": [],
   "source": []
  },
  {
   "cell_type": "markdown",
   "metadata": {},
   "source": [
    "<div dir = \"rtl\" style=\"direction:rtl;line-height:300%;\">\n",
    "\t<font face=\"XB Zar\" size=5>\n",
    "\t\t<font color=#FF7500 size=6>\n",
    "            سوال سوم\n",
    "        </font>\n",
    "        <hr/>\n",
    "        در این تمرین می‌خواهیم به پیاده‌سازی رگرسیون خطی ساده بپردازیم.\n",
    "        <br>\n",
    "        در این تمرین حق استفاده از حلقه را ندارید و باید با استفاده از ابزار‌های برداری خود R سوال را حل کنید.\n",
    "        <br>\n",
    "        حق استفاده از توابع آماده رگرسیون را نیز ندارید.\n",
    "        <br>\n",
    "        داده مورد استفاده در این تمرین، داده Advertising می‌باشد.\n",
    "        <br>\n",
    "        این داده اطلاعات میزان فروش یک کالا را بر اساس میزان هزینه‌های متفاوتِ تبلیغات در رادیو ، روزنامه و تلویزیون دارد و ما به عنوان یک مشاور فروش می‌خواهیم برنامه‌ای برای تبلیغات سال بعد ارائه کنیم.\n",
    "        <br><br>\n",
    "        می‌خواهیم میزان فروش را بر اساس رادیو دریابیم. اگر میزان فروش Y و X تبلیغ در رادیو باشد:\n",
    "        <br>\n",
    "        Y را به صورت $Y \\approx \\beta_0 + \\beta_1 X$ مدل می‌کنیم.\n",
    "        <br>\n",
    "        <br>\n",
    "        حال ما می‌خواهیم $\\hat{y} = \\hat{\\beta_0} + \\hat{\\beta_1}x$ را بدست‌آوریم.\n",
    "        <br>\n",
    "        در بخش اول، داده را بخوانید و با پیاده کردن روش کمترین مربعات مقادیر $\\hat{\\beta_0}$ و $\\hat{\\beta_1}$ را بدست‌آورید.\n",
    "    </font>\n",
    "</div>"
   ]
  },
  {
   "cell_type": "code",
   "execution_count": null,
   "metadata": {},
   "outputs": [],
   "source": [
    "\n",
    "\n"
   ]
  },
  {
   "cell_type": "markdown",
   "metadata": {},
   "source": [
    "<div dir = \"rtl\" style=\"direction:rtl;line-height:300%;\">\n",
    "\t<font face=\"XB Zar\" size=5>\n",
    "     حال با داشتن $\\hat{\\beta_0}$ و $\\hat{\\beta_1}$ ، استاندارد ارور هریک از این پارامتر هارا محاسبه کنید و در نهایت بازه اطمینان 95 درصدی برای هریک بسازید.   \n",
    "\t</font>\n",
    "</div>"
   ]
  },
  {
   "cell_type": "code",
   "execution_count": null,
   "metadata": {},
   "outputs": [],
   "source": [
    "\n",
    "\n"
   ]
  },
  {
   "cell_type": "markdown",
   "metadata": {},
   "source": [
    "<div dir = \"rtl\" style=\"direction:rtl;line-height:300%;\">\n",
    "\t<font face=\"XB Zar\" size=5>\n",
    "    حال t-statistic را برای هر یک محاسبه کنید و با ساخت یک آزمون فرض بگویید که آیا هر یک از این مقادیر تاثیری در پیشبینی Y دارند یا خیر.\n",
    "    </font>\n",
    "</div>"
   ]
  },
  {
   "cell_type": "code",
   "execution_count": null,
   "metadata": {},
   "outputs": [],
   "source": [
    "\n",
    "\n"
   ]
  },
  {
   "cell_type": "markdown",
   "metadata": {},
   "source": [
    "<div dir = \"rtl\" style=\"direction:rtl;line-height:300%;\">\n",
    "\t<font face=\"XB Zar\" size=5>\n",
    "    در نهایت با کمی تحقیق در مورد Prediction Interval ، مقدار فروش را برای X = 300 محاسبه کنید و بازه 95 درصدی حول آن بسازید.\n",
    "    </font>\n",
    "</div>"
   ]
  },
  {
   "cell_type": "code",
   "execution_count": null,
   "metadata": {},
   "outputs": [],
   "source": [
    "\n",
    "\n"
   ]
  },
  {
   "cell_type": "markdown",
   "metadata": {},
   "source": [
    "<div dir = \"rtl\" style=\"direction:rtl;line-height:300%;\">\n",
    "\t<font face=\"XB Zar\" size=5>\n",
    "    مقدار $R^2$ را بیابید. حال با دستور cor ، همبستگی رادیو و میزان فروش را بیابید. چه رابطه‌ای بین این دو مقدار وجود دارد ؟ توضیح دهید.\n",
    "    </font>\n",
    "</div>"
   ]
  },
  {
   "cell_type": "code",
   "execution_count": null,
   "metadata": {},
   "outputs": [],
   "source": [
    "# cor(Advertising$sales, Advertising$radio)\n",
    "\n"
   ]
  }
 ],
 "metadata": {
  "kernelspec": {
   "display_name": "R",
   "language": "R",
   "name": "ir"
  },
  "language_info": {
   "codemirror_mode": "r",
   "file_extension": ".r",
   "mimetype": "text/x-r-source",
   "name": "R",
   "pygments_lexer": "r",
   "version": "3.5.1"
  }
 },
 "nbformat": 4,
 "nbformat_minor": 2
}
