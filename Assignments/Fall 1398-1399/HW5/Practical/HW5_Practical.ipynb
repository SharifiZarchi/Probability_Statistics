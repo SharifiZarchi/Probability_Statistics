{
 "cells": [
  {
   "cell_type": "markdown",
   "metadata": {},
   "source": [
    "<div style=\"direction:rtl;line-height:300%;\">\n",
    "\t<font face=\"XB Zar\" size=5>\n",
    "\t\t<div align=center>\n",
    "\t\t\t<font face=\"IranNastaliq\" size=30>\n",
    "\t\t\t\t<p></p>\n",
    "\t\t\t\t<p></p>\n",
    "به نام خدا\n",
    "\t\t\t\t<p></p>\n",
    "\t\t\t</font>\n",
    "\t\t\t<font color=#FF7500>\n",
    "دانشگاه صنعتی شریف - دانشکده مهندسی کامپیوتر\n",
    "            </font>\n",
    "\t\t\t<p></p>\n",
    "\t\t\t<font color=blue>\n",
    "آمار و احتمال مهندسی\n",
    "            </font>\n",
    "\t\t\t<br />\n",
    "\t\t\t<br />\n",
    "پاییز ۱۳۹۸\n",
    "\t\t</div>\n",
    "\t\t<hr/>\n",
    "\t\t<div align=center>\n",
    "\t\t    <font color=red size=6>\n",
    "\t\t\t    <br />\n",
    "تمرین عملی بخش پنجم\n",
    "            \t<br/>\n",
    "\t\t\t</font>\n",
    "طراح: علیرضا موسوی حسینی\n",
    "\t\t\t<br/><br/>\n",
    "موعد تحویل: TBA  \n",
    "                <br/>\n",
    "                همفکری در تمامی تمرین‌های درس توصیه می‌شود. در عین حال از شما خواسته می‌شود تا تمام پیاده‌سازی را به تنهایی و بدون مشاهده کد دیگران انجام دهید.\n",
    "                <br/><br/>\n",
    "                <font color=red>\n",
    "                لطفا در فایل ارسالی تمام بلوک‌های کد اجرا شده و شامل نمودار‌ها و خروجی‌های لازم باشند.\n",
    "     </font>\n",
    "                <br/>\n",
    "        </style>\n",
    "\t</font>\n",
    "</div>"
   ]
  },
  {
   "cell_type": "markdown",
   "metadata": {},
   "source": [
    "نام و نام خانوادگی"
   ]
  },
  {
   "cell_type": "markdown",
   "metadata": {},
   "source": [
    "شماره دانشجویی"
   ]
  },
  {
   "cell_type": "markdown",
   "metadata": {},
   "source": [
    "نام افرادی که با آنها مشورت کرده اید"
   ]
  },
  {
   "cell_type": "markdown",
   "metadata": {},
   "source": [
    "<div dir = \"rtl\" style=\"direction:rtl;line-height:300%;\">\n",
    "\t<font face=\"XB Zar\" size=5>\n",
    "\t\t<font color=#FF7500 size=6>\n",
    "            سوال اول\n",
    "        </font>\n",
    "        <hr/>\n",
    "        <ul> \n",
    "        در این سوال می‌خواهیم امتیاز‌های یک رستوران را در جامعه‌ای که افراد به شدت تحت تاثیر یکدیگرند بررسی کنیم.  فرض کنید یک اپلیکیشن امتیازدهی وجود دارد و هر شخصی که از رستوران بیرون می‌آید، می‌تواند امتیازی به صورت یک عدد صحیح بین یک تا پنج به رستوران بدهد. از طرفی اشخاص همیشه بالاترین نظر که نظر شخص قبلی است را می‌خوانند و امتیاز آن نظر روی آن‌ها تاثیر می‌گذارد.\n",
    "        </ul>\n",
    "        <ul>\n",
    "            الف)متغیر تصادفی امتیاز داده شده توسط شخص $i$ام را با $X_i$ نمایش می‌دهیم. تابع ساده زیر توزیع احتمال $P(X_i|X_{i-1})$ را پیاده سازی می‌کند. عضو $j$ام بردار خروجی این تابع برابر است با $P(X_i = j|X_{i-1} = \\text{last_score})$. همچنین فرض می‌کنیم توزیع $P(X_1)$ یکنواخت است.\n",
    "        </ul>\n",
    "    </font>\n",
    "</div>"
   ]
  },
  {
   "cell_type": "code",
   "execution_count": null,
   "metadata": {},
   "outputs": [],
   "source": [
    "prob_next_score <- function(last_score) {\n",
    "    if (last_score < 3)\n",
    "        c(0.3, 0.4, 0.2, 0.1, 0.0)\n",
    "    else\n",
    "        c(0.0, 0.0, 0.2, 0.4, 0.4)\n",
    "}"
   ]
  },
  {
   "cell_type": "markdown",
   "metadata": {},
   "source": [
    "<div dir = \"rtl\" style=\"direction:rtl;line-height:300%;\">\n",
    "\t<font face=\"XB Zar\" size=5>\n",
    "        <ul>\n",
    "        <li>\n",
    "تابعی پیاده‌سازی کنید که با گرفتن یک بردار از نمونه‌های تصادفی $X_{i-1}$، یک بردار از نمونه‌های تصادفی $X_i$ با توجه به توزیع احتمال بالا بازگرداند، به گونه‌ای که نمونه $j$ام گرفته شده از توزیع $X_i$ متناظر با نمونه $j$ام از $X_{i-1}$ باشد.\n",
    "        </li>\n",
    "        </ul>\n",
    "\t</font>\n",
    "</div>"
   ]
  },
  {
   "cell_type": "markdown",
   "metadata": {},
   "source": [
    "<div dir = \"rtl\" style=\"direction:rtl;line-height:300%;\">\n",
    "\t<font face=\"XB Zar\" size=5>\n",
    "\t\t<font color=#FF7500 size=6>\n",
    "        </font>\n",
    "        پاسخ:\n",
    "\t</font>\n",
    "</div>"
   ]
  },
  {
   "cell_type": "code",
   "execution_count": null,
   "metadata": {
    "collapsed": true
   },
   "outputs": [],
   "source": []
  },
  {
   "cell_type": "markdown",
   "metadata": {},
   "source": [
    "<div dir = \"rtl\" style=\"direction:rtl;line-height:300%;\">\n",
    "\t<font face=\"XB Zar\" size=5>\n",
    "        <ul>\n",
    "        <li>\n",
    "            با کمک تابع فوق یک نمونه ۱۰۰۰۰تایی از $X_{100}$ بگیرید و هیستوگرام آن را رسم کنید.\n",
    "        </li>\n",
    "        </ul>\n",
    "\t</font>\n",
    "</div>"
   ]
  },
  {
   "cell_type": "markdown",
   "metadata": {},
   "source": [
    "<div dir = \"rtl\" style=\"direction:rtl;line-height:300%;\">\n",
    "\t<font face=\"XB Zar\" size=5>\n",
    "\t\t<font color=#FF7500 size=6>\n",
    "        </font>\n",
    "        پاسخ:\n",
    "\t</font>\n",
    "</div>"
   ]
  },
  {
   "cell_type": "code",
   "execution_count": null,
   "metadata": {
    "collapsed": true
   },
   "outputs": [],
   "source": []
  },
  {
   "cell_type": "markdown",
   "metadata": {},
   "source": [
    "<div dir = \"rtl\" style=\"direction:rtl;line-height:300%;\">\n",
    "\t<font face=\"XB Zar\" size=5>\n",
    "        <ul>\n",
    "        ب) نوبت بررسی روابط بین متغیرهاست\n",
    "        </ul>\n",
    "        <ul>\n",
    "        <li>\n",
    "        تابع $f(i)$ برای عدد طبیعی $i$ را به شکل زیر تعریف می‌کنیم\n",
    "            $$f(i) = Corr(X_1, X_i)$$\n",
    "            نمودار $f(i)$ را برحسب $i$ در بازه $1 \\leq i \\leq 100$ بکشید. برای تخمین ضریب همبستگی بین دو متغیر تصادفی می‌توانید از نمونه‌های ۵۰۰۰تایی استفاده کنید. از این نمودار چه برداشتی می‌کنید؟\n",
    "        </li>\n",
    "        </ul>\n",
    "\t</font>\n",
    "</div>"
   ]
  },
  {
   "cell_type": "markdown",
   "metadata": {},
   "source": [
    "<div dir = \"rtl\" style=\"direction:rtl;line-height:300%;\">\n",
    "\t<font face=\"XB Zar\" size=5>\n",
    "\t\t<font color=#FF7500 size=6>\n",
    "        </font>\n",
    "        پاسخ:\n",
    "\t</font>\n",
    "</div>"
   ]
  },
  {
   "cell_type": "code",
   "execution_count": null,
   "metadata": {},
   "outputs": [],
   "source": []
  },
  {
   "cell_type": "markdown",
   "metadata": {},
   "source": [
    "<div dir = \"rtl\" style=\"direction:rtl;line-height:300%;\">\n",
    "\t<font face=\"XB Zar\" size=5>\n",
    "        <ul>\n",
    "        <li>\n",
    "        نمودار هیستوگرام $X_{100}$ را به ازای سه مقدار $X_1 = 1$، $X_1 = 3$ و $X_1 = 5$ رسم کنید. با توجه به این سه نمودار درباره استقلال $X_{100}$ و $X_1$ چه می‌توان گفت.\n",
    "        </ul>\n",
    "\t</font>\n",
    "</div>"
   ]
  },
  {
   "cell_type": "markdown",
   "metadata": {},
   "source": [
    "<div dir = \"rtl\" style=\"direction:rtl;line-height:300%;\">\n",
    "\t<font face=\"XB Zar\" size=5>\n",
    "\t\t<font color=#FF7500 size=6>\n",
    "        </font>\n",
    "        پاسخ:\n",
    "\t</font>\n",
    "</div>"
   ]
  },
  {
   "cell_type": "code",
   "execution_count": null,
   "metadata": {},
   "outputs": [],
   "source": []
  },
  {
   "cell_type": "markdown",
   "metadata": {},
   "source": [
    "<div dir = \"rtl\" style=\"direction:rtl;line-height:300%;\">\n",
    "\t<font face=\"XB Zar\" size=5>\n",
    "        <ul>\n",
    "        <li>\n",
    "            مرحله بالا را برای بررسی استقلال میان $X_2$ و $X_1$ نیز انجام دهید.\n",
    "        </ul>\n",
    "\t</font>\n",
    "</div>"
   ]
  },
  {
   "cell_type": "markdown",
   "metadata": {},
   "source": [
    "<div dir = \"rtl\" style=\"direction:rtl;line-height:300%;\">\n",
    "\t<font face=\"XB Zar\" size=5>\n",
    "\t\t<font color=#FF7500 size=6>\n",
    "        </font>\n",
    "        پاسخ:\n",
    "\t</font>\n",
    "</div>"
   ]
  },
  {
   "cell_type": "code",
   "execution_count": null,
   "metadata": {},
   "outputs": [],
   "source": []
  },
  {
   "cell_type": "markdown",
   "metadata": {},
   "source": [
    "<div dir = \"rtl\" style=\"direction:rtl;line-height:300%;\">\n",
    "\t<font face=\"XB Zar\" size=5>\n",
    "        <ul>\n",
    "            ج) می‌خواهیم به دو شکل $\\mu = \\mathbb{E}(X_2)$ را تخمین بزنیم.\n",
    "        </ul>\n",
    "        <ul>\n",
    "        <li>\n",
    "         در شیوه اول مستقیما با استفاده از میانگین نمونه گرفته شده برای $X_2$ آن را تخمین بزنید. اندازه نمونه باید به قدری باشد که پس از ۱۰۰ بار تخمین زدن $\\mu$، انحراف معیار تخمین حداکثر ۰.۰۱ برابر میانگین مقادیر تخمین زده شده برای $\\mu$ باشد.\n",
    "        </li>\n",
    "        </ul>\n",
    "\t</font>\n",
    "</div>"
   ]
  },
  {
   "cell_type": "markdown",
   "metadata": {},
   "source": [
    "<div dir = \"rtl\" style=\"direction:rtl;line-height:300%;\">\n",
    "\t<font face=\"XB Zar\" size=5>\n",
    "\t\t<font color=#FF7500 size=6>\n",
    "        </font>\n",
    "        پاسخ:\n",
    "\t</font>\n",
    "</div>"
   ]
  },
  {
   "cell_type": "code",
   "execution_count": null,
   "metadata": {
    "collapsed": true
   },
   "outputs": [],
   "source": []
  },
  {
   "cell_type": "markdown",
   "metadata": {},
   "source": [
    "<div dir = \"rtl\" style=\"direction:rtl;line-height:300%;\">\n",
    "\t<font face=\"XB Zar\" size=5>\n",
    "        <ul>\n",
    "        <li>\n",
    "            در شیوه دوم می‌خواهیم از تخمین مقدار $$\\mathbb{E}(\\mathbb{E}(X_2|X_1))$$ استفاده کنیم. ابتدا به اندازه ۵ برابر بخش قبل نمونه‌های تصادفی توام $X_1$و $X_2$ تولید کنید. با استفاده از این نمونه‌ها ابتدا $\\mathbb{E}(X_2|X_1)$ را به ازای $X_1$های مختلف تخمین زده و سپس با توجه به فراوانی نمونه‌های $X_1$ مقدار $\\mathbb{E}(\\mathbb{E}(X_2|X_1))$ را تخمین بزنید. استفاده از کتابخانه dplyr در این قسمت می‌تواند به خلاصه نویسی کد شما کمک کند!\n",
    "            <br>\n",
    "            این فرآیند به شکلی بسیار ساده شهود پشت قضیه امید ریاضی کل یا $\\mathbb{E}(\\mathbb{E}(X|Y)) = \\mathbb{E}(X)$ را مشخص می‌کند.\n",
    "        </li>\n",
    "        </ul>\n",
    "\t</font>\n",
    "</div>"
   ]
  },
  {
   "cell_type": "markdown",
   "metadata": {},
   "source": [
    "<div dir = \"rtl\" style=\"direction:rtl;line-height:300%;\">\n",
    "\t<font face=\"XB Zar\" size=5>\n",
    "\t\t<font color=#FF7500 size=6>\n",
    "        </font>\n",
    "        پاسخ:\n",
    "\t</font>\n",
    "</div>"
   ]
  },
  {
   "cell_type": "code",
   "execution_count": null,
   "metadata": {},
   "outputs": [],
   "source": []
  },
  {
   "cell_type": "markdown",
   "metadata": {},
   "source": [
    "<div dir = \"rtl\" style=\"direction:rtl;line-height:300%;\">\n",
    "\t<font face=\"XB Zar\" size=5>\n",
    "\t\t<font color=#FF7500 size=6>\n",
    "            سوال دوم\n",
    "        </font>   \n",
    "        <hr/>\n",
    "             <ul>\n",
    "یک مثلث تصادفی در ناحیه $S$ مثلثی است که سه راسش متغیر‌های تصادفی مستقل با توزیع احتمال یکنواخت در ناحیه $S$ باشند. در این سوال می‌خواهیم مساحت این مثلث‌های تصادفی را در ناحیه \n",
    "                 $$S = \\{(x,y) \\in \\mathbb{R}^2 \\mid -10 \\leq x \\leq 10, -10 \\leq y \\leq 10\\}$$\n",
    "                 بررسی کنیم.\n",
    "            </ul>\n",
    "        <ul>\n",
    "        الف)متغیر تصادفی مساحت این مثلث‌های تصادفی را با $A$ نمایش می‌دهیم.\n",
    "        </ul>\n",
    "        <ul>\n",
    "        <li>\n",
    "        تابعی بنویسید که با ورودی گرفتن عدد دلخواه $n$ یک بردار $n$تایی از نمونه‌های تصادفی $A$ را برگرداند.\n",
    "        </li>\n",
    "        </ul>\n",
    "    </font>\n",
    "</div>"
   ]
  },
  {
   "cell_type": "markdown",
   "metadata": {},
   "source": [
    "<div dir = \"rtl\" style=\"direction:rtl;line-height:300%;\">\n",
    "\t<font face=\"XB Zar\" size=5>\n",
    "        پاسخ:\n",
    "\t</font>\n",
    "</div>"
   ]
  },
  {
   "cell_type": "code",
   "execution_count": null,
   "metadata": {
    "collapsed": true
   },
   "outputs": [],
   "source": []
  },
  {
   "cell_type": "markdown",
   "metadata": {},
   "source": [
    "<div dir = \"rtl\" style=\"direction:rtl;line-height:300%;\">\n",
    "\t<font face=\"XB Zar\" size=5>\n",
    "        <ul>\n",
    "              <li>\n",
    "                  با استفاده از تابع فوق، تابع توزیع چگالی احتمال تجربی $A$ را رسم کنید. دقت کنید که انتخاب تعداد مناسب نمونه‌گیری برای هموار بودن خم رسم شده اهمیت دارد پس از هیستوگرام استفاده نکنید!\n",
    "              </li>\n",
    "        </ul>\n",
    "\t</font>\n",
    "</div>"
   ]
  },
  {
   "cell_type": "markdown",
   "metadata": {},
   "source": [
    "<div dir = \"rtl\" style=\"direction:rtl;line-height:300%;\">\n",
    "\t<font face=\"XB Zar\" size=5>\n",
    "        پاسخ:\n",
    "\t</font>\n",
    "</div>"
   ]
  },
  {
   "cell_type": "code",
   "execution_count": null,
   "metadata": {
    "collapsed": true
   },
   "outputs": [],
   "source": []
  },
  {
   "cell_type": "markdown",
   "metadata": {},
   "source": [
    "<div dir = \"rtl\" style=\"direction:rtl;line-height:300%;\">\n",
    "\t<font face=\"XB Zar\" size=5>\n",
    "        <ul>\n",
    "            ب) حال می‌توانیم به کمک قانون اعداد بزرگ درباره $\\mu = \\mathbb{E}(A)$ اطلاعاتی کسب کنیم.\n",
    "            <li>\n",
    "                متغیر تصادفی میانگین نمونه $\\bar{A}_n = \\frac{\\sum_{i=1}^{n}A_i}{n}$ را در نظر بگیرید. مقدار $n$ را از ۱ تا ۱۰۰۰ تغییر دهید و هربار یک نمونه از $\\bar{A}_n$ بگیرید. سپس این نمونه‌ها را بر حسب $n$ رسم کنید. مشاهده این نمودار شما را به یاد کدام قانون می‌اندازد؟!\n",
    "            </li>\n",
    "        </ul>\n",
    "\t</font>\n",
    "</div>"
   ]
  },
  {
   "cell_type": "markdown",
   "metadata": {},
   "source": [
    "<div dir = \"rtl\" style=\"direction:rtl;line-height:300%;\">\n",
    "\t<font face=\"XB Zar\" size=5>\n",
    "        پاسخ:\n",
    "\t</font>\n",
    "</div>"
   ]
  },
  {
   "cell_type": "code",
   "execution_count": null,
   "metadata": {
    "collapsed": true
   },
   "outputs": [],
   "source": []
  },
  {
   "cell_type": "markdown",
   "metadata": {},
   "source": [
    "<div dir = \"rtl\" style=\"direction:rtl;line-height:300%;\">\n",
    "\t<font face=\"XB Zar\" size=5>\n",
    "        <ul>\n",
    "                <li> \n",
    "                 برای بررسی دقیق‌تر قانون اعداد بزرگ به سراغ شکل ضعیف آن می‌رویم\n",
    "                    $$\\forall \\epsilon > 0 \\ \\lim_{n\\to\\infty}P(|\\bar{A}_n - \\mu| \\geq \\epsilon \\mu) = 0$$\n",
    "                    تابع $g(n) = P(|\\bar{A}_n - \\mu| \\geq 0.1\\mu)$ را در نظر بگیرید. می‌خواهیم آن را برحسب $n$ رسم کنیم اما مقدار نظری احتمال و $\\mu$ را نداریم. به این منظور با شبیه‌سازی و تکرار آزمایش (مثلا برای ۱۰۰۰ بار به ازای هر $n$) این احتمال را برای $n$های مختلف تخمین بزنید. برای تخمین $\\mu$ نیز با توجه به نتیجه قسمت قبل منطقیست از یک $n$ نسبتا زیاد (مثلا ۱۰۰۰۰) استفاده کنید. با کمک این نتایج تجربی نمودار $g(n)$ بر حسب $n$ را رسم کنید. نمودار شما باید حدافل شامل ۲۰۰ نقطه باشد و بازه $0 \\leq n \\leq 1000$ را شامل شود.\n",
    "                </li>\n",
    "        </ul>\n",
    "\t</font>\n",
    "</div>"
   ]
  },
  {
   "cell_type": "markdown",
   "metadata": {},
   "source": [
    "<div dir = \"rtl\" style=\"direction:rtl;line-height:300%;\">\n",
    "\t<font face=\"XB Zar\" size=5>\n",
    "        پاسخ:\n",
    "\t</font>\n",
    "</div>"
   ]
  },
  {
   "cell_type": "code",
   "execution_count": null,
   "metadata": {
    "collapsed": true
   },
   "outputs": [],
   "source": []
  },
  {
   "cell_type": "markdown",
   "metadata": {},
   "source": [
    "<div dir = \"rtl\" style=\"direction:rtl;line-height:300%;\">\n",
    "\t<font face=\"XB Zar\" size=5>\n",
    "        <ul>\n",
    "                <li> \n",
    " آیا برای نمایش عملی قانون قوی اعداد بزرگ نیز می‌توان از شیوه فوق (یعنی تخمین احتمال تئوری از طریق تکرار آزمایش)  استفاده کرد؟ چرا؟\n",
    "                </li>\n",
    "        </ul>\n",
    "\t</font>\n",
    "</div>"
   ]
  },
  {
   "cell_type": "markdown",
   "metadata": {},
   "source": [
    "<div dir = \"rtl\" style=\"direction:rtl;line-height:300%;\">\n",
    "\t<font face=\"XB Zar\" size=5>\n",
    "        پاسخ:\n",
    "\t</font>\n",
    "</div>"
   ]
  },
  {
   "cell_type": "markdown",
   "metadata": {
    "collapsed": true
   },
   "source": []
  },
  {
   "cell_type": "markdown",
   "metadata": {},
   "source": [
    "<div dir = \"rtl\" style=\"direction:rtl;line-height:300%;\">\n",
    "\t<font face=\"XB Zar\" size=5>\n",
    "        <ul>\n",
    "            ج) حال نوبت قضیه حد مرکزی است!\n",
    "                <li> \n",
    "                 در سه نمودار مجزا توزیع تجربی چگالی احتمال $\\bar{A}_n$ را به ازای $n$ برابر با ۱۰، ۱۰۰ و ۱۰۰۰ با توزیع نرمال مقایسه کنید. می‌توانید پارامتر‌های مورد نیاز برای توزیع نرمال را از روی نمونه‌های تصادفی گرفته شده از $A$ با اندازه زیاد تخمین بزنید.\n",
    "                </li>\n",
    "        </ul>\n",
    "\t</font>\n",
    "</div>"
   ]
  },
  {
   "cell_type": "markdown",
   "metadata": {},
   "source": [
    "<div dir = \"rtl\" style=\"direction:rtl;line-height:300%;\">\n",
    "\t<font face=\"XB Zar\" size=5>\n",
    "        پاسخ:\n",
    "\t</font>\n",
    "</div>"
   ]
  },
  {
   "cell_type": "code",
   "execution_count": null,
   "metadata": {
    "collapsed": true
   },
   "outputs": [],
   "source": []
  },
  {
   "cell_type": "markdown",
   "metadata": {
    "collapsed": true
   },
   "source": [
    "<div dir = \"rtl\" style=\"direction:rtl;line-height:300%;\">\n",
    "\t<font face=\"XB Zar\" size=5>\n",
    "        <ul>\n",
    "                <li> \n",
    "                نهایتا می‌خواهیم شیوه کاهش \"فاصله\" توزیع احتمال $\\bar{A}_n$ از توزیع نرمال متناظرش را بررسی کنیم. معیار‌های مختلفی برای تعریف فاصله دو توزیع احتمال وجود دارد که ما در اینجا یکی از ساده‌ترین‌ها را انتخاب می‌کنیم. به این ترتیب اگر تابع توزیع تجربی چگالی احتمال $\\bar{A_n}$ را با $p_n$ و تابع چگالی احتمال توزیع نرمال متناظرش را با $f$ نمایش دهیم آن‌گاه:\n",
    "                    $$d(n) = \\frac{\\max_{x}|p_n(x) - f(x)|}{\\max_{x}p_n(x) + f(x)}$$\n",
    "                    با تقسیم بندی دامنه $f$ و $p$ به نقاطی با فاصله کم و جست‌و‌جو برروی آن‌ها تابعی برای محاسبه $d(n)$ برحسب $n$ بنویسید. (راهنمایی: برای به دست آوردن توزیع چگالی تجربی می‌توانید از تابع density در R استفاده کنید)\n",
    "                </li>\n",
    "        </ul>\n",
    "\t</font>\n",
    "</div>"
   ]
  },
  {
   "cell_type": "markdown",
   "metadata": {},
   "source": [
    "<div dir = \"rtl\" style=\"direction:rtl;line-height:300%;\">\n",
    "\t<font face=\"XB Zar\" size=5>\n",
    "\t\t<font color=#FF7500 size=6>\n",
    "        </font>\n",
    "        پاسخ:\n",
    "\t</font>\n",
    "</div>"
   ]
  },
  {
   "cell_type": "code",
   "execution_count": null,
   "metadata": {},
   "outputs": [],
   "source": []
  },
  {
   "cell_type": "markdown",
   "metadata": {},
   "source": [
    "<div dir = \"rtl\" style=\"direction:rtl;line-height:300%;\">\n",
    "\t<font face=\"XB Zar\" size=5>\n",
    "        <ul>\n",
    "                <li> \n",
    "                    در نهایت، نمودار $d(n)$ بر حسب $n$ را در بازه $1 \\leq n \\leq 50$ رسم کنید.\n",
    "                </li>\n",
    "        </ul>\n",
    "\t</font>\n",
    "</div>"
   ]
  },
  {
   "cell_type": "markdown",
   "metadata": {},
   "source": [
    "<div dir = \"rtl\" style=\"direction:rtl;line-height:300%;\">\n",
    "\t<font face=\"XB Zar\" size=5>\n",
    "\t\t<font color=#FF7500 size=6>\n",
    "        </font>\n",
    "        پاسخ:\n",
    "\t</font>\n",
    "</div>"
   ]
  },
  {
   "cell_type": "code",
   "execution_count": null,
   "metadata": {},
   "outputs": [],
   "source": []
  }
 ],
 "metadata": {
  "kernelspec": {
   "display_name": "R",
   "language": "R",
   "name": "ir"
  },
  "language_info": {
   "codemirror_mode": "r",
   "file_extension": ".r",
   "mimetype": "text/x-r-source",
   "name": "R",
   "pygments_lexer": "r",
   "version": "3.5.1"
  },
  "latex_envs": {
   "LaTeX_envs_menu_present": true,
   "autoclose": false,
   "autocomplete": true,
   "bibliofile": "biblio.bib",
   "cite_by": "apalike",
   "current_citInitial": 1,
   "eqLabelWithNumbers": true,
   "eqNumInitial": 1,
   "hotkeys": {
    "equation": "Ctrl-E",
    "itemize": "Ctrl-I"
   },
   "labels_anchors": false,
   "latex_user_defs": false,
   "report_style_numbering": false,
   "user_envs_cfg": false
  },
  "toc": {
   "base_numbering": 1,
   "nav_menu": {},
   "number_sections": true,
   "sideBar": true,
   "skip_h1_title": false,
   "title_cell": "Table of Contents",
   "title_sidebar": "Contents",
   "toc_cell": false,
   "toc_position": {},
   "toc_section_display": true,
   "toc_window_display": false
  },
  "varInspector": {
   "cols": {
    "lenName": 16,
    "lenType": 16,
    "lenVar": 40
   },
   "kernels_config": {
    "python": {
     "delete_cmd_postfix": "",
     "delete_cmd_prefix": "del ",
     "library": "var_list.py",
     "varRefreshCmd": "print(var_dic_list())"
    },
    "r": {
     "delete_cmd_postfix": ") ",
     "delete_cmd_prefix": "rm(",
     "library": "var_list.r",
     "varRefreshCmd": "cat(var_dic_list()) "
    }
   },
   "types_to_exclude": [
    "module",
    "function",
    "builtin_function_or_method",
    "instance",
    "_Feature"
   ],
   "window_display": false
  }
 },
 "nbformat": 4,
 "nbformat_minor": 2
}
