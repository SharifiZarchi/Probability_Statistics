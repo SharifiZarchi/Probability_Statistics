{
 "cells": [
  {
   "cell_type": "markdown",
   "metadata": {},
   "source": [
    "<div style=\"direction:rtl;line-height:300%;\">\n",
    "\t<font face=\"XB Zar\" size=5>\n",
    "\t\t<div align=center>\n",
    "\t\t\t<font face=\"IranNastaliq\" size=30>\n",
    "\t\t\t\t<p></p>\n",
    "\t\t\t\t<p></p>\n",
    "به نام خدا\n",
    "\t\t\t\t<p></p>\n",
    "\t\t\t</font>\n",
    "\t\t\t<font color=#FF7500>\n",
    "دانشگاه صنعتی شریف - دانشکده مهندسی کامپیوتر\n",
    "            </font>\n",
    "\t\t\t<p></p>\n",
    "\t\t\t<font color=blue>\n",
    "آمار و احتمال مهندسی\n",
    "            </font>\n",
    "\t\t\t<br />\n",
    "\t\t\t<br />\n",
    "پاییز ۱۴۰۰\n",
    "\t\t</div>\n",
    "\t\t<hr/>\n",
    "\t\t<div align=center>\n",
    "\t\t    <font color=red size=6>\n",
    "\t\t\t    <br />\n",
    "تمرین عملی بخش پنجم\n",
    "            \t<br/>\n",
    "\t\t\t</font>\n",
    "طراحان: محمدعلی حیدری و محمد مهدی اصمع\n",
    "\t\t\t<br/><br/>\n",
    "موعد تحویل: ۲۹ آذر  \n",
    "                <br/>\n",
    "                همفکری در تمامی تمرین‌های درس توصیه می‌شود. در عین حال از شما خواسته می‌شود تا تمام پیاده‌سازی را به تنهایی و بدون مشاهده کد دیگران انجام دهید.\n",
    "                <br/><br/>\n",
    "                <font color=red>\n",
    "                لطفا در فایل ارسالی تمام بلوک‌های کد اجرا شده و شامل نمودار‌ها و خروجی‌های لازم باشند.\n",
    "     </font>\n",
    "                <br/>\n",
    "        </style>\n",
    "\t</font>\n",
    "</div>"
   ]
  },
  {
   "cell_type": "markdown",
   "metadata": {},
   "source": [
    "<div>\n",
    "نام و نام خانوادگی:\n",
    "<br>\n",
    "شماره دانشجویی:\n",
    "<br>\n",
    "نام افرادی که با آنها مشورت کرده اید:\n",
    "</div>"
   ]
  },
  {
   "cell_type": "markdown",
   "metadata": {},
   "source": [
    "<div dir = \"rtl\" style=\"direction:rtl;line-height:300%;\">\n",
    "\t<font face=\"XB Zar\" size=5>\n",
    "\t\t<font color=#FF7500 size=6>\n",
    "            سوال اول\n",
    "        </font>\n",
    "        <hr/>\n",
    "        <div dir = \"rtl\" style=\"direction:rtl;line-height:300%;text-align:justify\">\n",
    "\t<font face=\"XB Zar\" size=5>\n",
    "در فایل ‍‍‍\n",
    "`normal.csv`\n",
    "نمونه هایی از توزیع نرمال با پارامتر های نامعلوم\n",
    "$\\mu$\n",
    "و\n",
    "$\\sigma^2$\n",
    "آمده است. پارامتر های این توزیع را با استفاده از داده های داده شده تخمین بزنید بطوری که لایکلیهود دیتاست بیشینه شود.</font>\n",
    "</div>\n",
    "    </font>\n",
    "</div>"
   ]
  },
  {
   "cell_type": "code",
   "execution_count": null,
   "metadata": {},
   "outputs": [],
   "source": []
  },
  {
   "cell_type": "markdown",
   "metadata": {},
   "source": [
    "<div dir = \"rtl\" style=\"direction:rtl;line-height:300%;text-align:justify\">\n",
    "<font face=\"XB Zar\" size=5>$\\sigma^2$ را با بازه اطمینان $95\\%$ گزارش کنید.</font>\n",
    "</div>"
   ]
  },
  {
   "cell_type": "code",
   "execution_count": null,
   "metadata": {},
   "outputs": [],
   "source": []
  },
  {
   "cell_type": "markdown",
   "metadata": {},
   "source": [
    "<div dir = \"rtl\" style=\"direction:rtl;line-height:300%;text-align:justify\">\n",
    "<font face=\"XB Zar\" size=5>\n",
    "    به ازای\n",
    "    $\\mu$\n",
    "    های مختلف، لایکلیهود دیتاست داده شده را محاسبه کنید و نمودار لایکلیهود بر حسب\n",
    "    $\\mu$\n",
    "    را رسم کنید. برای کاهش round off error میتوانید از لاگ لایکلیهود استفاده کنید.\n",
    "    </font>\n",
    "</div>"
   ]
  },
  {
   "cell_type": "code",
   "execution_count": null,
   "metadata": {},
   "outputs": [],
   "source": []
  },
  {
   "cell_type": "markdown",
   "metadata": {},
   "source": [
    "<div dir = \"rtl\" style=\"direction:rtl;line-height:300%;\">\n",
    "\t<font face=\"XB Zar\" size=5>\n",
    "\t\t<font color=#FF7500 size=6>\n",
    "            سوال دوم\n",
    "        </font>\n",
    "        <hr/>\n",
    "        <div dir = \"rtl\" style=\"direction:rtl;line-height:300%;text-align:justify\">\n",
    "\t<font face=\"XB Zar\" size=5> \n",
    "        توابع کمکی برای محاسبه \n",
    "        $MSE$\n",
    "        و\n",
    "        $Sample Bias$\n",
    "        و\n",
    "        $Sample Variance$\n",
    "        و\n",
    "        همچنین تابعی برای بدست آوردن estimation داده شده است که در ادامه از آن استفاده میکنیم.\n",
    "        داده شده است. به قسمت های زیر پاسخ دهید.\n",
    "</font>\n",
    "</div>\n",
    "    </font>\n",
    "</div>"
   ]
  },
  {
   "cell_type": "code",
   "execution_count": null,
   "metadata": {
    "scrolled": false
   },
   "outputs": [],
   "source": [
    "get_mse = function(estimate, truth) {\n",
    "  mean((estimate - truth) ^ 2)\n",
    "}\n",
    "\n",
    "get_bias = function(estimate, truth) {\n",
    "  mean(estimate) - truth\n",
    "}\n",
    "\n",
    "get_var = function(estimate) {\n",
    "  mean((estimate - mean(estimate)) ^ 2)\n",
    "}\n",
    "\n",
    "get_estimate = function(theta, dataset) {\n",
    "  (1 - theta) * dataset\n",
    "}"
   ]
  },
  {
   "cell_type": "markdown",
   "metadata": {},
   "source": [
    "<div dir = \"rtl\" style=\"direction:rtl;line-height:300%;text-align:justify\">\n",
    "<font face=\"XB Zar\" size=5>\n",
    "الف. یک نمونه تصادفی با سایز\n",
    "$10000$\n",
    "از توزیع نرمال با میانگین\n",
    "$\\mu=2$\n",
    "و\n",
    "$\\sigma^2=4$\n",
    "بسازید.\n",
    "</font>\n",
    "</div>"
   ]
  },
  {
   "cell_type": "code",
   "execution_count": null,
   "metadata": {},
   "outputs": [],
   "source": []
  },
  {
   "cell_type": "markdown",
   "metadata": {},
   "source": [
    "<div dir = \"rtl\" style=\"direction:rtl;line-height:300%;text-align:justify\">\n",
    "<font face=\"XB Zar\" size=5>\n",
    "ب. بازه \n",
    "    $[0, 1]$\n",
    "    را به\n",
    "    $1000$\n",
    "    قسمت تقسیم کنید. و به ازای هر عددی متعلق به این بازه از تابع\n",
    "    `get_estimate`\n",
    "    استفاده کنید و در ورودی اول پارامتر خود را که عددی بین\n",
    "    $[0, 1]$\n",
    "    بود بدهید و سمپل های تولید شده از قسمت قبل را نیز به عنوان دیتاست به آن بدهید و از تخمین حاصل برای  پر کردن آرایه های \n",
    "    `mse`و `bias`و `variance`\n",
    "    استفاده کنید.\n",
    "</font>\n",
    "</div>"
   ]
  },
  {
   "cell_type": "code",
   "execution_count": null,
   "metadata": {},
   "outputs": [],
   "source": [
    "n <- 1000\n",
    "\n",
    "#############\n",
    "# Divide the range [0, 1] into 1000 numbers\n",
    "thetas <- NA\n",
    "#############\n",
    "\n",
    "mse <- numeric(n)\n",
    "bias <- numeric(n)\n",
    "variance <- numeric(n)\n",
    "\n",
    "#############\n",
    "# iterate over all thetas and fill mse, bias and variance arrays\n",
    "\n",
    "#############"
   ]
  },
  {
   "cell_type": "markdown",
   "metadata": {},
   "source": [
    "<div dir = \"rtl\" style=\"direction:rtl;line-height:300%;text-align:justify\">\n",
    "<font face=\"XB Zar\" size=5>\n",
    "ج. نمودار بایاس واریانس و میانگین مجذور خطا را رسم کنید.\n",
    "</font>\n",
    "</div>"
   ]
  },
  {
   "cell_type": "code",
   "execution_count": null,
   "metadata": {},
   "outputs": [],
   "source": []
  },
  {
   "cell_type": "markdown",
   "metadata": {},
   "source": [
    "<div dir = \"rtl\" style=\"direction:rtl;line-height:300%;text-align:justify\">\n",
    "<font face=\"XB Zar\" size=5>\n",
    "    د. از نمودار بالا چه نتیجه ای میگیرد؟ تحلیل خود را بنویسید.\n",
    "</font>\n",
    "</div>"
   ]
  },
  {
   "cell_type": "markdown",
   "metadata": {},
   "source": [
    "<div dir = \"rtl\" style=\"direction:rtl;line-height:300%;text-align:justify\">\n",
    "<font face=\"XB Zar\" size=5>\n",
    "    تحلیل:\n",
    "</font>\n",
    "</div>"
   ]
  }
 ],
 "metadata": {
  "kernelspec": {
   "display_name": "R",
   "language": "R",
   "name": "ir"
  },
  "language_info": {
   "codemirror_mode": "r",
   "file_extension": ".r",
   "mimetype": "text/x-r-source",
   "name": "R",
   "pygments_lexer": "r",
   "version": "3.6.3"
  }
 },
 "nbformat": 4,
 "nbformat_minor": 2
}
