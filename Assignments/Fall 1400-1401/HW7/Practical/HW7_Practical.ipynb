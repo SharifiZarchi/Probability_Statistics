{
 "cells": [
  {
   "cell_type": "markdown",
   "metadata": {},
   "source": [
    "<div style=\"direction:rtl;line-height:300%;\">\n",
    "\t<font face=\"XB Zar\" size=5>\n",
    "\t\t<div align=center>\n",
    "\t\t\t<font face=\"IranNastaliq\" size=30>\n",
    "\t\t\t\t<p></p>\n",
    "\t\t\t\t<p></p>\n",
    "به نام خالق فکر\n",
    "\t\t\t\t<p></p>\n",
    "\t\t\t</font>\n",
    "\t\t\t<font color=#FF7500>\n",
    "دانشگاه صنعتی شریف - دانشکده مهندسی کامپیوتر\n",
    "            </font>\n",
    "\t\t\t<p></p>\n",
    "\t\t\t<font color=blue>\n",
    "آمار و احتمال مهندسی\n",
    "            </font>\n",
    "\t\t\t<br />\n",
    "\t\t\t<br />\n",
    "پاییز ۱۴۰۰\n",
    "\t\t</div>\n",
    "\t\t<hr/>\n",
    "\t\t<div align=center>\n",
    "\t\t    <font color=red size=6>\n",
    "\t\t\t    <br />\n",
    "تمرین عملی آخر\n",
    "            \t<br/>\n",
    "\t\t\t</font>\n",
    "طراح: اشکان خادمیان\n",
    "\t\t\t<br/><br/>\n",
    "موعد تحویل: 24 دی  \n",
    "                <br/>\n",
    "                همفکری در تمامی تمرین‌های درس توصیه می‌شود. در عین حال از شما خواسته می‌شود تا تمام پیاده‌سازی را به تنهایی و بدون مشاهده کد دیگران انجام دهید.\n",
    "                <br/><br/>\n",
    "                <font color=red>\n",
    "                لطفا در فایل ارسالی تمام بلوک‌های کد اجرا شده و شامل نمودار‌ها و خروجی‌های لازم باشند.\n",
    "     </font>\n",
    "                <br/>\n",
    "        </style>\n",
    "\t</font>\n",
    "</div>"
   ]
  },
  {
   "cell_type": "markdown",
   "metadata": {},
   "source": [
    "<div>\n",
    "نام و نام خانوادگی:\n",
    "<br>\n",
    "شماره دانشجویی:\n",
    "<br>\n",
    "نام افرادی که با آنها مشورت کرده اید:\n",
    "</div>"
   ]
  },
  {
   "cell_type": "markdown",
   "metadata": {},
   "source": [
    "<div id=\"sec_goal\" style=\"direction:rtl; font-size: 17px; font-family: 'XB Zar'; line-height: 200%\">\n",
    "<div style=\"font-size: 22px; color: #ff6600; font-weight: bold\">\n",
    "هدف تمرین\n",
    "</div><hr/>\n",
    "تو این سوال قصد داریم کد یه رگرسیون خطی رو قدم به قدم بزنیم و روی یه دیتاست از افرادی که دیابت داشتن تست کنیم.\n",
    "<hr>"
   ]
  },
  {
   "cell_type": "markdown",
   "metadata": {},
   "source": [
    "<div id=\"sec_implementation\" style=\"direction:rtl; font-size: 17px; font-family: 'XB Zar'; line-height: 200%\">\n",
    "<div style=\"font-size: 22px; color: #ff6600; font-weight: bold\">\n",
    "پیاده سازی Classifier\n",
    "</div><hr/>"
   ]
  },
  {
   "cell_type": "markdown",
   "metadata": {},
   "source": [
    "<div id=\"sec_impl_step1\" style=\"direction:rtl; font-size: 17px; font-family: 'XB Zar'; line-height: 200%\">\n",
    "<div style=\"font-size: 20px; color: #0277bd; font-weight: bold\">\n",
    "۱. لود و بررسی دیتاست\n",
    "</div><hr/>\n",
    "در کنار این نوت‌بوک یک دیتاست قرار دارد که در بخش زیر لود شده و بخشی از دیتافریم لود شده از آن نمایش داده شده است.\n",
    "<br>\n",
    "دیتاست زیر از 768 نفر در هند بدست آمده که تعدادی صفت از هر فرد جمع‌آوری شده، و در ستون آخر آن نوشته شده که فرد دیابتی‌ست یا خیر."
   ]
  },
  {
   "cell_type": "code",
   "execution_count": 1,
   "metadata": {},
   "outputs": [
    {
     "data": {
      "text/html": [
       "<table class=\"dataframe\">\n",
       "<caption>A data.frame: 10 × 9</caption>\n",
       "<thead>\n",
       "\t<tr><th></th><th scope=col>pregnancies</th><th scope=col>glucose</th><th scope=col>blood_pressure</th><th scope=col>skin_thickness</th><th scope=col>insulin</th><th scope=col>bmi</th><th scope=col>diabetes_pedigree_function</th><th scope=col>age</th><th scope=col>label</th></tr>\n",
       "\t<tr><th></th><th scope=col>&lt;int&gt;</th><th scope=col>&lt;int&gt;</th><th scope=col>&lt;int&gt;</th><th scope=col>&lt;int&gt;</th><th scope=col>&lt;int&gt;</th><th scope=col>&lt;dbl&gt;</th><th scope=col>&lt;dbl&gt;</th><th scope=col>&lt;int&gt;</th><th scope=col>&lt;chr&gt;</th></tr>\n",
       "</thead>\n",
       "<tbody>\n",
       "\t<tr><th scope=row>1</th><td> 6</td><td>148</td><td>72</td><td>35</td><td>  0</td><td>33.6</td><td>0.627</td><td>50</td><td>tested_positive</td></tr>\n",
       "\t<tr><th scope=row>2</th><td> 1</td><td> 85</td><td>66</td><td>29</td><td>  0</td><td>26.6</td><td>0.351</td><td>31</td><td>tested_negative</td></tr>\n",
       "\t<tr><th scope=row>3</th><td> 8</td><td>183</td><td>64</td><td> 0</td><td>  0</td><td>23.3</td><td>0.672</td><td>32</td><td>tested_positive</td></tr>\n",
       "\t<tr><th scope=row>4</th><td> 1</td><td> 89</td><td>66</td><td>23</td><td> 94</td><td>28.1</td><td>0.167</td><td>21</td><td>tested_negative</td></tr>\n",
       "\t<tr><th scope=row>5</th><td> 0</td><td>137</td><td>40</td><td>35</td><td>168</td><td>43.1</td><td>2.288</td><td>33</td><td>tested_positive</td></tr>\n",
       "\t<tr><th scope=row>6</th><td> 5</td><td>116</td><td>74</td><td> 0</td><td>  0</td><td>25.6</td><td>0.201</td><td>30</td><td>tested_negative</td></tr>\n",
       "\t<tr><th scope=row>7</th><td> 3</td><td> 78</td><td>50</td><td>32</td><td> 88</td><td>31.0</td><td>0.248</td><td>26</td><td>tested_positive</td></tr>\n",
       "\t<tr><th scope=row>8</th><td>10</td><td>115</td><td> 0</td><td> 0</td><td>  0</td><td>35.3</td><td>0.134</td><td>29</td><td>tested_negative</td></tr>\n",
       "\t<tr><th scope=row>9</th><td> 2</td><td>197</td><td>70</td><td>45</td><td>543</td><td>30.5</td><td>0.158</td><td>53</td><td>tested_positive</td></tr>\n",
       "\t<tr><th scope=row>10</th><td> 8</td><td>125</td><td>96</td><td> 0</td><td>  0</td><td> 0.0</td><td>0.232</td><td>54</td><td>tested_positive</td></tr>\n",
       "</tbody>\n",
       "</table>\n"
      ],
      "text/latex": [
       "A data.frame: 10 × 9\n",
       "\\begin{tabular}{r|lllllllll}\n",
       "  & pregnancies & glucose & blood\\_pressure & skin\\_thickness & insulin & bmi & diabetes\\_pedigree\\_function & age & label\\\\\n",
       "  & <int> & <int> & <int> & <int> & <int> & <dbl> & <dbl> & <int> & <chr>\\\\\n",
       "\\hline\n",
       "\t1 &  6 & 148 & 72 & 35 &   0 & 33.6 & 0.627 & 50 & tested\\_positive\\\\\n",
       "\t2 &  1 &  85 & 66 & 29 &   0 & 26.6 & 0.351 & 31 & tested\\_negative\\\\\n",
       "\t3 &  8 & 183 & 64 &  0 &   0 & 23.3 & 0.672 & 32 & tested\\_positive\\\\\n",
       "\t4 &  1 &  89 & 66 & 23 &  94 & 28.1 & 0.167 & 21 & tested\\_negative\\\\\n",
       "\t5 &  0 & 137 & 40 & 35 & 168 & 43.1 & 2.288 & 33 & tested\\_positive\\\\\n",
       "\t6 &  5 & 116 & 74 &  0 &   0 & 25.6 & 0.201 & 30 & tested\\_negative\\\\\n",
       "\t7 &  3 &  78 & 50 & 32 &  88 & 31.0 & 0.248 & 26 & tested\\_positive\\\\\n",
       "\t8 & 10 & 115 &  0 &  0 &   0 & 35.3 & 0.134 & 29 & tested\\_negative\\\\\n",
       "\t9 &  2 & 197 & 70 & 45 & 543 & 30.5 & 0.158 & 53 & tested\\_positive\\\\\n",
       "\t10 &  8 & 125 & 96 &  0 &   0 &  0.0 & 0.232 & 54 & tested\\_positive\\\\\n",
       "\\end{tabular}\n"
      ],
      "text/markdown": [
       "\n",
       "A data.frame: 10 × 9\n",
       "\n",
       "| <!--/--> | pregnancies &lt;int&gt; | glucose &lt;int&gt; | blood_pressure &lt;int&gt; | skin_thickness &lt;int&gt; | insulin &lt;int&gt; | bmi &lt;dbl&gt; | diabetes_pedigree_function &lt;dbl&gt; | age &lt;int&gt; | label &lt;chr&gt; |\n",
       "|---|---|---|---|---|---|---|---|---|---|\n",
       "| 1 |  6 | 148 | 72 | 35 |   0 | 33.6 | 0.627 | 50 | tested_positive |\n",
       "| 2 |  1 |  85 | 66 | 29 |   0 | 26.6 | 0.351 | 31 | tested_negative |\n",
       "| 3 |  8 | 183 | 64 |  0 |   0 | 23.3 | 0.672 | 32 | tested_positive |\n",
       "| 4 |  1 |  89 | 66 | 23 |  94 | 28.1 | 0.167 | 21 | tested_negative |\n",
       "| 5 |  0 | 137 | 40 | 35 | 168 | 43.1 | 2.288 | 33 | tested_positive |\n",
       "| 6 |  5 | 116 | 74 |  0 |   0 | 25.6 | 0.201 | 30 | tested_negative |\n",
       "| 7 |  3 |  78 | 50 | 32 |  88 | 31.0 | 0.248 | 26 | tested_positive |\n",
       "| 8 | 10 | 115 |  0 |  0 |   0 | 35.3 | 0.134 | 29 | tested_negative |\n",
       "| 9 |  2 | 197 | 70 | 45 | 543 | 30.5 | 0.158 | 53 | tested_positive |\n",
       "| 10 |  8 | 125 | 96 |  0 |   0 |  0.0 | 0.232 | 54 | tested_positive |\n",
       "\n"
      ],
      "text/plain": [
       "   pregnancies glucose blood_pressure skin_thickness insulin bmi \n",
       "1   6          148     72             35               0     33.6\n",
       "2   1           85     66             29               0     26.6\n",
       "3   8          183     64              0               0     23.3\n",
       "4   1           89     66             23              94     28.1\n",
       "5   0          137     40             35             168     43.1\n",
       "6   5          116     74              0               0     25.6\n",
       "7   3           78     50             32              88     31.0\n",
       "8  10          115      0              0               0     35.3\n",
       "9   2          197     70             45             543     30.5\n",
       "10  8          125     96              0               0      0.0\n",
       "   diabetes_pedigree_function age label          \n",
       "1  0.627                      50  tested_positive\n",
       "2  0.351                      31  tested_negative\n",
       "3  0.672                      32  tested_positive\n",
       "4  0.167                      21  tested_negative\n",
       "5  2.288                      33  tested_positive\n",
       "6  0.201                      30  tested_negative\n",
       "7  0.248                      26  tested_positive\n",
       "8  0.134                      29  tested_negative\n",
       "9  0.158                      53  tested_positive\n",
       "10 0.232                      54  tested_positive"
      ]
     },
     "metadata": {},
     "output_type": "display_data"
    }
   ],
   "source": [
    "# DO NOT CHANGE THIS CODE\n",
    "df <- read.csv(\"diabetes.csv\")\n",
    "head(df, n=10)"
   ]
  },
  {
   "cell_type": "markdown",
   "metadata": {},
   "source": [
    "<div id=\"sec_impl_step1\" style=\"direction:rtl; font-size: 17px; font-family: 'XB Zar'; line-height: 200%\">\n",
    "من (احتمالا مثل شما) نمی‌دونم خیلی از این ستون‌ها چی رو نشون می‌دن. ولی حداقل میدونم ستون اول نشانگر تعداد بارداری‌های فرده، ستون دوم گلوکز خونشه، ستون سوم فشار خونشه و به همین ترتیب تا ستون یکی مونده به آخر (ستون هشتم) هر ستون نشانگر یک صفت از افراد مراجعه کننده به مرکز جمع آوری داده هند می‌باشد که به آن feature می‌گوییم. \n",
    "<br>\n",
    "ستون آخر که به آن label یا class می‌گوییم نشانگر آن است که نتیجه تست دیابت هر فرد با دستگاه‌های پزشکی مثبت یا منفی بوده است.\n",
    "<br>\n",
    "اگه قطعه کد زیر رو ران کنی اطلاعات خوبی از دیتاست می‌گیری."
   ]
  },
  {
   "cell_type": "code",
   "execution_count": 2,
   "metadata": {},
   "outputs": [
    {
     "name": "stdout",
     "output_type": "stream",
     "text": [
      "[1] \"number of rows (people):  768\"\n",
      "[1] \"number of features:  8\"\n",
      "[1] \"different labels: tested_positive, tested_negative\"\n"
     ]
    }
   ],
   "source": [
    "# DO NOT CHANGE THIS CODE\n",
    "print(paste(\"number of rows (people): \", nrow(df)))\n",
    "print(paste(\"number of features: \", ncol(df) - 1))\n",
    "print(paste(\"different labels: tested_positive, tested_negative\"))"
   ]
  },
  {
   "cell_type": "markdown",
   "metadata": {},
   "source": [
    "<div id=\"sec_impl_step1\" style=\"direction:rtl; font-size: 17px; font-family: 'XB Zar'; line-height: 200%\">\n",
    "ما قراره روی ۶۶۸ تا ازین آدم‌ها (که رندوم از دیتافریم انتخاب می‌کنیم) یادگیری رو انجام بدیم و روی 100 تای باقی‌مونده Classifier ای که ساختیمو تست کنیم و ببینیم با چه دقتی دیابتی بودن این 100 آدم رو پیش‌بینی می‌کنه."
   ]
  },
  {
   "cell_type": "markdown",
   "metadata": {},
   "source": [
    "<div id=\"sec_impl_step2\" style=\"direction:rtl; font-size: 17px; font-family: 'XB Zar'; line-height: 200%\">\n",
    "<div style=\"font-size: 20px; color: #0277bd; font-weight: bold\">\n",
    "۲. تمیز کردن دیتاست\n",
    "</div><hr/>\n",
    "<div style=\"font-size: 19px; color: #0097a7; font-weight: bold\">\n",
    "۱.۲. عددی کردن همه ستون‌های غیرعددی\n",
    "</div><hr/>\n",
    "ما قراره کلی عملیات ریاضی انجام بدیم برای رگرسیون خطی گرفتن. منطقا اولین کاری که باید انجام بدیم اینه که ستون آخر که نتیجه آزمایش دیابت هر فرد (label) است رو عددی (numeric) کنیم.\n",
    "<br>\n",
    "در سلول پایین به هر روشی که می‌شناسید (یا گوگل کردید) کاری کنید ستون آخر دیتافریم برای هر فردی که دیابت دارد 1 باشد و اگر دیابت ندارد 0 باشد."
   ]
  },
  {
   "cell_type": "code",
   "execution_count": null,
   "metadata": {},
   "outputs": [],
   "source": [
    "## WRITE YOUR CODES HERE ##"
   ]
  },
  {
   "cell_type": "markdown",
   "metadata": {},
   "source": [
    "<div id=\"sec_impl_step2\" style=\"direction:rtl; font-size: 17px; font-family: 'XB Zar'; line-height: 200%\">\n",
    "پس الان مطمئنیم کل دیتاستمون دیتاهای عددی داره.\n",
    "<br>"
   ]
  },
  {
   "cell_type": "markdown",
   "metadata": {},
   "source": [
    "<div id=\"sec_impl_step2\" style=\"direction:rtl; font-size: 17px; font-family: 'XB Zar'; line-height: 200%\">\n",
    "<div style=\"font-size: 19px; color: #0097a7; font-weight: bold\">\n",
    "۲.۲. نورمال کردن همه فیچرها\n",
    "</div><hr/>\n",
    "یه نکته مهم دیگه اینه که ما میخایم رگرسیون خطی بزنیم و اسکیل فیچر های مختلف قراره اذیتمون کنه. مثلا فیچر اول که تعداد فرزنده در اسکیل نهایتا 20 تا بچه‌ست ولی اسکیل فیچر دوم که گلوکز خونه بین 50 تا 200 هست. \n",
    "توضیح دقیقتر اینکه چرا چنین تفاوت اسکیل فیچرها یادگیری رو سخت می‌کنه خارج از کانتکست درسه پس می‌سپارم خودتون گوگلش کنید ولی فعلا یک راه برای حل این مشکل پیشنهاد می‌کنم.\n",
    "<br>\n",
    "در سلول زیر تابع normalize تعریف شده ولی بدون بدنه‌ست.\n",
    "<br>\n",
    "بدنه آن‌را به گونه‌ای تغییر دهید که به عنوان ورودی یک ستون فیچر از دیتافریم را به آن دهیم و مقادیر آن ستون داده شده را بین 0 تا 1 بی‌اندازد.\n",
    "<br>\n",
    "منطقا در این نورمال کردن هر فیچر، مقدار ماکسیمم هر فیچر باید مقدار 1 بگیرد و مقدار مینیمم هر فیچر مقدار 0.\n",
    "<br>\n",
    "به عنوان یک راه حل پراستفاده برای انجام این‌کار بهتون پیشنهاد می‌کنم از تابع Min Max Scale (که با یه سرچ ساده تعریف ریاضیشو تو گوگل می‌تونید پیدا کنید) استفاده کنید."
   ]
  },
  {
   "cell_type": "code",
   "execution_count": null,
   "metadata": {},
   "outputs": [],
   "source": [
    "normalize <- function(feature_column) {\n",
    "    ## WRITE YOUR CODES HERE ##\n",
    "}\n",
    "for (x in 1:(ncol(df)-1)) {\n",
    "  df[[x]] = normalize(df[[x]])\n",
    "}\n",
    "head(df, n=10)"
   ]
  },
  {
   "cell_type": "markdown",
   "metadata": {},
   "source": [
    "<div id=\"sec_impl_step2\" style=\"direction:rtl; font-size: 17px; font-family: 'XB Zar'; line-height: 200%\">\n",
    "بعد از این کار باید مشاهده کنید مقادیر هر ستون فیچر از دیتاست مقادیری بین صفر تا یک دارد."
   ]
  },
  {
   "cell_type": "markdown",
   "metadata": {},
   "source": [
    "<div id=\"sec_impl_step2\" style=\"direction:rtl; font-size: 17px; font-family: 'XB Zar'; line-height: 200%\">\n",
    "<div style=\"font-size: 19px; color: #0097a7; font-weight: bold\">\n",
    "۲.۳. بررسی دیتاست نورمال نشده \n",
    "</div><hr/>\n",
    "واس اینکه به عینه ببینید اگه نرمال سازی رو انجام ندید ماشینتون اصن فرصت یادگیری پیدا نمی‌کنه و پیش‌بینی‌های بعد فرایند یادگیریش، چقــــدر نادقیقه در سلول پایین یبار دیگه فایل سی‌اس‌وی رو لود می‌کنیم داخل یه دیتافریم به نام not_normal_df.\n",
    "<br>\n",
    "بعد ازینکه تمام مراحل یادگیری و تست روی df رو گذروندم، در پایین ترین بخش این نوت‌بوک (تیتر شماره ۶) با تابع هایی که با هم پیاده سازی کردیم فرایند یادگیری رو روی دیتاست not_normal_df به تنهایی اعمال کنید. سپس از شما میخواهیم که ماشینی که یادگیری را روی not_normal_df گذرانده تست کنید و متوجه شید چقد فاجعه پیش‌بینی را انجام می‌دهد."
   ]
  },
  {
   "cell_type": "code",
   "execution_count": null,
   "metadata": {},
   "outputs": [],
   "source": [
    "not_normal_df <- read.csv(\"diabetes.csv\")\n",
    "head(not_normal_df, n=10)"
   ]
  },
  {
   "cell_type": "markdown",
   "metadata": {},
   "source": [
    "<div id=\"sec_impl_step1\" style=\"direction:rtl; font-size: 17px; font-family: 'XB Zar'; line-height: 200%\">\n",
    "<div style=\"font-size: 20px; color: #0277bd; font-weight: bold\">\n",
    "۳. جدا کردن دیتاهای یادگیری از تست\n",
    "</div><hr/>\n",
    "همونطور که گفتیم ۶۶۸ ردیف از دیتاست را برای یادگیری استفاده می‌کنیم. سپس ماشینی که فرایند یادگیری رو گذرونده روی صد داده‌ی باقی مانده تست می‌کنیم.\n",
    "<br>\n",
    "شما باید تابع train_test_split را به گونه ای پر کنید که که خروجی آن یک list با چهار عضو باشد. اعضای این لیست به ترتیب در زیر توضیح داده شده‌اند لطفا به دیتاتایپ و توضیحات هر کدام دقت ویژه کنید.\n",
    "<br>\n",
    "عضو اول:‌ یک matrix به سایز زیر است:\n",
    "$$(768 - \\text{test_size}) \\times  8$$\n",
    "هر ردیف نشانگر یک مراجعه کننده و 8 ستون نشانگر 8 فیچر.\n",
    "عضو دوم: یک vector به طول زیر است:\n",
    "$$768 - \\text{test_size}$$\n",
    "که درایه iم نشان می‌دهد مراجعه کننده ردیف iم از ماتریس train_X دیابتی است یا خیر.\n",
    "<br>\n",
    "عضو سوم:‌ یک matrix به سایز زیر است:\n",
    "$$\\text{test_size} \\times  8$$\n",
    "هر ردیف نشانگر یک مراجعه کننده و 8 ستون نشانگر 8 فیچر. ازین ماتریس برای تست کردن مدلمان پس از یادگیری استفاده خواهد شد.\n",
    "<br>\n",
    "عضو چهارم: یک vector به طول زیر است:\n",
    "$$\\text{test_size}$$\n",
    "که درایه iم نشان می‌دهد مراجعه کننده ردیف iم از ماتریس train_X دیابتی است یا خیر.\n",
    "<br>"
   ]
  },
  {
   "cell_type": "code",
   "execution_count": null,
   "metadata": {},
   "outputs": [],
   "source": [
    "traint_test_split <- function(df, test_size) {\n",
    "    ## WRITE YOUR CODES HERE ##\n",
    "}\n",
    "\n",
    "result = traint_test_split(df, 100)\n",
    "train_X <- result[[1]]\n",
    "train_y <- result[[2]]\n",
    "test_X <- result[[3]]\n",
    "test_y <- result[[4]]"
   ]
  },
  {
   "cell_type": "markdown",
   "metadata": {},
   "source": [
    "<div id=\"sec_impl_step1\" style=\"direction:rtl; font-size: 17px; font-family: 'XB Zar'; line-height: 200%\">\n",
    "<div style=\"font-size: 19px; color: #c62828; font-weight: bold\">\n",
    "اگه دقت نکنی به موارد زیر نمره این بخش رو دستی دستی نمی‌گیری\n",
    "</div><hr/>\n",
    "1. حتما این تقسیم کردن دیتاست اصلی به دو بخش باید به صورت random باشه.\n",
    "یعنی اگه مثلا 668 ردیف اول رو ریترن کنی برای train و 100 تای باقی رو ریترن کنی برای test، یا هر روش دیگه‌ای که از رندوم زبان R استفاده نمی‌کنه، قطعا نمره ای ازین بخش نمیگیری.\n",
    "لذا پیشنهاد میکنم <a href=\"https://r-coder.com/set-seed-r/#:~:text=4%20Unset%20seed-,What%20is%20to%20set%20seed%20in%20R%3F,)%20(0%2C1).\">اینجا</a> بری و راجب شبه‌رندوم (pseudo randomness) موجود در R بخونی.\n",
    "<div style=\"font-size: 19px; color: #c62828; font-weight: bold\">\n",
    "حتما به عنوان seed اعداد رندوم خود از عدد 4 استفاده کنید. در لینکی که گذاشتیم توضیح داده شده که چرا شبه رندوم نیازمند یک seed می‌باشد. این کار به منظور اینه که ما مطمئن شیم شما مفهوم seed در شبه رندوم رو یاد گرفتید.\n",
    "</div>\n",
    "2. فقط بدنه تابع رو حق داری عوض کنی. زیر تابع که از تابع استفاده شده تا متغیر های train و test رو پر کنه رو اصلا تغیر نده.\n",
    "<br>\n",
    "3.حتما خروجی تابعت به همون فرمتی باشه که بالاتر توضیح دادیم. چون پایینتر قراره کد یادگیری رو با استفاده از ضرب ماتریس در بردار و ضرب داخلی دو بردار بزنی."
   ]
  },
  {
   "cell_type": "markdown",
   "metadata": {},
   "source": [
    "<div id=\"sec_impl_step1\" style=\"direction:rtl; font-size: 17px; font-family: 'XB Zar'; line-height: 200%\">\n",
    "<div style=\"font-size: 20px; color: #0277bd; font-weight: bold\">\n",
    "۴. یادگیری دستگاه\n",
    "</div><hr/>\n",
    "برای رگرسیون خطی چند متغیره در نوت‌بوک درس خواندیم که خواهیم داشت:\n",
    "$$\\hat{y} = w_7.x_7 + w_6.x_6 + ... + w_1.x_1 + w_0$$\n",
    "که $w_i$ ضرایب رگرسیون هستند که قصد داریم با یادگیری پیدایشان کنیم و $x_i$ نشانگر مقدار مربوط به فیچر iم از فرد داده شده است. همچنین $\\hat{y}$ پیش‌بینی ما از دیابتی بودن یا نبودن فرد است.\n",
    "<br>\n",
    "پس می‌توانیم $\\hat{y}$ را بصورت ضرب داخلی زیر نمایش دهیم.\n",
    "$$\\hat{y} = \\vec{w} . \\vec{x}$$\n",
    "$$\\vec{w} = \\begin{bmatrix} w_0 \\\\ w_1 \\\\ w_2 \\\\ ... \\\\ w_7 \\end{bmatrix},   \\vec{x} = \\begin{bmatrix} 1 \\\\ x_1 \\\\ x_2 \\\\ ... \\\\ x_7 \\end{bmatrix}$$\n",
    "حال با فرم ماتریسی دادن می‌توان بجای اینکه افراد را دونه دونه به دستگاه دهیم، b نفر را بصورت همزمان به دستگاه دهیم تا دسته جمعی یادگیری کند.\n",
    "$$\n",
    "X = \\begin{bmatrix} \n",
    "1 & x^1_1 & x^1_2 & ... & x^1_7 \\\\ \n",
    "1 & x^2_1 & x^2_2 & ... & x^2_7 \\\\ \n",
    "... \\\\ \n",
    "1 & x^b_1 & x^b_2 & ... & x^b_7 \n",
    "\\end{bmatrix}\n",
    "$$\n",
    "<br>\n",
    "$$\n",
    "\\vec{\\hat{y}} = X.\\vec{w} = \\begin{bmatrix} \n",
    "\\hat{y}^1 \\\\ \n",
    "\\hat{y}^2 \\\\ \n",
    "... \\\\ \n",
    "\\hat{y}^b\n",
    "\\end{bmatrix}\n",
    "$$\n",
    "که $\\hat{y}^i$ نشانگر پیشبینی ما از دیابتی بودن نفر $i$ام است.\n",
    "بعد تر می‌بینیم به b در بالا batch size می‌گوییم.\n",
    "<br>\n",
    "حال تابع $\\vec{\\hat{y}} = X.\\vec{w}$ که الان گفتیم رو در پایین پیاده سازی کنید. ازین به بعد آن‌را forward می‌نامیم.\n",
    "<br>"
   ]
  },
  {
   "cell_type": "code",
   "execution_count": null,
   "metadata": {},
   "outputs": [],
   "source": [
    "forward <- function(X, weights) {\n",
    "    ## WRITE YOUR CODE HERE ##\n",
    "}"
   ]
  },
  {
   "cell_type": "markdown",
   "metadata": {},
   "source": [
    "<div id=\"sec_impl_step1\" style=\"direction:rtl; font-size: 17px; font-family: 'XB Zar'; line-height: 200%\">\n",
    "حال تابع loss را با مربعات فاصله بصورت زیر تعریف می‌کنیم:\n",
    "$$\\mathcal{L} = (\\hat{y}-y)^2$$\n",
    "ابتدا از تابع loss نسبت به هر کدوم از $w_i$ ها مشتق می‌گیریم.\n",
    "$$ \\frac{d\\mathcal{L}}{dw_i} = \\frac{d\\mathcal{L}}{d\\hat{y}}.\\frac{d\\hat{y}}{dw_i} $$\n",
    "$$ \\frac{d\\mathcal{L}}{dw_i} = 2(\\hat{y} - y).x_i $$\n",
    "که باز هم برای اینکه بتونیم دیتای افراد رو بجای اینکه دونه دونه بفرستیم، $b$ تا $b$ تا بفرستیم از فرم ماتریسی استفاده می‌کنیم.(بالاتر اشاره کردیم که به هر دسته‌ی b تایی از ردیف های دیتاست batch می‌گویند.)\n",
    "<br>\n",
    "دقت کنید در این حالت ما میانگینی از خطاهای پیش بینی b نفر رو به عنوان Loss در نظر می‌گیریم.\n",
    "$$\n",
    "\\mathcal{L} = \\frac{1}{b} \\sum_{i=1}^{b}(\\hat{y}_i - y_i)^2= \\frac{1}{b} (\\vec{\\hat{y}}-\\vec{y})^2\n",
    "$$\n",
    "<br>\n",
    "$$\n",
    "\\vec{\\nabla_w \\mathcal{L}} = \\begin{bmatrix} \n",
    "\\frac{d\\mathcal{L}}{dw_0} \\\\\n",
    "\\frac{d\\mathcal{L}}{dw_1} \\\\ \n",
    "... \\\\ \n",
    "\\frac{d\\mathcal{L}}{dw_8}\n",
    "\\end{bmatrix} = \\frac{2}{b}.X^T.(\\vec{\\hat{y}}-\\vec{y})\n",
    "$$\n",
    "<br>\n",
    "چرایی این مورد تنها با باز کردن عبارت ماتریسی فوق اثبات خواهد شد. اسم $\\vec{\\nabla_w \\mathcal{L}}$ که یک وکتور است را loss_step می‌نامیم. بدنه تابع آن‌را در زیر پر کنید."
   ]
  },
  {
   "cell_type": "code",
   "execution_count": null,
   "metadata": {},
   "outputs": [],
   "source": [
    "loss_step <- function(X, y_hat, y) {\n",
    "    ## WRITE YOUR CODE HERE ##\n",
    "}"
   ]
  },
  {
   "cell_type": "markdown",
   "metadata": {},
   "source": [
    "<div id=\"sec_impl_step1\" style=\"direction:rtl; font-size: 17px; font-family: 'XB Zar'; line-height: 200%\">\n",
    "در نهایت ما حرکت زیر را برای یادگیری انجام می‌دهیم.\n",
    "به تعداد EPOCHS بار کل دیتاست train را یادگیری می‌کنیم. \n",
    "در هر یادگیری کل دیتاست train را به قطعات b تایی تقسیم میکنیم و به هر قطعه یک batch میگوییم. \n",
    "کل batch را ابتدا به forward میدهیم تا $\\hat{y}$ که پیش‌بینی ما از دیابتی بودن افراد batch است بدست آید سپس، ردیف های batch را به همراه $\\hat{y}$ و y مربوط به آن ردیف های batch به loss_step میدهیم تا میزان مشتق خطا محسابه شود تا در خلاف جهت مشتق حتی حرکت کنیم.\n",
    "$$ w_i = w_i - \\epsilon.\\frac{d\\mathcal{L}}{dw_i}$$\n",
    "<br>\n",
    "$$ \\vec{w} = \\vec{w} - \\epsilon . \\vec{\\nabla_w \\mathcal{L}} = \\vec{w} - \\epsilon . \\begin{bmatrix} \n",
    "\\frac{d\\mathcal{L}}{dw_0} \\\\\n",
    "\\frac{d\\mathcal{L}}{dw_1} \\\\ \n",
    "... \\\\ \n",
    "\\frac{d\\mathcal{L}}{dw_8}\n",
    "\\end{bmatrix}\n",
    "$$ \n",
    "<br>\n",
    "نکته تکمیلی:‌ میبینید که در رابطه فوق یک $\\epsilon$ وجود دارد. $\\epsilon$ یک عدد بین 0 تا 1 به انتخاب خودمان است که رفته رفته در یک عدد بین 0 و 1 دیگر به نام $decay$ ضرب می‌شود که باعث می‌شود $\\epsilon$ مدام کاهش یابد. این کاهش $\\epsilon$ باعث شده ابتدا یادگیری زیادی از خطا داشته باشیم ولی رفته رفته این یادگیری کاهش یابد و آموخته های پیشین شروع به فیکس شدن در ذهن ماشین کنند."
   ]
  },
  {
   "cell_type": "markdown",
   "metadata": {},
   "source": [
    "<div id=\"sec_impl_step2\" style=\"direction:rtl; font-size: 17px; font-family: 'XB Zar'; line-height: 200%\">\n",
    "<div style=\"font-size: 19px; color: #2e7d32; font-weight: bold\">\n",
    "محتوای افزوده به منظور فهم کامل مطالب\n",
    "</div><hr/>\n",
    "دیدید که گفتیم برای یادگیری هر بار وزن ها را در خلاف جهت مشتق تابع loss حرکت می‌دهیم.\n",
    "شهود پشت این قضیه این است که مشتق هر تابع به ما جهت ماکسیمم شدن تابع را می‌دهد. پس اگر ما در خلاف آن جهت حرکت کنیم تابع‌مان مینیمم خواهد شد (تو ریاضی دو دیدیم که برای ماکسیمم کردن تابع از مشتق استفاده می‌شه). اینکه چرا می‌خواهیم Loss رو مینیمم کنیم که در خلاف جهت مشتق حرکت می‌کنیم هم که واضحه. چون Loss نشانگر خطای ما از کلاس واقعی ردیف های دیتا هست و میخوایم این خطا قطعا کمتر شه.\n",
    "<br>\n",
    "اسم کل این طراحی (حرکت در خلاف جهت مشتق تابع loss) کاهش گرادیان (Gradient Descent) هست. برای اینکه دانش خودتونو از کاهش گرادیان بیشتر کنید هم سرچ کنید هم رو لینک زیر که روش کاهش گرادیان روی رگرسیون خطی رو آموزش می‌ده بزنید.\n",
    "<br>\n",
    "<a href=\"https://towardsdatascience.com/linear-regression-using-gradient-descent-97a6c8700931\"> Linear Regression Using Gradient Descent</a>\n",
    "<br>\n",
    "حالا اینکه اون $\\epsilon$ رو چطوری انتخاب کنیم خودش روش های مختلفی داره. در حالت معمولی اونو یه $\\alpha$ فیکسی قرار میدیم و بهش میگیم learning rate.\n",
    "<br>\n",
    "تو اینجا ما از روش epsilon decay استفاده کردیم که توضیح دادیم چجوریه.\n",
    "<br>\n",
    "یه روش خیلی هوشمندانه تر هست به نام Stochastic Gradient Descent. اگه خواستید راجبش یه سرچی داشته باشید اگرچه تو این تمرین ازش استفاده ای نمی‌کنیم. همچنین می‌تونید روی لینک زیر بزنید که ازین روش در رگرسیون خطی استفاده کرده.\n",
    "<br>\n",
    "<a href=\"https://towardsdatascience.com/step-by-step-tutorial-on-linear-regression-with-stochastic-gradient-descent-1d35b088a843\"> Linear Regression Using Gradient Descent</a>\n",
    "<br>"
   ]
  },
  {
   "cell_type": "code",
   "execution_count": null,
   "metadata": {},
   "outputs": [],
   "source": [
    "## HYPER PARAMETERS ##\n",
    "EPOCHS <- 64  # Number of Epochs\n",
    "b <- 8  # Batch Size\n",
    "epsilon <- 0.5  # learning rate\n",
    "decay <- 0.99  # epsilon decay\n",
    "weights <- integer(ncol(train_X) + 1)  # wegihts vector"
   ]
  },
  {
   "cell_type": "markdown",
   "metadata": {},
   "source": [
    "<div id=\"sec_impl_step1\" style=\"direction:rtl; font-size: 17px; font-family: 'XB Zar'; line-height: 200%\">\n",
    "سلول بالا پارامترهای learning ای‌ست که پیش‌تر کارکرد هر کدام را توضیح دادیم. می‌توانید البته مقدار آنها را به دلخواه برای دیدن نتیجه های دیگر یادگیری تغییر دهید. توجه شود weights همان وکتور $w$ است که بصورت دلخواه بصورت زیر initialize شده است و امیدواریم در فرایند یادگیری، به درستی آپدیت شود.\n",
    "$$ \\vec{w} = \\begin{bmatrix} \n",
    "0 \\\\\n",
    "0 \\\\ \n",
    "0 \\\\\n",
    "... \\\\ \n",
    "0\n",
    "\\end{bmatrix}\n",
    "$$ \n",
    "<br>\n",
    "سلول پایین کد مربوط به learning را با استفاده از توابعی که شما فراهم کردید زده است."
   ]
  },
  {
   "cell_type": "code",
   "execution_count": null,
   "metadata": {},
   "outputs": [],
   "source": [
    "# DO NOT CHANGE THIS CODE\n",
    "learn_from <- function(X, y){\n",
    "    N = nrow(X)\n",
    "    for (e in 1: EPOCHS) {\n",
    "        for (i in seq(from=1, to=N, by=b)) {\n",
    "            batch = X[i:min(i + b-1, N), ]\n",
    "            batch = cbind(integer(nrow(batch))+1, batch)\n",
    "            y_batch = y[i:min(i + b-1, N)]\n",
    "            y_hat = forward(batch, weights)\n",
    "            d = loss_step(batch, y_hat, y_batch)\n",
    "            weights <<- weights - epsilon * d\n",
    "            epsilon <<- epsilon * decay\n",
    "        }\n",
    "    }\n",
    "}"
   ]
  },
  {
   "cell_type": "markdown",
   "metadata": {},
   "source": [
    "<div id=\"sec_impl_step1\" style=\"direction:rtl; font-size: 17px; font-family: 'XB Zar'; line-height: 200%\">\n",
    "حال دیتاست train_X و train_y که مربوط به training هستند را به دستگاه می‌دهیم تا آموزش ببیند:"
   ]
  },
  {
   "cell_type": "code",
   "execution_count": null,
   "metadata": {},
   "outputs": [],
   "source": [
    "# DO NOT CHANGE THIS CODE\n",
    "print(\"weights before learning\")\n",
    "weights\n",
    "learn_from(train_X, train_y)\n",
    "print(\"weights after learning: \")\n",
    "weights"
   ]
  },
  {
   "cell_type": "markdown",
   "metadata": {},
   "source": [
    "<div id=\"sec_impl_step1\" style=\"direction:rtl; font-size: 17px; font-family: 'XB Zar'; line-height: 200%\">\n",
    "<div style=\"font-size: 20px; color: #0277bd; font-weight: bold\">\n",
    "۵. پیش‌بینی دستگاه\n",
    "</div><hr/>\n",
    "کد این قسمت کامل زده شده است.\n",
    "<br>\n",
    "در این بخش ابتدا تابع predict پیاده سازی شده که عمل forward را انجام می‌دهد و $\\hat{y}$ را محاسبه می‌کند ولی دیگر خودش را بر اساس $y$ درست آپدیت نمی‌کند و یادگیری‌ای انجام نمی‌دهد.\n",
    "<br>\n",
    "دقت کنید مقدار return شده از تابع predict به دلیل استفاده از تابع to_class دقیقا صفر یا یک است و دیگر یک $\\hat{y}$ اعشاری نخواهیم داشت."
   ]
  },
  {
   "cell_type": "code",
   "execution_count": null,
   "metadata": {},
   "outputs": [],
   "source": [
    "# DO NOT CHANGE THIS CODE\n",
    "labels = c(0, 1)\n",
    "to_class <- function(y_hat) {\n",
    "    nearest_label <- function(y_hat_element) {\n",
    "        min_dist = .Machine$double.xmax\n",
    "        min_label = NULL\n",
    "        for (l in labels) {\n",
    "            dist = abs(l-y_hat_element)\n",
    "            if (dist < min_dist) {\n",
    "                min_dist = dist\n",
    "                min_label = l\n",
    "            }\n",
    "        }\n",
    "        return(min_label)\n",
    "    }\n",
    "    return(sapply(y_hat, nearest_label))\n",
    "}\n",
    "\n",
    "predict <- function(X) {\n",
    "    X = cbind(integer(nrow(X))+1, X)\n",
    "    y_hat = forward(X, weights)\n",
    "    return(to_class(y_hat))\n",
    "}"
   ]
  },
  {
   "cell_type": "markdown",
   "metadata": {},
   "source": [
    "<div id=\"sec_impl_step1\" style=\"direction:rtl; font-size: 17px; font-family: 'XB Zar'; line-height: 200%\">\n",
    "در آخر دیتاست test که شامل 100 مراجعه کننده می‌باشند به predict داده می‌شوند و پیش‌بینی دستگاه بر اساس $y$ واقعی (اینکه واقعا هر فرد دیابتی هست یا خیر) نمره دهی می‌شود.\n",
    "<br>\n",
    "نمره‌های Precision، Recall، F1 Score و Accuracy دستگاه شما در این پیش بینی با ران کردن سلول پایین بدست خواهد آمد. معنی هر کدام ازین نمره‌ها را می‌توانید با یک گوگل کردن ساده بدست آورید."
   ]
  },
  {
   "cell_type": "code",
   "execution_count": null,
   "metadata": {},
   "outputs": [],
   "source": [
    "# DO NOT CHANGE THIS CODE\n",
    "print_stats <- function(y_hat, y) {\n",
    "    TP = 0\n",
    "    TN = 0\n",
    "    FP = 0\n",
    "    FN = 0\n",
    "    for (i in 1: length(y)) {\n",
    "        if (y[i] == 1) {\n",
    "            if (y_hat[i] == 1) {\n",
    "                TP = TP + 1\n",
    "            } else {\n",
    "                FN = FN + 1\n",
    "            }\n",
    "        } else {\n",
    "            if (y_hat[i] == 1) {\n",
    "                FP = FP + 1\n",
    "            } else {\n",
    "                TN = TN + 1\n",
    "            }\n",
    "        }\n",
    "    }\n",
    "    precision = TP / (TP + FP)\n",
    "    recall = TP / (TP + FN)\n",
    "    f1_score = 2 * ((precision*recall)/(precision+recall))\n",
    "    accuracy = (TP + TN)/(TP + TN + FP + FN)\n",
    "    print(paste(\"Precision \", precision))\n",
    "    print(paste(\"Recall \", recall))\n",
    "    print(paste(\"F1 Score \", f1_score))\n",
    "    print(paste(\"Accuracy \", accuracy))\n",
    "    return(0)\n",
    "}\n",
    "test_y_hat <- predict(test_X)\n",
    "print_stats(test_y_hat, test_y)"
   ]
  },
  {
   "cell_type": "markdown",
   "metadata": {},
   "source": [
    "<div id=\"sec_impl_step2\" style=\"direction:rtl; font-size: 17px; font-family: 'XB Zar'; line-height: 200%\">\n",
    "<div style=\"font-size: 20px; color: #0277bd; font-weight: bold\">\n",
    "۶. یادگیری روی دیتاست نرمال نشده\n",
    "</div><hr/>\n",
    "پیش‌تر اشاره کردیم که بعد از یادگیری و تست df باید دیتاستی که نورمال نشده رو بذارید train شه و بعد ازون تستش کنید ببینید امتیازاش چطوری میشه.\n",
    "<br>\n",
    "در سلول پایین ابتدا دوباره وکتور weights رو روی مقدار اولیه صفر ست کردیم.\n",
    "همچنین epsilon را دوباره روی 0.5 گذاشتیم.\n",
    "همچنین می‌بینید epochs را به یک بار کاهش دادیم. اگه ازین بیشترش کنیم چون weight ها خیلـــی بزرگ میشن ارور می‌خورید. همچنین به دلیلی مشابه b رو افزایش دادیم که تعداد iteration ها کمتر بشه."
   ]
  },
  {
   "cell_type": "code",
   "execution_count": null,
   "metadata": {},
   "outputs": [],
   "source": [
    "EPOCHS <- 1\n",
    "b <- 20\n",
    "epsilon <- 0.5\n",
    "decay <- 0.99\n",
    "weights <- integer(ncol(train_X) + 1)"
   ]
  },
  {
   "cell_type": "markdown",
   "metadata": {},
   "source": [
    "<div id=\"sec_impl_step2\" style=\"direction:rtl; font-size: 17px; font-family: 'XB Zar'; line-height: 200%\">\n",
    "حال شما باید:\n",
    "<br>\n",
    "ابتدا همه ستون های not_normal_df رو عددی کنید.\n",
    "<br>\n",
    "سپس not_normal_df را هم به دو بخش train و test تقسیم کنید.\n",
    "<br>\n",
    "بخش train را به دستگاه بدید تا یادگیری رو انجام بده.\n",
    "<br>\n",
    "و در آخر بخش test رو به predict دهید و نتیجه را به تابع print_stats دهید و مشاهده کنید چقد ضعیف یادگیری انجام شده است.\n",
    "<br>\n",
    "<div style=\"font-weight: Bold;\">\n",
    "دقت کنید برای عملیات های گفته شده منطقا می‌توانید از تمام تابع هایی که پیش ازین منو شما با هم داخل این نوت‌بوک نوشتیم استفاده کنید.\n",
    "</div>"
   ]
  },
  {
   "cell_type": "code",
   "execution_count": null,
   "metadata": {},
   "outputs": [],
   "source": [
    "# MAKE ALL COLUMNS NUMERIC BELOW #\n",
    "\n",
    "# TRAIN TEST SPLIT THE DATAFRAME BELOW #\n",
    "\n",
    "# TRAIN YOUR MACHINE BELOW #\n",
    "\n",
    "# TEST YOUR MACHINE BELOW #\n"
   ]
  }
 ],
 "metadata": {
  "kernelspec": {
   "display_name": "R",
   "language": "R",
   "name": "ir"
  },
  "language_info": {
   "codemirror_mode": "r",
   "file_extension": ".r",
   "mimetype": "text/x-r-source",
   "name": "R",
   "pygments_lexer": "r",
   "version": "4.0.5"
  }
 },
 "nbformat": 4,
 "nbformat_minor": 2
}
