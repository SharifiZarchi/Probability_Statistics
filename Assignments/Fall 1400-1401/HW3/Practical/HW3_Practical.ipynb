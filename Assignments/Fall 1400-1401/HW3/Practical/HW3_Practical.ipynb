{
 "cells": [
  {
   "cell_type": "markdown",
   "metadata": {},
   "source": [
    "<div style=\"direction:rtl;line-height:300%;\">\n",
    "\t<font face=\"XB Zar\" size=5>\n",
    "\t\t<div align=center>\n",
    "\t\t\t<font face=\"IranNastaliq\" size=30>\n",
    "\t\t\t\t<p></p>\n",
    "\t\t\t\t<p></p>\n",
    "به نام خدا\n",
    "\t\t\t\t<p></p>\n",
    "\t\t\t</font>\n",
    "\t\t\t<font color=#FF7500>\n",
    "دانشگاه صنعتی شریف - دانشکده مهندسی کامپیوتر\n",
    "            </font>\n",
    "\t\t\t<p></p>\n",
    "\t\t\t<font color=blue>\n",
    "آمار و احتمال مهندسی\n",
    "            </font>\n",
    "\t\t\t<br />\n",
    "\t\t\t<br />\n",
    "پاییز 1400\n",
    "\t\t</div>\n",
    "\t\t<hr/>\n",
    "\t\t<div align=center>\n",
    "\t\t    <font color=red size=6>\n",
    "\t\t\t    <br />\n",
    "تمرین عملی سوم\n",
    "            \t<br/>\n",
    "\t\t\t</font>\n",
    "                طراح:\n",
    "                مهدی سلمانی\n",
    "                <br/><br/>\n",
    "                <font color=red>\n",
    "                لطفا در فایل ارسالی تمام بلوک‌های کد اجرا شده و شامل نمودار‌ها و خروجی‌های لازم باشند.\n",
    "     </font>\n",
    "                <br/>\n",
    "\t\t<br />\n",
    "\t\t<hr />\n",
    "\t\t<style type=\"text/css\" scoped>\n",
    "        p{\n",
    "        border: 1px solid #a2a9b1;background-color: #f8f9fa;display: inline-block;\n",
    "        };\n",
    "        </style>\n",
    "\t</font>\n",
    "</div>"
   ]
  },
  {
   "cell_type": "markdown",
   "metadata": {},
   "source": [
    "<div style=\"direction:rtl;line-height:300%;\">\n",
    "\t<font face=\"XB Zar\" size=5>\n",
    "\t\t<div align=center>\n",
    "\t\t\t\t<p></p>\n",
    "\t\t\t\t<p></p>\n",
    "                نام:\n",
    "\t\t\t\t<br/>\n",
    "                شماره دانشجویی:\n",
    "\t\t<br/>\n",
    "         لطفا در این قسمت نام تمامی افرادی که با آن‌ها همفکری کرده‌اید را ذکر نمایید:\n",
    "        </div>\n",
    "\t\t<br />\n",
    "\t\t<hr />\n",
    "\t\t<style type=\"text/css\" scoped>\n",
    "        p{\n",
    "        border: 1px solid #a2a9b1;background-color: #f8f9fa;display: inline-block;\n",
    "        };\n",
    "        </style>\n",
    "\t</font>\n",
    "</div>"
   ]
  },
  {
   "cell_type": "markdown",
   "metadata": {},
   "source": [
    "<div dir = \"rtl\" style=\"direction:rtl;line-height:300%;\">\n",
    "\t<font face=\"XB Zar\" size=5>\n",
    "\t\t<font color=#FF7500 size=6>\n",
    "            سوال اول\n",
    "        </font>\n",
    "        <hr/>\n",
    "        <div dir = \"rtl\" style=\"direction:rtl;line-height:300%;\">\n",
    "\t<font face=\"XB Zar\" size=5>\n",
    "        $U_1$ و $U_2$ متغیرهای تصادفی با توزیع یکنواخت بین بازه‌ی 0 و 1 می‌باشند.\n",
    "        50000 نمونه از هر کدام از این‌دو متغیر تصادفی تولید کنید.\n",
    "            </font>\n",
    "</div>\n",
    "    </font>\n",
    "</div>"
   ]
  },
  {
   "cell_type": "code",
   "execution_count": null,
   "metadata": {},
   "outputs": [],
   "source": []
  },
  {
   "cell_type": "markdown",
   "metadata": {},
   "source": [
    "<div dir = \"rtl\" style=\"direction:rtl;line-height:300%;\">\n",
    "\t<font face=\"XB Zar\" size=5>\n",
    "        <hr/>\n",
    "        حال\n",
    "     متغیرهای تصادفی\n",
    "        $X$ و $Y$ را تعریف می‌کنیم.\n",
    "     <center>\n",
    "        $X = \\sqrt{-2\\ln{U_1}} cos(2\\pi U_2)$\n",
    "     <br>\n",
    "        $Y = \\sqrt{-2\\ln{U_1}} sin(2\\pi U_2)$\n",
    "        </center>\n",
    "        هیستوگرام مربوط به این دو متغیر تصادفی را رسم کنید و سپس\n",
    "        با انتخاب نمودار مناسب توزیع توام متغیر‌های \n",
    "        $X$ و $Y$\n",
    "        را نمایش دهید.\n",
    "    </font>\n",
    "</div>"
   ]
  },
  {
   "cell_type": "code",
   "execution_count": null,
   "metadata": {},
   "outputs": [],
   "source": []
  },
  {
   "cell_type": "markdown",
   "metadata": {},
   "source": [
    "<div dir = \"rtl\" style=\"direction:rtl;line-height:300%;\">\n",
    "\t<font face=\"XB Zar\" size=5>\n",
    "        <hr/>\n",
    "با توجه به توزیع توام، همبستگی بین $X$ و $Y$ \n",
    "        چگونه است؟ \n",
    "    (یعنی تعیین کنید که آیا همبستگی مثبت و یا منفی و یا صفر است.)\n",
    "        به نظرتان این‌دو متغیر از هم مستقل هستند؟\n",
    "    <br>\n",
    "         با استفاده از $LOTUS$ میانگین و واریانس \n",
    "        متغیرهای $X$ و $Y$ را به دست آورید.\n",
    "    </font>\n",
    "</div>"
   ]
  },
  {
   "cell_type": "markdown",
   "metadata": {},
   "source": [
    "<div dir = \"rtl\" style=\"direction:rtl;line-height:300%;\">\n",
    "\t<font face=\"XB Zar\" size=5>\n",
    "        <hr/>\n",
    "حال 50000 نمونه از متغیر تصادفی گوسی $Z$\n",
    "      با میانگین و واریانس مشابه متغیر \n",
    "        $X$ را تولید کنید.\n",
    "    سپس با رسم \n",
    "        <i> <b> یک نمودار </b></i>\n",
    "       مناسب تابع توزیع متغیرهای $X$ و $Y$ و $Z$ را مقایسه کنید.\n",
    "    چه نتیجه‌ای می‌گیرید؟\n",
    "    (نیازی به اثبات نیست صرفا به صورت شهودی جواب دهید.)\n",
    "    </font>\n",
    "</div>"
   ]
  },
  {
   "cell_type": "code",
   "execution_count": null,
   "metadata": {},
   "outputs": [],
   "source": []
  },
  {
   "cell_type": "markdown",
   "metadata": {},
   "source": [
    "<div dir = \"rtl\" style=\"direction:rtl;line-height:300%;\">\n",
    "\t<font face=\"XB Zar\" size=5>\n",
    "        <hr/>\n",
    "اکنون متغیر تصادفی \n",
    "        $R = X^2 + Y^2$ را در نظر بگیرید.\n",
    "        امید ریاضی متغیر تصادفی $R$ به دست آورید.\n",
    "        سپس\n",
    "        توزیع توام $R$ و $X$ را با استفاده از نمودار مناسب نمایش دهید.\n",
    "    </font>\n",
    "</div>"
   ]
  },
  {
   "cell_type": "code",
   "execution_count": null,
   "metadata": {},
   "outputs": [],
   "source": []
  },
  {
   "cell_type": "markdown",
   "metadata": {},
   "source": [
    "<div dir = \"rtl\" style=\"direction:rtl;line-height:300%;\">\n",
    "\t<font face=\"XB Zar\" size=5>\n",
    "        <hr/>\n",
    "با توجه به توزیع توام، همبستگی بین $X$ و $R$ \n",
    "        چگونه است؟ \n",
    "    (یعنی تعیین کنید که آیا همبستگی مثبت و یا منفی و یا صفر است.)\n",
    "        به نظرتان این‌دو متغیر از هم مستقل هستند؟\n",
    "    </font>\n",
    "</div>"
   ]
  },
  {
   "cell_type": "markdown",
   "metadata": {},
   "source": [
    "<div dir = \"rtl\" style=\"direction:rtl;line-height:300%;\">\n",
    "\t<font face=\"XB Zar\" size=5>\n",
    "        <hr/>\n",
    "    در این قسمت 5 متغیر تصادفی که از توزیع $Chi square$ هستند با درجه آزادی‌های\n",
    "        1و 2 و 3 و 4 و 5 بسازید (از هر کدام 50000 نمونه تولید کنید.) و تابع توزیع آن‌ها را در یک نمودار رسم کنید.\n",
    "    سپس تابع توزیع متغیر $R$ را نیز رسم کنید.\n",
    "    با مقایسه این دو نمودار چه نتیجه‌ای می‌گیرید؟\n",
    "    </font>\n",
    "</div>"
   ]
  },
  {
   "cell_type": "code",
   "execution_count": null,
   "metadata": {
    "scrolled": true
   },
   "outputs": [],
   "source": []
  }
 ],
 "metadata": {
  "kernelspec": {
   "display_name": "R",
   "language": "R",
   "name": "python385jvsc74a57bd0ed225720166559e7176d3793db16a2fd8d295f725007103b21ac3099d2a89ee8"
  },
  "language_info": {
   "codemirror_mode": "r",
   "file_extension": ".r",
   "mimetype": "text/x-r-source",
   "name": "R",
   "pygments_lexer": "r",
   "version": "3.6.1"
  }
 },
 "nbformat": 4,
 "nbformat_minor": 2
}
