{
 "cells": [
  {
   "cell_type": "markdown",
   "metadata": {},
   "source": [
    "<div style=\"direction:rtl;line-height:300%;\">\n",
    "\t<font face=\"XB Zar\" size=5>\n",
    "\t\t<div align=center>\n",
    "\t\t\t<font face=\"IranNastaliq\" size=30>\n",
    "\t\t\t\t<p></p>\n",
    "\t\t\t\t<p></p>\n",
    "به نام خدا\n",
    "\t\t\t\t<p></p>\n",
    "\t\t\t</font>\n",
    "\t\t\t<font color=#FF7500>\n",
    "دانشگاه صنعتی شریف - دانشکده مهندسی کامپیوتر\n",
    "            </font>\n",
    "\t\t\t<p></p>\n",
    "\t\t\t<font color=blue>\n",
    "آمار و احتمال مهندسی\n",
    "            </font>\n",
    "\t\t\t<br />\n",
    "\t\t\t<br />\n",
    "پاییز ۱۴۰۰\n",
    "\t\t</div>\n",
    "\t\t<hr/>\n",
    "\t\t<div align=center>\n",
    "\t\t    <font color=red size=6>\n",
    "\t\t\t    <br />\n",
    "تمرین عملی بخش ششم\n",
    "            \t<br/>\n",
    "\t\t\t</font>\n",
    "طراحان: امیرصدرا عبدالهی\n",
    "\t\t\t<br/><br/>\n",
    "موعد تحویل: ۲۹ آذر  \n",
    "                <br/>\n",
    "                همفکری در تمامی تمرین‌های درس توصیه می‌شود. در عین حال از شما خواسته می‌شود تا تمام پیاده‌سازی را به تنهایی و بدون مشاهده کد دیگران انجام دهید.\n",
    "                <br/><br/>\n",
    "                <font color=red>\n",
    "                لطفا در فایل ارسالی تمام بلوک‌های کد اجرا شده و شامل نمودار‌ها و خروجی‌های لازم باشند.\n",
    "     </font>\n",
    "                <br/>\n",
    "        </style>\n",
    "\t</font>\n",
    "</div>"
   ]
  },
  {
   "cell_type": "markdown",
   "metadata": {},
   "source": [
    "<div>\n",
    "نام و نام خانوادگی:\n",
    "<br>\n",
    "شماره دانشجویی:\n",
    "<br>\n",
    "نام افرادی که با آنها مشورت کرده اید:\n",
    "</div>"
   ]
  },
  {
   "cell_type": "markdown",
   "metadata": {},
   "source": [
    "<div dir = \"rtl\" style=\"direction:rtl;line-height:300%;\">\n",
    "\t<font face=\"XB Zar\" size=5>\n",
    "\t\t<font color=#FF7500 size=6>\n",
    "            سوال اول\n",
    "        </font>\n",
    "        <hr/>\n",
    "        <div dir = \"rtl\" style=\"direction:rtl;line-height:300%;text-align:justify\">\n",
    "\t<font face=\"XB Zar\" size=5>\n",
    "        با استفاده از دیتاست iris و آزمون کای و t می خواهیم استقلال برخی از متغیرها را بررسی کنیم.\n",
    "</font>\n",
    "            <br>\n",
    "            <font face=\"XB Zar\" size=5>\n",
    "                بررسی استقلال طول گل ها با انواع آنها:\n",
    "                <br>\n",
    "                \n",
    "\n",
    "</font>\n",
    "            <font face=\"XB Zar\" size=5>\n",
    "        ابتدا گل ها را به دو دسته بلند و کوتاه تبدیل کنید و سپس chi-square  را روی نوع گل ها و دسته جدیدی که ایجاد کردید انجام دهید.\n",
    "                p-value\n",
    "                را تحلیل کنید.\n",
    "</font>\n",
    "</div>\n",
    "        "
   ]
  },
  {
   "cell_type": "code",
   "execution_count": null,
   "metadata": {},
   "outputs": [],
   "source": [
    "data <- iris\n",
    "\n",
    "#chi-square\n",
    "#your code:\n",
    "\n"
   ]
  },
  {
   "cell_type": "markdown",
   "metadata": {},
   "source": [
    "<div dir='rtl'>\n",
    "<font face=\"XB Zar\" size=5>\n",
    "با استفاده از هر ابزاری که مایلید\n",
    "، نموداری رسم کنید که در آن برچسب سایز گل ها و تعدادشان بر اساس نوع آنها مشخص باشد\n",
    "           \n",
    "       \n",
    "</div>"
   ]
  },
  {
   "cell_type": "code",
   "execution_count": null,
   "metadata": {},
   "outputs": [],
   "source": [
    "#plot\n",
    "#your code:\n",
    "\n"
   ]
  },
  {
   "cell_type": "markdown",
   "metadata": {},
   "source": [
    "<div dir='rtl' style=\"direction:rtl;line-height:300%;\">\n",
    "<font face=\"XB Zar\" size=5>\n",
    "حال می خواهیم بررسی کنیم ایا عرض گل versicolor با عرض گل virginica دارای میانگین یکسان هستند یا خیر؟ \n",
    "    <br>\n",
    "    تستی که مناسب تر است را انتخاب کنید و روی داده ها اعمال کنید.\n",
    "    برداشتتان را از \n",
    "    p-value\n",
    "    بنویسید.\n",
    "       \n",
    "</div>"
   ]
  },
  {
   "cell_type": "code",
   "execution_count": null,
   "metadata": {},
   "outputs": [],
   "source": [
    "#your code:\n",
    "\n"
   ]
  },
  {
   "cell_type": "markdown",
   "metadata": {},
   "source": [
    "<div dir = \"rtl\" style=\"direction:rtl;line-height:300%;\">\n",
    "\t<font face=\"XB Zar\" size=5>\n",
    "\t\t<font color=#FF7500 size=6>\n",
    "            سوال دوم\n",
    "        </font>\n",
    "        <hr/>\n",
    "        <div dir = \"rtl\" style=\"direction:rtl;line-height:300%;text-align:justify\">\n",
    "\t<font face=\"XB Zar\" size=5>\n",
    "        فرض کنید ما یک فروشگاه زنجیره ای متشکل از 12 فروشگاه خرده فروشی داریم و می خواهیم تکنیک فروش جدیدی را آزمایش کنیم.\n",
    "        ما ممکن است به عنوان مثال، 5 فروشگاه را فقط انتخاب کنیم و آن را در آنجا امتحان کنیم.\n",
    "        سپس میانگین فروش پس از یک دوره مشخص را با فروش در 7 فروشگاه باقیمانده مقایسه کنید.\n",
    "        در مجموعه داده ما، دو ستون داریم:\n",
    "        <br>\n",
    "        treatment - یک متغیر باینری که نشان می‌دهد آیا فروشگاه رویکرد جدید را اجرا کرده است یا خیر.\n",
    "        <br>\n",
    "        outcome - یک متغیر عددی که مقدار فروش را در پایان یک دوره مشخص می کند.\n",
    "</font>\n",
    "</div>\n",
    "    </font>\n",
    "</div>"
   ]
  },
  {
   "cell_type": "markdown",
   "metadata": {},
   "source": [
    "<div dir='rtl' style=\"direction:rtl;line-height:300%;\">\n",
    "    <font face=\"XB Zar\" size=5>\n",
    "        لود کردن داده ها:\n",
    "    </font>\n",
    "</div>"
   ]
  },
  {
   "cell_type": "code",
   "execution_count": 1,
   "metadata": {},
   "outputs": [
    {
     "ename": "SyntaxError",
     "evalue": "invalid syntax (<ipython-input-1-9b24e091e216>, line 2)",
     "output_type": "error",
     "traceback": [
      "\u001b[1;36m  File \u001b[1;32m\"<ipython-input-1-9b24e091e216>\"\u001b[1;36m, line \u001b[1;32m2\u001b[0m\n\u001b[1;33m    d <- as.data.frame(cbind(rnorm(1:20, 500, 50), c(rep(0, 10), rep(1, 10))))\u001b[0m\n\u001b[1;37m         ^\u001b[0m\n\u001b[1;31mSyntaxError\u001b[0m\u001b[1;31m:\u001b[0m invalid syntax\n"
     ]
    }
   ],
   "source": [
    "set.seed(2021)\n",
    "d <- as.data.frame(cbind(rnorm(1:20, 500, 50), c(rep(0, 10), rep(1, 10))))\n",
    "treatment <- d$V2\n",
    "outcome <- d$V1\n"
   ]
  },
  {
   "cell_type": "markdown",
   "metadata": {},
   "source": [
    "<div dir='rtl' style=\"direction:rtl;line-height:300%;\">\n",
    "<font face=\"XB Zar\" size=5>\n",
    "اختلاف میانگین را در دو حالت treatment بدست آورید   \n",
    "</div>"
   ]
  },
  {
   "cell_type": "code",
   "execution_count": null,
   "metadata": {},
   "outputs": [],
   "source": [
    "#Difference in means\n",
    "# your code:\n"
   ]
  },
  {
   "cell_type": "markdown",
   "metadata": {},
   "source": [
    "<div dir='rtl' style=\"direction:rtl;line-height:300%;\">\n",
    "    <font face=\"XB Zar\" size=5>\n",
    "        تابع را طوری پیاده سازی کنید که n بار ، در هر بار یک جایگشت از سطر ها را بگیرد و اختلاف میانگین در دو حالت treatment  را در لیست distribution  بریزد. در نهایت result را برابر میانگین توزیعی که بدست اوردید قرار دهید.\n",
    "        تابع result , distribution را خروجی میدهد.\n",
    "    </font>\n",
    "</div>"
   ]
  },
  {
   "cell_type": "code",
   "execution_count": null,
   "metadata": {},
   "outputs": [],
   "source": [
    "#Permutation test\n",
    "\n",
    "permutation.test <- function(treatment, outcome, n){\n",
    "  distribution=c()\n",
    "  result=0\n",
    "# your code:\n",
    "\n",
    "  return(list(result, distribution))\n",
    "}\n",
    "\n",
    "test1 <- permutation.test(treatment, outcome, 10000)\n"
   ]
  },
  {
   "cell_type": "markdown",
   "metadata": {},
   "source": [
    "<div dir='rtl' style=\"direction:rtl;line-height:300%;\">\n",
    "    <font face=\"XB Zar\" size=5>\n",
    "        با ابزاری که مایلید ، لیست distribution را بر روی نمودار بیاورید .\n",
    "        تا مقادیر و نوع توزیع آن را مشخص کند.\n",
    "    </font>\n",
    "</div>"
   ]
  },
  {
   "cell_type": "code",
   "execution_count": null,
   "metadata": {},
   "outputs": [],
   "source": [
    "#plot\n",
    "#your code:\n"
   ]
  },
  {
   "cell_type": "markdown",
   "metadata": {},
   "source": [
    "<div dir='rtl' style=\"direction:rtl;line-height:300%;\">\n",
    "    <font face=\"XB Zar\" size=5>\n",
    "        در نهایت پاسخ بدست آمده در مرحله قبل را با ازمون t مقایسه کنید.\n",
    "    </font>\n",
    "</div>"
   ]
  },
  {
   "cell_type": "code",
   "execution_count": null,
   "metadata": {},
   "outputs": [],
   "source": [
    "#Compare to t-test\n",
    "# your code:\n"
   ]
  }
 ],
 "metadata": {
  "kernelspec": {
   "display_name": "Python 3",
   "language": "python",
   "name": "python3"
  },
  "language_info": {
   "codemirror_mode": {
    "name": "ipython",
    "version": 3
   },
   "file_extension": ".py",
   "mimetype": "text/x-python",
   "name": "python",
   "nbconvert_exporter": "python",
   "pygments_lexer": "ipython3",
   "version": "3.9.1"
  }
 },
 "nbformat": 4,
 "nbformat_minor": 2
}
