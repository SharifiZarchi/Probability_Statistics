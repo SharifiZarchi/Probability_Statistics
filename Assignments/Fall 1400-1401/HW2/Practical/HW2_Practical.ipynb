{
 "cells": [
  {
   "cell_type": "markdown",
   "metadata": {},
   "source": [
    "<div style=\"direction:rtl;line-height:300%;\">\n",
    "\t<font face=\"XB Zar\" size=5>\n",
    "\t\t<div align=center>\n",
    "\t\t\t<font face=\"IranNastaliq\" size=30>\n",
    "\t\t\t\t<p></p>\n",
    "\t\t\t\t<p></p>\n",
    "به نام خدا\n",
    "\t\t\t\t<p></p>\n",
    "\t\t\t</font>\n",
    "\t\t\t<font color=#FF7500>\n",
    "دانشگاه صنعتی شریف - دانشکده مهندسی کامپیوتر\n",
    "            </font>\n",
    "\t\t\t<p></p>\n",
    "\t\t\t<font color=blue>\n",
    "آمار و احتمال مهندسی\n",
    "            </font>\n",
    "\t\t\t<br />\n",
    "\t\t\t<br />\n",
    "پاییز 1400\n",
    "\t\t</div>\n",
    "\t\t<hr/>\n",
    "\t\t<div align=center>\n",
    "\t\t    <font color=red size=6>\n",
    "\t\t\t    <br />\n",
    "تمرین عملی بخش دوم\n",
    "            \t<br/>\n",
    "\t\t\t</font>\n",
    "طراح: یلدا شعبان‌زاده \n",
    "\t\t\t<br/><br/> \n",
    "موعد تحویل: 14 آبان \n",
    "                <br/>\n",
    "                همفکری در تمامی تمرین‌های درس توصیه می‌شود. در عین حال از شما خواسته می‌شود تا تمام پیاده‌سازی را به تنهایی و بدون مشاهده کد دیگران انجام دهید.\n",
    "                <br/><br/>\n",
    "                <font color=red>\n",
    "                لطفا در فایل ارسالی تمام بلوک‌های کد اجرا شده و شامل نمودار‌ها و خروجی‌های لازم باشند.\n",
    "     </font>\n",
    "                <br/>\n",
    "        </style>\n",
    "\t</font>\n",
    "</div>"
   ]
  },
  {
   "cell_type": "markdown",
   "metadata": {},
   "source": [
    "<div style=\"direction:rtl\">\n",
    "    نام و نام خانوادگی:\n",
    "</div>"
   ]
  },
  {
   "cell_type": "markdown",
   "metadata": {},
   "source": [
    "<div style=\"direction:rtl\">\n",
    "    شماره دانشجویی:\n",
    "</div>"
   ]
  },
  {
   "cell_type": "markdown",
   "metadata": {},
   "source": [
    "<div style=\"direction:rtl\">\n",
    "    نام افرادی که با آن‌ها مشورت کرده‌اید:\n",
    "</div>"
   ]
  },
  {
   "cell_type": "markdown",
   "metadata": {},
   "source": [
    "<div dir = \"rtl\" style=\"direction:rtl;line-height:250%;\">\n",
    "\t<font face=\"XB Zar\" size=5>\n",
    "\t\t<font color=#FF7500 size=6>\n",
    "             سوال اول\n",
    "        </font>\n",
    "        <hr/>\n",
    "        <div dir = \"rtl\" style=\"direction:rtl;line-height:200%;\">\n",
    "\t<font face=\"XB Zar\" size=5>\n",
    "        بسیاری از پدیده های موجود در طبیعت با توزیع نرمال مدل می‌شوند. فشار خون یکی از این پدیده هاست.  پکیج bp در زبان R هدف ارائه یک  ابزار جامع برای تجزیه و تحلیل داده های فشار خون با استفاده از انواع معیارهای آماری و تجسم داده به وجود آمده است.\n",
    "        با استفاده از دستور زیر میتوانید این پکیج را نصب کنید.\n",
    "            </font>\n",
    "</div>\n",
    "    </font>\n",
    "</div>"
   ]
  },
  {
   "cell_type": "code",
   "execution_count": null,
   "metadata": {},
   "outputs": [],
   "source": [
    "install.packages('bp')"
   ]
  },
  {
   "cell_type": "markdown",
   "metadata": {},
   "source": [
    "<div dir = \"rtl\" style=\"direction:rtl;line-height:250%;\">\n",
    "\t<font face=\"XB Zar\" size=5>\n",
    "        الف)\n",
    "        در این سوال به دیتاست bp_jhs و bp_children از این پکیج نیاز خواهید داشت.\n",
    "        نمودار فشار خون systolic و diastolic مربوط به این دو دیتاست را رسم کنید. برای bp_jsh از ستون های Sys.mmHg. و Dias.mmHg.  و برای bp_children از ستون های sbp و dbp استفاده کنید.\n",
    "        برای هرکدام از این دو دیتاست یک نمودار رسم کنید که در هر یک دو خم وجود داشته باشد و مشخص کنید کدام خم مربوط به چه ستونی از دیتاست است.\n",
    "     </font>\n",
    "</div>"
   ]
  },
  {
   "cell_type": "code",
   "execution_count": null,
   "metadata": {},
   "outputs": [],
   "source": []
  },
  {
   "cell_type": "markdown",
   "metadata": {},
   "source": [
    "<div dir = \"rtl\" style=\"direction:rtl;line-height:250%;\">\n",
    "\t<font face=\"XB Zar\" size=5>\n",
    "        ب)\n",
    "        نمودار نقطه‌ای (scatter) مربوط به دیتاست pd_children را براساس ویژگی‌های age و gender و sbp رسم کنید. سعی کنید نمودار رسم شده اطلاعات را به خوبی نشان دهد.<br>\n",
    "        اگر برای نشان دادن ویژگی ای به مشکل برخوردید میتوانید از لایبرری haven برای تبدیل دیتاهای ستون ها به فرمت های دیگر استفاده کنید.\n",
    "     </font>\n",
    "</div>"
   ]
  },
  {
   "cell_type": "code",
   "execution_count": null,
   "metadata": {},
   "outputs": [],
   "source": [
    "install.packages('haven')"
   ]
  },
  {
   "cell_type": "markdown",
   "metadata": {},
   "source": [
    "<div dir = \"rtl\" style=\"direction:rtl;line-height:250%;\">\n",
    "\t<font face=\"XB Zar\" size=5>\n",
    "        ج)\n",
    "        توزیع های مربوط به کدام دیتاست به توزیع نرمال نزدیک تر است؟ برای این مقایسه میتوانید دیتاهای systolic و diastolic هر گروه را با توزیع نرمال شبیه‌سازی کنید. یعنی داده هایی را با استفاده از توابع آماده R (مانند rnorm) بدست آورید و توزیع آن‌ها را با توزیع اصلی مقایسه کنید.\n",
    "     </font>\n",
    "</div>"
   ]
  },
  {
   "cell_type": "code",
   "execution_count": null,
   "metadata": {},
   "outputs": [],
   "source": []
  },
  {
   "cell_type": "markdown",
   "metadata": {},
   "source": [
    "<div dir = \"rtl\" style=\"direction:rtl;line-height:250%;\">\n",
    "\t<font face=\"XB Zar\" size=5>\n",
    "\t\t<font color=#FF7500 size=6>\n",
    "             سوال دوم \n",
    "        </font>\n",
    "        <hr/>\n",
    "        <div dir = \"rtl\" style=\"direction:rtl;line-height:200%;\">\n",
    "\t<font face=\"XB Zar\" size=5>\n",
    "        در یک فرایند پواسون زمان بین دو اتفاق از یک توزیع نمایی پیروی می‌کند. اگر بخواهیم زمان اتفاق n‌ام را پیش‌بینی کنیم از توزیع گاما استفاده می‌کنیم.\n",
    "        $$T_n=\\sum_{i=1}^n{X_i},\\  X_i  s\\ are\\ i.i.d\\ and\\ X_i\\sim Exp(\\lambda)$$\n",
    "        $$T_n\\sim Gamma(n, \\lambda)$$\n",
    "        حال فرض کنید فاصله بین خروج هواپیماها از یک فرودگاه از توزیع نمایی پیروی می‌کند به طوری که در هر دقیقه پنج هواپیما خارج می‌شوند.\n",
    "        <br>\n",
    "        الف)\n",
    "        1000  نمونه تصادفی برای زمان بین خروج هواپیماها تولید کنید و نمودارهای هیستوگرام داده‌های تولیدشده و چگالی توزیع آن را در یک نمودار رسم کنید.\n",
    "        نمودار هیستوگرام شما باید چگالی احتمال را برای هر نمونه را نشان دهد.\n",
    "            </font>\n",
    "</div>\n",
    "    </font>\n",
    "</div>"
   ]
  },
  {
   "cell_type": "code",
   "execution_count": null,
   "metadata": {},
   "outputs": [],
   "source": []
  },
  {
   "cell_type": "markdown",
   "metadata": {},
   "source": [
    "<div dir = \"rtl\" style=\"direction:rtl;line-height:250%;\">\n",
    "\t<font face=\"XB Zar\" size=5>\n",
    "        ب)\n",
    "        بی‌حافظگی توزیع نمایی را با داده‌های تولید شده در قسمت قبل را با استفاده از داده‌های تولید شده در قسمت قبل و رسم نمودار به همان شکل نشان دهید.\n",
    "     </font>\n",
    "</div>"
   ]
  },
  {
   "cell_type": "code",
   "execution_count": null,
   "metadata": {},
   "outputs": [],
   "source": []
  },
  {
   "cell_type": "markdown",
   "metadata": {},
   "source": [
    "<div dir = \"rtl\" style=\"direction:rtl;line-height:250%;\">\n",
    "\t<font face=\"XB Zar\" size=5>\n",
    "        ج)\n",
    "       با تولید n=10 متغیرتصادفی نمایی، ویژگی گفته شده در صورت سوال را بررسی کنید. برای این‌کار می‌توانید برای شبیه‌سازی هر متغیرتصادفی مانند قسمت الف عمل کنید. \n",
    "     </font>\n",
    "</div>"
   ]
  },
  {
   "cell_type": "code",
   "execution_count": null,
   "metadata": {},
   "outputs": [],
   "source": []
  }
 ],
 "metadata": {
  "kernelspec": {
   "display_name": "R",
   "language": "R",
   "name": "ir"
  },
  "language_info": {
   "codemirror_mode": "r",
   "file_extension": ".r",
   "mimetype": "text/x-r-source",
   "name": "R",
   "pygments_lexer": "r",
   "version": "3.6.1"
  }
 },
 "nbformat": 4,
 "nbformat_minor": 5
}
