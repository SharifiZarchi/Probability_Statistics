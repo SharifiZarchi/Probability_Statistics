{
 "cells": [
  {
   "cell_type": "markdown",
   "metadata": {},
   "source": [
    "<div style=\"direction:rtl;line-height:300%;\">\n",
    "\t<font face=\"XB Zar\" size=5>\n",
    "\t\t<div align=center>\n",
    "\t\t\t<font face=\"IranNastaliq\" size=30>\n",
    "\t\t\t\t<p></p>\n",
    "\t\t\t\t<p></p>\n",
    "به نام خدا\n",
    "\t\t\t\t<p></p>\n",
    "\t\t\t</font>\n",
    "\t\t\t<font color=#FF7500>\n",
    "دانشگاه صنعتی شریف - دانشکده مهندسی کامپیوتر\n",
    "            </font>\n",
    "\t\t\t<p></p>\n",
    "\t\t\t<font color=blue>\n",
    "آمار و احتمال مهندسی\n",
    "            </font>\n",
    "\t\t\t<br />\n",
    "\t\t\t<br />\n",
    "پاییز ۱۳۹۷\n",
    "\t\t</div>\n",
    "\t\t<hr/>\n",
    "\t\t<font color=red size=6>\n",
    "\t\t\t<br />\n",
    "\t\t\t<div align=center>\n",
    "آشنایی با توزیع ها\n",
    "                در\n",
    "                R\n",
    "            </div>\n",
    "\t\t</font>\n",
    "        <br />\n",
    "                    \t\t<div align=center>\n",
    "            رضا یاربخش و آیدا رمضانی\n",
    "           </div>\n",
    "\t\t<br />\n",
    "\t\t<hr />\n",
    "\t\t<style type=\"text/css\" scoped>\n",
    "        p{\n",
    "        border: 1px solid #a2a9b1;background-color: #f8f9fa;display: inline-block;\n",
    "        };\n",
    "        </style>\n",
    "\t\t<div>\n",
    "\t\t\t<h3>فهرست مطالب</h3>\n",
    "\t\t\t<ul style=\"margin-right: 0;\">\n",
    "                <li>\n",
    "\t\t\t\t\t<a href=\"#sec_intro\">\n",
    "                        مقدمه\n",
    "                    </a>\n",
    "\t\t\t\t</li>\n",
    "                <li>\n",
    "\t\t\t\t\t<a href=\"#sec_R\">\n",
    "                        انواع توزیع ها در\n",
    "                        R\n",
    "                    </a>\n",
    "\t\t\t\t</li>\n",
    "                <li><a href = \"#sec_binomial\">  توزیع دو جمله ای </a></li>\n",
    "                <li><a href = \"#sec_poisson\">\n",
    "                    توزیع پوآسون\n",
    "                    </a>\n",
    "                </li>\n",
    "                <li> <a href =\"#sec_uniform\"> \n",
    "                    توزیع یکنواخت  \n",
    "                </a>\n",
    "                </li>\n",
    "                <li> <a href =\"#sec_normal\"> توزیع نرمال</a></li>\n",
    "                <li> <a href =\"#sec_exponential\"> توزیع نمایی</a> </li>\n",
    "                <li><a href =\"#sec_geometric\"> توزیع هندسی </a></li>\n",
    "                <li>\n",
    "\t\t\t\t\t<a href=\"#sec_con\">\n",
    "خلاصه و نتیجه‌گیری \n",
    "                    </a>\n",
    "\t\t\t\t</li>\n",
    "                <li>\n",
    "\t\t\t\t\t<a href=\"#sec_resources\">\n",
    "منابع\n",
    "                    </a>\n",
    "\t\t\t\t</li>\n",
    "\t\t\t</ul>\n",
    "\t\t</div>\n",
    "\t</font>\n",
    "</div>"
   ]
  },
  {
   "cell_type": "markdown",
   "metadata": {},
   "source": [
    "<p></p>\n",
    "<br />\n",
    "<div id=\"sec_intro\" style=\"direction:rtl;line-height:300%;\">\n",
    "\t<font face=\"XB Zar\" size=5>\n",
    "\t\t<font color=#FF7500 size=6>\n",
    "مقدمه\n",
    "        </font>\n",
    "\t\t<p></p>\n",
    "\t\t<hr>\n",
    "        همان طور که قبلاً مشاهده کردید توزیع یک احتمال نشان دهنده  احتمال وقوع مقادیر ممکن برای آن است. همچنین یاد گرفته اید که رویداد های متفاوت چه توزیعی دارند. مثلا میدانید در پرتاب متوالی یک سکه، متغیر تصادفی تعداد شیر (یا خط) های آمده از توزیع دو جمله ای پیروی میکند. \n",
    "<br/>\n",
    "در این قسمت قصد داریم نشان دهیم چگونه میتوان با استفاده از ابزار های موجود در\n",
    "        R\n",
    "        برخی توزیع های معروف را که با آن ها بیشتر در مطالعات آماری سر و کار داریم محاسبه کرد. \n",
    "<br/><br/>\n",
    "\t</font>\n",
    "</div>"
   ]
  },
  {
   "cell_type": "markdown",
   "metadata": {},
   "source": [
    "<p></p>\n",
    "<br />\n",
    "<div id=\"sec_R\" style=\"direction:rtl;line-height:300%;\">\n",
    "\t<font face=\"XB Zar\" size=5>\n",
    "\t\t<font color=#FF7500 size=6>\n",
    "آشنایی با توزیع ها در \n",
    "            R\n",
    "        </font>\n",
    "\t\t<p></p>\n",
    "\t\t<hr> \n",
    "        توزیع هایی که به آن ها خواهیم پرداخت عبارت اند از:\n",
    "        <ul>\n",
    "            <li> توزیع دو جمله ای</li>\n",
    "            <li>توزیع پوآسون </li>\n",
    "            <li>توزیع یکنواخت </li>\n",
    "            <li> توزیع نرمال</li>\n",
    "            <li>توزیع نمایی </li>\n",
    "            <li> توزیع هندسی</li>\n",
    "            <li> توزیع گاما</li>\n",
    "            <li> توزیع بتا</li>\n",
    "        </ul>\n",
    "\t</font>\n",
    "</div>"
   ]
  },
  {
   "cell_type": "markdown",
   "metadata": {},
   "source": [
    "<p></p>\n",
    "<br />\n",
    "<div id=\"sec_binomial\" style=\"direction:rtl;line-height:300%;\">\n",
    "\t<font face=\"XB Zar\" size=5>\n",
    "\t\t<font color=#FF7500 size=6>\n",
    "توزیع دو جمله ای\n",
    "        </font>\n",
    "\t\t<p></p>\n",
    "\t\t<hr>  \n",
    "        فرض کنید در یک آزمون 4 گزینه ای، 10 عدد سوال دارید و میخواهید به طور رندوم به این سوال ها پاسخ دهید. احتمال اینکه تعداد جواب های درست شما کمتر مساوی 6 باشد چقدر است؟\n",
    "<br/>\n",
    "        پاسخ:میدانید که توزیع تعداد سوال های درست، توزیع دو جمله ای با پارامتر\n",
    "        0.25\n",
    "        است. (زیرا تنها یک گزینه از 4 گزینه صحیح میباشد)\n",
    "        احتمال داشتن 6 پاسخ درست در امتحان برابر است با:\n",
    "        <br/>\n",
    "        <div dir = \"ltr\">\n",
    "        $P(X \\, = 6) = \\binom{10}{6} \\times p^6 \\times (1 - p)^4$\n",
    " </div>\n",
    " جواب این عبارت را در\n",
    " R\n",
    " به صورت زیر حساب میکنیم:\n",
    "    <br/>\n",
    "\t</font>\n",
    "</div>"
   ]
  },
  {
   "cell_type": "code",
   "execution_count": 1,
   "metadata": {},
   "outputs": [
    {
     "data": {
      "text/html": [
       "0.0162220001220703"
      ],
      "text/latex": [
       "0.0162220001220703"
      ],
      "text/markdown": [
       "0.0162220001220703"
      ],
      "text/plain": [
       "[1] 0.016222"
      ]
     },
     "metadata": {},
     "output_type": "display_data"
    }
   ],
   "source": [
    "dbinom(6, size=10, prob=0.25) "
   ]
  },
  {
   "cell_type": "markdown",
   "metadata": {},
   "source": [
    "<div dir = \"rtl\">\n",
    "\t<font face=\"XB Zar\" size=5>\n",
    "\t\t<font color=#FF7500 size=6>\n",
    "        </font>\n",
    "        همچنین برای حساب کردن احتمال داشتن کمتر مساوی 6 پاسخ درست داریم:\n",
    "\t\t <br/>\n",
    "\t</font>\n",
    "</div>"
   ]
  },
  {
   "cell_type": "code",
   "execution_count": 2,
   "metadata": {},
   "outputs": [
    {
     "data": {
      "text/html": [
       "0.996494293212891"
      ],
      "text/latex": [
       "0.996494293212891"
      ],
      "text/markdown": [
       "0.996494293212891"
      ],
      "text/plain": [
       "[1] 0.9964943"
      ]
     },
     "metadata": {},
     "output_type": "display_data"
    }
   ],
   "source": [
    "dbinom(6, size=10, prob=0.25) +\n",
    "dbinom(5, size=10, prob=0.25) +\n",
    "dbinom(4, size=10, prob=0.25) +\n",
    "dbinom(3, size=10, prob=0.25) +\n",
    "dbinom(2, size=10, prob=0.25) +\n",
    "dbinom(1, size=10, prob=0.25) +\n",
    "dbinom(0, size=10, prob=0.25) "
   ]
  },
  {
   "cell_type": "markdown",
   "metadata": {},
   "source": [
    "<div dir = \"rtl\">\n",
    "\t<font face=\"XB Zar\" size=5>\n",
    "\t\t<font color=#FF7500 size=6>\n",
    "        </font>\n",
    "        یا با استفاده از تابع توزیع تجمعی (CDF):\n",
    "\t\t <br/>\n",
    "\t</font>\n",
    "</div>"
   ]
  },
  {
   "cell_type": "code",
   "execution_count": 3,
   "metadata": {},
   "outputs": [
    {
     "data": {
      "text/html": [
       "0.996494293212891"
      ],
      "text/latex": [
       "0.996494293212891"
      ],
      "text/markdown": [
       "0.996494293212891"
      ],
      "text/plain": [
       "[1] 0.9964943"
      ]
     },
     "metadata": {},
     "output_type": "display_data"
    }
   ],
   "source": [
    "pbinom(6, size=10, prob=0.25) "
   ]
  },
  {
   "cell_type": "markdown",
   "metadata": {},
   "source": [
    "<div dir = \"rtl\" style=\"direction:rtl;line-height:300%;\">\n",
    "\t<font face=\"XB Zar\" size=5>\n",
    "\t\t<font color=#FF7500 size=6>\n",
    "        </font>\n",
    "        امکان دیگری در \n",
    "        R\n",
    "      وجود دارد که به ما اجازه میدهد از توزیع ها نمونه تصادفی بگیریم. برای مثال برای توزیع دو جمله ای میتوانیم به طور \n",
    "        تصادفی 1000 نمونه گرفته که هر کدام نشان دهنده تعداد پاسخ های درست در یک امتحان 4 گزینه ای 10 سواله هستند\n",
    "        .\n",
    "\t\t <br/>\n",
    "\t</font>\n",
    "</div>"
   ]
  },
  {
   "cell_type": "code",
   "execution_count": 4,
   "metadata": {},
   "outputs": [
    {
     "data": {
      "text/html": [
       "<ol class=list-inline>\n",
       "\t<li>2</li>\n",
       "\t<li>2</li>\n",
       "\t<li>0</li>\n",
       "\t<li>6</li>\n",
       "\t<li>0</li>\n",
       "\t<li>3</li>\n",
       "\t<li>3</li>\n",
       "\t<li>3</li>\n",
       "\t<li>3</li>\n",
       "\t<li>0</li>\n",
       "\t<li>1</li>\n",
       "\t<li>4</li>\n",
       "\t<li>5</li>\n",
       "\t<li>1</li>\n",
       "\t<li>3</li>\n",
       "\t<li>3</li>\n",
       "\t<li>3</li>\n",
       "\t<li>1</li>\n",
       "\t<li>2</li>\n",
       "\t<li>1</li>\n",
       "\t<li>2</li>\n",
       "\t<li>1</li>\n",
       "\t<li>4</li>\n",
       "\t<li>3</li>\n",
       "\t<li>1</li>\n",
       "\t<li>4</li>\n",
       "\t<li>1</li>\n",
       "\t<li>1</li>\n",
       "\t<li>0</li>\n",
       "\t<li>3</li>\n",
       "\t<li>3</li>\n",
       "\t<li>1</li>\n",
       "\t<li>3</li>\n",
       "\t<li>2</li>\n",
       "\t<li>2</li>\n",
       "\t<li>1</li>\n",
       "\t<li>2</li>\n",
       "\t<li>5</li>\n",
       "\t<li>1</li>\n",
       "\t<li>2</li>\n",
       "\t<li>1</li>\n",
       "\t<li>4</li>\n",
       "\t<li>3</li>\n",
       "\t<li>2</li>\n",
       "\t<li>4</li>\n",
       "\t<li>4</li>\n",
       "\t<li>2</li>\n",
       "\t<li>1</li>\n",
       "\t<li>4</li>\n",
       "\t<li>2</li>\n",
       "</ol>\n"
      ],
      "text/latex": [
       "\\begin{enumerate*}\n",
       "\\item 2\n",
       "\\item 2\n",
       "\\item 0\n",
       "\\item 6\n",
       "\\item 0\n",
       "\\item 3\n",
       "\\item 3\n",
       "\\item 3\n",
       "\\item 3\n",
       "\\item 0\n",
       "\\item 1\n",
       "\\item 4\n",
       "\\item 5\n",
       "\\item 1\n",
       "\\item 3\n",
       "\\item 3\n",
       "\\item 3\n",
       "\\item 1\n",
       "\\item 2\n",
       "\\item 1\n",
       "\\item 2\n",
       "\\item 1\n",
       "\\item 4\n",
       "\\item 3\n",
       "\\item 1\n",
       "\\item 4\n",
       "\\item 1\n",
       "\\item 1\n",
       "\\item 0\n",
       "\\item 3\n",
       "\\item 3\n",
       "\\item 1\n",
       "\\item 3\n",
       "\\item 2\n",
       "\\item 2\n",
       "\\item 1\n",
       "\\item 2\n",
       "\\item 5\n",
       "\\item 1\n",
       "\\item 2\n",
       "\\item 1\n",
       "\\item 4\n",
       "\\item 3\n",
       "\\item 2\n",
       "\\item 4\n",
       "\\item 4\n",
       "\\item 2\n",
       "\\item 1\n",
       "\\item 4\n",
       "\\item 2\n",
       "\\end{enumerate*}\n"
      ],
      "text/markdown": [
       "1. 2\n",
       "2. 2\n",
       "3. 0\n",
       "4. 6\n",
       "5. 0\n",
       "6. 3\n",
       "7. 3\n",
       "8. 3\n",
       "9. 3\n",
       "10. 0\n",
       "11. 1\n",
       "12. 4\n",
       "13. 5\n",
       "14. 1\n",
       "15. 3\n",
       "16. 3\n",
       "17. 3\n",
       "18. 1\n",
       "19. 2\n",
       "20. 1\n",
       "21. 2\n",
       "22. 1\n",
       "23. 4\n",
       "24. 3\n",
       "25. 1\n",
       "26. 4\n",
       "27. 1\n",
       "28. 1\n",
       "29. 0\n",
       "30. 3\n",
       "31. 3\n",
       "32. 1\n",
       "33. 3\n",
       "34. 2\n",
       "35. 2\n",
       "36. 1\n",
       "37. 2\n",
       "38. 5\n",
       "39. 1\n",
       "40. 2\n",
       "41. 1\n",
       "42. 4\n",
       "43. 3\n",
       "44. 2\n",
       "45. 4\n",
       "46. 4\n",
       "47. 2\n",
       "48. 1\n",
       "49. 4\n",
       "50. 2\n",
       "\n",
       "\n"
      ],
      "text/plain": [
       " [1] 2 2 0 6 0 3 3 3 3 0 1 4 5 1 3 3 3 1 2 1 2 1 4 3 1 4 1 1 0 3 3 1 3 2 2 1 2 5\n",
       "[39] 1 2 1 4 3 2 4 4 2 1 4 2"
      ]
     },
     "metadata": {},
     "output_type": "display_data"
    }
   ],
   "source": [
    "rbinom(n = 1000, size = 10,p =  0.25) -> data_binomial\n",
    "data_binomial[1:50]"
   ]
  },
  {
   "cell_type": "markdown",
   "metadata": {},
   "source": [
    "<div dir = \"rtl\" style=\"direction:rtl;line-height:300%;\">\n",
    "\t<font face=\"XB Zar\" size=5>\n",
    "\t\t<font color=#FF7500 size=6>\n",
    "        </font>\n",
    "       برای درک بیشتر نمودار فراوانی نمونه به دست آمده را میکشیم\n",
    "         .\n",
    "         <br/>\n",
    "\t</font>\n",
    "</div>"
   ]
  },
  {
   "cell_type": "code",
   "execution_count": 5,
   "metadata": {},
   "outputs": [
    {
     "data": {
      "image/png": "[encoded data removed]",
      "text/plain": [
       "Plot with title \"Histogram of data_binomial\""
      ]
     },
     "metadata": {},
     "output_type": "display_data"
    }
   ],
   "source": [
    "options(repr.plot.width=4.5, repr.plot.height=4.5)\n",
    "hist(data_binomial, col = \"violet\")"
   ]
  },
  {
   "cell_type": "markdown",
   "metadata": {},
   "source": [
    "<p></p>\n",
    "<br />\n",
    "<div id=\"sec_poisson\" style=\"direction:rtl;line-height:300%;\">\n",
    "\t<font face=\"XB Zar\" size=5>\n",
    "\t\t<font color=#FF7500 size=6>\n",
    "توزیع پوآسون\n",
    "        </font>\n",
    "\t\t<hr>  \n",
    "                $$\n",
    "        \\begin{aligned}\n",
    "        \\end{aligned}\n",
    "        $$\n",
    "         فرض کنید در هر دقیقه به طور متوسط 12 ماشین از روی پلی عبور میکنند. احتمال اینکه\n",
    "        17 \n",
    "        ماشین یا بیشتر در یک دقیقه مشخص از روی این پل عبور کنند چقدر است؟\n",
    "    <br/>\n",
    "        پاسخ:برای حل این سوال به سراغ توزیع پواسون میرویم. چون در این توزیع امید ریاضی برابر با مولفه \n",
    "        $\\lambda$\n",
    "        میباشد در نتیجه \n",
    "        $\\lambda = 12$.\n",
    "<br/>\n",
    "        همچنین میدانیم در توزیع پواسون، احتمال عبور 16 ماشین از روی پل در یک دقیقه مشخص برابر است با:\n",
    "        <div dir = \"ltr\">\n",
    "        $P(x \\, = \\, 16) = \\frac{e^{-\\lambda} \\times \\lambda ^ {16}}{16!}$\n",
    "</div>\n",
    "و احتمال عبور کردن 16 ماشین یا کمتر بر روی پل برابر است با:\n",
    "<div dir = \"ltr\">\n",
    "    $\\sum_{i = 0 }^{16} P(x \\, = \\,i)$\n",
    "</div>\n",
    "در \n",
    "R\n",
    "میتوان عبارت های نوشته شده را به ترتیب  به صورت زیر حساب کرد:\n",
    "\t</font>\n",
    "</div>"
   ]
  },
  {
   "cell_type": "code",
   "execution_count": 6,
   "metadata": {},
   "outputs": [
    {
     "data": {
      "text/html": [
       "0.0542933401099791"
      ],
      "text/latex": [
       "0.0542933401099791"
      ],
      "text/markdown": [
       "0.0542933401099791"
      ],
      "text/plain": [
       "[1] 0.05429334"
      ]
     },
     "metadata": {},
     "output_type": "display_data"
    }
   ],
   "source": [
    "dpois(x = 16, lambda = 12)"
   ]
  },
  {
   "cell_type": "code",
   "execution_count": 7,
   "metadata": {},
   "outputs": [
    {
     "data": {
      "text/html": [
       "0.898708992560162"
      ],
      "text/latex": [
       "0.898708992560162"
      ],
      "text/markdown": [
       "0.898708992560162"
      ],
      "text/plain": [
       "[1] 0.898709"
      ]
     },
     "metadata": {},
     "output_type": "display_data"
    }
   ],
   "source": [
    "ppois(16, lambda=12) #lower tail"
   ]
  },
  {
   "cell_type": "markdown",
   "metadata": {},
   "source": [
    "<div dir = \"rtl\" style=\"direction:rtl;line-height:300%;\">\n",
    "\t<font face=\"XB Zar\" size=5>\n",
    "\t\t<font color=#FF7500 size=6>\n",
    "        </font>\n",
    "      برای به دست آوردن احتمال رد شدن بیش از 16 اتوموبیل بر روی پل داریم:\n",
    "         <br/>\n",
    "\t</font>\n",
    "</div>"
   ]
  },
  {
   "cell_type": "code",
   "execution_count": 8,
   "metadata": {},
   "outputs": [
    {
     "data": {
      "text/html": [
       "0.101291007439838"
      ],
      "text/latex": [
       "0.101291007439838"
      ],
      "text/markdown": [
       "0.101291007439838"
      ],
      "text/plain": [
       "[1] 0.101291"
      ]
     },
     "metadata": {},
     "output_type": "display_data"
    }
   ],
   "source": [
    "1 - ppois(16, lambda=12) #lower tail"
   ]
  },
  {
   "cell_type": "markdown",
   "metadata": {},
   "source": [
    "<div dir = \"rtl\" style=\"direction:rtl;line-height:300%;\">\n",
    "\t<font face=\"XB Zar\" size=5>\n",
    "\t\t<font color=#FF7500 size=6>\n",
    "        </font>\n",
    "      و یا:\n",
    "         <br/>\n",
    "\t</font>\n",
    "</div>"
   ]
  },
  {
   "cell_type": "code",
   "execution_count": 9,
   "metadata": {},
   "outputs": [
    {
     "data": {
      "text/html": [
       "0.101291007439838"
      ],
      "text/latex": [
       "0.101291007439838"
      ],
      "text/markdown": [
       "0.101291007439838"
      ],
      "text/plain": [
       "[1] 0.101291"
      ]
     },
     "metadata": {},
     "output_type": "display_data"
    }
   ],
   "source": [
    "ppois(16, lambda=12, lower=FALSE) #upper tail"
   ]
  },
  {
   "cell_type": "markdown",
   "metadata": {},
   "source": [
    "<div dir = \"rtl\" style=\"direction:rtl;line-height:300%;\">\n",
    "\t<font face=\"XB Zar\" size=5>\n",
    "\t\t<font color=#FF7500 size=6>\n",
    "        </font>\n",
    "      برای گرفتن نمونه تصادفی از توزیع پوآسون نیز داریم:\n",
    "      <br/>\n",
    "\t</font>\n",
    "</div>"
   ]
  },
  {
   "cell_type": "code",
   "execution_count": 10,
   "metadata": {},
   "outputs": [
    {
     "data": {
      "text/html": [
       "<ol class=list-inline>\n",
       "\t<li>7</li>\n",
       "\t<li>14</li>\n",
       "\t<li>9</li>\n",
       "\t<li>12</li>\n",
       "\t<li>11</li>\n",
       "\t<li>19</li>\n",
       "\t<li>11</li>\n",
       "\t<li>8</li>\n",
       "\t<li>18</li>\n",
       "\t<li>14</li>\n",
       "\t<li>13</li>\n",
       "\t<li>13</li>\n",
       "\t<li>19</li>\n",
       "\t<li>11</li>\n",
       "\t<li>6</li>\n",
       "\t<li>8</li>\n",
       "\t<li>19</li>\n",
       "\t<li>14</li>\n",
       "\t<li>11</li>\n",
       "\t<li>12</li>\n",
       "\t<li>11</li>\n",
       "\t<li>6</li>\n",
       "\t<li>14</li>\n",
       "\t<li>19</li>\n",
       "\t<li>13</li>\n",
       "\t<li>6</li>\n",
       "\t<li>19</li>\n",
       "\t<li>11</li>\n",
       "\t<li>15</li>\n",
       "\t<li>14</li>\n",
       "\t<li>6</li>\n",
       "\t<li>10</li>\n",
       "\t<li>16</li>\n",
       "\t<li>12</li>\n",
       "\t<li>17</li>\n",
       "\t<li>13</li>\n",
       "\t<li>14</li>\n",
       "\t<li>10</li>\n",
       "\t<li>10</li>\n",
       "\t<li>9</li>\n",
       "\t<li>12</li>\n",
       "\t<li>5</li>\n",
       "\t<li>8</li>\n",
       "\t<li>15</li>\n",
       "\t<li>7</li>\n",
       "\t<li>12</li>\n",
       "\t<li>18</li>\n",
       "\t<li>9</li>\n",
       "\t<li>8</li>\n",
       "\t<li>9</li>\n",
       "</ol>\n"
      ],
      "text/latex": [
       "\\begin{enumerate*}\n",
       "\\item 7\n",
       "\\item 14\n",
       "\\item 9\n",
       "\\item 12\n",
       "\\item 11\n",
       "\\item 19\n",
       "\\item 11\n",
       "\\item 8\n",
       "\\item 18\n",
       "\\item 14\n",
       "\\item 13\n",
       "\\item 13\n",
       "\\item 19\n",
       "\\item 11\n",
       "\\item 6\n",
       "\\item 8\n",
       "\\item 19\n",
       "\\item 14\n",
       "\\item 11\n",
       "\\item 12\n",
       "\\item 11\n",
       "\\item 6\n",
       "\\item 14\n",
       "\\item 19\n",
       "\\item 13\n",
       "\\item 6\n",
       "\\item 19\n",
       "\\item 11\n",
       "\\item 15\n",
       "\\item 14\n",
       "\\item 6\n",
       "\\item 10\n",
       "\\item 16\n",
       "\\item 12\n",
       "\\item 17\n",
       "\\item 13\n",
       "\\item 14\n",
       "\\item 10\n",
       "\\item 10\n",
       "\\item 9\n",
       "\\item 12\n",
       "\\item 5\n",
       "\\item 8\n",
       "\\item 15\n",
       "\\item 7\n",
       "\\item 12\n",
       "\\item 18\n",
       "\\item 9\n",
       "\\item 8\n",
       "\\item 9\n",
       "\\end{enumerate*}\n"
      ],
      "text/markdown": [
       "1. 7\n",
       "2. 14\n",
       "3. 9\n",
       "4. 12\n",
       "5. 11\n",
       "6. 19\n",
       "7. 11\n",
       "8. 8\n",
       "9. 18\n",
       "10. 14\n",
       "11. 13\n",
       "12. 13\n",
       "13. 19\n",
       "14. 11\n",
       "15. 6\n",
       "16. 8\n",
       "17. 19\n",
       "18. 14\n",
       "19. 11\n",
       "20. 12\n",
       "21. 11\n",
       "22. 6\n",
       "23. 14\n",
       "24. 19\n",
       "25. 13\n",
       "26. 6\n",
       "27. 19\n",
       "28. 11\n",
       "29. 15\n",
       "30. 14\n",
       "31. 6\n",
       "32. 10\n",
       "33. 16\n",
       "34. 12\n",
       "35. 17\n",
       "36. 13\n",
       "37. 14\n",
       "38. 10\n",
       "39. 10\n",
       "40. 9\n",
       "41. 12\n",
       "42. 5\n",
       "43. 8\n",
       "44. 15\n",
       "45. 7\n",
       "46. 12\n",
       "47. 18\n",
       "48. 9\n",
       "49. 8\n",
       "50. 9\n",
       "\n",
       "\n"
      ],
      "text/plain": [
       " [1]  7 14  9 12 11 19 11  8 18 14 13 13 19 11  6  8 19 14 11 12 11  6 14 19 13\n",
       "[26]  6 19 11 15 14  6 10 16 12 17 13 14 10 10  9 12  5  8 15  7 12 18  9  8  9"
      ]
     },
     "metadata": {},
     "output_type": "display_data"
    }
   ],
   "source": [
    "rpois(n = 1000, lambda = 12) -> data_poi\n",
    "data_poi[1:50]"
   ]
  },
  {
   "cell_type": "code",
   "execution_count": 11,
   "metadata": {},
   "outputs": [
    {
     "data": {
      "image/png": "[encoded data removed]",
      "text/plain": [
       "Plot with title \"Histogram of data_poi\""
      ]
     },
     "metadata": {},
     "output_type": "display_data"
    }
   ],
   "source": [
    "hist(data_poi, col = \"violet\")"
   ]
  },
  {
   "cell_type": "markdown",
   "metadata": {},
   "source": [
    "<div dir = \"rtl\" style=\"direction:rtl;line-height:300%;\">\n",
    "\t<font face=\"XB Zar\" size=5>\n",
    "\t\t<font color=#FF7500 size=6>\n",
    "        </font>\n",
    "      دقت کنید که در نمودار کشیده شده این 1000 نمونه تصادفی، تعداد نمونه هایی که 12 شده اند بیشتر از بقیه اعداد است. دلیل این اتفاق چیست؟\n",
    "      <br/>\n",
    "\t</font>\n",
    "</div>"
   ]
  },
  {
   "cell_type": "markdown",
   "metadata": {},
   "source": [
    "<p></p>\n",
    "<br />\n",
    "<div id=\"sec_uniform\" style=\"direction:rtl;line-height:300%;\">\n",
    "\t<font face=\"XB Zar\" size=5>\n",
    "\t\t<font color=#FF7500 size=6>\n",
    "توزیع یکنواخت\n",
    "        </font>\n",
    "\t\t<hr>  \n",
    "        میدانید در توزیع یکنواخت احتمال هر کدام از اعداد داخل محدوده با هم یکسان است.\n",
    "        R\n",
    "    این امکان را به ما میدهد تا در بازه های دلخواه اعداد رندوم تولید کنیم.\n",
    "        برای مثال میخواهیم در باز 0 تا 10 \n",
    "\t،\n",
    "        1000 \n",
    "        عدد رندوم تولید کنیم:\n",
    "    </font>\n",
    "</div>"
   ]
  },
  {
   "cell_type": "code",
   "execution_count": 12,
   "metadata": {},
   "outputs": [
    {
     "data": {
      "text/html": [
       "<ol class=list-inline>\n",
       "\t<li>2.15409119264223</li>\n",
       "\t<li>2.91177006717771</li>\n",
       "\t<li>2.15277514932677</li>\n",
       "\t<li>2.25745835434645</li>\n",
       "\t<li>1.70142151834443</li>\n",
       "\t<li>0.944578108610585</li>\n",
       "\t<li>2.98593728500418</li>\n",
       "\t<li>0.676446801284328</li>\n",
       "\t<li>1.89861995377578</li>\n",
       "\t<li>0.747022937284783</li>\n",
       "\t<li>0.394319613464177</li>\n",
       "\t<li>1.80229843407869</li>\n",
       "\t<li>1.07985397288576</li>\n",
       "\t<li>0.23187904455699</li>\n",
       "\t<li>1.06662533269264</li>\n",
       "\t<li>1.29598147259094</li>\n",
       "\t<li>0.297864578431472</li>\n",
       "\t<li>2.4394900475163</li>\n",
       "\t<li>2.07469523744658</li>\n",
       "\t<li>0.653791429940611</li>\n",
       "\t<li>1.85390803380869</li>\n",
       "\t<li>1.34829246718436</li>\n",
       "\t<li>1.89203806500882</li>\n",
       "\t<li>1.38231837563217</li>\n",
       "\t<li>2.18336061341688</li>\n",
       "\t<li>2.68003866355866</li>\n",
       "\t<li>1.59258523536846</li>\n",
       "\t<li>0.972840785980225</li>\n",
       "\t<li>0.387598153436556</li>\n",
       "\t<li>2.27445578319021</li>\n",
       "\t<li>1.3207833271008</li>\n",
       "\t<li>1.81577579956502</li>\n",
       "\t<li>2.54287838959135</li>\n",
       "\t<li>2.49057370028459</li>\n",
       "\t<li>2.38022719672881</li>\n",
       "\t<li>1.52045781025663</li>\n",
       "\t<li>1.90428835130297</li>\n",
       "\t<li>2.56457337294705</li>\n",
       "\t<li>1.22598114958964</li>\n",
       "\t<li>0.141682727728039</li>\n",
       "\t<li>2.57490014377981</li>\n",
       "\t<li>1.23124019242823</li>\n",
       "\t<li>0.307996702613309</li>\n",
       "\t<li>2.81053957762197</li>\n",
       "\t<li>1.06382819940336</li>\n",
       "\t<li>2.34339816472493</li>\n",
       "\t<li>1.42992164148018</li>\n",
       "\t<li>0.0749113862402737</li>\n",
       "\t<li>2.20599379437044</li>\n",
       "\t<li>0.125092091504484</li>\n",
       "</ol>\n"
      ],
      "text/latex": [
       "\\begin{enumerate*}\n",
       "\\item 2.15409119264223\n",
       "\\item 2.91177006717771\n",
       "\\item 2.15277514932677\n",
       "\\item 2.25745835434645\n",
       "\\item 1.70142151834443\n",
       "\\item 0.944578108610585\n",
       "\\item 2.98593728500418\n",
       "\\item 0.676446801284328\n",
       "\\item 1.89861995377578\n",
       "\\item 0.747022937284783\n",
       "\\item 0.394319613464177\n",
       "\\item 1.80229843407869\n",
       "\\item 1.07985397288576\n",
       "\\item 0.23187904455699\n",
       "\\item 1.06662533269264\n",
       "\\item 1.29598147259094\n",
       "\\item 0.297864578431472\n",
       "\\item 2.4394900475163\n",
       "\\item 2.07469523744658\n",
       "\\item 0.653791429940611\n",
       "\\item 1.85390803380869\n",
       "\\item 1.34829246718436\n",
       "\\item 1.89203806500882\n",
       "\\item 1.38231837563217\n",
       "\\item 2.18336061341688\n",
       "\\item 2.68003866355866\n",
       "\\item 1.59258523536846\n",
       "\\item 0.972840785980225\n",
       "\\item 0.387598153436556\n",
       "\\item 2.27445578319021\n",
       "\\item 1.3207833271008\n",
       "\\item 1.81577579956502\n",
       "\\item 2.54287838959135\n",
       "\\item 2.49057370028459\n",
       "\\item 2.38022719672881\n",
       "\\item 1.52045781025663\n",
       "\\item 1.90428835130297\n",
       "\\item 2.56457337294705\n",
       "\\item 1.22598114958964\n",
       "\\item 0.141682727728039\n",
       "\\item 2.57490014377981\n",
       "\\item 1.23124019242823\n",
       "\\item 0.307996702613309\n",
       "\\item 2.81053957762197\n",
       "\\item 1.06382819940336\n",
       "\\item 2.34339816472493\n",
       "\\item 1.42992164148018\n",
       "\\item 0.0749113862402737\n",
       "\\item 2.20599379437044\n",
       "\\item 0.125092091504484\n",
       "\\end{enumerate*}\n"
      ],
      "text/markdown": [
       "1. 2.15409119264223\n",
       "2. 2.91177006717771\n",
       "3. 2.15277514932677\n",
       "4. 2.25745835434645\n",
       "5. 1.70142151834443\n",
       "6. 0.944578108610585\n",
       "7. 2.98593728500418\n",
       "8. 0.676446801284328\n",
       "9. 1.89861995377578\n",
       "10. 0.747022937284783\n",
       "11. 0.394319613464177\n",
       "12. 1.80229843407869\n",
       "13. 1.07985397288576\n",
       "14. 0.23187904455699\n",
       "15. 1.06662533269264\n",
       "16. 1.29598147259094\n",
       "17. 0.297864578431472\n",
       "18. 2.4394900475163\n",
       "19. 2.07469523744658\n",
       "20. 0.653791429940611\n",
       "21. 1.85390803380869\n",
       "22. 1.34829246718436\n",
       "23. 1.89203806500882\n",
       "24. 1.38231837563217\n",
       "25. 2.18336061341688\n",
       "26. 2.68003866355866\n",
       "27. 1.59258523536846\n",
       "28. 0.972840785980225\n",
       "29. 0.387598153436556\n",
       "30. 2.27445578319021\n",
       "31. 1.3207833271008\n",
       "32. 1.81577579956502\n",
       "33. 2.54287838959135\n",
       "34. 2.49057370028459\n",
       "35. 2.38022719672881\n",
       "36. 1.52045781025663\n",
       "37. 1.90428835130297\n",
       "38. 2.56457337294705\n",
       "39. 1.22598114958964\n",
       "40. 0.141682727728039\n",
       "41. 2.57490014377981\n",
       "42. 1.23124019242823\n",
       "43. 0.307996702613309\n",
       "44. 2.81053957762197\n",
       "45. 1.06382819940336\n",
       "46. 2.34339816472493\n",
       "47. 1.42992164148018\n",
       "48. 0.0749113862402737\n",
       "49. 2.20599379437044\n",
       "50. 0.125092091504484\n",
       "\n",
       "\n"
      ],
      "text/plain": [
       " [1] 2.15409119 2.91177007 2.15277515 2.25745835 1.70142152 0.94457811\n",
       " [7] 2.98593729 0.67644680 1.89861995 0.74702294 0.39431961 1.80229843\n",
       "[13] 1.07985397 0.23187904 1.06662533 1.29598147 0.29786458 2.43949005\n",
       "[19] 2.07469524 0.65379143 1.85390803 1.34829247 1.89203807 1.38231838\n",
       "[25] 2.18336061 2.68003866 1.59258524 0.97284079 0.38759815 2.27445578\n",
       "[31] 1.32078333 1.81577580 2.54287839 2.49057370 2.38022720 1.52045781\n",
       "[37] 1.90428835 2.56457337 1.22598115 0.14168273 2.57490014 1.23124019\n",
       "[43] 0.30799670 2.81053958 1.06382820 2.34339816 1.42992164 0.07491139\n",
       "[49] 2.20599379 0.12509209"
      ]
     },
     "metadata": {},
     "output_type": "display_data"
    }
   ],
   "source": [
    "runif(1000, min = 0 , max = 3) -> data_unif \n",
    "data_unif[1:50]"
   ]
  },
  {
   "cell_type": "code",
   "execution_count": 13,
   "metadata": {},
   "outputs": [
    {
     "data": {
      "image/png": "[encoded data removed]",
      "text/plain": [
       "Plot with title \"Histogram of data_unif\""
      ]
     },
     "metadata": {},
     "output_type": "display_data"
    }
   ],
   "source": [
    "hist(data_unif, col = \"violet\")"
   ]
  },
  {
   "cell_type": "markdown",
   "metadata": {},
   "source": [
    "<p></p>\n",
    "<br />\n",
    "<div id=\"sec_normal\" style=\"direction:rtl;line-height:300%;\">\n",
    "\t<font face=\"XB Zar\" size=5>\n",
    "\t\t<font color=#FF7500 size=6>\n",
    "توزیع نرمال\n",
    "        </font>\n",
    "\t\t<hr> \n",
    "        فرض کنید نتایج یک امتحان از توزیع نرمال پیروی میکنند. در این امتحان متوسط نمره دانشجویان 48 و واریانس آن 17 بوده است.\n",
    "       احتمال اینکه دانشجویی در این امتحان نمره 80 به بالا بگیرد چقدر است؟\n",
    "          <br/>\n",
    "        پاسخ:با توجه به توزیع نرمال داریم:\n",
    "        <div dir = \"ltr\">\n",
    "        $f(x) = \\frac{1}{\\sqrt{2 \\, \\pi \\, \\sigma^2}}e^{\\frac{(x - \\mu)^2}{2\\sigma^2}}$\n",
    " </div>\n",
    "    پس احتمال اینکه دانشجویی در این امتحان نمره بالا تر از 80 بگیرد برابر است با:\n",
    "    <div dir = \"ltr\">\n",
    "    $F(80) = P(x >= 80) =  \\int_{80}^{100} f(x) dx$ \n",
    "</div>\n",
    "میتوان این عبارت را در \n",
    "R\n",
    "به صورت زیر محاسبه کرد:\n",
    "    </font>\n",
    "</div>"
   ]
  },
  {
   "cell_type": "code",
   "execution_count": 14,
   "metadata": {},
   "outputs": [
    {
     "data": {
      "text/html": [
       "0.0298940554132321"
      ],
      "text/latex": [
       "0.0298940554132321"
      ],
      "text/markdown": [
       "0.0298940554132321"
      ],
      "text/plain": [
       "[1] 0.02989406"
      ]
     },
     "metadata": {},
     "output_type": "display_data"
    }
   ],
   "source": [
    "pnorm(80, mean=48, sd=17, lower.tail=FALSE) "
   ]
  },
  {
   "cell_type": "markdown",
   "metadata": {},
   "source": [
    "<div dir = \"rtl\" style=\"direction:rtl;line-height:300%;\">\n",
    "\t<font face=\"XB Zar\" size=5>\n",
    "\t\t<font color=#FF7500 size=6>\n",
    "        </font>\n",
    "    همچنین میتوان احتمال نقطه‌ای را اینگونه محاسبه کرد :\n",
    "   <br/>\n",
    "\t</font>\n",
    "</div>"
   ]
  },
  {
   "cell_type": "code",
   "execution_count": 15,
   "metadata": {},
   "outputs": [
    {
     "data": {
      "text/html": [
       "<ol class=list-inline>\n",
       "\t<li>0.00604482187806372</li>\n",
       "\t<li>0.00610356665538927</li>\n",
       "\t<li>0.0061626690812723</li>\n",
       "\t<li>0.00622212850905189</li>\n",
       "\t<li>0.00628194424857958</li>\n",
       "\t<li>0.00634211556589579</li>\n",
       "\t<li>0.00640264168291074</li>\n",
       "\t<li>0.00646352177708994</li>\n",
       "\t<li>0.00652475498114445</li>\n",
       "\t<li>0.00658634038272588</li>\n",
       "\t<li>0.00664827702412648</li>\n",
       "\t<li>0.00671056390198408</li>\n",
       "\t<li>0.00677319996699239</li>\n",
       "\t<li>0.00683618412361639</li>\n",
       "\t<li>0.00689951522981323</li>\n",
       "\t<li>0.00696319209675853</li>\n",
       "\t<li>0.00702721348857828</li>\n",
       "\t<li>0.00709157812208647</li>\n",
       "\t<li>0.00715628466652855</li>\n",
       "\t<li>0.00722133174333068</li>\n",
       "\t<li>0.00728671792585516</li>\n",
       "\t<li>0.00735244173916185</li>\n",
       "\t<li>0.00741850165977593</li>\n",
       "\t<li>0.00748489611546189</li>\n",
       "\t<li>0.00755162348500407</li>\n",
       "\t<li>0.00761868209799363</li>\n",
       "\t<li>0.00768607023462227</li>\n",
       "\t<li>0.00775378612548261</li>\n",
       "\t<li>0.00782182795137549</li>\n",
       "\t<li>0.0078901938431242</li>\n",
       "\t<li>0.00795888188139572</li>\n",
       "\t<li>0.00802789009652917</li>\n",
       "\t<li>0.00809721646837145</li>\n",
       "\t<li>0.00816685892612031</li>\n",
       "\t<li>0.00823681534817476</li>\n",
       "\t<li>0.00830708356199309</li>\n",
       "\t<li>0.00837766134395848</li>\n",
       "\t<li>0.00844854641925238</li>\n",
       "\t<li>0.00851973646173567</li>\n",
       "\t<li>0.00859122909383772</li>\n",
       "\t<li>0.0086630218864535</li>\n",
       "\t<li>0.00873511235884873</li>\n",
       "\t<li>0.00880749797857323</li>\n",
       "\t<li>0.0088801761613825</li>\n",
       "\t<li>0.00895314427116771</li>\n",
       "\t<li>0.00902639961989406</li>\n",
       "\t<li>0.00909993946754765</li>\n",
       "\t<li>0.00917376102209103</li>\n",
       "\t<li>0.00924786143942728</li>\n",
       "\t<li>0.00932223782337301</li>\n",
       "</ol>\n"
      ],
      "text/latex": [
       "\\begin{enumerate*}\n",
       "\\item 0.00604482187806372\n",
       "\\item 0.00610356665538927\n",
       "\\item 0.0061626690812723\n",
       "\\item 0.00622212850905189\n",
       "\\item 0.00628194424857958\n",
       "\\item 0.00634211556589579\n",
       "\\item 0.00640264168291074\n",
       "\\item 0.00646352177708994\n",
       "\\item 0.00652475498114445\n",
       "\\item 0.00658634038272588\n",
       "\\item 0.00664827702412648\n",
       "\\item 0.00671056390198408\n",
       "\\item 0.00677319996699239\n",
       "\\item 0.00683618412361639\n",
       "\\item 0.00689951522981323\n",
       "\\item 0.00696319209675853\n",
       "\\item 0.00702721348857828\n",
       "\\item 0.00709157812208647\n",
       "\\item 0.00715628466652855\n",
       "\\item 0.00722133174333068\n",
       "\\item 0.00728671792585516\n",
       "\\item 0.00735244173916185\n",
       "\\item 0.00741850165977593\n",
       "\\item 0.00748489611546189\n",
       "\\item 0.00755162348500407\n",
       "\\item 0.00761868209799363\n",
       "\\item 0.00768607023462227\n",
       "\\item 0.00775378612548261\n",
       "\\item 0.00782182795137549\n",
       "\\item 0.0078901938431242\n",
       "\\item 0.00795888188139572\n",
       "\\item 0.00802789009652917\n",
       "\\item 0.00809721646837145\n",
       "\\item 0.00816685892612031\n",
       "\\item 0.00823681534817476\n",
       "\\item 0.00830708356199309\n",
       "\\item 0.00837766134395848\n",
       "\\item 0.00844854641925238\n",
       "\\item 0.00851973646173567\n",
       "\\item 0.00859122909383772\n",
       "\\item 0.0086630218864535\n",
       "\\item 0.00873511235884873\n",
       "\\item 0.00880749797857323\n",
       "\\item 0.0088801761613825\n",
       "\\item 0.00895314427116771\n",
       "\\item 0.00902639961989406\n",
       "\\item 0.00909993946754765\n",
       "\\item 0.00917376102209103\n",
       "\\item 0.00924786143942728\n",
       "\\item 0.00932223782337301\n",
       "\\end{enumerate*}\n"
      ],
      "text/markdown": [
       "1. 0.00604482187806372\n",
       "2. 0.00610356665538927\n",
       "3. 0.0061626690812723\n",
       "4. 0.00622212850905189\n",
       "5. 0.00628194424857958\n",
       "6. 0.00634211556589579\n",
       "7. 0.00640264168291074\n",
       "8. 0.00646352177708994\n",
       "9. 0.00652475498114445\n",
       "10. 0.00658634038272588\n",
       "11. 0.00664827702412648\n",
       "12. 0.00671056390198408\n",
       "13. 0.00677319996699239\n",
       "14. 0.00683618412361639\n",
       "15. 0.00689951522981323\n",
       "16. 0.00696319209675853\n",
       "17. 0.00702721348857828\n",
       "18. 0.00709157812208647\n",
       "19. 0.00715628466652855\n",
       "20. 0.00722133174333068\n",
       "21. 0.00728671792585516\n",
       "22. 0.00735244173916185\n",
       "23. 0.00741850165977593\n",
       "24. 0.00748489611546189\n",
       "25. 0.00755162348500407\n",
       "26. 0.00761868209799363\n",
       "27. 0.00768607023462227\n",
       "28. 0.00775378612548261\n",
       "29. 0.00782182795137549\n",
       "30. 0.0078901938431242\n",
       "31. 0.00795888188139572\n",
       "32. 0.00802789009652917\n",
       "33. 0.00809721646837145\n",
       "34. 0.00816685892612031\n",
       "35. 0.00823681534817476\n",
       "36. 0.00830708356199309\n",
       "37. 0.00837766134395848\n",
       "38. 0.00844854641925238\n",
       "39. 0.00851973646173567\n",
       "40. 0.00859122909383772\n",
       "41. 0.0086630218864535\n",
       "42. 0.00873511235884873\n",
       "43. 0.00880749797857323\n",
       "44. 0.0088801761613825\n",
       "45. 0.00895314427116771\n",
       "46. 0.00902639961989406\n",
       "47. 0.00909993946754765\n",
       "48. 0.00917376102209103\n",
       "49. 0.00924786143942728\n",
       "50. 0.00932223782337301\n",
       "\n",
       "\n"
      ],
      "text/plain": [
       " [1] 0.006044822 0.006103567 0.006162669 0.006222129 0.006281944 0.006342116\n",
       " [7] 0.006402642 0.006463522 0.006524755 0.006586340 0.006648277 0.006710564\n",
       "[13] 0.006773200 0.006836184 0.006899515 0.006963192 0.007027213 0.007091578\n",
       "[19] 0.007156285 0.007221332 0.007286718 0.007352442 0.007418502 0.007484896\n",
       "[25] 0.007551623 0.007618682 0.007686070 0.007753786 0.007821828 0.007890194\n",
       "[31] 0.007958882 0.008027890 0.008097216 0.008166859 0.008236815 0.008307084\n",
       "[37] 0.008377661 0.008448546 0.008519736 0.008591229 0.008663022 0.008735112\n",
       "[43] 0.008807498 0.008880176 0.008953144 0.009026400 0.009099939 0.009173761\n",
       "[49] 0.009247861 0.009322238"
      ]
     },
     "metadata": {},
     "output_type": "display_data"
    }
   ],
   "source": [
    "y <- dnorm(seq(20, 60, by = .1), mean = 48, sd = 17)\n",
    "y[1:50]"
   ]
  },
  {
   "cell_type": "code",
   "execution_count": 16,
   "metadata": {},
   "outputs": [
    {
     "data": {
      "image/png": "[encoded data removed]",
      "text/plain": [
       "plot without title"
      ]
     },
     "metadata": {},
     "output_type": "display_data"
    }
   ],
   "source": [
    "plot(seq(20, 60, by = .1), y, col = \"purple\")\n"
   ]
  },
  {
   "cell_type": "markdown",
   "metadata": {},
   "source": [
    "<div dir = \"rtl\" style=\"direction:rtl;line-height:300%;\">\n",
    "\t<font face=\"XB Zar\" size=5>\n",
    "\t\t<font color=#FF7500 size=6>\n",
    "        </font>\n",
    "        همچنین برای توزیع نرمال استاندارد داریم:\n",
    "        <br/>\n",
    "\t</font>\n",
    "</div>"
   ]
  },
  {
   "cell_type": "code",
   "execution_count": 17,
   "metadata": {},
   "outputs": [
    {
     "data": {
      "image/png": "[encoded data removed]",
      "text/plain": [
       "plot without title"
      ]
     },
     "metadata": {},
     "output_type": "display_data"
    }
   ],
   "source": [
    "dnorm(x = seq(-3, 3, by = 0.05)) -> y_standard_normal\n",
    "plot(seq(-3,3, by = 0.05), y_standard_normal, col = \"purple\")"
   ]
  },
  {
   "cell_type": "markdown",
   "metadata": {},
   "source": [
    "<div dir = \"rtl\" style=\"direction:rtl;line-height:300%;\">\n",
    "\t<font face=\"XB Zar\" size=5>\n",
    "\t\t<font color=#FF7500 size=6>\n",
    "        </font>\n",
    "        مانند قبل میتوانیم نمونه تصادفی از توزیع نرمال بگیریم.\n",
    "      <br/>\n",
    "\t</font>\n",
    "</div>"
   ]
  },
  {
   "cell_type": "code",
   "execution_count": 18,
   "metadata": {},
   "outputs": [
    {
     "data": {
      "text/html": [
       "<ol class=list-inline>\n",
       "\t<li>47.2960471525185</li>\n",
       "\t<li>39.3857239086524</li>\n",
       "\t<li>42.4574050299631</li>\n",
       "\t<li>57.2199022297512</li>\n",
       "\t<li>64.5095994945419</li>\n",
       "\t<li>23.0054288084555</li>\n",
       "\t<li>37.7463968043573</li>\n",
       "\t<li>46.7491732276336</li>\n",
       "\t<li>47.4905200180483</li>\n",
       "\t<li>49.849523761492</li>\n",
       "\t<li>52.7585852194872</li>\n",
       "\t<li>69.2374147890992</li>\n",
       "\t<li>40.9579208422129</li>\n",
       "\t<li>16.0513368581452</li>\n",
       "\t<li>22.0819068198886</li>\n",
       "\t<li>65.3878639507297</li>\n",
       "\t<li>41.3277045359017</li>\n",
       "\t<li>51.0188073219666</li>\n",
       "\t<li>55.6572691383409</li>\n",
       "\t<li>58.4342441902533</li>\n",
       "\t<li>77.0916586827307</li>\n",
       "\t<li>52.472920750241</li>\n",
       "\t<li>14.0731750207656</li>\n",
       "\t<li>66.0513382501143</li>\n",
       "\t<li>78.103019692852</li>\n",
       "\t<li>61.9908074786437</li>\n",
       "\t<li>59.355485874962</li>\n",
       "\t<li>74.4522170336014</li>\n",
       "\t<li>67.2669577308834</li>\n",
       "\t<li>60.5441103475293</li>\n",
       "\t<li>40.6360348705294</li>\n",
       "\t<li>27.9058632848798</li>\n",
       "\t<li>68.6744249513076</li>\n",
       "\t<li>27.4093769431547</li>\n",
       "\t<li>52.3472629784356</li>\n",
       "\t<li>57.9759147238408</li>\n",
       "\t<li>49.9690016967134</li>\n",
       "\t<li>54.1347692361175</li>\n",
       "\t<li>58.8953994078994</li>\n",
       "\t<li>66.7142214903312</li>\n",
       "\t<li>47.8745614804747</li>\n",
       "\t<li>59.4665748544407</li>\n",
       "\t<li>51.4907491421727</li>\n",
       "\t<li>34.8656437812468</li>\n",
       "\t<li>42.8849327717794</li>\n",
       "\t<li>32.6662183218528</li>\n",
       "\t<li>35.5453343919044</li>\n",
       "\t<li>77.5669291701549</li>\n",
       "\t<li>29.6262347815727</li>\n",
       "\t<li>47.380423873531</li>\n",
       "</ol>\n"
      ],
      "text/latex": [
       "\\begin{enumerate*}\n",
       "\\item 47.2960471525185\n",
       "\\item 39.3857239086524\n",
       "\\item 42.4574050299631\n",
       "\\item 57.2199022297512\n",
       "\\item 64.5095994945419\n",
       "\\item 23.0054288084555\n",
       "\\item 37.7463968043573\n",
       "\\item 46.7491732276336\n",
       "\\item 47.4905200180483\n",
       "\\item 49.849523761492\n",
       "\\item 52.7585852194872\n",
       "\\item 69.2374147890992\n",
       "\\item 40.9579208422129\n",
       "\\item 16.0513368581452\n",
       "\\item 22.0819068198886\n",
       "\\item 65.3878639507297\n",
       "\\item 41.3277045359017\n",
       "\\item 51.0188073219666\n",
       "\\item 55.6572691383409\n",
       "\\item 58.4342441902533\n",
       "\\item 77.0916586827307\n",
       "\\item 52.472920750241\n",
       "\\item 14.0731750207656\n",
       "\\item 66.0513382501143\n",
       "\\item 78.103019692852\n",
       "\\item 61.9908074786437\n",
       "\\item 59.355485874962\n",
       "\\item 74.4522170336014\n",
       "\\item 67.2669577308834\n",
       "\\item 60.5441103475293\n",
       "\\item 40.6360348705294\n",
       "\\item 27.9058632848798\n",
       "\\item 68.6744249513076\n",
       "\\item 27.4093769431547\n",
       "\\item 52.3472629784356\n",
       "\\item 57.9759147238408\n",
       "\\item 49.9690016967134\n",
       "\\item 54.1347692361175\n",
       "\\item 58.8953994078994\n",
       "\\item 66.7142214903312\n",
       "\\item 47.8745614804747\n",
       "\\item 59.4665748544407\n",
       "\\item 51.4907491421727\n",
       "\\item 34.8656437812468\n",
       "\\item 42.8849327717794\n",
       "\\item 32.6662183218528\n",
       "\\item 35.5453343919044\n",
       "\\item 77.5669291701549\n",
       "\\item 29.6262347815727\n",
       "\\item 47.380423873531\n",
       "\\end{enumerate*}\n"
      ],
      "text/markdown": [
       "1. 47.2960471525185\n",
       "2. 39.3857239086524\n",
       "3. 42.4574050299631\n",
       "4. 57.2199022297512\n",
       "5. 64.5095994945419\n",
       "6. 23.0054288084555\n",
       "7. 37.7463968043573\n",
       "8. 46.7491732276336\n",
       "9. 47.4905200180483\n",
       "10. 49.849523761492\n",
       "11. 52.7585852194872\n",
       "12. 69.2374147890992\n",
       "13. 40.9579208422129\n",
       "14. 16.0513368581452\n",
       "15. 22.0819068198886\n",
       "16. 65.3878639507297\n",
       "17. 41.3277045359017\n",
       "18. 51.0188073219666\n",
       "19. 55.6572691383409\n",
       "20. 58.4342441902533\n",
       "21. 77.0916586827307\n",
       "22. 52.472920750241\n",
       "23. 14.0731750207656\n",
       "24. 66.0513382501143\n",
       "25. 78.103019692852\n",
       "26. 61.9908074786437\n",
       "27. 59.355485874962\n",
       "28. 74.4522170336014\n",
       "29. 67.2669577308834\n",
       "30. 60.5441103475293\n",
       "31. 40.6360348705294\n",
       "32. 27.9058632848798\n",
       "33. 68.6744249513076\n",
       "34. 27.4093769431547\n",
       "35. 52.3472629784356\n",
       "36. 57.9759147238408\n",
       "37. 49.9690016967134\n",
       "38. 54.1347692361175\n",
       "39. 58.8953994078994\n",
       "40. 66.7142214903312\n",
       "41. 47.8745614804747\n",
       "42. 59.4665748544407\n",
       "43. 51.4907491421727\n",
       "44. 34.8656437812468\n",
       "45. 42.8849327717794\n",
       "46. 32.6662183218528\n",
       "47. 35.5453343919044\n",
       "48. 77.5669291701549\n",
       "49. 29.6262347815727\n",
       "50. 47.380423873531\n",
       "\n",
       "\n"
      ],
      "text/plain": [
       " [1] 47.29605 39.38572 42.45741 57.21990 64.50960 23.00543 37.74640 46.74917\n",
       " [9] 47.49052 49.84952 52.75859 69.23741 40.95792 16.05134 22.08191 65.38786\n",
       "[17] 41.32770 51.01881 55.65727 58.43424 77.09166 52.47292 14.07318 66.05134\n",
       "[25] 78.10302 61.99081 59.35549 74.45222 67.26696 60.54411 40.63603 27.90586\n",
       "[33] 68.67442 27.40938 52.34726 57.97591 49.96900 54.13477 58.89540 66.71422\n",
       "[41] 47.87456 59.46657 51.49075 34.86564 42.88493 32.66622 35.54533 77.56693\n",
       "[49] 29.62623 47.38042"
      ]
     },
     "metadata": {},
     "output_type": "display_data"
    }
   ],
   "source": [
    "rnorm(n = 1000, mean = 48, sd = 17) -> data_normal\n",
    "data_normal[1:50]"
   ]
  },
  {
   "cell_type": "code",
   "execution_count": 19,
   "metadata": {},
   "outputs": [
    {
     "data": {
      "image/png": "[encoded data removed]",
      "text/plain": [
       "Plot with title \"Histogram of data_normal\""
      ]
     },
     "metadata": {},
     "output_type": "display_data"
    }
   ],
   "source": [
    "hist(data_normal, col = \"violet\")"
   ]
  },
  {
   "cell_type": "markdown",
   "metadata": {},
   "source": [
    "<div id=\"sec_exponential\" style=\"direction:rtl;line-height:300%;\">\n",
    "\t<font face=\"XB Zar\" size=5>\n",
    "\t\t<font color=#FF7500 size=6>\n",
    "توزیع نمایی\n",
    "        </font>\n",
    "\t\t<p></p>\n",
    "\t\t<hr> \n",
    "            فرض کنید متوسط انجام سفارش یک مشتری در یک مغازه 3 دقیقه است. احتمال اینکه سفارش مشتری در کمتر از 2 دقیقه \n",
    "        آماده شود چقدر است؟\n",
    "\t<br/>\n",
    "        پاسخ:میدانید پارامتر توزیع نمایی برابر با معکوس امید ریاضی آن است. پس در اینجا داریم:\n",
    "        <div dir = \"ltr\">\n",
    "            $\\lambda = \\frac{1}{3}$\n",
    "</div>\n",
    "        <div dir = \"ltr\">\n",
    "           $f_{x \\ge 0}(x) = \\lambda e^{-\\lambda x}$\n",
    "</div>\n",
    "        <div dir = \"ltr\">\n",
    "           $f_{x < 0}(x) = 0$\n",
    "</div>\n",
    "        <div dir = \"ltr\">\n",
    "           $F(X) = \\int_{0}^{X} f(x) dx = 1 - e^{-\\lambda X}$\n",
    "</div>\n",
    "در نتیجه جواب مساله برابر است با:\n",
    "        <div dir = \"ltr\">\n",
    "           $F(2) = 1 - e^{-\\frac{1}{3} \\times 2}$\n",
    "</div>\n",
    "و در \n",
    "R\n",
    "برابر است با:\n",
    "    </font>\n",
    "</div>"
   ]
  },
  {
   "cell_type": "code",
   "execution_count": 20,
   "metadata": {},
   "outputs": [
    {
     "data": {
      "text/html": [
       "0.486582880967408"
      ],
      "text/latex": [
       "0.486582880967408"
      ],
      "text/markdown": [
       "0.486582880967408"
      ],
      "text/plain": [
       "[1] 0.4865829"
      ]
     },
     "metadata": {},
     "output_type": "display_data"
    }
   ],
   "source": [
    "pexp(2, rate=1/3) "
   ]
  },
  {
   "cell_type": "markdown",
   "metadata": {},
   "source": [
    "<div dir = \"rtl\" style=\"direction:rtl;line-height:300%;\">\n",
    "\t<font face=\"XB Zar\" size=5>\n",
    "\t\t<font color=#FF7500 size=6>\n",
    "        </font>\n",
    "       همچنین میتوانیم در \n",
    "        R\n",
    "        به تابع توزیع احتمال \n",
    "        (PMF)\n",
    "        این توزیع دسترسی داشته باشیم:\n",
    "      <br/>\n",
    "\t</font>\n",
    "</div>"
   ]
  },
  {
   "cell_type": "code",
   "execution_count": 21,
   "metadata": {},
   "outputs": [
    {
     "data": {
      "image/png": "[encoded data removed]",
      "text/plain": [
       "plot without title"
      ]
     },
     "metadata": {},
     "output_type": "display_data"
    }
   ],
   "source": [
    "exp_x = seq(-1, 5, by = .1)\n",
    "dexp(x = exp_x, rate = 1/3) -> exp_y\n",
    "plot(exp_x, exp_y, col = \"purple\")"
   ]
  },
  {
   "cell_type": "markdown",
   "metadata": {},
   "source": [
    "<div dir = \"rtl\" style=\"direction:rtl;line-height:300%;\">\n",
    "\t<font face=\"XB Zar\" size=5>\n",
    "\t\t<font color=#FF7500 size=6>\n",
    "        </font>\n",
    "      همچنین نمونه گیری تصادفی نیز به صورت زیر است:\n",
    "      <br/>\n",
    "\t</font>\n",
    "</div>"
   ]
  },
  {
   "cell_type": "code",
   "execution_count": 22,
   "metadata": {},
   "outputs": [
    {
     "data": {
      "text/html": [
       "<ol class=list-inline>\n",
       "\t<li>3.35960725418504</li>\n",
       "\t<li>0.0967513625510037</li>\n",
       "\t<li>1.47046173876151</li>\n",
       "\t<li>0.0542178252967032</li>\n",
       "\t<li>3.10729743225875</li>\n",
       "\t<li>0.700081790797412</li>\n",
       "\t<li>1.86882688337937</li>\n",
       "\t<li>0.644471779000014</li>\n",
       "\t<li>12.4083397847818</li>\n",
       "\t<li>1.07252284077327</li>\n",
       "\t<li>0.709558137935474</li>\n",
       "\t<li>7.71842469050925</li>\n",
       "\t<li>0.273722180439135</li>\n",
       "\t<li>8.39143620898001</li>\n",
       "\t<li>6.77646048888009</li>\n",
       "\t<li>0.333039896978608</li>\n",
       "\t<li>0.378881076325776</li>\n",
       "\t<li>2.26539562816236</li>\n",
       "\t<li>2.05492705386132</li>\n",
       "\t<li>13.1242194428929</li>\n",
       "\t<li>1.51187098631635</li>\n",
       "\t<li>2.38300335767183</li>\n",
       "\t<li>4.02104774011735</li>\n",
       "\t<li>5.84060515810676</li>\n",
       "\t<li>1.16779116494581</li>\n",
       "\t<li>0.337595044465108</li>\n",
       "\t<li>0.468912572599947</li>\n",
       "\t<li>4.6352545970393</li>\n",
       "\t<li>5.97471692760415</li>\n",
       "\t<li>6.72781561090987</li>\n",
       "\t<li>2.82827922316704</li>\n",
       "\t<li>0.502549057214619</li>\n",
       "\t<li>4.28979168350954</li>\n",
       "\t<li>0.230868018877998</li>\n",
       "\t<li>5.04267144647666</li>\n",
       "\t<li>2.30951734878577</li>\n",
       "\t<li>2.47238450298522</li>\n",
       "\t<li>0.184669717680663</li>\n",
       "\t<li>0.271764739521973</li>\n",
       "\t<li>1.63141829799861</li>\n",
       "\t<li>0.00298400782048702</li>\n",
       "\t<li>1.77980885049328</li>\n",
       "\t<li>4.04990686463628</li>\n",
       "\t<li>6.44477416350882</li>\n",
       "\t<li>5.89654395145304</li>\n",
       "\t<li>2.05027414904907</li>\n",
       "\t<li>0.283030258957297</li>\n",
       "\t<li>6.47738038605232</li>\n",
       "\t<li>9.42465526560202</li>\n",
       "\t<li>0.554389420737914</li>\n",
       "</ol>\n"
      ],
      "text/latex": [
       "\\begin{enumerate*}\n",
       "\\item 3.35960725418504\n",
       "\\item 0.0967513625510037\n",
       "\\item 1.47046173876151\n",
       "\\item 0.0542178252967032\n",
       "\\item 3.10729743225875\n",
       "\\item 0.700081790797412\n",
       "\\item 1.86882688337937\n",
       "\\item 0.644471779000014\n",
       "\\item 12.4083397847818\n",
       "\\item 1.07252284077327\n",
       "\\item 0.709558137935474\n",
       "\\item 7.71842469050925\n",
       "\\item 0.273722180439135\n",
       "\\item 8.39143620898001\n",
       "\\item 6.77646048888009\n",
       "\\item 0.333039896978608\n",
       "\\item 0.378881076325776\n",
       "\\item 2.26539562816236\n",
       "\\item 2.05492705386132\n",
       "\\item 13.1242194428929\n",
       "\\item 1.51187098631635\n",
       "\\item 2.38300335767183\n",
       "\\item 4.02104774011735\n",
       "\\item 5.84060515810676\n",
       "\\item 1.16779116494581\n",
       "\\item 0.337595044465108\n",
       "\\item 0.468912572599947\n",
       "\\item 4.6352545970393\n",
       "\\item 5.97471692760415\n",
       "\\item 6.72781561090987\n",
       "\\item 2.82827922316704\n",
       "\\item 0.502549057214619\n",
       "\\item 4.28979168350954\n",
       "\\item 0.230868018877998\n",
       "\\item 5.04267144647666\n",
       "\\item 2.30951734878577\n",
       "\\item 2.47238450298522\n",
       "\\item 0.184669717680663\n",
       "\\item 0.271764739521973\n",
       "\\item 1.63141829799861\n",
       "\\item 0.00298400782048702\n",
       "\\item 1.77980885049328\n",
       "\\item 4.04990686463628\n",
       "\\item 6.44477416350882\n",
       "\\item 5.89654395145304\n",
       "\\item 2.05027414904907\n",
       "\\item 0.283030258957297\n",
       "\\item 6.47738038605232\n",
       "\\item 9.42465526560202\n",
       "\\item 0.554389420737914\n",
       "\\end{enumerate*}\n"
      ],
      "text/markdown": [
       "1. 3.35960725418504\n",
       "2. 0.0967513625510037\n",
       "3. 1.47046173876151\n",
       "4. 0.0542178252967032\n",
       "5. 3.10729743225875\n",
       "6. 0.700081790797412\n",
       "7. 1.86882688337937\n",
       "8. 0.644471779000014\n",
       "9. 12.4083397847818\n",
       "10. 1.07252284077327\n",
       "11. 0.709558137935474\n",
       "12. 7.71842469050925\n",
       "13. 0.273722180439135\n",
       "14. 8.39143620898001\n",
       "15. 6.77646048888009\n",
       "16. 0.333039896978608\n",
       "17. 0.378881076325776\n",
       "18. 2.26539562816236\n",
       "19. 2.05492705386132\n",
       "20. 13.1242194428929\n",
       "21. 1.51187098631635\n",
       "22. 2.38300335767183\n",
       "23. 4.02104774011735\n",
       "24. 5.84060515810676\n",
       "25. 1.16779116494581\n",
       "26. 0.337595044465108\n",
       "27. 0.468912572599947\n",
       "28. 4.6352545970393\n",
       "29. 5.97471692760415\n",
       "30. 6.72781561090987\n",
       "31. 2.82827922316704\n",
       "32. 0.502549057214619\n",
       "33. 4.28979168350954\n",
       "34. 0.230868018877998\n",
       "35. 5.04267144647666\n",
       "36. 2.30951734878577\n",
       "37. 2.47238450298522\n",
       "38. 0.184669717680663\n",
       "39. 0.271764739521973\n",
       "40. 1.63141829799861\n",
       "41. 0.00298400782048702\n",
       "42. 1.77980885049328\n",
       "43. 4.04990686463628\n",
       "44. 6.44477416350882\n",
       "45. 5.89654395145304\n",
       "46. 2.05027414904907\n",
       "47. 0.283030258957297\n",
       "48. 6.47738038605232\n",
       "49. 9.42465526560202\n",
       "50. 0.554389420737914\n",
       "\n",
       "\n"
      ],
      "text/plain": [
       " [1]  3.359607254  0.096751363  1.470461739  0.054217825  3.107297432\n",
       " [6]  0.700081791  1.868826883  0.644471779 12.408339785  1.072522841\n",
       "[11]  0.709558138  7.718424691  0.273722180  8.391436209  6.776460489\n",
       "[16]  0.333039897  0.378881076  2.265395628  2.054927054 13.124219443\n",
       "[21]  1.511870986  2.383003358  4.021047740  5.840605158  1.167791165\n",
       "[26]  0.337595044  0.468912573  4.635254597  5.974716928  6.727815611\n",
       "[31]  2.828279223  0.502549057  4.289791684  0.230868019  5.042671446\n",
       "[36]  2.309517349  2.472384503  0.184669718  0.271764740  1.631418298\n",
       "[41]  0.002984008  1.779808850  4.049906865  6.444774164  5.896543951\n",
       "[46]  2.050274149  0.283030259  6.477380386  9.424655266  0.554389421"
      ]
     },
     "metadata": {},
     "output_type": "display_data"
    },
    {
     "data": {
      "image/png": "[encoded data removed]",
      "text/plain": [
       "Plot with title \"Histogram of data_exp\""
      ]
     },
     "metadata": {},
     "output_type": "display_data"
    }
   ],
   "source": [
    "rexp(1000, rate = 1/3) -> data_exp\n",
    "data_exp[1:50]\n",
    "hist(data_exp, col = \"violet\")"
   ]
  },
  {
   "cell_type": "markdown",
   "metadata": {},
   "source": [
    "<div id=\"sec_geometric\" style=\"direction:rtl;line-height:300%;\">\n",
    "\t<font face=\"XB Zar\" size=5>\n",
    "\t\t<font color=#FF7500 size=6>\n",
    "توزیع هندسی\n",
    "        </font>\n",
    "\t\t<hr>   \n",
    "        احتمال اینکه در پرتاب یک سکه، اولین باری که شیر می آید پرتاب هشتم باشد را بیابید.\n",
    "    <br/>\n",
    "        میدانید این رخداد از توزیع هندسی پیروی میکند. در نتیجه احتمال آن برابر است با:\n",
    "        <div dir = \"ltr\"> \n",
    "        $P(x = 7) = (1 - \\frac{1}{2})^6 \\times \\frac{1}{2}^1$\n",
    "</div>\n",
    "در\n",
    "R\n",
    "این مقدار به صورت زیر محاسبه میشود:\n",
    "    </font>\n",
    "</div>"
   ]
  },
  {
   "cell_type": "code",
   "execution_count": 23,
   "metadata": {},
   "outputs": [
    {
     "data": {
      "text/html": [
       "0.0078125"
      ],
      "text/latex": [
       "0.0078125"
      ],
      "text/markdown": [
       "0.0078125"
      ],
      "text/plain": [
       "[1] 0.0078125"
      ]
     },
     "metadata": {},
     "output_type": "display_data"
    }
   ],
   "source": [
    "dgeom(x = 6, prob = 1/2)\n",
    "#meaning P(x = 7)"
   ]
  },
  {
   "cell_type": "markdown",
   "metadata": {},
   "source": [
    "<div dir = \"rtl\" style=\"direction:rtl;line-height:300%;\">\n",
    "\t<font face=\"XB Zar\" size=5>\n",
    "        <font color=red size=6>\n",
    "            تمرین:\n",
    "        </font>\n",
    "      <br/>\n",
    "       <ul>\n",
    "           <li>\n",
    "                یک نمونه تصادفی 1000 تایی از توزیع هندسی با پارامتر 0.45 تولید کنید.</li>\n",
    "           <li>\n",
    "               نمودار مستطیلی فراوانی داده به دست آمده را ترسیم کنید.</li>\n",
    "                      <li>\n",
    "                          احتمال اینکه اولین شیر در کمتر از 4 پرتاب مشاهده شود چقدر است؟\n",
    "             </li>\n",
    "           <ul/>\n",
    "\t</font>\n",
    "</div>"
   ]
  },
  {
   "cell_type": "markdown",
   "metadata": {},
   "source": [
    "<div id=\"sec_geometric\" style=\"direction:rtl;line-height:300%;\">\n",
    "\t<font face=\"XB Zar\" size=5>\n",
    "\t\t<font color=#FF7500 size=6>\n",
    "توزیع گاما و بتا\n",
    "        </font>\n",
    "\t\t<hr>   \n",
    "                $$\n",
    "        \\begin{aligned}\n",
    "        \\end{aligned}\n",
    "        $$\n",
    "کلثوم مشغول ماهیگیریست و انتظار دارد هر نیم ساعت یک ماهی بگیرد. احتمال این که مجبور باشد بین 2 تا 4 ساعت برای گرفتن 4 ماهی منتظر بماند چقدر است؟\n",
    "        <br \\>\n",
    "        پاسخ: مدت زمانی که باید برای گرفتن 4 ماهی صبر کنیم از توزیع گاما با پارامتر $\\Theta = 2$ و $k = 4$ پیروی میکند. بنابراین داریم:\n",
    "        <div dir = \"ltr\">\n",
    "           $P(2 \\leq  X \\leq  4) =  F(4) - F(2)$\n",
    "</div>\n",
    "    </font>\n",
    "</div>"
   ]
  },
  {
   "cell_type": "code",
   "execution_count": 24,
   "metadata": {},
   "outputs": [
    {
     "data": {
      "text/html": [
       "0.123888382625299"
      ],
      "text/latex": [
       "0.123888382625299"
      ],
      "text/markdown": [
       "0.123888382625299"
      ],
      "text/plain": [
       "[1] 0.1238884"
      ]
     },
     "metadata": {},
     "output_type": "display_data"
    }
   ],
   "source": [
    "pgamma(4,shape = 4, scale = 2) -\n",
    "pgamma(2,shape = 4, scale = 2)"
   ]
  },
  {
   "cell_type": "markdown",
   "metadata": {},
   "source": [
    "<div dir = \"rtl\" style=\"direction:rtl;line-height:300%;\">\n",
    "\t<font face=\"XB Zar\" size=5>\n",
    "                $$\n",
    "        \\begin{aligned}\n",
    "        \\end{aligned}\n",
    "        $$\n",
    "        در توابع گاما در R سه پارامتر shape($k$ یا $\\alpha$)، scale($\\theta$) و rate($\\beta$) قابل تعیین اند. پارامتر های scale و rate عکس یکدیگرند و مقداردهی به یکی از آن ها کافیست (به طور پیشفرض این دو پارامتر برابر با 1 میباشند). به عنوان مثال در کد بالا میتوانیم به جای پارامتر scale = 2 از پارامتر rate = 0.5 استفاده کنیم.\n",
    "      <br/>\n",
    "        <br/>\n",
    "        <font color=red size=6>\n",
    "            تمرین:\n",
    "        </font>\n",
    "       <ul>\n",
    "           <li>\n",
    "                سعی کنید از توابع dgamma و rgamma  با استفاده از پارامترهای مختلف استفاده کرده و نمودار آن ها را رسم کنید. </li>\n",
    "           <li>\n",
    "               توزیع beta دارای دو پارامتر shape1 و shape2 میباشد. با مطالعه documentation این توزیع در R شیوه استفاده از آن را بیابید.</li>\n",
    "           <ul/>\n",
    "\t</font>\n",
    "</div>"
   ]
  },
  {
   "cell_type": "markdown",
   "metadata": {},
   "source": [
    "<div id=\"sec_con\" style=\"direction:rtl;line-height:300%;\">\n",
    "\t<font face=\"XB Zar\" size=5>\n",
    "\t\t<font color=#FF7500 size=6>\n",
    "خلاصه و نتیجه گیری\n",
    "        </font>\n",
    "\t\t<hr>\n",
    "        اکنون با نحوه استفاده از انواع توزیع ها در \n",
    "        R\n",
    "        آشنا شده اید. این به شما کمک میکند در هنگام مواجه با مسائل جدید بتوانید شهودی از داده ها و توزیع آن داشته باشید ، با دیدی باز تر به سراغ حل مساله بروید و در حل این مسائل از این ابزار های استفاده کنید.\n",
    "        <br/>         \n",
    "  </font>\n",
    "</div>"
   ]
  },
  {
   "cell_type": "markdown",
   "metadata": {},
   "source": [
    "<div dir = \"rtl\" style=\"direction:rtl;line-height:300%;\">\n",
    "\t<font face=\"XB Zar\" size=5>\n",
    "\t\t<font color=#FF7500 size=6>\n",
    "        </font>\n",
    "       توابع مربوط به توزیع ها در \n",
    "        R\n",
    "        را میتوان به طور کلی در جدول زیر خلاصه کرد:\n",
    "\t</font>\n",
    "</div>"
   ]
  },
  {
   "cell_type": "markdown",
   "metadata": {},
   "source": [
    "| پیشوند  | کاربرد|\n",
    "| --- | --- |\n",
    "|  نمونه گیری تصادفی از توزیع مربوطه| r|\n",
    "| توزیع به ازای ورودی داده شده CDF  محاسبه | p |\n",
    "| توزیع به ازای ورودی داده شده PMF محاسبه |d |\n",
    "| !شما بیابید | q |"
   ]
  },
  {
   "cell_type": "markdown",
   "metadata": {},
   "source": [
    "<div dir = \"rtl\" style=\"direction:rtl;line-height:300%;\">\n",
    "\t<font face=\"XB Zar\" size=5>\n",
    "\t\t<font color=blue size=6>\n",
    "کنجکاوی:\n",
    "        </font> \n",
    "        <br />\n",
    "       تمامی توزیع های گفته شده دارای تابعی به صورت \n",
    "        qbinom، qnorm و ...\n",
    "       هستند. این توابع چه عملیاتی را انجام میدهند؟\n",
    "            <font color=red size=6>\n",
    "            تمرین:\n",
    "        </font>\n",
    "    <br />\n",
    "    در نمودارهای رسم شده برای توزیع های مختلف در جزوه با تغییر پارامترها و تعداد نمونه گیری تغییرات را مشاهده کرده و با نمودارهای زیر مقایسه کنید.\n",
    "        </font>\n",
    "</div>"
   ]
  },
  {
   "cell_type": "code",
   "execution_count": 6,
   "metadata": {},
   "outputs": [
    {
     "data": {
      "text/html": [
       "<iframe src=https://seeing-theory.brown.edu/probability-distributions/index.html#section2 width=\"100%\" \n",
       "                height=1250px scrolling=\"no\" style=\"margin-top:-100px;\" frameborder=\"0\"></iframe>"
      ]
     },
     "metadata": {},
     "output_type": "display_data"
    }
   ],
   "source": [
    "library(IRdisplay)\n",
    "iframe = '<iframe src=https://seeing-theory.brown.edu/probability-distributions/index.html#section2 width=\"100%\" \n",
    "                height=1255px scrolling=\"no\" style=\"margin-top:-100px;\" frameborder=\"0\"></iframe>'\n",
    "display_html(iframe)"
   ]
  },
  {
   "cell_type": "markdown",
   "metadata": {},
   "source": [
    "<div id=\"sec_resources\" style=\"direction:rtl;line-height:300%;\">\n",
    "\t<font face=\"XB Zar\" size=5>\n",
    "\t\t<font color=#FF7500 size=6>\n",
    "منابع\n",
    "        </font>\n",
    "\t\t<hr> \n",
    "        <ul> \n",
    "            <li> <a href=\"https://stat.ethz.ch/R-manual/R-devel/library/stats\"> stat.ethz.ch </a></li>\n",
    "            <li><a href= \"https://www.rdocumentation.org\"> r documentation </a> </li>\n",
    "            <li> <a href= \"https://www.r-bloggers.com\"> r bloggers</a> </li>\n",
    "            <li> <a href= \"www.r-tutor.com\"> r tutor </a> </li>\n",
    "            <li> <a href= \"https://seeing-theory.brown.edu/\"> seeing theory </a> </li>\n",
    "            </ul>\n",
    "      </font>\n",
    "</div>"
   ]
  },
  {
   "cell_type": "code",
   "execution_count": null,
   "metadata": {},
   "outputs": [],
   "source": []
  }
 ],
 "metadata": {
  "kernelspec": {
   "display_name": "R",
   "language": "R",
   "name": "ir"
  },
  "language_info": {
   "codemirror_mode": "r",
   "file_extension": ".r",
   "mimetype": "text/x-r-source",
   "name": "R",
   "pygments_lexer": "r",
   "version": "4.2.0"
  },
  "latex_envs": {
   "LaTeX_envs_menu_present": true,
   "autoclose": false,
   "autocomplete": true,
   "bibliofile": "biblio.bib",
   "cite_by": "apalike",
   "current_citInitial": 1,
   "eqLabelWithNumbers": true,
   "eqNumInitial": 1,
   "hotkeys": {
    "equation": "Ctrl-E",
    "itemize": "Ctrl-I"
   },
   "labels_anchors": false,
   "latex_user_defs": false,
   "report_style_numbering": false,
   "user_envs_cfg": false
  },
  "toc": {
   "base_numbering": 1,
   "nav_menu": {},
   "number_sections": true,
   "sideBar": true,
   "skip_h1_title": false,
   "title_cell": "Table of Contents",
   "title_sidebar": "Contents",
   "toc_cell": false,
   "toc_position": {},
   "toc_section_display": true,
   "toc_window_display": false
  },
  "varInspector": {
   "cols": {
    "lenName": 16,
    "lenType": 16,
    "lenVar": 40
   },
   "kernels_config": {
    "python": {
     "delete_cmd_postfix": "",
     "delete_cmd_prefix": "del ",
     "library": "var_list.py",
     "varRefreshCmd": "print(var_dic_list())"
    },
    "r": {
     "delete_cmd_postfix": ") ",
     "delete_cmd_prefix": "rm(",
     "library": "var_list.r",
     "varRefreshCmd": "cat(var_dic_list()) "
    }
   },
   "types_to_exclude": [
    "module",
    "function",
    "builtin_function_or_method",
    "instance",
    "_Feature"
   ],
   "window_display": false
  }
 },
 "nbformat": 4,
 "nbformat_minor": 2
}
